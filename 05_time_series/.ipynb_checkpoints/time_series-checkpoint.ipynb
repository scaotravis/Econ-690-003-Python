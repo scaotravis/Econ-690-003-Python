{
 "cells": [
  {
   "cell_type": "markdown",
   "metadata": {},
   "source": [
    "# Working with time series\n",
    "Time series data are very common in finance and economics. Date and time systems have their own set of rules and logic, which makes them potentially complicated but powerful. Pandas/python has a very powerful set of tools to handle dates and time. We will work through the basics here. As always, the internet if full of the details. \n",
    "\n",
    "In this workbook we will cover\n",
    "1. The datetime data type, which is python's representation of a date and time\n",
    "2. Setting up a DataFrame to index with datetime objects\n",
    "3. Changing the frequency of our date, e.g., converting daily data to monthly\n",
    "4. Plotting time series data\n",
    "5. Slicing on dates\n",
    "6. Moving window calculations"
   ]
  },
  {
   "cell_type": "markdown",
   "metadata": {},
   "source": [
    "### The packages"
   ]
  },
  {
   "cell_type": "code",
   "execution_count": 115,
   "metadata": {},
   "outputs": [],
   "source": [
    "import pandas as pd               #load the pandas package and call it pd\n",
    "import matplotlib.pyplot as plt   # load the pyplot set of tools from the package matplotlib. Name it plt for short.\n",
    "import datetime as dt     # data types and methods for dealing with dates and time. Name it dt for short.\n",
    "\n",
    "# This following is a jupyter magic command. It tells jupyter to insert the plots into the notebook\n",
    "# rather than a new window.\n",
    "%matplotlib inline      "
   ]
  },
  {
   "cell_type": "markdown",
   "metadata": {},
   "source": [
    "### The datetime type\n",
    "Python uses the `datetime` type of object to hold date and time data. This allows for very sophisticated handling of time series data. Most of this is beyond the scope of our work, but if you ever find yourself having to deal with time zones or which week of the month a date lies in, datetime has you covered. \\[Python was developed to do a lot more than data analysis...\\]\n",
    "\n",
    "We will mostly need to create datatime objects to hold dates. We pass datetime objects to methods that need to know about dates. "
   ]
  },
  {
   "cell_type": "code",
   "execution_count": 116,
   "metadata": {},
   "outputs": [
    {
     "name": "stdout",
     "output_type": "stream",
     "text": [
      "Declare independence on: 1776-07-04 00:00:00\n",
      "<class 'datetime.datetime'>\n"
     ]
    }
   ],
   "source": [
    "time_1 = dt.datetime(1776, 7, 4)  # year, month, date (datetime will add a time code of 00:00:00)\n",
    "print('Declare independence on:', time_1)\n",
    "print(type(time_1))"
   ]
  },
  {
   "cell_type": "code",
   "execution_count": 117,
   "metadata": {},
   "outputs": [
    {
     "name": "stdout",
     "output_type": "stream",
     "text": [
      "Declare independence on: July 04, 1776\n"
     ]
    }
   ],
   "source": [
    "# We can convert it to different string outputs using the strftime() method. It takes codes as arguments\n",
    "# and you can format the string however you wish. I added a comma. A list of codes is in table 11-3 of McKinney.\n",
    "\n",
    "print('Declare independence on:', time_1.strftime('%B %d, %Y'))     # I have no idea why month is 'B'"
   ]
  },
  {
   "cell_type": "code",
   "execution_count": 118,
   "metadata": {},
   "outputs": [
    {
     "name": "stdout",
     "output_type": "stream",
     "text": [
      "Battle in New Orleans on: January 08, 1815\n"
     ]
    }
   ],
   "source": [
    "# We can convert strings to datetime using the same codes. It give us the ability to handle strange formats.\n",
    "\n",
    "string_date = '1815/1/8'           # What kind of mad man writes dates this way?\n",
    "time_2 = dt.datetime.strptime(string_date, '%Y/%m/%d')\n",
    "print('Battle in New Orleans on:', time_2.strftime('%B %d, %Y'))"
   ]
  },
  {
   "cell_type": "markdown",
   "metadata": {},
   "source": [
    "We might need some more datetime functionality, but that should be enough for now. "
   ]
  },
  {
   "cell_type": "markdown",
   "metadata": {},
   "source": [
    "### The data\n",
    "The file 'VIXCLSD.csv' contains daily end-of-trading values of the '[VIX](https://finance.yahoo.com/quote/%5EVIX/),' a measure of expected market volatility as implied by S&P 500 options. Business-news types like to refer to it as the 'fear index'. \\[That's a bit too dramatic for my tastes, but  those guys have ads to sell.\\] The idea is that expected volatility rises when people are worried about the future.  "
   ]
  },
  {
   "cell_type": "code",
   "execution_count": 119,
   "metadata": {},
   "outputs": [
    {
     "name": "stdout",
     "output_type": "stream",
     "text": [
      "         DATE  VIXCLS\n",
      "0  1990-01-02   17.24\n",
      "1  1990-01-03   18.19\n",
      "2  1990-01-04   19.22\n",
      "3  1990-01-05   20.11\n",
      "4  1990-01-08   20.26\n",
      "\n",
      "             DATE  VIXCLS\n",
      "7497  2018-09-27   12.41\n",
      "7498  2018-09-28   12.12\n",
      "7499  2018-10-01   12.00\n",
      "7500  2018-10-02   12.05\n",
      "7501  2018-10-03   11.61\n"
     ]
    }
   ],
   "source": [
    "vix = pd.read_csv('VIXCLSD.csv', na_values='.')   # There are some missing values marked as '.'\n",
    "print(vix.head())\n",
    "print('\\n', vix.tail())"
   ]
  },
  {
   "cell_type": "markdown",
   "metadata": {},
   "source": [
    "The data look about like I would expect. "
   ]
  },
  {
   "cell_type": "code",
   "execution_count": 120,
   "metadata": {},
   "outputs": [
    {
     "name": "stdout",
     "output_type": "stream",
     "text": [
      "DATE       object\n",
      "VIXCLS    float64\n",
      "dtype: object\n"
     ]
    }
   ],
   "source": [
    "print(vix.dtypes)"
   ]
  },
  {
   "cell_type": "markdown",
   "metadata": {},
   "source": [
    "What kind of variables do we have? The 'DATE' variable is stored as string right now. Let's convert it to a datetime object.  Let's start by converting the dates and saving them to a new variable so that we can inspect it. "
   ]
  },
  {
   "cell_type": "code",
   "execution_count": 121,
   "metadata": {},
   "outputs": [
    {
     "name": "stdout",
     "output_type": "stream",
     "text": [
      "datetime64[ns]\n"
     ]
    }
   ],
   "source": [
    "date_objs = pd.to_datetime(vix['DATE'])\n",
    "print(date_objs.dtypes)\n"
   ]
  },
  {
   "cell_type": "markdown",
   "metadata": {},
   "source": [
    "So the `to_datetime()` conversion creates datetime64\\[ns\\] objects.  Now let's convert the 'DATE' column to  datetime objects and save it in the DataFrame."
   ]
  },
  {
   "cell_type": "code",
   "execution_count": 122,
   "metadata": {},
   "outputs": [
    {
     "name": "stdout",
     "output_type": "stream",
     "text": [
      "DATE      datetime64[ns]\n",
      "VIXCLS           float64\n",
      "dtype: object\n",
      "\n",
      "         DATE  VIXCLS\n",
      "0 1990-01-02   17.24\n",
      "1 1990-01-03   18.19\n",
      "2 1990-01-04   19.22\n",
      "3 1990-01-05   20.11\n",
      "4 1990-01-08   20.26\n"
     ]
    }
   ],
   "source": [
    "vix['DATE'] = pd.to_datetime(vix['DATE'], yearfirst=True)  # Convert date strings to date time\n",
    "print( vix.dtypes )\n",
    "print('\\n', vix.head())"
   ]
  },
  {
   "cell_type": "code",
   "execution_count": 123,
   "metadata": {},
   "outputs": [
    {
     "name": "stdout",
     "output_type": "stream",
     "text": [
      "DatetimeIndex(['1990-01-02', '1990-01-03', '1990-01-04', '1990-01-05',\n",
      "               '1990-01-08', '1990-01-09', '1990-01-10', '1990-01-11',\n",
      "               '1990-01-12', '1990-01-15',\n",
      "               ...\n",
      "               '2018-09-20', '2018-09-21', '2018-09-24', '2018-09-25',\n",
      "               '2018-09-26', '2018-09-27', '2018-09-28', '2018-10-01',\n",
      "               '2018-10-02', '2018-10-03'],\n",
      "              dtype='datetime64[ns]', name='DATE', length=7502, freq=None)\n",
      "            VIXCLS\n",
      "DATE              \n",
      "1990-01-02   17.24\n",
      "1990-01-03   18.19\n",
      "1990-01-04   19.22\n",
      "1990-01-05   20.11\n",
      "1990-01-08   20.26\n"
     ]
    }
   ],
   "source": [
    "# Now set the index to the dates\n",
    "\n",
    "vix_di = vix.set_index('DATE')\n",
    "print(vix_di.index)\n",
    "print(vix_di.head())"
   ]
  },
  {
   "cell_type": "markdown",
   "metadata": {},
   "source": [
    "### Changing the frequency\n",
    "We can *resample* the data to change its frequency. We need to specify how to deal with the vix data. In this case, I want to average it. If we had gdp data, I would want to sum it. \n",
    "\n",
    "We are *downsampling* data if we are reducing the number of observations (daily$\\rightarrow$monthly) and we are *upsampling* the data if we are increasing the number of observations (monthly$\\rightarrow$daily). In my work, I have downsampled a lot. I do not think I have ever upsampled. "
   ]
  },
  {
   "cell_type": "code",
   "execution_count": 124,
   "metadata": {},
   "outputs": [
    {
     "name": "stdout",
     "output_type": "stream",
     "text": [
      "DatetimeIndex(['1990-01-07', '1990-01-14', '1990-01-21', '1990-01-28',\n",
      "               '1990-02-04', '1990-02-11', '1990-02-18', '1990-02-25',\n",
      "               '1990-03-04', '1990-03-11',\n",
      "               ...\n",
      "               '2018-08-05', '2018-08-12', '2018-08-19', '2018-08-26',\n",
      "               '2018-09-02', '2018-09-09', '2018-09-16', '2018-09-23',\n",
      "               '2018-09-30', '2018-10-07'],\n",
      "              dtype='datetime64[ns]', name='DATE', length=1501, freq='W-SUN')\n",
      "\n",
      "             VIXCLS\n",
      "DATE              \n",
      "1990-01-07  18.690\n",
      "1990-01-14  21.918\n",
      "1990-01-21  24.304\n",
      "1990-01-28  25.744\n",
      "1990-02-04  25.648\n"
     ]
    }
   ],
   "source": [
    "vix_w = vix_di.resample('w').mean()\n",
    "\n",
    "print(vix_w.index)\n",
    "print('\\n', vix_w.head())\n"
   ]
  },
  {
   "cell_type": "markdown",
   "metadata": {},
   "source": [
    "We had 7,502 daily observations. Now we have 1501 weekly observations.  Note the weeks are Sunday-based. Let's downsample some more. "
   ]
  },
  {
   "cell_type": "code",
   "execution_count": 125,
   "metadata": {},
   "outputs": [
    {
     "name": "stdout",
     "output_type": "stream",
     "text": [
      "               VIXCLS\n",
      "DATE                 \n",
      "1990-01-31  23.347273\n",
      "1990-02-28  23.262632\n",
      "1990-03-31  20.062273\n",
      "1990-04-30  21.403500\n",
      "1990-05-31  18.097727\n",
      "\n",
      "                VIXCLS\n",
      "DATE                 \n",
      "1990-12-31  23.063478\n",
      "1991-12-31  18.373373\n",
      "1992-12-31  15.452047\n",
      "1993-12-31  12.686245\n",
      "1994-12-31  13.925516\n"
     ]
    }
   ],
   "source": [
    "vix_m = vix_di.resample('m').mean()   # monthly\n",
    "print(vix_m.head())\n",
    "vix_y = vix_di.resample('y').mean()   # yearly\n",
    "print(\"\\n\", vix_y.head())"
   ]
  },
  {
   "cell_type": "markdown",
   "metadata": {},
   "source": [
    "### Plotting\n",
    "Now that we have our index set as datetime objects, we can plot the data in sensible ways. In particular, matplotlib can gracefully handle  data at different frequencies."
   ]
  },
  {
   "cell_type": "code",
   "execution_count": 126,
   "metadata": {},
   "outputs": [
    {
     "data": {
      "image/png": "[encoded data removed]",
      "text/plain": [
       "<Figure size 720x360 with 1 Axes>"
      ]
     },
     "metadata": {
      "needs_background": "light"
     },
     "output_type": "display_data"
    }
   ],
   "source": [
    "fig, ax = plt.subplots(figsize=(10,5))\n",
    "ax.plot(vix_m.index, vix_m['VIXCLS'], color = 'red', label = 'monthly average')\n",
    "ax.plot(vix_y.index, vix_y['VIXCLS'], color = 'blue', label = 'yearly average')\n",
    "\n",
    "ax.set_title('CBOE Volatility Index: VIX')\n",
    "ax.spines['top'].set_visible(False)\n",
    "ax.spines['top'].set_visible(False)\n",
    "\n",
    "ax.legend(frameon=False)\n",
    "\n",
    "plt.show()"
   ]
  },
  {
   "cell_type": "markdown",
   "metadata": {},
   "source": [
    "If we zoom in tight enough, the time axis will relabel in a natural way to reflect the chagned time scale. When we refer to coordinates in a time series figure, we pass the x-coordinates as a datetime object. Below, we use datetimes to limit the x-axis and to make some annotations. "
   ]
  },
  {
   "cell_type": "code",
   "execution_count": 127,
   "metadata": {},
   "outputs": [
    {
     "data": {
      "image/png": "[encoded data removed]",
      "text/plain": [
       "<Figure size 720x360 with 1 Axes>"
      ]
     },
     "metadata": {
      "needs_background": "light"
     },
     "output_type": "display_data"
    }
   ],
   "source": [
    "# Any place we need to reference the x axis we use a datetime object.\n",
    "\n",
    "fig, ax = plt.subplots(figsize=(10,5))\n",
    "ax.plot(vix_di.index, vix_di['VIXCLS'], color = 'red', label = 'daily close')\n",
    "\n",
    "ax.set_xlim( dt.datetime(2008,1,1), dt.datetime(2010, 12, 31) ) # The limits need datetime objects\n",
    "\n",
    "ax.annotate('Lehman Collapse', xy=(dt.datetime(2008,9,15), 70), xytext=(dt.datetime(2008,2,1), 70), \n",
    "            arrowprops={'facecolor':'black',  'arrowstyle':'->'}) \n",
    "\n",
    "ax.annotate('Greek Debt Crisis', xy=(dt.datetime(2010,5,1), 40), xytext=(dt.datetime(2009,8,1), 40), \n",
    "            arrowprops={'facecolor':'black',  'arrowstyle':'->'})\n",
    "\n",
    "ax.set_title('CBOE Volatility Index: VIX')\n",
    "ax.spines['top'].set_visible(False)\n",
    "ax.spines['top'].set_visible(False)\n",
    "\n",
    "ax.legend(frameon=False)\n",
    "\n",
    "plt.show()"
   ]
  },
  {
   "cell_type": "markdown",
   "metadata": {},
   "source": [
    "### Practice: Dates\n",
    "Take a few minutes and try the following. Feel free to chat with those around if you get stuck. The TA and I are here, too.\n",
    "\n",
    "1. Read the file 'osk.csv' into a DataFrame. The file contains daily closing prices for OshKosh Corp. and the S&P500. \n",
    "2. Set the index to the date. Make sure the dates are datetime objects!\n"
   ]
  },
  {
   "cell_type": "code",
   "execution_count": 128,
   "metadata": {},
   "outputs": [
    {
     "name": "stdout",
     "output_type": "stream",
     "text": [
      "                  osk        sp500\n",
      "Date                              \n",
      "2018-01-02  92.169998  2695.810059\n",
      "2018-01-03  92.029999  2713.060059\n",
      "2018-01-04  91.279999  2723.989990\n",
      "2018-01-05  89.970001  2743.149902\n",
      "2018-01-08  90.660004  2747.709961\n",
      "\n",
      "\n",
      "osk      float64\n",
      "sp500    float64\n",
      "dtype: object\n"
     ]
    }
   ],
   "source": [
    "oshkosh = pd.read_csv(\"osk.csv\")\n",
    "oshkosh.Date = pd.to_datetime(oshkosh.Date)\n",
    "oshkosh.set_index(\"Date\", inplace = True)\n",
    "print(oshkosh.head())\n",
    "print(\"\\n\")\n",
    "print(oshkosh.dtypes)"
   ]
  },
  {
   "cell_type": "markdown",
   "metadata": {},
   "source": [
    "3. Normalize each series by dividing every observation by the value at 01-02-2018. Try \n",
    "```python\n",
    "prices['osk_n'] = prices['osk'] / prices.loc['2018-01-02,','osk']\n",
    "```\n",
    "and something similar to the S&P500."
   ]
  },
  {
   "cell_type": "code",
   "execution_count": 129,
   "metadata": {},
   "outputs": [
    {
     "data": {
      "text/html": [
       "<div>\n",
       "<style scoped>\n",
       "    .dataframe tbody tr th:only-of-type {\n",
       "        vertical-align: middle;\n",
       "    }\n",
       "\n",
       "    .dataframe tbody tr th {\n",
       "        vertical-align: top;\n",
       "    }\n",
       "\n",
       "    .dataframe thead th {\n",
       "        text-align: right;\n",
       "    }\n",
       "</style>\n",
       "<table border=\"1\" class=\"dataframe\">\n",
       "  <thead>\n",
       "    <tr style=\"text-align: right;\">\n",
       "      <th></th>\n",
       "      <th>osk</th>\n",
       "      <th>sp500</th>\n",
       "      <th>osk_n</th>\n",
       "      <th>sp500_n</th>\n",
       "    </tr>\n",
       "    <tr>\n",
       "      <th>Date</th>\n",
       "      <th></th>\n",
       "      <th></th>\n",
       "      <th></th>\n",
       "      <th></th>\n",
       "    </tr>\n",
       "  </thead>\n",
       "  <tbody>\n",
       "    <tr>\n",
       "      <th>2018-01-02</th>\n",
       "      <td>92.169998</td>\n",
       "      <td>2695.810059</td>\n",
       "      <td>1.000000</td>\n",
       "      <td>1.000000</td>\n",
       "    </tr>\n",
       "    <tr>\n",
       "      <th>2018-01-03</th>\n",
       "      <td>92.029999</td>\n",
       "      <td>2713.060059</td>\n",
       "      <td>0.998481</td>\n",
       "      <td>1.006399</td>\n",
       "    </tr>\n",
       "    <tr>\n",
       "      <th>2018-01-04</th>\n",
       "      <td>91.279999</td>\n",
       "      <td>2723.989990</td>\n",
       "      <td>0.990344</td>\n",
       "      <td>1.010453</td>\n",
       "    </tr>\n",
       "    <tr>\n",
       "      <th>2018-01-05</th>\n",
       "      <td>89.970001</td>\n",
       "      <td>2743.149902</td>\n",
       "      <td>0.976131</td>\n",
       "      <td>1.017561</td>\n",
       "    </tr>\n",
       "    <tr>\n",
       "      <th>2018-01-08</th>\n",
       "      <td>90.660004</td>\n",
       "      <td>2747.709961</td>\n",
       "      <td>0.983617</td>\n",
       "      <td>1.019252</td>\n",
       "    </tr>\n",
       "  </tbody>\n",
       "</table>\n",
       "</div>"
      ],
      "text/plain": [
       "                  osk        sp500     osk_n   sp500_n\n",
       "Date                                                  \n",
       "2018-01-02  92.169998  2695.810059  1.000000  1.000000\n",
       "2018-01-03  92.029999  2713.060059  0.998481  1.006399\n",
       "2018-01-04  91.279999  2723.989990  0.990344  1.010453\n",
       "2018-01-05  89.970001  2743.149902  0.976131  1.017561\n",
       "2018-01-08  90.660004  2747.709961  0.983617  1.019252"
      ]
     },
     "execution_count": 129,
     "metadata": {},
     "output_type": "execute_result"
    }
   ],
   "source": [
    "oshkosh['osk_n'] = oshkosh[\"osk\"] / oshkosh.loc[dt.datetime(2018, 1, 2), \"osk\"]\n",
    "oshkosh['sp500_n'] = oshkosh[\"sp500\"] / oshkosh.loc[dt.datetime(2018, 1, 2), \"sp500\"]\n",
    "oshkosh.head()"
   ]
  },
  {
   "cell_type": "markdown",
   "metadata": {},
   "source": [
    "4. Plot the two normalized series"
   ]
  },
  {
   "cell_type": "code",
   "execution_count": 130,
   "metadata": {},
   "outputs": [
    {
     "data": {
      "text/plain": [
       "Text(0.5,1,'Normalized Daily Closing Price')"
      ]
     },
     "execution_count": 130,
     "metadata": {},
     "output_type": "execute_result"
    },
    {
     "data": {
      "image/png": "[encoded data removed]",
      "text/plain": [
       "<Figure size 432x288 with 1 Axes>"
      ]
     },
     "metadata": {
      "needs_background": "light"
     },
     "output_type": "display_data"
    }
   ],
   "source": [
    "fig, ax = plt.subplots()\n",
    "\n",
    "ax.plot(oshkosh.index, oshkosh[\"osk_n\"], color = \"red\", label = \"OshKosh Corp\")\n",
    "ax.plot(oshkosh.index, oshkosh[\"sp500_n\"], color = \"blue\", label = \"S&P500\")\n",
    "ax.legend(frameon = False)\n",
    "ax.spines[\"right\"].set_visible(False)\n",
    "ax.spines[\"top\"].set_visible(False)\n",
    "ax.set_title(\"Normalized Daily Closing Price\")"
   ]
  },
  {
   "cell_type": "markdown",
   "metadata": {},
   "source": [
    "5. Resample the data to a weekly frequency creating average weekly prices. (I would recommend creating a new DataFrame)\n",
    "6. Create new indexes, normalizing by the first week of the year.\n",
    "7. Add the weekly data to your figure from part 4. Use the alpha parameter to lighten up the daily data lines. \n",
    "8. How does your plot look? Are the titles correct? Is there a legend or some other way of identifying the lines?"
   ]
  },
  {
   "cell_type": "code",
   "execution_count": 131,
   "metadata": {},
   "outputs": [
    {
     "data": {
      "text/html": [
       "<div>\n",
       "<style scoped>\n",
       "    .dataframe tbody tr th:only-of-type {\n",
       "        vertical-align: middle;\n",
       "    }\n",
       "\n",
       "    .dataframe tbody tr th {\n",
       "        vertical-align: top;\n",
       "    }\n",
       "\n",
       "    .dataframe thead th {\n",
       "        text-align: right;\n",
       "    }\n",
       "</style>\n",
       "<table border=\"1\" class=\"dataframe\">\n",
       "  <thead>\n",
       "    <tr style=\"text-align: right;\">\n",
       "      <th></th>\n",
       "      <th>osk</th>\n",
       "      <th>sp500</th>\n",
       "      <th>osk_n</th>\n",
       "      <th>sp500_n</th>\n",
       "      <th>osk_nw</th>\n",
       "      <th>sp500_nw</th>\n",
       "    </tr>\n",
       "    <tr>\n",
       "      <th>Date</th>\n",
       "      <th></th>\n",
       "      <th></th>\n",
       "      <th></th>\n",
       "      <th></th>\n",
       "      <th></th>\n",
       "      <th></th>\n",
       "    </tr>\n",
       "  </thead>\n",
       "  <tbody>\n",
       "    <tr>\n",
       "      <th>2018-01-07</th>\n",
       "      <td>91.362499</td>\n",
       "      <td>2719.002502</td>\n",
       "      <td>0.991239</td>\n",
       "      <td>1.008603</td>\n",
       "      <td>1.000000</td>\n",
       "      <td>1.000000</td>\n",
       "    </tr>\n",
       "    <tr>\n",
       "      <th>2018-01-14</th>\n",
       "      <td>91.040003</td>\n",
       "      <td>2760.206006</td>\n",
       "      <td>0.987740</td>\n",
       "      <td>1.023887</td>\n",
       "      <td>0.996470</td>\n",
       "      <td>1.015154</td>\n",
       "    </tr>\n",
       "    <tr>\n",
       "      <th>2018-01-21</th>\n",
       "      <td>91.939999</td>\n",
       "      <td>2796.827515</td>\n",
       "      <td>0.997505</td>\n",
       "      <td>1.037472</td>\n",
       "      <td>1.006321</td>\n",
       "      <td>1.028623</td>\n",
       "    </tr>\n",
       "    <tr>\n",
       "      <th>2018-01-28</th>\n",
       "      <td>94.536000</td>\n",
       "      <td>2844.352002</td>\n",
       "      <td>1.025670</td>\n",
       "      <td>1.055101</td>\n",
       "      <td>1.034735</td>\n",
       "      <td>1.046101</td>\n",
       "    </tr>\n",
       "    <tr>\n",
       "      <th>2018-02-04</th>\n",
       "      <td>91.056000</td>\n",
       "      <td>2816.775977</td>\n",
       "      <td>0.987914</td>\n",
       "      <td>1.044872</td>\n",
       "      <td>0.996645</td>\n",
       "      <td>1.035959</td>\n",
       "    </tr>\n",
       "  </tbody>\n",
       "</table>\n",
       "</div>"
      ],
      "text/plain": [
       "                  osk        sp500     osk_n   sp500_n    osk_nw  sp500_nw\n",
       "Date                                                                      \n",
       "2018-01-07  91.362499  2719.002502  0.991239  1.008603  1.000000  1.000000\n",
       "2018-01-14  91.040003  2760.206006  0.987740  1.023887  0.996470  1.015154\n",
       "2018-01-21  91.939999  2796.827515  0.997505  1.037472  1.006321  1.028623\n",
       "2018-01-28  94.536000  2844.352002  1.025670  1.055101  1.034735  1.046101\n",
       "2018-02-04  91.056000  2816.775977  0.987914  1.044872  0.996645  1.035959"
      ]
     },
     "execution_count": 131,
     "metadata": {},
     "output_type": "execute_result"
    }
   ],
   "source": [
    "oshkosh_w = oshkosh.resample(\"w\").mean()\n",
    "oshkosh_w[\"osk_nw\"] = oshkosh_w[\"osk\"] / oshkosh_w.iloc[0, ].osk\n",
    "oshkosh_w[\"sp500_nw\"] = oshkosh_w[\"sp500\"] / oshkosh_w.iloc[0, ].sp500\n",
    "oshkosh_w.head()"
   ]
  },
  {
   "cell_type": "code",
   "execution_count": 132,
   "metadata": {},
   "outputs": [
    {
     "data": {
      "text/plain": [
       "(array([736695., 736726., 736754., 736785., 736815., 736846., 736876.,\n",
       "        736907., 736938., 736968.]), <a list of 10 Text xticklabel objects>)"
      ]
     },
     "execution_count": 132,
     "metadata": {},
     "output_type": "execute_result"
    },
    {
     "data": {
      "image/png": "[encoded data removed]",
      "text/plain": [
       "<Figure size 432x288 with 1 Axes>"
      ]
     },
     "metadata": {
      "needs_background": "light"
     },
     "output_type": "display_data"
    }
   ],
   "source": [
    "fig, ax = plt.subplots()\n",
    "\n",
    "ax.plot(oshkosh.index, oshkosh[\"osk_n\"], color = \"red\", label = \"OshKosh Corp\", alpha = .3)\n",
    "ax.plot(oshkosh.index, oshkosh[\"sp500_n\"], color = \"blue\", label = \"S&P500\", alpha = .3)\n",
    "ax.plot(oshkosh_w.index, oshkosh_w[\"osk_nw\"], color = \"orange\", label = \"OshKosh Corp, weekly average\")\n",
    "ax.plot(oshkosh_w.index, oshkosh_w[\"sp500_nw\"], color = \"purple\", label = \"S&P500, weekly average\")\n",
    "ax.legend(frameon = False)\n",
    "ax.spines[\"right\"].set_visible(False)\n",
    "ax.spines[\"top\"].set_visible(False)\n",
    "ax.set_title(\"Normalized Daily Closing Price\")\n",
    "\n",
    "plt.xticks(fontsize = 7)"
   ]
  },
  {
   "cell_type": "markdown",
   "metadata": {},
   "source": [
    "### Slicing with dates\n",
    "An alternative way to 'zoom in' on the data is to plot a slice of the DataFrame. With an index of datetime, this is surprisingly easy. \n"
   ]
  },
  {
   "cell_type": "code",
   "execution_count": 133,
   "metadata": {},
   "outputs": [
    {
     "name": "stdout",
     "output_type": "stream",
     "text": [
      "The vix on June 18, 2008 is 22.24\n",
      "The vix on June 18, 2008 is 22.24\n"
     ]
    }
   ],
   "source": [
    "# Option 1: create a datetime and pass it\n",
    "date_to_extract = dt.datetime(2008, 6, 18)  # create a datetime with the day I want\n",
    "print('The vix on', date_to_extract.strftime('%B %d, %Y'), 'is', vix_di.loc[date_to_extract, 'VIXCLS'] )   # extract with with loc[], like usual\n",
    "\n",
    "# Option 2: Query directly with a string\n",
    "print('The vix on June 18, 2008 is', vix_di.loc['2008-06-18', 'VIXCLS'])\n"
   ]
  },
  {
   "cell_type": "markdown",
   "metadata": {},
   "source": [
    "We can slice, too:\n",
    "1. We can grab every observation with a year of 2008 with '2008'.\n",
    "2. We can grab every observation between Jan 1, 2008 and Jan 31, 2008 by slicing with '2008/01/01':'2008/01/31'. Python is smart enough to understand references to dates that are not in the DataFrame. There is no January 1 or January 31 observation."
   ]
  },
  {
   "cell_type": "code",
   "execution_count": 134,
   "metadata": {},
   "outputs": [
    {
     "name": "stdout",
     "output_type": "stream",
     "text": [
      "Every week in 2008:              VIXCLS\n",
      "DATE               \n",
      "2008-01-06  23.0250\n",
      "2008-01-13  24.0940\n",
      "2008-01-20  25.2520\n",
      "2008-01-27  29.2225\n",
      "2008-02-03  26.5880\n",
      "2008-02-10  27.7740\n",
      "2008-02-17  25.8740\n",
      "2008-02-24  24.7925\n",
      "2008-03-02  23.5380\n",
      "2008-03-09  26.2880\n",
      "2008-03-16  28.2820\n",
      "2008-03-23  28.6225\n",
      "2008-03-30  25.8240\n",
      "2008-04-06  23.4760\n",
      "2008-04-13  22.6060\n",
      "2008-04-20  21.5260\n",
      "2008-04-27  20.2560\n",
      "2008-05-04  19.5460\n",
      "2008-05-11  19.1300\n",
      "2008-05-18  17.2400\n",
      "2008-05-25  18.1560\n",
      "2008-06-01  18.6700\n",
      "2008-06-08  20.6120\n",
      "2008-06-15  22.9940\n",
      "2008-06-22  21.7540\n",
      "2008-06-29  22.7140\n",
      "2008-07-06  24.5750\n",
      "2008-07-13  25.4480\n",
      "2008-07-20  26.2360\n",
      "2008-07-27  22.3780\n",
      "2008-08-03  22.5960\n",
      "2008-08-10  21.3340\n",
      "2008-08-17  20.5520\n",
      "2008-08-24  20.2620\n",
      "2008-08-31  20.2600\n",
      "2008-09-07  22.6275\n",
      "2008-09-14  24.5360\n",
      "2008-09-21  32.6780\n",
      "2008-09-28  34.4640\n",
      "2008-10-05  43.2640\n",
      "2008-10-12  59.4260\n",
      "2008-10-19  63.4620\n",
      "2008-10-26  64.5320\n",
      "2008-11-02  67.9540\n",
      "2008-11-09  55.1500\n",
      "2008-11-16  62.8040\n",
      "2008-11-23  72.9160\n",
      "2008-11-30  58.9500\n",
      "2008-12-07  63.1560\n",
      "2008-12-14  56.6380\n",
      "2008-12-21  50.2480\n",
      "2008-12-28  44.2925\n",
      "\n",
      "Every week in Jan 2008:              VIXCLS\n",
      "DATE               \n",
      "2008-01-06  23.0250\n",
      "2008-01-13  24.0940\n",
      "2008-01-20  25.2520\n",
      "2008-01-27  29.2225\n"
     ]
    }
   ],
   "source": [
    "print('Every week in 2008:', vix_w.loc['2008'])  # all the weeks in 2008\n",
    "print('\\nEvery week in Jan 2008:', vix_w.loc['2008/01/01':'2008/01/31']) # all the weeks in January 2008"
   ]
  },
  {
   "cell_type": "markdown",
   "metadata": {},
   "source": [
    "### Rolling window calculations\n",
    "The `rolling()` method of DataFrame allows methods like mean() and var() to be calculated over a rolling window of the data.  We often use moving averages to extract trends from noisy data. \n",
    "\n",
    "Calling \n",
    "```python\n",
    "vix_di['VIXCLS'].rolling(60)\n",
    "```\n",
    "generates a Series of rolling observations. In this case, I am asking for a 60-day window. We can directly call a method like `mean()` or `var()` to compute rolling calculations. \n",
    "```python\n",
    "vix_di['VIXCLS'].rolling(60).mean()\n",
    "```\n",
    "Notice in the code below that I have to strip out the missing values using `dropna()`. Otherwise, `rolling()` will only work on the complete 60-day windows.\n",
    "\n"
   ]
  },
  {
   "cell_type": "code",
   "execution_count": 135,
   "metadata": {},
   "outputs": [
    {
     "data": {
      "image/png": "[encoded data removed]",
      "text/plain": [
       "<Figure size 720x360 with 1 Axes>"
      ]
     },
     "metadata": {
      "needs_background": "light"
     },
     "output_type": "display_data"
    }
   ],
   "source": [
    "vix_di['vix_ma'] = vix_di['VIXCLS'].dropna().rolling(60).mean()                             # create the moving average\n",
    "\n",
    "\n",
    "fig, ax = plt.subplots(figsize=(10,5))\n",
    "ax.plot(vix_di.index, vix_di['VIXCLS'], color = 'red', label = 'daily close', alpha=0.25)\n",
    "ax.plot(vix_di.index, vix_di['vix_ma'], color = 'blue', label = '60-day moving average')\n",
    "\n",
    "ax.set_title('CBOE Volatility Index: VIX')\n",
    "ax.spines['top'].set_visible(False)\n",
    "ax.spines['top'].set_visible(False)\n",
    "ax.legend(frameon=False)\n",
    "\n",
    "plt.show()"
   ]
  },
  {
   "cell_type": "markdown",
   "metadata": {},
   "source": [
    "### Practice: Dates\n",
    "Take a few minutes and try the following. Feel free to chat with those around if you get stuck. The TA and I are here, too.\n",
    "\n",
    "1. Compute and plot the 30-day rolling standard deviation of the Osh Kosh and S&P 500 normalized daily prices.\n"
   ]
  },
  {
   "cell_type": "code",
   "execution_count": 137,
   "metadata": {},
   "outputs": [
    {
     "data": {
      "image/png": "[encoded data removed]",
      "text/plain": [
       "<Figure size 432x288 with 1 Axes>"
      ]
     },
     "metadata": {
      "needs_background": "light"
     },
     "output_type": "display_data"
    }
   ],
   "source": [
    "oshkosh[\"osk_msd\"] = oshkosh[\"osk_n\"].dropna().rolling(30).std()\n",
    "oshkosh[\"sp500_msd\"] = oshkosh[\"sp500_n\"].dropna().rolling(30).std()\n",
    "oshkosh.tail()\n",
    "\n",
    "fig, ax = plt.subplots()\n",
    "ax.plot(oshkosh.osk_msd, color = \"red\", label = \"Osh Kosh\")\n",
    "ax.plot(oshkosh.sp500_msd, color = \"blue\", label = \"S&P 500\")\n",
    "ax.set_title(\"30-day Rolling Standard Deviation, on Normalized Daily Closing Prices\")\n",
    "ax.legend(frameon = False)\n",
    "ax.spines[\"right\"].set_visible(False)\n",
    "ax.spines[\"top\"].set_visible(False)"
   ]
  },
  {
   "cell_type": "markdown",
   "metadata": {},
   "source": [
    "2. Plot only the standard deviation for the first half of the year. Use a slice on the index to do it. \\[You could also try the `truncate()` method.\\] "
   ]
  },
  {
   "cell_type": "code",
   "execution_count": 154,
   "metadata": {},
   "outputs": [
    {
     "data": {
      "image/png": "[encoded data removed]",
      "text/plain": [
       "<Figure size 432x288 with 1 Axes>"
      ]
     },
     "metadata": {
      "needs_background": "light"
     },
     "output_type": "display_data"
    }
   ],
   "source": [
    "oshkosh[\"osk_msd\"] = oshkosh[\"osk_n\"].dropna().rolling(30).std()\n",
    "oshkosh[\"sp500_msd\"] = oshkosh[\"sp500_n\"].dropna().rolling(30).std()\n",
    "oshkosh.tail()\n",
    "\n",
    "import matplotlib.dates as mdates\n",
    "\n",
    "fig, ax = plt.subplots()\n",
    "ax.plot(oshkosh.loc[\"2018/01/01\":\"2018/07/01\"].osk_msd, \n",
    "        color = \"red\", \n",
    "        label = \"Osh Kosh\")\n",
    "ax.plot(oshkosh.loc[\"2018/01/01\":\"2018/07/01\"].sp500_msd, \n",
    "        color = \"blue\", \n",
    "        label = \"S&P 500\")\n",
    "ax.set_title(\"30-day Rolling Standard Deviation, on Normalized Daily Closing Prices\")\n",
    "ax.legend(frameon = False)\n",
    "ax.spines[\"right\"].set_visible(False)\n",
    "ax.spines[\"top\"].set_visible(False)\n",
    "ax.xaxis.set_major_formatter(mdates.DateFormatter('%Y-%b'))\n",
    "plt.xticks(fontsize = 10)\n",
    "_=plt.xticks(rotation=90) "
   ]
  },
  {
   "cell_type": "code",
   "execution_count": 145,
   "metadata": {},
   "outputs": [
    {
     "data": {
      "text/html": [
       "<div>\n",
       "<style scoped>\n",
       "    .dataframe tbody tr th:only-of-type {\n",
       "        vertical-align: middle;\n",
       "    }\n",
       "\n",
       "    .dataframe tbody tr th {\n",
       "        vertical-align: top;\n",
       "    }\n",
       "\n",
       "    .dataframe thead th {\n",
       "        text-align: right;\n",
       "    }\n",
       "</style>\n",
       "<table border=\"1\" class=\"dataframe\">\n",
       "  <thead>\n",
       "    <tr style=\"text-align: right;\">\n",
       "      <th></th>\n",
       "      <th>osk</th>\n",
       "      <th>sp500</th>\n",
       "      <th>osk_n</th>\n",
       "      <th>sp500_n</th>\n",
       "      <th>osk_msd</th>\n",
       "      <th>sp500_msd</th>\n",
       "    </tr>\n",
       "    <tr>\n",
       "      <th>Date</th>\n",
       "      <th></th>\n",
       "      <th></th>\n",
       "      <th></th>\n",
       "      <th></th>\n",
       "      <th></th>\n",
       "      <th></th>\n",
       "    </tr>\n",
       "  </thead>\n",
       "  <tbody>\n",
       "    <tr>\n",
       "      <th>2018-01-02</th>\n",
       "      <td>92.169998</td>\n",
       "      <td>2695.810059</td>\n",
       "      <td>1.000000</td>\n",
       "      <td>1.000000</td>\n",
       "      <td>NaN</td>\n",
       "      <td>NaN</td>\n",
       "    </tr>\n",
       "    <tr>\n",
       "      <th>2018-01-03</th>\n",
       "      <td>92.029999</td>\n",
       "      <td>2713.060059</td>\n",
       "      <td>0.998481</td>\n",
       "      <td>1.006399</td>\n",
       "      <td>NaN</td>\n",
       "      <td>NaN</td>\n",
       "    </tr>\n",
       "    <tr>\n",
       "      <th>2018-01-04</th>\n",
       "      <td>91.279999</td>\n",
       "      <td>2723.989990</td>\n",
       "      <td>0.990344</td>\n",
       "      <td>1.010453</td>\n",
       "      <td>NaN</td>\n",
       "      <td>NaN</td>\n",
       "    </tr>\n",
       "    <tr>\n",
       "      <th>2018-01-05</th>\n",
       "      <td>89.970001</td>\n",
       "      <td>2743.149902</td>\n",
       "      <td>0.976131</td>\n",
       "      <td>1.017561</td>\n",
       "      <td>NaN</td>\n",
       "      <td>NaN</td>\n",
       "    </tr>\n",
       "    <tr>\n",
       "      <th>2018-01-08</th>\n",
       "      <td>90.660004</td>\n",
       "      <td>2747.709961</td>\n",
       "      <td>0.983617</td>\n",
       "      <td>1.019252</td>\n",
       "      <td>NaN</td>\n",
       "      <td>NaN</td>\n",
       "    </tr>\n",
       "    <tr>\n",
       "      <th>2018-01-09</th>\n",
       "      <td>90.940002</td>\n",
       "      <td>2751.290039</td>\n",
       "      <td>0.986655</td>\n",
       "      <td>1.020580</td>\n",
       "      <td>NaN</td>\n",
       "      <td>NaN</td>\n",
       "    </tr>\n",
       "    <tr>\n",
       "      <th>2018-01-10</th>\n",
       "      <td>90.160004</td>\n",
       "      <td>2748.229980</td>\n",
       "      <td>0.978193</td>\n",
       "      <td>1.019445</td>\n",
       "      <td>NaN</td>\n",
       "      <td>NaN</td>\n",
       "    </tr>\n",
       "    <tr>\n",
       "      <th>2018-01-11</th>\n",
       "      <td>91.150002</td>\n",
       "      <td>2767.560059</td>\n",
       "      <td>0.988934</td>\n",
       "      <td>1.026615</td>\n",
       "      <td>NaN</td>\n",
       "      <td>NaN</td>\n",
       "    </tr>\n",
       "    <tr>\n",
       "      <th>2018-01-12</th>\n",
       "      <td>92.290001</td>\n",
       "      <td>2786.239990</td>\n",
       "      <td>1.001302</td>\n",
       "      <td>1.033545</td>\n",
       "      <td>NaN</td>\n",
       "      <td>NaN</td>\n",
       "    </tr>\n",
       "    <tr>\n",
       "      <th>2018-01-16</th>\n",
       "      <td>91.019997</td>\n",
       "      <td>2776.419922</td>\n",
       "      <td>0.987523</td>\n",
       "      <td>1.029902</td>\n",
       "      <td>NaN</td>\n",
       "      <td>NaN</td>\n",
       "    </tr>\n",
       "    <tr>\n",
       "      <th>2018-01-17</th>\n",
       "      <td>90.739998</td>\n",
       "      <td>2802.560059</td>\n",
       "      <td>0.984485</td>\n",
       "      <td>1.039598</td>\n",
       "      <td>NaN</td>\n",
       "      <td>NaN</td>\n",
       "    </tr>\n",
       "    <tr>\n",
       "      <th>2018-01-18</th>\n",
       "      <td>91.150002</td>\n",
       "      <td>2798.030029</td>\n",
       "      <td>0.988934</td>\n",
       "      <td>1.037918</td>\n",
       "      <td>NaN</td>\n",
       "      <td>NaN</td>\n",
       "    </tr>\n",
       "    <tr>\n",
       "      <th>2018-01-19</th>\n",
       "      <td>94.849998</td>\n",
       "      <td>2810.300049</td>\n",
       "      <td>1.029077</td>\n",
       "      <td>1.042470</td>\n",
       "      <td>NaN</td>\n",
       "      <td>NaN</td>\n",
       "    </tr>\n",
       "    <tr>\n",
       "      <th>2018-01-22</th>\n",
       "      <td>93.980003</td>\n",
       "      <td>2832.969971</td>\n",
       "      <td>1.019638</td>\n",
       "      <td>1.050879</td>\n",
       "      <td>NaN</td>\n",
       "      <td>NaN</td>\n",
       "    </tr>\n",
       "    <tr>\n",
       "      <th>2018-01-23</th>\n",
       "      <td>94.089996</td>\n",
       "      <td>2839.129883</td>\n",
       "      <td>1.020831</td>\n",
       "      <td>1.053164</td>\n",
       "      <td>NaN</td>\n",
       "      <td>NaN</td>\n",
       "    </tr>\n",
       "    <tr>\n",
       "      <th>2018-01-24</th>\n",
       "      <td>93.040001</td>\n",
       "      <td>2837.540039</td>\n",
       "      <td>1.009439</td>\n",
       "      <td>1.052574</td>\n",
       "      <td>NaN</td>\n",
       "      <td>NaN</td>\n",
       "    </tr>\n",
       "    <tr>\n",
       "      <th>2018-01-25</th>\n",
       "      <td>95.330002</td>\n",
       "      <td>2839.250000</td>\n",
       "      <td>1.034285</td>\n",
       "      <td>1.053208</td>\n",
       "      <td>NaN</td>\n",
       "      <td>NaN</td>\n",
       "    </tr>\n",
       "    <tr>\n",
       "      <th>2018-01-26</th>\n",
       "      <td>96.239998</td>\n",
       "      <td>2872.870117</td>\n",
       "      <td>1.044158</td>\n",
       "      <td>1.065680</td>\n",
       "      <td>NaN</td>\n",
       "      <td>NaN</td>\n",
       "    </tr>\n",
       "    <tr>\n",
       "      <th>2018-01-29</th>\n",
       "      <td>92.680000</td>\n",
       "      <td>2853.530029</td>\n",
       "      <td>1.005533</td>\n",
       "      <td>1.058506</td>\n",
       "      <td>NaN</td>\n",
       "      <td>NaN</td>\n",
       "    </tr>\n",
       "    <tr>\n",
       "      <th>2018-01-30</th>\n",
       "      <td>92.150002</td>\n",
       "      <td>2822.429932</td>\n",
       "      <td>0.999783</td>\n",
       "      <td>1.046969</td>\n",
       "      <td>NaN</td>\n",
       "      <td>NaN</td>\n",
       "    </tr>\n",
       "    <tr>\n",
       "      <th>2018-01-31</th>\n",
       "      <td>90.720001</td>\n",
       "      <td>2823.810059</td>\n",
       "      <td>0.984268</td>\n",
       "      <td>1.047481</td>\n",
       "      <td>NaN</td>\n",
       "      <td>NaN</td>\n",
       "    </tr>\n",
       "    <tr>\n",
       "      <th>2018-02-01</th>\n",
       "      <td>92.279999</td>\n",
       "      <td>2821.979980</td>\n",
       "      <td>1.001193</td>\n",
       "      <td>1.046802</td>\n",
       "      <td>NaN</td>\n",
       "      <td>NaN</td>\n",
       "    </tr>\n",
       "    <tr>\n",
       "      <th>2018-02-02</th>\n",
       "      <td>87.449997</td>\n",
       "      <td>2762.129883</td>\n",
       "      <td>0.948790</td>\n",
       "      <td>1.024601</td>\n",
       "      <td>NaN</td>\n",
       "      <td>NaN</td>\n",
       "    </tr>\n",
       "    <tr>\n",
       "      <th>2018-02-05</th>\n",
       "      <td>84.250000</td>\n",
       "      <td>2648.939941</td>\n",
       "      <td>0.914072</td>\n",
       "      <td>0.982614</td>\n",
       "      <td>NaN</td>\n",
       "      <td>NaN</td>\n",
       "    </tr>\n",
       "    <tr>\n",
       "      <th>2018-02-06</th>\n",
       "      <td>85.139999</td>\n",
       "      <td>2695.139893</td>\n",
       "      <td>0.923728</td>\n",
       "      <td>0.999751</td>\n",
       "      <td>NaN</td>\n",
       "      <td>NaN</td>\n",
       "    </tr>\n",
       "    <tr>\n",
       "      <th>2018-02-07</th>\n",
       "      <td>85.120003</td>\n",
       "      <td>2681.659912</td>\n",
       "      <td>0.923511</td>\n",
       "      <td>0.994751</td>\n",
       "      <td>NaN</td>\n",
       "      <td>NaN</td>\n",
       "    </tr>\n",
       "    <tr>\n",
       "      <th>2018-02-08</th>\n",
       "      <td>83.290001</td>\n",
       "      <td>2581.000000</td>\n",
       "      <td>0.903656</td>\n",
       "      <td>0.957412</td>\n",
       "      <td>NaN</td>\n",
       "      <td>NaN</td>\n",
       "    </tr>\n",
       "    <tr>\n",
       "      <th>2018-02-09</th>\n",
       "      <td>86.519997</td>\n",
       "      <td>2619.550049</td>\n",
       "      <td>0.938700</td>\n",
       "      <td>0.971712</td>\n",
       "      <td>NaN</td>\n",
       "      <td>NaN</td>\n",
       "    </tr>\n",
       "    <tr>\n",
       "      <th>2018-02-12</th>\n",
       "      <td>86.150002</td>\n",
       "      <td>2656.000000</td>\n",
       "      <td>0.934686</td>\n",
       "      <td>0.985233</td>\n",
       "      <td>NaN</td>\n",
       "      <td>NaN</td>\n",
       "    </tr>\n",
       "    <tr>\n",
       "      <th>2018-02-13</th>\n",
       "      <td>85.370003</td>\n",
       "      <td>2662.939941</td>\n",
       "      <td>0.926223</td>\n",
       "      <td>0.987807</td>\n",
       "      <td>0.037525</td>\n",
       "      <td>0.028124</td>\n",
       "    </tr>\n",
       "    <tr>\n",
       "      <th>...</th>\n",
       "      <td>...</td>\n",
       "      <td>...</td>\n",
       "      <td>...</td>\n",
       "      <td>...</td>\n",
       "      <td>...</td>\n",
       "      <td>...</td>\n",
       "    </tr>\n",
       "    <tr>\n",
       "      <th>2018-05-18</th>\n",
       "      <td>77.199997</td>\n",
       "      <td>2712.969971</td>\n",
       "      <td>0.837583</td>\n",
       "      <td>1.006365</td>\n",
       "      <td>0.034472</td>\n",
       "      <td>0.012269</td>\n",
       "    </tr>\n",
       "    <tr>\n",
       "      <th>2018-05-21</th>\n",
       "      <td>79.320000</td>\n",
       "      <td>2733.010010</td>\n",
       "      <td>0.860584</td>\n",
       "      <td>1.013799</td>\n",
       "      <td>0.035256</td>\n",
       "      <td>0.012021</td>\n",
       "    </tr>\n",
       "    <tr>\n",
       "      <th>2018-05-22</th>\n",
       "      <td>77.820000</td>\n",
       "      <td>2724.439941</td>\n",
       "      <td>0.844309</td>\n",
       "      <td>1.010620</td>\n",
       "      <td>0.035335</td>\n",
       "      <td>0.012262</td>\n",
       "    </tr>\n",
       "    <tr>\n",
       "      <th>2018-05-23</th>\n",
       "      <td>77.750000</td>\n",
       "      <td>2733.290039</td>\n",
       "      <td>0.843550</td>\n",
       "      <td>1.013903</td>\n",
       "      <td>0.035531</td>\n",
       "      <td>0.012388</td>\n",
       "    </tr>\n",
       "    <tr>\n",
       "      <th>2018-05-24</th>\n",
       "      <td>77.599998</td>\n",
       "      <td>2727.760010</td>\n",
       "      <td>0.841923</td>\n",
       "      <td>1.011852</td>\n",
       "      <td>0.035479</td>\n",
       "      <td>0.012609</td>\n",
       "    </tr>\n",
       "    <tr>\n",
       "      <th>2018-05-25</th>\n",
       "      <td>76.269997</td>\n",
       "      <td>2721.330078</td>\n",
       "      <td>0.827493</td>\n",
       "      <td>1.009467</td>\n",
       "      <td>0.035283</td>\n",
       "      <td>0.012607</td>\n",
       "    </tr>\n",
       "    <tr>\n",
       "      <th>2018-05-29</th>\n",
       "      <td>75.550003</td>\n",
       "      <td>2689.860107</td>\n",
       "      <td>0.819681</td>\n",
       "      <td>0.997793</td>\n",
       "      <td>0.034766</td>\n",
       "      <td>0.012579</td>\n",
       "    </tr>\n",
       "    <tr>\n",
       "      <th>2018-05-30</th>\n",
       "      <td>76.419998</td>\n",
       "      <td>2724.010010</td>\n",
       "      <td>0.829120</td>\n",
       "      <td>1.010461</td>\n",
       "      <td>0.033603</td>\n",
       "      <td>0.012741</td>\n",
       "    </tr>\n",
       "    <tr>\n",
       "      <th>2018-05-31</th>\n",
       "      <td>72.750000</td>\n",
       "      <td>2705.270020</td>\n",
       "      <td>0.789302</td>\n",
       "      <td>1.003509</td>\n",
       "      <td>0.031556</td>\n",
       "      <td>0.012721</td>\n",
       "    </tr>\n",
       "    <tr>\n",
       "      <th>2018-06-01</th>\n",
       "      <td>73.820000</td>\n",
       "      <td>2734.620117</td>\n",
       "      <td>0.800911</td>\n",
       "      <td>1.014396</td>\n",
       "      <td>0.029224</td>\n",
       "      <td>0.013062</td>\n",
       "    </tr>\n",
       "    <tr>\n",
       "      <th>2018-06-04</th>\n",
       "      <td>73.919998</td>\n",
       "      <td>2746.870117</td>\n",
       "      <td>0.801996</td>\n",
       "      <td>1.018941</td>\n",
       "      <td>0.026455</td>\n",
       "      <td>0.013473</td>\n",
       "    </tr>\n",
       "    <tr>\n",
       "      <th>2018-06-05</th>\n",
       "      <td>74.080002</td>\n",
       "      <td>2748.800049</td>\n",
       "      <td>0.803732</td>\n",
       "      <td>1.019656</td>\n",
       "      <td>0.023309</td>\n",
       "      <td>0.013840</td>\n",
       "    </tr>\n",
       "    <tr>\n",
       "      <th>2018-06-06</th>\n",
       "      <td>75.589996</td>\n",
       "      <td>2772.350098</td>\n",
       "      <td>0.820115</td>\n",
       "      <td>1.028392</td>\n",
       "      <td>0.023411</td>\n",
       "      <td>0.014017</td>\n",
       "    </tr>\n",
       "    <tr>\n",
       "      <th>2018-06-07</th>\n",
       "      <td>74.809998</td>\n",
       "      <td>2770.370117</td>\n",
       "      <td>0.811652</td>\n",
       "      <td>1.027658</td>\n",
       "      <td>0.023417</td>\n",
       "      <td>0.014048</td>\n",
       "    </tr>\n",
       "    <tr>\n",
       "      <th>2018-06-08</th>\n",
       "      <td>75.550003</td>\n",
       "      <td>2779.030029</td>\n",
       "      <td>0.819681</td>\n",
       "      <td>1.030870</td>\n",
       "      <td>0.023207</td>\n",
       "      <td>0.014596</td>\n",
       "    </tr>\n",
       "    <tr>\n",
       "      <th>2018-06-11</th>\n",
       "      <td>75.470001</td>\n",
       "      <td>2782.000000</td>\n",
       "      <td>0.818813</td>\n",
       "      <td>1.031972</td>\n",
       "      <td>0.022780</td>\n",
       "      <td>0.015097</td>\n",
       "    </tr>\n",
       "    <tr>\n",
       "      <th>2018-06-12</th>\n",
       "      <td>75.540001</td>\n",
       "      <td>2786.850098</td>\n",
       "      <td>0.819573</td>\n",
       "      <td>1.033771</td>\n",
       "      <td>0.022208</td>\n",
       "      <td>0.015154</td>\n",
       "    </tr>\n",
       "    <tr>\n",
       "      <th>2018-06-13</th>\n",
       "      <td>74.160004</td>\n",
       "      <td>2775.629883</td>\n",
       "      <td>0.804600</td>\n",
       "      <td>1.029609</td>\n",
       "      <td>0.020865</td>\n",
       "      <td>0.014954</td>\n",
       "    </tr>\n",
       "    <tr>\n",
       "      <th>2018-06-14</th>\n",
       "      <td>72.589996</td>\n",
       "      <td>2782.489990</td>\n",
       "      <td>0.787566</td>\n",
       "      <td>1.032154</td>\n",
       "      <td>0.019681</td>\n",
       "      <td>0.014196</td>\n",
       "    </tr>\n",
       "    <tr>\n",
       "      <th>2018-06-15</th>\n",
       "      <td>71.989998</td>\n",
       "      <td>2779.659912</td>\n",
       "      <td>0.781057</td>\n",
       "      <td>1.031104</td>\n",
       "      <td>0.019637</td>\n",
       "      <td>0.012873</td>\n",
       "    </tr>\n",
       "    <tr>\n",
       "      <th>2018-06-18</th>\n",
       "      <td>71.720001</td>\n",
       "      <td>2773.750000</td>\n",
       "      <td>0.778127</td>\n",
       "      <td>1.028912</td>\n",
       "      <td>0.020035</td>\n",
       "      <td>0.012220</td>\n",
       "    </tr>\n",
       "    <tr>\n",
       "      <th>2018-06-19</th>\n",
       "      <td>70.059998</td>\n",
       "      <td>2762.590088</td>\n",
       "      <td>0.760117</td>\n",
       "      <td>1.024772</td>\n",
       "      <td>0.022073</td>\n",
       "      <td>0.011503</td>\n",
       "    </tr>\n",
       "    <tr>\n",
       "      <th>2018-06-20</th>\n",
       "      <td>70.180000</td>\n",
       "      <td>2767.320068</td>\n",
       "      <td>0.761419</td>\n",
       "      <td>1.026526</td>\n",
       "      <td>0.023821</td>\n",
       "      <td>0.010643</td>\n",
       "    </tr>\n",
       "    <tr>\n",
       "      <th>2018-06-21</th>\n",
       "      <td>68.849998</td>\n",
       "      <td>2749.760010</td>\n",
       "      <td>0.746989</td>\n",
       "      <td>1.020013</td>\n",
       "      <td>0.026424</td>\n",
       "      <td>0.010186</td>\n",
       "    </tr>\n",
       "    <tr>\n",
       "      <th>2018-06-22</th>\n",
       "      <td>70.000000</td>\n",
       "      <td>2754.879883</td>\n",
       "      <td>0.759466</td>\n",
       "      <td>1.021912</td>\n",
       "      <td>0.027962</td>\n",
       "      <td>0.010103</td>\n",
       "    </tr>\n",
       "    <tr>\n",
       "      <th>2018-06-25</th>\n",
       "      <td>69.480003</td>\n",
       "      <td>2717.070068</td>\n",
       "      <td>0.753825</td>\n",
       "      <td>1.007886</td>\n",
       "      <td>0.029626</td>\n",
       "      <td>0.010215</td>\n",
       "    </tr>\n",
       "    <tr>\n",
       "      <th>2018-06-26</th>\n",
       "      <td>69.580002</td>\n",
       "      <td>2723.060059</td>\n",
       "      <td>0.754909</td>\n",
       "      <td>1.010108</td>\n",
       "      <td>0.031070</td>\n",
       "      <td>0.010274</td>\n",
       "    </tr>\n",
       "    <tr>\n",
       "      <th>2018-06-27</th>\n",
       "      <td>69.410004</td>\n",
       "      <td>2699.629883</td>\n",
       "      <td>0.753065</td>\n",
       "      <td>1.001417</td>\n",
       "      <td>0.032413</td>\n",
       "      <td>0.010483</td>\n",
       "    </tr>\n",
       "    <tr>\n",
       "      <th>2018-06-28</th>\n",
       "      <td>69.029999</td>\n",
       "      <td>2716.310059</td>\n",
       "      <td>0.748942</td>\n",
       "      <td>1.007604</td>\n",
       "      <td>0.033678</td>\n",
       "      <td>0.010551</td>\n",
       "    </tr>\n",
       "    <tr>\n",
       "      <th>2018-06-29</th>\n",
       "      <td>70.320000</td>\n",
       "      <td>2718.370117</td>\n",
       "      <td>0.762938</td>\n",
       "      <td>1.008369</td>\n",
       "      <td>0.033874</td>\n",
       "      <td>0.010571</td>\n",
       "    </tr>\n",
       "  </tbody>\n",
       "</table>\n",
       "<p>125 rows × 6 columns</p>\n",
       "</div>"
      ],
      "text/plain": [
       "                  osk        sp500     osk_n   sp500_n   osk_msd  sp500_msd\n",
       "Date                                                                       \n",
       "2018-01-02  92.169998  2695.810059  1.000000  1.000000       NaN        NaN\n",
       "2018-01-03  92.029999  2713.060059  0.998481  1.006399       NaN        NaN\n",
       "2018-01-04  91.279999  2723.989990  0.990344  1.010453       NaN        NaN\n",
       "2018-01-05  89.970001  2743.149902  0.976131  1.017561       NaN        NaN\n",
       "2018-01-08  90.660004  2747.709961  0.983617  1.019252       NaN        NaN\n",
       "2018-01-09  90.940002  2751.290039  0.986655  1.020580       NaN        NaN\n",
       "2018-01-10  90.160004  2748.229980  0.978193  1.019445       NaN        NaN\n",
       "2018-01-11  91.150002  2767.560059  0.988934  1.026615       NaN        NaN\n",
       "2018-01-12  92.290001  2786.239990  1.001302  1.033545       NaN        NaN\n",
       "2018-01-16  91.019997  2776.419922  0.987523  1.029902       NaN        NaN\n",
       "2018-01-17  90.739998  2802.560059  0.984485  1.039598       NaN        NaN\n",
       "2018-01-18  91.150002  2798.030029  0.988934  1.037918       NaN        NaN\n",
       "2018-01-19  94.849998  2810.300049  1.029077  1.042470       NaN        NaN\n",
       "2018-01-22  93.980003  2832.969971  1.019638  1.050879       NaN        NaN\n",
       "2018-01-23  94.089996  2839.129883  1.020831  1.053164       NaN        NaN\n",
       "2018-01-24  93.040001  2837.540039  1.009439  1.052574       NaN        NaN\n",
       "2018-01-25  95.330002  2839.250000  1.034285  1.053208       NaN        NaN\n",
       "2018-01-26  96.239998  2872.870117  1.044158  1.065680       NaN        NaN\n",
       "2018-01-29  92.680000  2853.530029  1.005533  1.058506       NaN        NaN\n",
       "2018-01-30  92.150002  2822.429932  0.999783  1.046969       NaN        NaN\n",
       "2018-01-31  90.720001  2823.810059  0.984268  1.047481       NaN        NaN\n",
       "2018-02-01  92.279999  2821.979980  1.001193  1.046802       NaN        NaN\n",
       "2018-02-02  87.449997  2762.129883  0.948790  1.024601       NaN        NaN\n",
       "2018-02-05  84.250000  2648.939941  0.914072  0.982614       NaN        NaN\n",
       "2018-02-06  85.139999  2695.139893  0.923728  0.999751       NaN        NaN\n",
       "2018-02-07  85.120003  2681.659912  0.923511  0.994751       NaN        NaN\n",
       "2018-02-08  83.290001  2581.000000  0.903656  0.957412       NaN        NaN\n",
       "2018-02-09  86.519997  2619.550049  0.938700  0.971712       NaN        NaN\n",
       "2018-02-12  86.150002  2656.000000  0.934686  0.985233       NaN        NaN\n",
       "2018-02-13  85.370003  2662.939941  0.926223  0.987807  0.037525   0.028124\n",
       "...               ...          ...       ...       ...       ...        ...\n",
       "2018-05-18  77.199997  2712.969971  0.837583  1.006365  0.034472   0.012269\n",
       "2018-05-21  79.320000  2733.010010  0.860584  1.013799  0.035256   0.012021\n",
       "2018-05-22  77.820000  2724.439941  0.844309  1.010620  0.035335   0.012262\n",
       "2018-05-23  77.750000  2733.290039  0.843550  1.013903  0.035531   0.012388\n",
       "2018-05-24  77.599998  2727.760010  0.841923  1.011852  0.035479   0.012609\n",
       "2018-05-25  76.269997  2721.330078  0.827493  1.009467  0.035283   0.012607\n",
       "2018-05-29  75.550003  2689.860107  0.819681  0.997793  0.034766   0.012579\n",
       "2018-05-30  76.419998  2724.010010  0.829120  1.010461  0.033603   0.012741\n",
       "2018-05-31  72.750000  2705.270020  0.789302  1.003509  0.031556   0.012721\n",
       "2018-06-01  73.820000  2734.620117  0.800911  1.014396  0.029224   0.013062\n",
       "2018-06-04  73.919998  2746.870117  0.801996  1.018941  0.026455   0.013473\n",
       "2018-06-05  74.080002  2748.800049  0.803732  1.019656  0.023309   0.013840\n",
       "2018-06-06  75.589996  2772.350098  0.820115  1.028392  0.023411   0.014017\n",
       "2018-06-07  74.809998  2770.370117  0.811652  1.027658  0.023417   0.014048\n",
       "2018-06-08  75.550003  2779.030029  0.819681  1.030870  0.023207   0.014596\n",
       "2018-06-11  75.470001  2782.000000  0.818813  1.031972  0.022780   0.015097\n",
       "2018-06-12  75.540001  2786.850098  0.819573  1.033771  0.022208   0.015154\n",
       "2018-06-13  74.160004  2775.629883  0.804600  1.029609  0.020865   0.014954\n",
       "2018-06-14  72.589996  2782.489990  0.787566  1.032154  0.019681   0.014196\n",
       "2018-06-15  71.989998  2779.659912  0.781057  1.031104  0.019637   0.012873\n",
       "2018-06-18  71.720001  2773.750000  0.778127  1.028912  0.020035   0.012220\n",
       "2018-06-19  70.059998  2762.590088  0.760117  1.024772  0.022073   0.011503\n",
       "2018-06-20  70.180000  2767.320068  0.761419  1.026526  0.023821   0.010643\n",
       "2018-06-21  68.849998  2749.760010  0.746989  1.020013  0.026424   0.010186\n",
       "2018-06-22  70.000000  2754.879883  0.759466  1.021912  0.027962   0.010103\n",
       "2018-06-25  69.480003  2717.070068  0.753825  1.007886  0.029626   0.010215\n",
       "2018-06-26  69.580002  2723.060059  0.754909  1.010108  0.031070   0.010274\n",
       "2018-06-27  69.410004  2699.629883  0.753065  1.001417  0.032413   0.010483\n",
       "2018-06-28  69.029999  2716.310059  0.748942  1.007604  0.033678   0.010551\n",
       "2018-06-29  70.320000  2718.370117  0.762938  1.008369  0.033874   0.010571\n",
       "\n",
       "[125 rows x 6 columns]"
      ]
     },
     "execution_count": 145,
     "metadata": {},
     "output_type": "execute_result"
    }
   ],
   "source": [
    "oshkosh.truncate(after = \"2018/07/01\")"
   ]
  },
  {
   "cell_type": "code",
   "execution_count": null,
   "metadata": {},
   "outputs": [],
   "source": []
  }
 ],
 "metadata": {
  "celltoolbar": "Attachments",
  "kernelspec": {
   "display_name": "Python 3",
   "language": "python",
   "name": "python3"
  },
  "language_info": {
   "codemirror_mode": {
    "name": "ipython",
    "version": 3
   },
   "file_extension": ".py",
   "mimetype": "text/x-python",
   "name": "python",
   "nbconvert_exporter": "python",
   "pygments_lexer": "ipython3",
   "version": "3.6.6"
  }
 },
 "nbformat": 4,
 "nbformat_minor": 2
}
