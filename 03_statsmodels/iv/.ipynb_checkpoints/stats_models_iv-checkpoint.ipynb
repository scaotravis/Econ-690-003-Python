{
 "cells": [
  {
   "cell_type": "markdown",
   "metadata": {},
   "source": [
    "# Instrumental variables regression\n",
    "\n",
    "files needed = ('card.dta', )\n",
    "\n",
    "We introduce the **linearmodels** package in this notebook [(docs)](https://bashtage.github.io/linearmodels/doc/). The linearmodels package is built on top of statsmodels and provides us with extended functionality, including instrumental variables regressions and panel regressions. \n",
    "\n",
    "We will use linearmodels to perform instrumental variables regressions (two stage least squares). Along the way, we will practice using ols from statsmodels a bit, too. \n",
    "\n",
    "We need to install linearmodels. Open a command window and type \n",
    "```python\n",
    "pip install --user linearmodels\n",
    "```\n",
    "then hit enter. "
   ]
  },
  {
   "cell_type": "code",
   "execution_count": 1,
   "metadata": {},
   "outputs": [],
   "source": [
    "import pandas as pd                    # for data handling\n",
    "import numpy as np                     # for numerical methods and data structures\n",
    "import matplotlib.pyplot as plt        # for plotting\n",
    "import seaborn as sea                  # advanced plotting\n",
    "\n",
    "import statsmodels.formula.api as smf  # provides a way to directly spec models from formulas\n",
    "import linearmodels.iv as iv           # built on statsmodels, this package provides iv in an easy way "
   ]
  },
  {
   "cell_type": "markdown",
   "metadata": {},
   "source": [
    "### Medical expenditure panel survey\n",
    "\n",
    "Let's use data from the [medical expenditure panel survey](https://meps.ahrq.gov/mepsweb/). It surveys households, medical providers, and employers. There is a lot of interesting data here. \n",
    "\n",
    "The linearmodels package includes a dataset based on this data. Let's load it. You can see the variable list definitions [here](https://bashtage.github.io/linearmodels/doc/iv/examples/using-formulas.html). The example below is based on the example they provide. The data cover people over the age of 65.\n",
    "\n"
   ]
  },
  {
   "cell_type": "code",
   "execution_count": 2,
   "metadata": {},
   "outputs": [
    {
     "data": {
      "text/html": [
       "<div>\n",
       "<style scoped>\n",
       "    .dataframe tbody tr th:only-of-type {\n",
       "        vertical-align: middle;\n",
       "    }\n",
       "\n",
       "    .dataframe tbody tr th {\n",
       "        vertical-align: top;\n",
       "    }\n",
       "\n",
       "    .dataframe thead th {\n",
       "        text-align: right;\n",
       "    }\n",
       "</style>\n",
       "<table border=\"1\" class=\"dataframe\">\n",
       "  <thead>\n",
       "    <tr style=\"text-align: right;\">\n",
       "      <th></th>\n",
       "      <th>ssiratio</th>\n",
       "      <th>age</th>\n",
       "      <th>educyr</th>\n",
       "      <th>drugexp</th>\n",
       "      <th>private</th>\n",
       "      <th>female</th>\n",
       "      <th>hisp</th>\n",
       "      <th>marry</th>\n",
       "      <th>vegood</th>\n",
       "      <th>good</th>\n",
       "      <th>...</th>\n",
       "      <th>priolist</th>\n",
       "      <th>totchr</th>\n",
       "      <th>black</th>\n",
       "      <th>hi_empunion</th>\n",
       "      <th>ldrugexp</th>\n",
       "      <th>age2</th>\n",
       "      <th>linc</th>\n",
       "      <th>vgh</th>\n",
       "      <th>fph</th>\n",
       "      <th>blhisp</th>\n",
       "    </tr>\n",
       "  </thead>\n",
       "  <tbody>\n",
       "    <tr>\n",
       "      <th>0</th>\n",
       "      <td>0.149877</td>\n",
       "      <td>74</td>\n",
       "      <td>16</td>\n",
       "      <td>595</td>\n",
       "      <td>1</td>\n",
       "      <td>1</td>\n",
       "      <td>0</td>\n",
       "      <td>1</td>\n",
       "      <td>0</td>\n",
       "      <td>1</td>\n",
       "      <td>...</td>\n",
       "      <td>1</td>\n",
       "      <td>0</td>\n",
       "      <td>0</td>\n",
       "      <td>1</td>\n",
       "      <td>6.388561</td>\n",
       "      <td>5476.0</td>\n",
       "      <td>4.549085</td>\n",
       "      <td>1.0</td>\n",
       "      <td>0.0</td>\n",
       "      <td>0.0</td>\n",
       "    </tr>\n",
       "    <tr>\n",
       "      <th>1</th>\n",
       "      <td>0.395856</td>\n",
       "      <td>73</td>\n",
       "      <td>8</td>\n",
       "      <td>1783</td>\n",
       "      <td>1</td>\n",
       "      <td>0</td>\n",
       "      <td>0</td>\n",
       "      <td>1</td>\n",
       "      <td>0</td>\n",
       "      <td>1</td>\n",
       "      <td>...</td>\n",
       "      <td>1</td>\n",
       "      <td>3</td>\n",
       "      <td>0</td>\n",
       "      <td>1</td>\n",
       "      <td>7.486053</td>\n",
       "      <td>5329.0</td>\n",
       "      <td>3.577847</td>\n",
       "      <td>1.0</td>\n",
       "      <td>0.0</td>\n",
       "      <td>0.0</td>\n",
       "    </tr>\n",
       "    <tr>\n",
       "      <th>2</th>\n",
       "      <td>1.000000</td>\n",
       "      <td>80</td>\n",
       "      <td>12</td>\n",
       "      <td>176</td>\n",
       "      <td>0</td>\n",
       "      <td>1</td>\n",
       "      <td>0</td>\n",
       "      <td>0</td>\n",
       "      <td>0</td>\n",
       "      <td>0</td>\n",
       "      <td>...</td>\n",
       "      <td>1</td>\n",
       "      <td>1</td>\n",
       "      <td>0</td>\n",
       "      <td>0</td>\n",
       "      <td>5.170484</td>\n",
       "      <td>6400.0</td>\n",
       "      <td>2.261763</td>\n",
       "      <td>0.0</td>\n",
       "      <td>0.0</td>\n",
       "      <td>0.0</td>\n",
       "    </tr>\n",
       "    <tr>\n",
       "      <th>3</th>\n",
       "      <td>0.206639</td>\n",
       "      <td>70</td>\n",
       "      <td>17</td>\n",
       "      <td>2437</td>\n",
       "      <td>1</td>\n",
       "      <td>0</td>\n",
       "      <td>0</td>\n",
       "      <td>1</td>\n",
       "      <td>0</td>\n",
       "      <td>1</td>\n",
       "      <td>...</td>\n",
       "      <td>1</td>\n",
       "      <td>5</td>\n",
       "      <td>0</td>\n",
       "      <td>1</td>\n",
       "      <td>7.798523</td>\n",
       "      <td>4900.0</td>\n",
       "      <td>3.656221</td>\n",
       "      <td>1.0</td>\n",
       "      <td>0.0</td>\n",
       "      <td>0.0</td>\n",
       "    </tr>\n",
       "    <tr>\n",
       "      <th>4</th>\n",
       "      <td>0.537192</td>\n",
       "      <td>91</td>\n",
       "      <td>16</td>\n",
       "      <td>330</td>\n",
       "      <td>0</td>\n",
       "      <td>0</td>\n",
       "      <td>0</td>\n",
       "      <td>1</td>\n",
       "      <td>1</td>\n",
       "      <td>0</td>\n",
       "      <td>...</td>\n",
       "      <td>1</td>\n",
       "      <td>3</td>\n",
       "      <td>0</td>\n",
       "      <td>0</td>\n",
       "      <td>5.799093</td>\n",
       "      <td>8281.0</td>\n",
       "      <td>2.166193</td>\n",
       "      <td>1.0</td>\n",
       "      <td>0.0</td>\n",
       "      <td>0.0</td>\n",
       "    </tr>\n",
       "  </tbody>\n",
       "</table>\n",
       "<p>5 rows × 29 columns</p>\n",
       "</div>"
      ],
      "text/plain": [
       "   ssiratio  age  educyr  drugexp  private  female  hisp  marry  vegood  good  \\\n",
       "0  0.149877   74      16      595        1       1     0      1       0     1   \n",
       "1  0.395856   73       8     1783        1       0     0      1       0     1   \n",
       "2  1.000000   80      12      176        0       1     0      0       0     0   \n",
       "3  0.206639   70      17     2437        1       0     0      1       0     1   \n",
       "4  0.537192   91      16      330        0       0     0      1       1     0   \n",
       "\n",
       "    ...    priolist  totchr  black  hi_empunion  ldrugexp    age2      linc  \\\n",
       "0   ...           1       0      0            1  6.388561  5476.0  4.549085   \n",
       "1   ...           1       3      0            1  7.486053  5329.0  3.577847   \n",
       "2   ...           1       1      0            0  5.170484  6400.0  2.261763   \n",
       "3   ...           1       5      0            1  7.798523  4900.0  3.656221   \n",
       "4   ...           1       3      0            0  5.799093  8281.0  2.166193   \n",
       "\n",
       "   vgh  fph  blhisp  \n",
       "0  1.0  0.0     0.0  \n",
       "1  1.0  0.0     0.0  \n",
       "2  0.0  0.0     0.0  \n",
       "3  1.0  0.0     0.0  \n",
       "4  1.0  0.0     0.0  \n",
       "\n",
       "[5 rows x 29 columns]"
      ]
     },
     "execution_count": 2,
     "metadata": {},
     "output_type": "execute_result"
    }
   ],
   "source": [
    "from linearmodels.datasets import meps\n",
    "med_exp = meps.load()\n",
    "med_exp.head()"
   ]
  },
  {
   "cell_type": "code",
   "execution_count": 3,
   "metadata": {},
   "outputs": [
    {
     "name": "stdout",
     "output_type": "stream",
     "text": [
      "<class 'pandas.core.frame.DataFrame'>\n",
      "RangeIndex: 10391 entries, 0 to 10390\n",
      "Data columns (total 29 columns):\n",
      "ssiratio       10391 non-null float64\n",
      "age            10391 non-null int64\n",
      "educyr         10391 non-null int64\n",
      "drugexp        10391 non-null int64\n",
      "private        10391 non-null int64\n",
      "female         10391 non-null int64\n",
      "hisp           10391 non-null int64\n",
      "marry          10391 non-null int64\n",
      "vegood         10391 non-null int64\n",
      "good           10391 non-null int64\n",
      "fair           10391 non-null int64\n",
      "poor           10391 non-null int64\n",
      "poverty        10391 non-null int64\n",
      "lowincome      10391 non-null int64\n",
      "midincome      10391 non-null int64\n",
      "msa            10391 non-null int64\n",
      "firmsz         10391 non-null float64\n",
      "multlc         10391 non-null int64\n",
      "income         10391 non-null float64\n",
      "priolist       10391 non-null int64\n",
      "totchr         10391 non-null int64\n",
      "black          10391 non-null int64\n",
      "hi_empunion    10391 non-null int64\n",
      "ldrugexp       10391 non-null float64\n",
      "age2           10391 non-null float64\n",
      "linc           10089 non-null float64\n",
      "vgh            10391 non-null float64\n",
      "fph            10391 non-null float64\n",
      "blhisp         10391 non-null float64\n",
      "dtypes: float64(9), int64(20)\n",
      "memory usage: 2.3 MB\n"
     ]
    }
   ],
   "source": [
    "# It's clean! \n",
    "med_exp.info()"
   ]
  },
  {
   "cell_type": "code",
   "execution_count": 4,
   "metadata": {},
   "outputs": [],
   "source": [
    "# But there are a few nans. Drop them.\n",
    "med_exp = med_exp.dropna()"
   ]
  },
  {
   "cell_type": "markdown",
   "metadata": {},
   "source": [
    "### OLS\n",
    "We would like to understand the impact of employer (or union) provided healthcare on drug expenditure. \n",
    "\n",
    "$$\\log(\\text{drugexp}) = \\beta_0 + \\beta_1 \\text{linc} + \\beta_2 \\text{hi_empunion} + \\epsilon .$$\n",
    "\n",
    "Start with ols."
   ]
  },
  {
   "cell_type": "code",
   "execution_count": 5,
   "metadata": {},
   "outputs": [
    {
     "name": "stdout",
     "output_type": "stream",
     "text": [
      "                            OLS Regression Results                            \n",
      "==============================================================================\n",
      "Dep. Variable:        np.log(drugexp)   R-squared:                       0.001\n",
      "Model:                            OLS   Adj. R-squared:                  0.001\n",
      "Method:                 Least Squares   F-statistic:                     5.917\n",
      "Date:                Mon, 19 Nov 2018   Prob (F-statistic):            0.00270\n",
      "Time:                        16:08:14   Log-Likelihood:                -17427.\n",
      "No. Observations:               10089   AIC:                         3.486e+04\n",
      "Df Residuals:                   10086   BIC:                         3.488e+04\n",
      "Df Model:                           2                                         \n",
      "Covariance Type:                  HC3                                         \n",
      "===============================================================================\n",
      "                  coef    std err          z      P>|z|      [0.025      0.975]\n",
      "-------------------------------------------------------------------------------\n",
      "Intercept       6.4943      0.043    149.886      0.000       6.409       6.579\n",
      "linc           -0.0180      0.015     -1.197      0.231      -0.047       0.011\n",
      "hi_empunion     0.0954      0.028      3.379      0.001       0.040       0.151\n",
      "==============================================================================\n",
      "Omnibus:                     1148.404   Durbin-Watson:                   1.790\n",
      "Prob(Omnibus):                  0.000   Jarque-Bera (JB):             1665.685\n",
      "Skew:                          -0.865   Prob(JB):                         0.00\n",
      "Kurtosis:                       3.986   Cond. No.                         10.3\n",
      "==============================================================================\n",
      "\n",
      "Warnings:\n",
      "[1] Standard Errors are heteroscedasticity robust (HC3)\n"
     ]
    }
   ],
   "source": [
    "res_ols = smf.ols('np.log(drugexp) ~ linc + hi_empunion', data=med_exp).fit(cov_type = 'HC3')\n",
    "print(res_ols.summary())"
   ]
  },
  {
   "cell_type": "markdown",
   "metadata": {},
   "source": [
    "The coefficient on employer health insurance is positive. People who had insurance through work spend more on drugs in their old age...or do they?"
   ]
  },
  {
   "cell_type": "markdown",
   "metadata": {},
   "source": [
    "### Instrumental variables \n",
    "\n",
    "The concern is that *hi_empunion* is not exogenous. We will use *ssiratio* as an instrument for *hi_emp_union*. The purpose of the instrument is to remove the endogeneity of *hi_empunion.* A good instrument is\n",
    "\n",
    "1. Correlated with the endogenous variable (in this case, *hi_empunion*) \n",
    "2. Uncorrelated with the error term\n",
    "\n",
    "We can test the first condition. Regress \n",
    "\n",
    "$$\\text{hi_empunion} =  \\beta_1 \\text{ssiratio} + \\nu .$$"
   ]
  },
  {
   "cell_type": "code",
   "execution_count": 6,
   "metadata": {},
   "outputs": [
    {
     "name": "stdout",
     "output_type": "stream",
     "text": [
      "                            OLS Regression Results                            \n",
      "==============================================================================\n",
      "Dep. Variable:            hi_empunion   R-squared:                       0.055\n",
      "Model:                            OLS   Adj. R-squared:                  0.054\n",
      "Method:                 Least Squares   F-statistic:                     172.7\n",
      "Date:                Mon, 19 Nov 2018   Prob (F-statistic):           1.81e-74\n",
      "Time:                        16:09:08   Log-Likelihood:                -6751.0\n",
      "No. Observations:               10089   AIC:                         1.351e+04\n",
      "Df Residuals:                   10086   BIC:                         1.353e+04\n",
      "Df Model:                           2                                         \n",
      "Covariance Type:                  HC3                                         \n",
      "==============================================================================\n",
      "                 coef    std err          z      P>|z|      [0.025      0.975]\n",
      "------------------------------------------------------------------------------\n",
      "Intercept      0.3440      0.029     11.771      0.000       0.287       0.401\n",
      "ssiratio      -0.2211      0.025     -8.680      0.000      -0.271      -0.171\n",
      "linc           0.0572      0.007      8.345      0.000       0.044       0.071\n",
      "==============================================================================\n",
      "Omnibus:                      319.737   Durbin-Watson:                   1.583\n",
      "Prob(Omnibus):                  0.000   Jarque-Bera (JB):             1280.822\n",
      "Skew:                           0.457   Prob(JB):                    7.47e-279\n",
      "Kurtosis:                       1.512   Cond. No.                         15.5\n",
      "==============================================================================\n",
      "\n",
      "Warnings:\n",
      "[1] Standard Errors are heteroscedasticity robust (HC3)\n"
     ]
    }
   ],
   "source": [
    "res_s1 = smf.ols('hi_empunion ~  ssiratio + linc', data=med_exp).fit(cov_type = 'HC3')\n",
    "print(res_s1.summary())"
   ]
  },
  {
   "cell_type": "markdown",
   "metadata": {},
   "source": [
    "It's significant, so it passes the the first test. The second test cannot generally be checked. "
   ]
  },
  {
   "cell_type": "markdown",
   "metadata": {},
   "source": [
    "### Two stage least squares\n",
    "\n",
    "Note that our test of condition 1 generates fitted variables that are washed of their endogeneity. We can use the fitted variables in our original regression as an independent variable,\n",
    "\n",
    "$$\\log(\\text{drugexp}) = \\beta_0 + \\beta_1 \\text{linc} + \\beta_2 \\widehat{\\text{hi_empunion}} + \\epsilon .$$\n",
    "\n",
    "\n",
    "We refer to the regression of *hi_empunion* on *ssiratio* as the **first stage regression** and the regression above as the **second stage regression**. In general, the two step procedure is\n",
    "\n",
    "1. Regress the endogenous variable on the instrument(s)\n",
    "2. Estimate the original model, after replacing the endogenous variable with the fitted values from step 1.\n"
   ]
  },
  {
   "cell_type": "code",
   "execution_count": 7,
   "metadata": {},
   "outputs": [
    {
     "data": {
      "text/plain": [
       "count    10089.000000\n",
       "mean         0.382198\n",
       "std          0.113580\n",
       "min         -1.690462\n",
       "25%          0.278586\n",
       "50%          0.388353\n",
       "75%          0.474615\n",
       "max          0.666728\n",
       "Name: fitted, dtype: float64"
      ]
     },
     "execution_count": 7,
     "metadata": {},
     "output_type": "execute_result"
    }
   ],
   "source": [
    "med_exp['fitted'] = res_s1.fittedvalues\n",
    "med_exp['fitted'].describe()"
   ]
  },
  {
   "cell_type": "code",
   "execution_count": 8,
   "metadata": {},
   "outputs": [
    {
     "name": "stdout",
     "output_type": "stream",
     "text": [
      "                            OLS Regression Results                            \n",
      "==============================================================================\n",
      "Dep. Variable:        np.log(drugexp)   R-squared:                       0.004\n",
      "Model:                            OLS   Adj. R-squared:                  0.004\n",
      "Method:                 Least Squares   F-statistic:                     21.39\n",
      "Date:                Mon, 19 Nov 2018   Prob (F-statistic):           5.38e-10\n",
      "Time:                        16:09:56   Log-Likelihood:                -17411.\n",
      "No. Observations:               10089   AIC:                         3.483e+04\n",
      "Df Residuals:                   10086   BIC:                         3.485e+04\n",
      "Df Model:                           2                                         \n",
      "Covariance Type:                  HC3                                         \n",
      "==============================================================================\n",
      "                 coef    std err          z      P>|z|      [0.025      0.975]\n",
      "------------------------------------------------------------------------------\n",
      "Intercept      6.6553      0.049    134.952      0.000       6.559       6.752\n",
      "linc           0.1058      0.023      4.614      0.000       0.061       0.151\n",
      "fitted        -1.2146      0.186     -6.519      0.000      -1.580      -0.849\n",
      "==============================================================================\n",
      "Omnibus:                     1165.508   Durbin-Watson:                   1.795\n",
      "Prob(Omnibus):                  0.000   Jarque-Bera (JB):             1703.205\n",
      "Skew:                          -0.871   Prob(JB):                         0.00\n",
      "Kurtosis:                       4.009   Cond. No.                         42.1\n",
      "==============================================================================\n",
      "\n",
      "Warnings:\n",
      "[1] Standard Errors are heteroscedasticity robust (HC3)\n"
     ]
    }
   ],
   "source": [
    "res_s2 = smf.ols('np.log(drugexp) ~ linc + fitted', data=med_exp).fit(cov_type = 'HC3')\n",
    "print(res_s2.summary())"
   ]
  },
  {
   "cell_type": "markdown",
   "metadata": {},
   "source": [
    "There are two problems with this procedure. 1. It's tedious. 2. The standard errors are not correct. \n",
    "\n",
    "Both of these problems are solved by using a two state least squares estimator. "
   ]
  },
  {
   "cell_type": "markdown",
   "metadata": {},
   "source": [
    "### 2SLS with linearmodels\n",
    "\n",
    "We modify the patsy notation by specifying the endogenous variable and the instrument in square brackets. A couple minor differences in syntax compared to statsmodels. \n",
    "\n",
    "1. We need the `.from_formula` method if we are not specifying the design matrices directly. \n",
    "2. We need to include `1` to get the constant\n",
    "3. There is not a named parameter `data`. We have to pass `from_formula( formual, data)`."
   ]
  },
  {
   "cell_type": "code",
   "execution_count": 9,
   "metadata": {},
   "outputs": [
    {
     "name": "stdout",
     "output_type": "stream",
     "text": [
      "                          IV-2SLS Estimation Summary                          \n",
      "==============================================================================\n",
      "Dep. Variable:        np.log(drugexp)   R-squared:                     -0.2104\n",
      "Estimator:                    IV-2SLS   Adj. R-squared:                -0.2106\n",
      "No. Observations:               10089   F-statistic:                    34.458\n",
      "Date:                Mon, Nov 19 2018   P-value (F-stat)                0.0000\n",
      "Time:                        16:11:18   Distribution:                  chi2(2)\n",
      "Cov. Estimator:                robust                                         \n",
      "                                                                              \n",
      "                              Parameter Estimates                              \n",
      "===============================================================================\n",
      "             Parameter  Std. Err.     T-stat    P-value    Lower CI    Upper CI\n",
      "-------------------------------------------------------------------------------\n",
      "Intercept       6.6553     0.0542     122.81     0.0000      6.5490      6.7615\n",
      "linc            0.1058     0.0259     4.0858     0.0000      0.0551      0.1566\n",
      "hi_empunion    -1.2146     0.2081    -5.8382     0.0000     -1.6224     -0.8069\n",
      "===============================================================================\n",
      "\n",
      "Endogenous: hi_empunion\n",
      "Instruments: ssiratio\n",
      "Robust Covariance (Heteroskedastic)\n",
      "Debiased: False\n"
     ]
    }
   ],
   "source": [
    "res_iv = iv.IV2SLS.from_formula('np.log(drugexp) ~ 1 + linc + [hi_empunion ~ ssiratio]', med_exp).fit()\n",
    "print(res_iv.summary)"
   ]
  },
  {
   "cell_type": "markdown",
   "metadata": {},
   "source": [
    "The point estimates are the same, but the standard errors differ. We can see the first-stage regression. Compare them to our first stage above. "
   ]
  },
  {
   "cell_type": "code",
   "execution_count": 10,
   "metadata": {},
   "outputs": [
    {
     "name": "stdout",
     "output_type": "stream",
     "text": [
      "    First Stage Estimation Results    \n",
      "======================================\n",
      "                           hi_empunion\n",
      "--------------------------------------\n",
      "R-squared                       0.0546\n",
      "Partial R-squared               0.0238\n",
      "Shea's R-squared                0.0238\n",
      "Partial F-statistic             82.287\n",
      "P-value (Partial F-stat)        0.0000\n",
      "Partial F-stat Distn           chi2(1)\n",
      "========================== ===========\n",
      "Intercept                       0.3440\n",
      "                              (12.092)\n",
      "linc                            0.0572\n",
      "                              (8.4496)\n",
      "ssiratio                       -0.2211\n",
      "                             (-9.0712)\n",
      "--------------------------------------\n",
      "\n",
      "T-stats reported in parentheses\n",
      "T-stats use same covariance type as original model\n"
     ]
    }
   ],
   "source": [
    "print(res_iv.first_stage)"
   ]
  },
  {
   "cell_type": "markdown",
   "metadata": {},
   "source": [
    "## Practice\n",
    "\n",
    "Take a few minutes and try the following. Feel free to chat with those around you if you get stuck. The TA and I are here, too.\n",
    "\n",
    "The file 'card.dta' contains data about individuals' wages and characteristics. The complete variable list is [here](http://fmwww.bc.edu/ec-p/data/wooldridge/card.des). \n",
    "\n",
    "1. Load the data. Make sure everything looks okay."
   ]
  },
  {
   "cell_type": "code",
   "execution_count": 11,
   "metadata": {},
   "outputs": [
    {
     "data": {
      "text/html": [
       "<div>\n",
       "<style scoped>\n",
       "    .dataframe tbody tr th:only-of-type {\n",
       "        vertical-align: middle;\n",
       "    }\n",
       "\n",
       "    .dataframe tbody tr th {\n",
       "        vertical-align: top;\n",
       "    }\n",
       "\n",
       "    .dataframe thead th {\n",
       "        text-align: right;\n",
       "    }\n",
       "</style>\n",
       "<table border=\"1\" class=\"dataframe\">\n",
       "  <thead>\n",
       "    <tr style=\"text-align: right;\">\n",
       "      <th></th>\n",
       "      <th>id</th>\n",
       "      <th>nearc2</th>\n",
       "      <th>nearc4</th>\n",
       "      <th>educ</th>\n",
       "      <th>age</th>\n",
       "      <th>fatheduc</th>\n",
       "      <th>motheduc</th>\n",
       "      <th>weight</th>\n",
       "      <th>momdad14</th>\n",
       "      <th>sinmom14</th>\n",
       "      <th>...</th>\n",
       "      <th>smsa66</th>\n",
       "      <th>wage</th>\n",
       "      <th>enroll</th>\n",
       "      <th>KWW</th>\n",
       "      <th>IQ</th>\n",
       "      <th>married</th>\n",
       "      <th>libcrd14</th>\n",
       "      <th>exper</th>\n",
       "      <th>lwage</th>\n",
       "      <th>expersq</th>\n",
       "    </tr>\n",
       "  </thead>\n",
       "  <tbody>\n",
       "    <tr>\n",
       "      <th>0</th>\n",
       "      <td>2.0</td>\n",
       "      <td>0.0</td>\n",
       "      <td>0.0</td>\n",
       "      <td>7.0</td>\n",
       "      <td>29.0</td>\n",
       "      <td>NaN</td>\n",
       "      <td>NaN</td>\n",
       "      <td>158413.0</td>\n",
       "      <td>1.0</td>\n",
       "      <td>0.0</td>\n",
       "      <td>...</td>\n",
       "      <td>1.0</td>\n",
       "      <td>548.0</td>\n",
       "      <td>0.0</td>\n",
       "      <td>15.0</td>\n",
       "      <td>NaN</td>\n",
       "      <td>1.0</td>\n",
       "      <td>0.0</td>\n",
       "      <td>16.0</td>\n",
       "      <td>6.306275</td>\n",
       "      <td>256.0</td>\n",
       "    </tr>\n",
       "    <tr>\n",
       "      <th>1</th>\n",
       "      <td>3.0</td>\n",
       "      <td>0.0</td>\n",
       "      <td>0.0</td>\n",
       "      <td>12.0</td>\n",
       "      <td>27.0</td>\n",
       "      <td>8.0</td>\n",
       "      <td>8.0</td>\n",
       "      <td>380166.0</td>\n",
       "      <td>1.0</td>\n",
       "      <td>0.0</td>\n",
       "      <td>...</td>\n",
       "      <td>1.0</td>\n",
       "      <td>481.0</td>\n",
       "      <td>0.0</td>\n",
       "      <td>35.0</td>\n",
       "      <td>93.0</td>\n",
       "      <td>1.0</td>\n",
       "      <td>1.0</td>\n",
       "      <td>9.0</td>\n",
       "      <td>6.175867</td>\n",
       "      <td>81.0</td>\n",
       "    </tr>\n",
       "    <tr>\n",
       "      <th>2</th>\n",
       "      <td>4.0</td>\n",
       "      <td>0.0</td>\n",
       "      <td>0.0</td>\n",
       "      <td>12.0</td>\n",
       "      <td>34.0</td>\n",
       "      <td>14.0</td>\n",
       "      <td>12.0</td>\n",
       "      <td>367470.0</td>\n",
       "      <td>1.0</td>\n",
       "      <td>0.0</td>\n",
       "      <td>...</td>\n",
       "      <td>1.0</td>\n",
       "      <td>721.0</td>\n",
       "      <td>0.0</td>\n",
       "      <td>42.0</td>\n",
       "      <td>103.0</td>\n",
       "      <td>1.0</td>\n",
       "      <td>1.0</td>\n",
       "      <td>16.0</td>\n",
       "      <td>6.580639</td>\n",
       "      <td>256.0</td>\n",
       "    </tr>\n",
       "    <tr>\n",
       "      <th>3</th>\n",
       "      <td>5.0</td>\n",
       "      <td>1.0</td>\n",
       "      <td>1.0</td>\n",
       "      <td>11.0</td>\n",
       "      <td>27.0</td>\n",
       "      <td>11.0</td>\n",
       "      <td>12.0</td>\n",
       "      <td>380166.0</td>\n",
       "      <td>1.0</td>\n",
       "      <td>0.0</td>\n",
       "      <td>...</td>\n",
       "      <td>1.0</td>\n",
       "      <td>250.0</td>\n",
       "      <td>0.0</td>\n",
       "      <td>25.0</td>\n",
       "      <td>88.0</td>\n",
       "      <td>1.0</td>\n",
       "      <td>1.0</td>\n",
       "      <td>10.0</td>\n",
       "      <td>5.521461</td>\n",
       "      <td>100.0</td>\n",
       "    </tr>\n",
       "    <tr>\n",
       "      <th>4</th>\n",
       "      <td>6.0</td>\n",
       "      <td>1.0</td>\n",
       "      <td>1.0</td>\n",
       "      <td>12.0</td>\n",
       "      <td>34.0</td>\n",
       "      <td>8.0</td>\n",
       "      <td>7.0</td>\n",
       "      <td>367470.0</td>\n",
       "      <td>1.0</td>\n",
       "      <td>0.0</td>\n",
       "      <td>...</td>\n",
       "      <td>1.0</td>\n",
       "      <td>729.0</td>\n",
       "      <td>0.0</td>\n",
       "      <td>34.0</td>\n",
       "      <td>108.0</td>\n",
       "      <td>1.0</td>\n",
       "      <td>0.0</td>\n",
       "      <td>16.0</td>\n",
       "      <td>6.591674</td>\n",
       "      <td>256.0</td>\n",
       "    </tr>\n",
       "  </tbody>\n",
       "</table>\n",
       "<p>5 rows × 34 columns</p>\n",
       "</div>"
      ],
      "text/plain": [
       "    id  nearc2  nearc4  educ   age  fatheduc  motheduc    weight  momdad14  \\\n",
       "0  2.0     0.0     0.0   7.0  29.0       NaN       NaN  158413.0       1.0   \n",
       "1  3.0     0.0     0.0  12.0  27.0       8.0       8.0  380166.0       1.0   \n",
       "2  4.0     0.0     0.0  12.0  34.0      14.0      12.0  367470.0       1.0   \n",
       "3  5.0     1.0     1.0  11.0  27.0      11.0      12.0  380166.0       1.0   \n",
       "4  6.0     1.0     1.0  12.0  34.0       8.0       7.0  367470.0       1.0   \n",
       "\n",
       "   sinmom14   ...     smsa66   wage  enroll   KWW     IQ  married  libcrd14  \\\n",
       "0       0.0   ...        1.0  548.0     0.0  15.0    NaN      1.0       0.0   \n",
       "1       0.0   ...        1.0  481.0     0.0  35.0   93.0      1.0       1.0   \n",
       "2       0.0   ...        1.0  721.0     0.0  42.0  103.0      1.0       1.0   \n",
       "3       0.0   ...        1.0  250.0     0.0  25.0   88.0      1.0       1.0   \n",
       "4       0.0   ...        1.0  729.0     0.0  34.0  108.0      1.0       0.0   \n",
       "\n",
       "   exper     lwage  expersq  \n",
       "0   16.0  6.306275    256.0  \n",
       "1    9.0  6.175867     81.0  \n",
       "2   16.0  6.580639    256.0  \n",
       "3   10.0  5.521461    100.0  \n",
       "4   16.0  6.591674    256.0  \n",
       "\n",
       "[5 rows x 34 columns]"
      ]
     },
     "execution_count": 11,
     "metadata": {},
     "output_type": "execute_result"
    }
   ],
   "source": [
    "card = pd.read_stata(\"card.dta\")\n",
    "card.head()"
   ]
  },
  {
   "cell_type": "markdown",
   "metadata": {},
   "source": [
    "2. Scatter plot log(wage) (y-axis) and educ (x-axis). \\[The log is the natural log, np.log()\\]"
   ]
  },
  {
   "cell_type": "code",
   "execution_count": 18,
   "metadata": {},
   "outputs": [
    {
     "data": {
      "image/png": "[encoded data removed]",
      "text/plain": [
       "<Figure size 432x288 with 1 Axes>"
      ]
     },
     "metadata": {
      "needs_background": "light"
     },
     "output_type": "display_data"
    }
   ],
   "source": [
    "fig, ax = plt.subplots()\n",
    "\n",
    "ax.scatter(x=card.educ, y=np.log(card.wage))\n",
    "sea.despine(ax=ax)\n",
    "ax.set_ylabel(\"log(wage)\")\n",
    "ax.set_title(\"Scatter plot of log(wage) vs. educ\")\n",
    "\n",
    "plt.show()"
   ]
  },
  {
   "cell_type": "markdown",
   "metadata": {},
   "source": [
    "3. Regress wages on education. Use OLS.  \n",
    "\n",
    "$$\\log(\\text{wage}) = \\beta_0 + \\beta_1 \\text{educ} + \\epsilon .$$\n",
    "\n",
    "Make life interesting. Do not use the *lwage* variable. Roll your own. "
   ]
  },
  {
   "cell_type": "code",
   "execution_count": 21,
   "metadata": {},
   "outputs": [
    {
     "name": "stdout",
     "output_type": "stream",
     "text": [
      "                            OLS Regression Results                            \n",
      "==============================================================================\n",
      "Dep. Variable:           np.log(wage)   R-squared:                       0.099\n",
      "Model:                            OLS   Adj. R-squared:                  0.098\n",
      "Method:                 Least Squares   F-statistic:                     320.5\n",
      "Date:                Mon, 19 Nov 2018   Prob (F-statistic):           3.47e-68\n",
      "Time:                        16:16:06   Log-Likelihood:                -1668.8\n",
      "No. Observations:                3010   AIC:                             3342.\n",
      "Df Residuals:                    3008   BIC:                             3354.\n",
      "Df Model:                           1                                         \n",
      "Covariance Type:                  HC3                                         \n",
      "==============================================================================\n",
      "                 coef    std err          z      P>|z|      [0.025      0.975]\n",
      "------------------------------------------------------------------------------\n",
      "Intercept      5.5709      0.039    142.352      0.000       5.494       5.648\n",
      "educ           0.0521      0.003     17.902      0.000       0.046       0.058\n",
      "==============================================================================\n",
      "Omnibus:                       23.139   Durbin-Watson:                   1.725\n",
      "Prob(Omnibus):                  0.000   Jarque-Bera (JB):               24.345\n",
      "Skew:                          -0.186   Prob(JB):                     5.17e-06\n",
      "Kurtosis:                       3.236   Cond. No.                         68.8\n",
      "==============================================================================\n",
      "\n",
      "Warnings:\n",
      "[1] Standard Errors are heteroscedasticity robust (HC3)\n"
     ]
    }
   ],
   "source": [
    "c_ols = smf.ols(\"np.log(wage) ~ educ\", data=card).fit(cov_type = 'HC3')\n",
    "print(c_ols.summary())"
   ]
  },
  {
   "cell_type": "markdown",
   "metadata": {},
   "source": [
    "Consider the variable *nearc4* as an instrument. The variable is equal to 1 if the person grew up near a bachelor degree granting institution. \n",
    "\n",
    "4. Scatter plot *educ* (y-axis) and *nearc4* (x-axis). Is this plot very useful? \\[If you finish early, come back to this plot and see if you can improve on it.\\]"
   ]
  },
  {
   "cell_type": "code",
   "execution_count": 44,
   "metadata": {},
   "outputs": [
    {
     "name": "stderr",
     "output_type": "stream",
     "text": [
      "/Users/travis/anaconda3/lib/python3.6/site-packages/scipy/stats/stats.py:1713: FutureWarning: Using a non-tuple sequence for multidimensional indexing is deprecated; use `arr[tuple(seq)]` instead of `arr[seq]`. In the future this will be interpreted as an array index, `arr[np.array(seq)]`, which will result either in an error or a different result.\n",
      "  return np.add.reduce(sorted[indexer] * weights, axis=axis) / sumval\n"
     ]
    },
    {
     "data": {
      "image/png": "[encoded data removed]",
      "text/plain": [
       "<Figure size 432x288 with 1 Axes>"
      ]
     },
     "metadata": {
      "needs_background": "light"
     },
     "output_type": "display_data"
    }
   ],
   "source": [
    "fig, ax = plt.subplots()\n",
    "\n",
    "sea.regplot(ax=ax, x=card.nearc4, y=card.educ)\n",
    "sea.scatterplot(ax=ax, x=card.nearc4, y=card.educ)\n",
    "sea.despine(ax=ax)\n",
    "ax.set_title(\"Scatter plot of educ vs. nearc4 (its instrument)\")\n",
    "\n",
    "plt.show()"
   ]
  },
  {
   "cell_type": "markdown",
   "metadata": {},
   "source": [
    "5. Does *nearc4* satisfy the first condition for *nearc4* to be a good instrument for education?"
   ]
  },
  {
   "cell_type": "code",
   "execution_count": 25,
   "metadata": {},
   "outputs": [
    {
     "name": "stdout",
     "output_type": "stream",
     "text": [
      "                            OLS Regression Results                            \n",
      "==============================================================================\n",
      "Dep. Variable:                   educ   R-squared:                       0.021\n",
      "Model:                            OLS   Adj. R-squared:                  0.020\n",
      "Method:                 Least Squares   F-statistic:                     60.31\n",
      "Date:                Mon, 19 Nov 2018   Prob (F-statistic):           1.10e-14\n",
      "Time:                        16:20:06   Log-Likelihood:                -7202.7\n",
      "No. Observations:                3010   AIC:                         1.441e+04\n",
      "Df Residuals:                    3008   BIC:                         1.442e+04\n",
      "Df Model:                           1                                         \n",
      "Covariance Type:                  HC3                                         \n",
      "==============================================================================\n",
      "                 coef    std err          z      P>|z|      [0.025      0.975]\n",
      "------------------------------------------------------------------------------\n",
      "Intercept     12.6980      0.090    140.645      0.000      12.521      12.875\n",
      "nearc4         0.8290      0.107      7.766      0.000       0.620       1.038\n",
      "==============================================================================\n",
      "Omnibus:                       26.936   Durbin-Watson:                   1.626\n",
      "Prob(Omnibus):                  0.000   Jarque-Bera (JB):               28.373\n",
      "Skew:                          -0.204   Prob(JB):                     6.90e-07\n",
      "Kurtosis:                       3.243   Cond. No.                         3.31\n",
      "==============================================================================\n",
      "\n",
      "Warnings:\n",
      "[1] Standard Errors are heteroscedasticity robust (HC3)\n"
     ]
    }
   ],
   "source": [
    "rel = smf.ols(\"educ ~ nearc4\", data=card).fit(cov_type = 'HC3')\n",
    "print(rel.summary())\n",
    "\n",
    "# Yes, the coefficient of nearc4 is statistically significant at 5% significance level when running the \n",
    "# regression against educ, so it is relevant"
   ]
  },
  {
   "cell_type": "markdown",
   "metadata": {},
   "source": [
    "6. Estimate  \n",
    "\n",
    "$$\\log(\\text{wage}) = \\beta_0 + \\beta_1 \\text{educ} + \\epsilon .$$\n",
    "\n",
    "using *nearc4* as an instrument for *educ*. Print out the results summary.\n",
    "\n",
    "Make life interesting. Do not use the *lwage* variable. Roll your own. "
   ]
  },
  {
   "cell_type": "code",
   "execution_count": 33,
   "metadata": {},
   "outputs": [
    {
     "name": "stdout",
     "output_type": "stream",
     "text": [
      "                          IV-2SLS Estimation Summary                          \n",
      "==============================================================================\n",
      "Dep. Variable:           np.log(wage)   R-squared:                     -0.5739\n",
      "Estimator:                    IV-2SLS   Adj. R-squared:                -0.5744\n",
      "No. Observations:                3010   F-statistic:                    51.784\n",
      "Date:                Mon, Nov 19 2018   P-value (F-stat)                0.0000\n",
      "Time:                        16:23:43   Distribution:                  chi2(1)\n",
      "Cov. Estimator:                robust                                         \n",
      "                                                                              \n",
      "                             Parameter Estimates                              \n",
      "==============================================================================\n",
      "            Parameter  Std. Err.     T-stat    P-value    Lower CI    Upper CI\n",
      "------------------------------------------------------------------------------\n",
      "Intercept      3.7675     0.3466     10.869     0.0000      3.0881      4.4468\n",
      "educ           0.1881     0.0261     7.1961     0.0000      0.1368      0.2393\n",
      "==============================================================================\n",
      "\n",
      "Endogenous: educ\n",
      "Instruments: nearc4\n",
      "Robust Covariance (Heteroskedastic)\n",
      "Debiased: False\n"
     ]
    }
   ],
   "source": [
    "c_iv = iv.IV2SLS.from_formula(\"np.log(wage) ~ 1 + [educ ~ nearc4]\", data=card).fit()\n",
    "print(c_iv.summary)"
   ]
  },
  {
   "cell_type": "markdown",
   "metadata": {},
   "source": [
    "7. Go nuts. Estimate \n",
    "\n",
    "$$\\log(\\text{wage}) = \\beta_0 + \\beta_1 \\text{exper} + \\beta_2 \\text{exper}^2 + \\beta_3 \\text{black} + \\beta_4 \\text{smsa}+ \\beta_5 \\text{south} + \\beta_6 \\text{educ} + \\epsilon .$$\n",
    "\n",
    "Instrument *educ* with both *nearc4* and *nearc2*. \n",
    "\n",
    "Make life interesting. Do not use the *expersq* or *lwage* variables. Roll your own. "
   ]
  },
  {
   "cell_type": "code",
   "execution_count": 45,
   "metadata": {},
   "outputs": [
    {
     "name": "stdout",
     "output_type": "stream",
     "text": [
      "                          IV-2SLS Estimation Summary                          \n",
      "==============================================================================\n",
      "Dep. Variable:           np.log(wage)   R-squared:                      0.1455\n",
      "Estimator:                    IV-2SLS   Adj. R-squared:                 0.1438\n",
      "No. Observations:                3010   F-statistic:                    720.37\n",
      "Date:                Mon, Nov 19 2018   P-value (F-stat)                0.0000\n",
      "Time:                        16:35:56   Distribution:                  chi2(6)\n",
      "Cov. Estimator:                robust                                         \n",
      "                                                                              \n",
      "                                 Parameter Estimates                                  \n",
      "======================================================================================\n",
      "                    Parameter  Std. Err.     T-stat    P-value    Lower CI    Upper CI\n",
      "--------------------------------------------------------------------------------------\n",
      "Intercept              3.2721     0.8169     4.0056     0.0001      1.6711      4.8732\n",
      "exper                  0.1192     0.0213     5.5959     0.0000      0.0775      0.1610\n",
      "np.power(exper, 2)    -0.0023     0.0004    -6.2535     0.0000     -0.0030     -0.0016\n",
      "black                 -0.1020     0.0520    -1.9603     0.0500     -0.2039  -1.697e-05\n",
      "smsa                   0.1166     0.0303     3.8527     0.0001      0.0573      0.1759\n",
      "south                 -0.0951     0.0234    -4.0639     0.0000     -0.1410     -0.0492\n",
      "educ                   0.1608     0.0485     3.3155     0.0009      0.0658      0.2559\n",
      "======================================================================================\n",
      "\n",
      "Endogenous: educ\n",
      "Instruments: nearc4, nearc2\n",
      "Robust Covariance (Heteroskedastic)\n",
      "Debiased: False\n"
     ]
    }
   ],
   "source": [
    "c_iv2 = iv.IV2SLS.from_formula(\"np.log(wage) ~ 1 + exper + np.power(exper, 2) + black + smsa + south + [educ ~ nearc4 + nearc2]\", data=card).fit()\n",
    "print(c_iv2.summary)"
   ]
  },
  {
   "cell_type": "code",
   "execution_count": null,
   "metadata": {},
   "outputs": [],
   "source": []
  }
 ],
 "metadata": {
  "celltoolbar": "Attachments",
  "kernelspec": {
   "display_name": "Python 3",
   "language": "python",
   "name": "python3"
  },
  "language_info": {
   "codemirror_mode": {
    "name": "ipython",
    "version": 3
   },
   "file_extension": ".py",
   "mimetype": "text/x-python",
   "name": "python",
   "nbconvert_exporter": "python",
   "pygments_lexer": "ipython3",
   "version": "3.6.6"
  }
 },
 "nbformat": 4,
 "nbformat_minor": 2
}
