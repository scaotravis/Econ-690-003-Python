{
 "cells": [
  {
   "cell_type": "markdown",
   "metadata": {},
   "source": [
    "## Pandas and packages\n",
    "\n",
    "We have a handle on python now: we understand the data structures and enough about working with them to move on to stuff more directly relevant to data analysis. That means digging into **pandas** the package that provides the core data structures and functions for data work. \n",
    "\n",
    "Pandas is a package. We have seen the numpy and scipy packages before, but we haven't discussed packages in any detail yet. Let's brush up on packages before we jump into pandas.  "
   ]
  },
  {
   "cell_type": "markdown",
   "metadata": {},
   "source": [
    "## Packages\n",
    "\n",
    "We can think of 'python' as a core set of libraries (the python standard libraries) that contain the basic python data structures (`int`, `str`, `list`, `dict`, etc.) and functions (`print()`, `len()`, `sum()`, etc). We can add additonal data structures and functions to core python. Developers group related functions and data structures into *packages* wich we add to core python to increase its functionality. \n",
    "\n",
    "On winstat, we are working with the [Anaconda](https://www.anaconda.com/download) distribution of python. The Anaconda distribution bundles together basic python with common and useful packages such as\n",
    "* numpy: functions for numerical computing (ln(), exp(), sqrt(),...) \n",
    "* scipy: functions for math and engineering (statistical functions, signal processing, linear algebra...)\n",
    "* matplotlib: a plotting interface (bar, scatter, time series plots,...)\n",
    "* pandas: functions and data structures for data analysis (data management, merging, grouping...)\n",
    "\n",
    "At the end of the semester, when you move away from winstat, you can install Anaconda (it's free) on your own computer and continue your python adventures. \n",
    "\n",
    "Anaconda already *installed* the packages for us, but we still need to tell python that we want to use the packages. This way, we only load into memory the packages we need. \n",
    "\n",
    "To add a package we use the `import` statement. For example, to load the numpy package, we use:\n",
    "```python\n",
    "import numpy as np\n",
    "```\n",
    "The statement says to add the numpy package (import it) and to give it a shortened name of 'np'. We don't have to use the name np --- we could name it George --- but np is short and informative. \n",
    "\n",
    "Why do we want a shorter name than numpy? When we use a function from the numpy package, we use the dot notation. Here, we use the [log function](https://docs.scipy.org/doc/numpy/reference/generated/numpy.log.html):\n",
    "```python\n",
    "y = 10\n",
    "x = np.log(y)\n",
    "```\n",
    "The `np.` tells python to look for the `log()` function in the package called np. Python knows that np means numpy, and everything works. \\[See why calling it George would have looked strange?\\]\n",
    "\n",
    "We only need to import a package once. We typically group all of our imports at the begining of the code. Here we go:\n"
   ]
  },
  {
   "cell_type": "code",
   "execution_count": 162,
   "metadata": {},
   "outputs": [],
   "source": [
    "import pandas as pd     #load the pandas package and call it pd\n",
    "import numpy as np      #load the pandas package and call it np"
   ]
  },
  {
   "cell_type": "markdown",
   "metadata": {},
   "source": [
    "When you run the cell, you might notice that the text to the left of the cell looked like `In[*]` for a while. That * means that python was working. It takes a few seconds to load all those functions. Now run `whos` to see what's in the namespace:"
   ]
  },
  {
   "cell_type": "code",
   "execution_count": 163,
   "metadata": {},
   "outputs": [
    {
     "name": "stdout",
     "output_type": "stream",
     "text": [
      "Variable           Type         Data/Info\n",
      "-----------------------------------------\n",
      "cols_to_get        list         n=3\n",
      "data               DataFrame       year   gdp  cons  Cons<...>              6692.307692\n",
      "data2              Series       0    6440.677966\\n1    64<...>re of gdp, dtype: float64\n",
      "data3              DataFrame       year  gdp  cons  Consu<...>              6447.368421\n",
      "data_dec           DataFrame          Gross Domestic Prod<...>        10.2          6.8\n",
      "data_dec_2         DataFrame          Gross Domestic Prod<...>        10.2          6.8\n",
      "data_dict          dict         n=3\n",
      "desc               DataFrame                  year       <...>              6692.307692\n",
      "df                 DataFrame       year   gdp  cons\\n0  1<...> 6.8\\n3  2005  13.0   8.7\n",
      "df2                DataFrame    Empty DataFrame\\nColumns: []\\nIndex: []\n",
      "gdp                Series       0     5.9\\n1     7.6\\n2  <...>Name: gdp, dtype: float64\n",
      "got_cols           DataFrame      state             bird <...> MN             Loon  5.3\n",
      "got_cols_2         DataFrame      state             bird <...> MN             Loon  5.3\n",
      "np                 module       <module 'numpy' from '/Li<...>kages/numpy/__init__.py'>\n",
      "openpyxl           module       <module 'openpyxl' from '<...>es/openpyxl/__init__.py'>\n",
      "pd                 module       <module 'pandas' from '/L<...>ages/pandas/__init__.py'>\n",
      "state_data         dict         n=4\n",
      "state_data_df      DataFrame      state  pop   size      <...>3   86.9             Loon\n",
      "states             DataFrame      STATE   SIZE           <...>9             Loon    5.3\n",
      "states_new_index   DataFrame            SIZE             <...>9             Loon    5.3\n",
      "states_no_mn       DataFrame      STATE   SIZE           <...>5   American Robin    5.7\n",
      "states_subset      DataFrame      STATE             BIRD <...>N             Loon    5.3\n",
      "states_undo        DataFrame      STATE   SIZE           <...>9             Loon    5.3\n"
     ]
    }
   ],
   "source": [
    "whos"
   ]
  },
  {
   "cell_type": "markdown",
   "metadata": {},
   "source": [
    "We see two `module` variables ready for action. As usual, we can use `?` to check them out."
   ]
  },
  {
   "cell_type": "code",
   "execution_count": 164,
   "metadata": {},
   "outputs": [],
   "source": [
    "np?"
   ]
  },
  {
   "cell_type": "markdown",
   "metadata": {},
   "source": [
    "`random` seems useful. Let's see what's in there..."
   ]
  },
  {
   "cell_type": "code",
   "execution_count": 165,
   "metadata": {},
   "outputs": [],
   "source": [
    "np.random?"
   ]
  },
  {
   "cell_type": "markdown",
   "metadata": {},
   "source": [
    "Let's generate some random numbers. "
   ]
  },
  {
   "cell_type": "code",
   "execution_count": 166,
   "metadata": {},
   "outputs": [
    {
     "data": {
      "text/plain": [
       "array([0.42238132, 0.43587595, 0.27064493])"
      ]
     },
     "execution_count": 166,
     "metadata": {},
     "output_type": "execute_result"
    }
   ],
   "source": [
    "np.random.random_sample(3)"
   ]
  },
  {
   "cell_type": "markdown",
   "metadata": {},
   "source": [
    "A full list of the packages included in the Anaconda distribution is [here](https://docs.anaconda.com/anaconda/packages/py3.6_win-64/). If we need a package that is not already a part of Anaconda, we will need to install it. More on that later, but the **big idea** is that python can be extended by installing and adding packages. "
   ]
  },
  {
   "cell_type": "markdown",
   "metadata": {},
   "source": [
    "## Pandas\n",
    "Pandas (*pan*el *da*ta) is our workhorse package for data anlaysis. In addition to all the things we can do with core python, pandas gives us many  powerful functions and data types that we can use for working with data. If you are familiar with STATA, you will find many parallels between python and STATA. This makes sense: both are meant to handle panel data. Pandas was invented by Wes McKinney (sound familiar?) at the quantitative hedge fund AQR. One of the reasons we have chosen python for this course is its prevalence in the financial sector. \n",
    "\n",
    "To make the pandas package available, we `import` it into our code. We have already imported it above, but we can do it again. It won't hurt.  "
   ]
  },
  {
   "cell_type": "code",
   "execution_count": 167,
   "metadata": {},
   "outputs": [],
   "source": [
    "import pandas as pd  # The most common short name for pandas is pd. We will go with that."
   ]
  },
  {
   "cell_type": "markdown",
   "metadata": {},
   "source": [
    "### Pandas data structures: DataFrames\n",
    "Pandas is built around two main data structures: the *series* and the *dataframe*. A dataframe is a 'rectangular' data structure, like a Microsoft Excel spreadsheet. It is made up of rows and columns. \\[But it is much, much, more powerful than a spreadsheet.\\] \n",
    "\n",
    "Let's create a dataframe. To keep things simple (they will get complicated later!) we will create a dataframe from a dict. "
   ]
  },
  {
   "cell_type": "code",
   "execution_count": 168,
   "metadata": {},
   "outputs": [
    {
     "name": "stdout",
     "output_type": "stream",
     "text": [
      "First, print the dict:\n",
      "{'year': [1990, 1995, 2000, 2005], 'gdp': [5.9, 7.6, 10.2, 13.0], 'cons': [3.8, 4.9, 6.8, 8.7]}\n",
      "\n",
      "Next, print the DataFrame and its type\n",
      "\n",
      "   year   gdp  cons\n",
      "0  1990   5.9   3.8\n",
      "1  1995   7.6   4.9\n",
      "2  2000  10.2   6.8\n",
      "3  2005  13.0   8.7\n",
      "\n",
      " <class 'pandas.core.frame.DataFrame'>\n"
     ]
    }
   ],
   "source": [
    "data_dict = {'year': [1990, 1995, 2000, 2005 ], 'gdp':[5.9, 7.6, 10.2, 13.0], 'cons':[3.8, 4.9, 6.8, 8.7]}\n",
    "print('First, print the dict:')\n",
    "print(data_dict)             # print the dict\n",
    "\n",
    "df = pd.DataFrame(data_dict)  # create a data frame called df from the dict. \n",
    "                              # use the 'pd.' syntax to call the DataFrame constructor \n",
    "\n",
    "print('\\nNext, print the DataFrame and its type\\n')\n",
    "print(df)                     # Print the dataframe. Again, print() just knows what to do!\n",
    "print('\\n', type(df))"
   ]
  },
  {
   "cell_type": "markdown",
   "metadata": {},
   "source": [
    "Nice. Compared to the dict, the dataframe is much easier to read when printed. Let's break it down: \n",
    "```python\n",
    "df = pd.DataFrame(data_dict)\n",
    "```\n",
    "We are creating a DataFrame object. We can see that when we print out df's type. The stuff to the left of DataFrame in the print out is the hierarchy: `DataFrame` is part of the `frame` group which is part of the `core` group of the package `pandas`. The hierarchy is not important for our work.\n",
    "\n",
    "We call the `DataFrame()` (note the caps) function from the pandas (`pd.`) package. The `DataFrame()` function creates dataframes from other objects. If we don't pass an argument, it creates an empty DataFrame. "
   ]
  },
  {
   "cell_type": "code",
   "execution_count": 169,
   "metadata": {},
   "outputs": [
    {
     "name": "stdout",
     "output_type": "stream",
     "text": [
      "Empty DataFrame\n",
      "Columns: []\n",
      "Index: []\n"
     ]
    }
   ],
   "source": [
    "df2 = pd.DataFrame()\n",
    "print(df2)"
   ]
  },
  {
   "cell_type": "markdown",
   "metadata": {},
   "source": [
    "We will use this function sometimes, but, more often, we will be building our DataFrames from spreadsheets, csv files, or api (application programming interface) calls directly to servers to retrive data. Very powerful stuff.  \n",
    "\n",
    "### Columns and rows in a DataFrame\n",
    "A DataFrame is made up of columns and rows. How big is our DataFrame? We use the `shape` attribute of a DataFrame to see this. \\[Reminder: *attributes* and *methods* are associated with objects. Attributes return features of the object and methods are like functions that act on the object.\\]"
   ]
  },
  {
   "cell_type": "code",
   "execution_count": 170,
   "metadata": {},
   "outputs": [
    {
     "name": "stdout",
     "output_type": "stream",
     "text": [
      "The shape is: (4, 3)\n",
      "The size is: 12\n"
     ]
    }
   ],
   "source": [
    "print('The shape is:', df.shape)   # shape returns the (rows, columns) of the DataFrame\n",
    "\n",
    "print('The size is:', df.size)    # I often mess up and try this when I want the 'size' of a DataFrame. What is it telling us?"
   ]
  },
  {
   "cell_type": "markdown",
   "metadata": {},
   "source": [
    "What type does `df.shape` return? \n",
    "\n",
    "Back to our DataFrame. Let' print if out again, but this time, without the print function."
   ]
  },
  {
   "cell_type": "code",
   "execution_count": 171,
   "metadata": {},
   "outputs": [
    {
     "data": {
      "text/html": [
       "<div>\n",
       "<style scoped>\n",
       "    .dataframe tbody tr th:only-of-type {\n",
       "        vertical-align: middle;\n",
       "    }\n",
       "\n",
       "    .dataframe tbody tr th {\n",
       "        vertical-align: top;\n",
       "    }\n",
       "\n",
       "    .dataframe thead th {\n",
       "        text-align: right;\n",
       "    }\n",
       "</style>\n",
       "<table border=\"1\" class=\"dataframe\">\n",
       "  <thead>\n",
       "    <tr style=\"text-align: right;\">\n",
       "      <th></th>\n",
       "      <th>year</th>\n",
       "      <th>gdp</th>\n",
       "      <th>cons</th>\n",
       "    </tr>\n",
       "  </thead>\n",
       "  <tbody>\n",
       "    <tr>\n",
       "      <th>0</th>\n",
       "      <td>1990</td>\n",
       "      <td>5.9</td>\n",
       "      <td>3.8</td>\n",
       "    </tr>\n",
       "    <tr>\n",
       "      <th>1</th>\n",
       "      <td>1995</td>\n",
       "      <td>7.6</td>\n",
       "      <td>4.9</td>\n",
       "    </tr>\n",
       "    <tr>\n",
       "      <th>2</th>\n",
       "      <td>2000</td>\n",
       "      <td>10.2</td>\n",
       "      <td>6.8</td>\n",
       "    </tr>\n",
       "    <tr>\n",
       "      <th>3</th>\n",
       "      <td>2005</td>\n",
       "      <td>13.0</td>\n",
       "      <td>8.7</td>\n",
       "    </tr>\n",
       "  </tbody>\n",
       "</table>\n",
       "</div>"
      ],
      "text/plain": [
       "   year   gdp  cons\n",
       "0  1990   5.9   3.8\n",
       "1  1995   7.6   4.9\n",
       "2  2000  10.2   6.8\n",
       "3  2005  13.0   8.7"
      ]
     },
     "execution_count": 171,
     "metadata": {},
     "output_type": "execute_result"
    }
   ],
   "source": [
    "df"
   ]
  },
  {
   "cell_type": "markdown",
   "metadata": {},
   "source": [
    "The jupyter notebook adds some shading and formatting, making it even easier to read. I still often use the `print()` function. Old habits die hard.\n"
   ]
  },
  {
   "cell_type": "markdown",
   "metadata": {},
   "source": [
    "### The DataFrame Index\n",
    "The left-most 'column' of numbers is not a column. It is the **index** that pandas assigned to our DataFrame: similar to the row 'numbers' of a spreadsheet. I put numbers in quotes, because an index can be more than just a sequence of integers. In this DataFrame, it makes sense for our index to be the year variable. A little later, we will discuss changing the index. For now, we will go with what pandas gave us.  \n",
    "\n",
    "The index is important; we will work on in more in a bit. "
   ]
  },
  {
   "cell_type": "markdown",
   "metadata": {},
   "source": [
    "### Pandas data structures: Series"
   ]
  },
  {
   "cell_type": "markdown",
   "metadata": {},
   "source": [
    "We reference a column in the DataFrame by its name. Notice the similarity to the syntax for referencing a dict key. "
   ]
  },
  {
   "cell_type": "code",
   "execution_count": 172,
   "metadata": {},
   "outputs": [
    {
     "name": "stdout",
     "output_type": "stream",
     "text": [
      "0     5.9\n",
      "1     7.6\n",
      "2    10.2\n",
      "3    13.0\n",
      "Name: gdp, dtype: float64\n"
     ]
    }
   ],
   "source": [
    "print(df['gdp'])"
   ]
  },
  {
   "cell_type": "markdown",
   "metadata": {},
   "source": [
    "When we print the column, we get the index, the column, and the type of data contained in the column. 'gdp' are floats. Suppose we instead ask for the type of the column itself --- not what's in the column. This reveals the second major data structure in  pandas:"
   ]
  },
  {
   "cell_type": "code",
   "execution_count": 173,
   "metadata": {},
   "outputs": [
    {
     "name": "stdout",
     "output_type": "stream",
     "text": [
      "0     5.9\n",
      "1     7.6\n",
      "2    10.2\n",
      "3    13.0\n",
      "Name: gdp, dtype: float64\n",
      "<class 'pandas.core.series.Series'>\n"
     ]
    }
   ],
   "source": [
    "gdp = df['gdp']\n",
    "print(gdp)\n",
    "print(type(gdp))"
   ]
  },
  {
   "cell_type": "markdown",
   "metadata": {},
   "source": [
    "When we extract a single column from a DataFrame, we are given a **Series**."
   ]
  },
  {
   "cell_type": "code",
   "execution_count": 174,
   "metadata": {},
   "outputs": [
    {
     "name": "stdout",
     "output_type": "stream",
     "text": [
      "<class 'pandas.core.series.Series'>\n"
     ]
    }
   ],
   "source": [
    "print(type(df['gdp']))"
   ]
  },
  {
   "cell_type": "markdown",
   "metadata": {},
   "source": [
    "We can think of a Series as a DataFrame with only one variable: It is one column and an index. In the same way, we can think of a DataFrame as a collection of Series that all have the same index. "
   ]
  },
  {
   "cell_type": "markdown",
   "metadata": {},
   "source": [
    "### Learning more about a DataFrame\n",
    "We have seen the `size` and `shape` methods of DataFrame. Let's look at a few more. If we want to see what variables we have in the DataFrame (imagine you are working with a dataset containing 1,000 variables...) we use the `columns` attribute."
   ]
  },
  {
   "cell_type": "code",
   "execution_count": 175,
   "metadata": {},
   "outputs": [
    {
     "name": "stdout",
     "output_type": "stream",
     "text": [
      "Index(['year', 'gdp', 'cons'], dtype='object')\n",
      "<class 'pandas.core.indexes.base.Index'>\n"
     ]
    }
   ],
   "source": [
    "print(df.columns)\n",
    "print(type(df.columns))"
   ]
  },
  {
   "cell_type": "markdown",
   "metadata": {},
   "source": [
    "So the column attribute returns the list of columns in a somewhat complicated way. (It is returning an Index object that is useful in some situations.)  We can use the `tolist()` method to create a list object. We can do something similar to the index as well. The `axes` attribute tells us about both at once."
   ]
  },
  {
   "cell_type": "code",
   "execution_count": 176,
   "metadata": {},
   "outputs": [
    {
     "name": "stdout",
     "output_type": "stream",
     "text": [
      "['year', 'gdp', 'cons']\n",
      "[0, 1, 2, 3]\n",
      "[RangeIndex(start=0, stop=4, step=1), Index(['year', 'gdp', 'cons'], dtype='object')]\n"
     ]
    }
   ],
   "source": [
    "print(df.columns.tolist())\n",
    "\n",
    "print(df.index.tolist())\n",
    "\n",
    "print(df.axes)"
   ]
  },
  {
   "cell_type": "markdown",
   "metadata": {},
   "source": [
    "We can learn about the data types in DataFrame with `dtypes` \\[note the 's'\\]."
   ]
  },
  {
   "cell_type": "code",
   "execution_count": 177,
   "metadata": {},
   "outputs": [
    {
     "name": "stdout",
     "output_type": "stream",
     "text": [
      "year      int64\n",
      "gdp     float64\n",
      "cons    float64\n",
      "dtype: object\n"
     ]
    }
   ],
   "source": [
    "print(df.dtypes)"
   ]
  },
  {
   "cell_type": "markdown",
   "metadata": {},
   "source": [
    "### Practice: DataFrames\n",
    "Take a few minutes and try the following. Feel free to chat with those around you if you get stuck. The TA and I are here, too. \n",
    "\n",
    "Below is a dict with data about U.S. states. \n"
   ]
  },
  {
   "cell_type": "code",
   "execution_count": 178,
   "metadata": {},
   "outputs": [],
   "source": [
    "state_data = {'state':['CA','MI','WI','MN'], 'pop':[37,9.8,5.7, '5.3'], 'size':[163.7, 96.7, 65.5, 86.9], 'bird':['Quail', 'Redbreast Robin', 'American Robin', 'Loon']}"
   ]
  },
  {
   "cell_type": "markdown",
   "metadata": {},
   "source": [
    "1. Convert the dict to a DataFrame named `states`\n",
    "2. What are the dtypes of the variables? Does anything look funny?"
   ]
  },
  {
   "cell_type": "code",
   "execution_count": 179,
   "metadata": {},
   "outputs": [
    {
     "name": "stdout",
     "output_type": "stream",
     "text": [
      "  state  pop   size             bird\n",
      "0    CA   37  163.7            Quail\n",
      "1    MI  9.8   96.7  Redbreast Robin\n",
      "2    WI  5.7   65.5   American Robin\n",
      "3    MN  5.3   86.9             Loon\n",
      "state     object\n",
      "pop       object\n",
      "size     float64\n",
      "bird      object\n",
      "dtype: object\n"
     ]
    }
   ],
   "source": [
    "states = pd.DataFrame(state_data)\n",
    "print(states)\n",
    "print(states.dtypes)\n",
    "\n",
    "# Population is of type object, not float"
   ]
  },
  {
   "cell_type": "markdown",
   "metadata": {},
   "source": [
    "3. How many rows and columns are in this DataFrame? \n",
    "4. Print out the index as a list. Is there a variable that might make a more sensible index?"
   ]
  },
  {
   "cell_type": "code",
   "execution_count": 180,
   "metadata": {},
   "outputs": [
    {
     "name": "stdout",
     "output_type": "stream",
     "text": [
      "(4, 4)\n",
      "[0, 1, 2, 3]\n"
     ]
    }
   ],
   "source": [
    "print(states.shape)\n",
    "print(states.index.tolist()) # Yes, the \"state\" column could make a good index"
   ]
  },
  {
   "cell_type": "markdown",
   "metadata": {},
   "source": [
    "### More on dataframe columns\n",
    "To extract a column from a DataFrame, we have been using `states['bird']`. This is the preferred way to do so, in that it always works. You will come accros two other ways to extract a colulmn. \n",
    "1. The first uses a `.` like: `states.bird`. \n",
    "2. The second uses the `iloc` method `states.iloc[:,3]`."
   ]
  },
  {
   "cell_type": "code",
   "execution_count": 181,
   "metadata": {},
   "outputs": [
    {
     "name": "stdout",
     "output_type": "stream",
     "text": [
      "0              Quail\n",
      "1    Redbreast Robin\n",
      "2     American Robin\n",
      "3               Loon\n",
      "Name: bird, dtype: object\n"
     ]
    }
   ],
   "source": [
    "print(states['bird'])"
   ]
  },
  {
   "cell_type": "code",
   "execution_count": 182,
   "metadata": {},
   "outputs": [
    {
     "name": "stdout",
     "output_type": "stream",
     "text": [
      "0              Quail\n",
      "1    Redbreast Robin\n",
      "2     American Robin\n",
      "3               Loon\n",
      "Name: bird, dtype: object\n"
     ]
    }
   ],
   "source": [
    "print(states.bird)"
   ]
  },
  {
   "cell_type": "code",
   "execution_count": 183,
   "metadata": {},
   "outputs": [
    {
     "name": "stdout",
     "output_type": "stream",
     "text": [
      "0              Quail\n",
      "1    Redbreast Robin\n",
      "2     American Robin\n",
      "3               Loon\n",
      "Name: bird, dtype: object\n"
     ]
    }
   ],
   "source": [
    "print(states.iloc[:,3])   #iloc works like a 2-D slice with iloc[rows, cols]. "
   ]
  },
  {
   "cell_type": "markdown",
   "metadata": {},
   "source": [
    "All three returned the same column. Why do I not recommend the second two approaches?  \n",
    "\n",
    "Let's try to grab the size column using the second method. "
   ]
  },
  {
   "cell_type": "code",
   "execution_count": 184,
   "metadata": {},
   "outputs": [
    {
     "name": "stdout",
     "output_type": "stream",
     "text": [
      "16\n"
     ]
    }
   ],
   "source": [
    "print(states.size)   # Ask for the column 'size'"
   ]
  },
  {
   "cell_type": "markdown",
   "metadata": {},
   "source": [
    "Well, that's not what I expected. On further review, however, it is exactly what I should have expected. `size` is an attribute of DataFrame. We saw this earlier: it returns the number of elements in the DataFrame. Any column name that conflicts with a DataFrame method or attribute is going to cause problems. \n",
    "\n",
    "What about `iloc`? Suppose I decide to rearrange the order of the columns. (We will see why the following code works shortly.)"
   ]
  },
  {
   "cell_type": "code",
   "execution_count": 185,
   "metadata": {},
   "outputs": [
    {
     "data": {
      "text/html": [
       "<div>\n",
       "<style scoped>\n",
       "    .dataframe tbody tr th:only-of-type {\n",
       "        vertical-align: middle;\n",
       "    }\n",
       "\n",
       "    .dataframe tbody tr th {\n",
       "        vertical-align: top;\n",
       "    }\n",
       "\n",
       "    .dataframe thead th {\n",
       "        text-align: right;\n",
       "    }\n",
       "</style>\n",
       "<table border=\"1\" class=\"dataframe\">\n",
       "  <thead>\n",
       "    <tr style=\"text-align: right;\">\n",
       "      <th></th>\n",
       "      <th>state</th>\n",
       "      <th>size</th>\n",
       "      <th>bird</th>\n",
       "      <th>pop</th>\n",
       "    </tr>\n",
       "  </thead>\n",
       "  <tbody>\n",
       "    <tr>\n",
       "      <th>0</th>\n",
       "      <td>CA</td>\n",
       "      <td>163.7</td>\n",
       "      <td>Quail</td>\n",
       "      <td>37</td>\n",
       "    </tr>\n",
       "    <tr>\n",
       "      <th>1</th>\n",
       "      <td>MI</td>\n",
       "      <td>96.7</td>\n",
       "      <td>Redbreast Robin</td>\n",
       "      <td>9.8</td>\n",
       "    </tr>\n",
       "    <tr>\n",
       "      <th>2</th>\n",
       "      <td>WI</td>\n",
       "      <td>65.5</td>\n",
       "      <td>American Robin</td>\n",
       "      <td>5.7</td>\n",
       "    </tr>\n",
       "    <tr>\n",
       "      <th>3</th>\n",
       "      <td>MN</td>\n",
       "      <td>86.9</td>\n",
       "      <td>Loon</td>\n",
       "      <td>5.3</td>\n",
       "    </tr>\n",
       "  </tbody>\n",
       "</table>\n",
       "</div>"
      ],
      "text/plain": [
       "  state   size             bird  pop\n",
       "0    CA  163.7            Quail   37\n",
       "1    MI   96.7  Redbreast Robin  9.8\n",
       "2    WI   65.5   American Robin  5.7\n",
       "3    MN   86.9             Loon  5.3"
      ]
     },
     "execution_count": 185,
     "metadata": {},
     "output_type": "execute_result"
    }
   ],
   "source": [
    "states = states[['state', 'size', 'bird', 'pop']]\n",
    "states"
   ]
  },
  {
   "cell_type": "code",
   "execution_count": 186,
   "metadata": {},
   "outputs": [
    {
     "name": "stdout",
     "output_type": "stream",
     "text": [
      "0     37\n",
      "1    9.8\n",
      "2    5.7\n",
      "3    5.3\n",
      "Name: pop, dtype: object\n"
     ]
    }
   ],
   "source": [
    "# What does this statement return?\n",
    "print(states.iloc[:,3])   #iloc works like a 2-D slice with iloc[rows, cols]. "
   ]
  },
  {
   "cell_type": "markdown",
   "metadata": {},
   "source": [
    "Not surprisingly, this way of referencing a column is not robust to reordering the columns. We might still use `iloc` here and there, but we do so at our own peril. \n",
    "\n",
    "### Subsets of columns\n",
    "\n",
    "Okay, back to referencing columns. We can take several columns by passing a list of the column names.  "
   ]
  },
  {
   "cell_type": "code",
   "execution_count": 187,
   "metadata": {},
   "outputs": [
    {
     "data": {
      "text/plain": [
       "pandas.core.frame.DataFrame"
      ]
     },
     "execution_count": 187,
     "metadata": {},
     "output_type": "execute_result"
    }
   ],
   "source": [
    "cols_to_get = ['state', 'bird', 'pop']\n",
    "got_cols = states[cols_to_get]\n",
    "got_cols\n",
    "type(got_cols)"
   ]
  },
  {
   "cell_type": "markdown",
   "metadata": {},
   "source": [
    "When we take more than one column, we are creating a DataFrame object. A more compact notation creates the list in place."
   ]
  },
  {
   "cell_type": "code",
   "execution_count": 188,
   "metadata": {},
   "outputs": [
    {
     "data": {
      "text/html": [
       "<div>\n",
       "<style scoped>\n",
       "    .dataframe tbody tr th:only-of-type {\n",
       "        vertical-align: middle;\n",
       "    }\n",
       "\n",
       "    .dataframe tbody tr th {\n",
       "        vertical-align: top;\n",
       "    }\n",
       "\n",
       "    .dataframe thead th {\n",
       "        text-align: right;\n",
       "    }\n",
       "</style>\n",
       "<table border=\"1\" class=\"dataframe\">\n",
       "  <thead>\n",
       "    <tr style=\"text-align: right;\">\n",
       "      <th></th>\n",
       "      <th>state</th>\n",
       "      <th>bird</th>\n",
       "      <th>pop</th>\n",
       "    </tr>\n",
       "  </thead>\n",
       "  <tbody>\n",
       "    <tr>\n",
       "      <th>0</th>\n",
       "      <td>CA</td>\n",
       "      <td>Quail</td>\n",
       "      <td>37</td>\n",
       "    </tr>\n",
       "    <tr>\n",
       "      <th>1</th>\n",
       "      <td>MI</td>\n",
       "      <td>Redbreast Robin</td>\n",
       "      <td>9.8</td>\n",
       "    </tr>\n",
       "    <tr>\n",
       "      <th>2</th>\n",
       "      <td>WI</td>\n",
       "      <td>American Robin</td>\n",
       "      <td>5.7</td>\n",
       "    </tr>\n",
       "    <tr>\n",
       "      <th>3</th>\n",
       "      <td>MN</td>\n",
       "      <td>Loon</td>\n",
       "      <td>5.3</td>\n",
       "    </tr>\n",
       "  </tbody>\n",
       "</table>\n",
       "</div>"
      ],
      "text/plain": [
       "  state             bird  pop\n",
       "0    CA            Quail   37\n",
       "1    MI  Redbreast Robin  9.8\n",
       "2    WI   American Robin  5.7\n",
       "3    MN             Loon  5.3"
      ]
     },
     "execution_count": 188,
     "metadata": {},
     "output_type": "execute_result"
    }
   ],
   "source": [
    "got_cols_2 = states[['state', 'bird', 'pop']]\n",
    "got_cols_2"
   ]
  },
  {
   "cell_type": "markdown",
   "metadata": {},
   "source": [
    "### Renaming columns\n",
    "Often data sets come with poor variable names. How do we rename a column?\n",
    "If we are only changing a few variables, the dictionary approach works well. "
   ]
  },
  {
   "cell_type": "code",
   "execution_count": 189,
   "metadata": {},
   "outputs": [
    {
     "data": {
      "text/html": [
       "<div>\n",
       "<style scoped>\n",
       "    .dataframe tbody tr th:only-of-type {\n",
       "        vertical-align: middle;\n",
       "    }\n",
       "\n",
       "    .dataframe tbody tr th {\n",
       "        vertical-align: top;\n",
       "    }\n",
       "\n",
       "    .dataframe thead th {\n",
       "        text-align: right;\n",
       "    }\n",
       "</style>\n",
       "<table border=\"1\" class=\"dataframe\">\n",
       "  <thead>\n",
       "    <tr style=\"text-align: right;\">\n",
       "      <th></th>\n",
       "      <th>state</th>\n",
       "      <th>size</th>\n",
       "      <th>bird</th>\n",
       "      <th>population</th>\n",
       "    </tr>\n",
       "  </thead>\n",
       "  <tbody>\n",
       "    <tr>\n",
       "      <th>0</th>\n",
       "      <td>CA</td>\n",
       "      <td>163.7</td>\n",
       "      <td>Quail</td>\n",
       "      <td>37</td>\n",
       "    </tr>\n",
       "    <tr>\n",
       "      <th>1</th>\n",
       "      <td>MI</td>\n",
       "      <td>96.7</td>\n",
       "      <td>Redbreast Robin</td>\n",
       "      <td>9.8</td>\n",
       "    </tr>\n",
       "    <tr>\n",
       "      <th>2</th>\n",
       "      <td>WI</td>\n",
       "      <td>65.5</td>\n",
       "      <td>American Robin</td>\n",
       "      <td>5.7</td>\n",
       "    </tr>\n",
       "    <tr>\n",
       "      <th>3</th>\n",
       "      <td>MN</td>\n",
       "      <td>86.9</td>\n",
       "      <td>Loon</td>\n",
       "      <td>5.3</td>\n",
       "    </tr>\n",
       "  </tbody>\n",
       "</table>\n",
       "</div>"
      ],
      "text/plain": [
       "  state   size             bird population\n",
       "0    CA  163.7            Quail         37\n",
       "1    MI   96.7  Redbreast Robin        9.8\n",
       "2    WI   65.5   American Robin        5.7\n",
       "3    MN   86.9             Loon        5.3"
      ]
     },
     "execution_count": 189,
     "metadata": {},
     "output_type": "execute_result"
    }
   ],
   "source": [
    "# Is it population or state soda? Let's get a better name on that variable. \n",
    "states = states.rename(columns={'pop':'population'})\n",
    "states"
   ]
  },
  {
   "cell_type": "markdown",
   "metadata": {},
   "source": [
    "The only column that was changed was the `pop` column. Let's take a closer look at the syntax. \n",
    "```python\n",
    "states = states.rename(columns={'pop':'population'})\n",
    "```\n",
    "1. We are calling the `rename())` method from the DataFrame object \n",
    "2. We pass `rename()`  the argument `columns` (passing `index` would rename the index)\n",
    "3. We use a dict to give the `{old name : new name}` key-value pairs\n",
    "\n",
    "Notice that we had to assign the result of `state.rename()` back to states. The `rename()` method does not act on the original data, but creates a copy, which we assign back to the `states` variable. \n",
    "\n",
    "We can ask `rename()` to perform the action on the original data with `inplace` argument. \\[You can see if a method supports in place operations by [checking the documentation](https://pandas.pydata.org/pandas-docs/stable/generated/pandas.DataFrame.rename.html), or using ? in jupyter notebook.\\] "
   ]
  },
  {
   "cell_type": "code",
   "execution_count": 190,
   "metadata": {},
   "outputs": [
    {
     "data": {
      "text/html": [
       "<div>\n",
       "<style scoped>\n",
       "    .dataframe tbody tr th:only-of-type {\n",
       "        vertical-align: middle;\n",
       "    }\n",
       "\n",
       "    .dataframe tbody tr th {\n",
       "        vertical-align: top;\n",
       "    }\n",
       "\n",
       "    .dataframe thead th {\n",
       "        text-align: right;\n",
       "    }\n",
       "</style>\n",
       "<table border=\"1\" class=\"dataframe\">\n",
       "  <thead>\n",
       "    <tr style=\"text-align: right;\">\n",
       "      <th></th>\n",
       "      <th>state</th>\n",
       "      <th>size</th>\n",
       "      <th>bird</th>\n",
       "      <th>people</th>\n",
       "    </tr>\n",
       "  </thead>\n",
       "  <tbody>\n",
       "    <tr>\n",
       "      <th>0</th>\n",
       "      <td>CA</td>\n",
       "      <td>163.7</td>\n",
       "      <td>Quail</td>\n",
       "      <td>37</td>\n",
       "    </tr>\n",
       "    <tr>\n",
       "      <th>1</th>\n",
       "      <td>MI</td>\n",
       "      <td>96.7</td>\n",
       "      <td>Redbreast Robin</td>\n",
       "      <td>9.8</td>\n",
       "    </tr>\n",
       "    <tr>\n",
       "      <th>2</th>\n",
       "      <td>WI</td>\n",
       "      <td>65.5</td>\n",
       "      <td>American Robin</td>\n",
       "      <td>5.7</td>\n",
       "    </tr>\n",
       "    <tr>\n",
       "      <th>3</th>\n",
       "      <td>MN</td>\n",
       "      <td>86.9</td>\n",
       "      <td>Loon</td>\n",
       "      <td>5.3</td>\n",
       "    </tr>\n",
       "  </tbody>\n",
       "</table>\n",
       "</div>"
      ],
      "text/plain": [
       "  state   size             bird people\n",
       "0    CA  163.7            Quail     37\n",
       "1    MI   96.7  Redbreast Robin    9.8\n",
       "2    WI   65.5   American Robin    5.7\n",
       "3    MN   86.9             Loon    5.3"
      ]
     },
     "execution_count": 190,
     "metadata": {},
     "output_type": "execute_result"
    }
   ],
   "source": [
    "#Let's rename population again...\n",
    "states.rename(columns={'population':'people'}, inplace=True)\n",
    "states"
   ]
  },
  {
   "cell_type": "markdown",
   "metadata": {},
   "source": [
    "If we need to apply a method or function to all the column names, we can operate directly on `df.columns`. "
   ]
  },
  {
   "cell_type": "code",
   "execution_count": 191,
   "metadata": {},
   "outputs": [
    {
     "name": "stdout",
     "output_type": "stream",
     "text": [
      "Index(['state', 'size', 'bird', 'people'], dtype='object')\n"
     ]
    },
    {
     "data": {
      "text/html": [
       "<div>\n",
       "<style scoped>\n",
       "    .dataframe tbody tr th:only-of-type {\n",
       "        vertical-align: middle;\n",
       "    }\n",
       "\n",
       "    .dataframe tbody tr th {\n",
       "        vertical-align: top;\n",
       "    }\n",
       "\n",
       "    .dataframe thead th {\n",
       "        text-align: right;\n",
       "    }\n",
       "</style>\n",
       "<table border=\"1\" class=\"dataframe\">\n",
       "  <thead>\n",
       "    <tr style=\"text-align: right;\">\n",
       "      <th></th>\n",
       "      <th>STATE</th>\n",
       "      <th>SIZE</th>\n",
       "      <th>BIRD</th>\n",
       "      <th>PEOPLE</th>\n",
       "    </tr>\n",
       "  </thead>\n",
       "  <tbody>\n",
       "    <tr>\n",
       "      <th>0</th>\n",
       "      <td>CA</td>\n",
       "      <td>163.7</td>\n",
       "      <td>Quail</td>\n",
       "      <td>37</td>\n",
       "    </tr>\n",
       "    <tr>\n",
       "      <th>1</th>\n",
       "      <td>MI</td>\n",
       "      <td>96.7</td>\n",
       "      <td>Redbreast Robin</td>\n",
       "      <td>9.8</td>\n",
       "    </tr>\n",
       "    <tr>\n",
       "      <th>2</th>\n",
       "      <td>WI</td>\n",
       "      <td>65.5</td>\n",
       "      <td>American Robin</td>\n",
       "      <td>5.7</td>\n",
       "    </tr>\n",
       "    <tr>\n",
       "      <th>3</th>\n",
       "      <td>MN</td>\n",
       "      <td>86.9</td>\n",
       "      <td>Loon</td>\n",
       "      <td>5.3</td>\n",
       "    </tr>\n",
       "  </tbody>\n",
       "</table>\n",
       "</div>"
      ],
      "text/plain": [
       "  STATE   SIZE             BIRD PEOPLE\n",
       "0    CA  163.7            Quail     37\n",
       "1    MI   96.7  Redbreast Robin    9.8\n",
       "2    WI   65.5   American Robin    5.7\n",
       "3    MN   86.9             Loon    5.3"
      ]
     },
     "execution_count": 191,
     "metadata": {},
     "output_type": "execute_result"
    }
   ],
   "source": [
    "# Reminder, what does df.columns return?\n",
    "print(states.columns)\n",
    "\n",
    "# All caps\n",
    "states.columns = [col_name.upper() for col_name in states.columns]\n",
    "states"
   ]
  },
  {
   "cell_type": "markdown",
   "metadata": {},
   "source": [
    "We can now see that the `columns` attribute returns an iterable object. Like a range or a list, `states.columns` knows to dole out the column names when queired by a for loop. Nice.  "
   ]
  },
  {
   "cell_type": "markdown",
   "metadata": {},
   "source": [
    "### More on DataFrame Rows\n",
    "How do we take a row, or a subset of rows? We can resort to `iloc` again..."
   ]
  },
  {
   "cell_type": "code",
   "execution_count": 192,
   "metadata": {},
   "outputs": [
    {
     "name": "stdout",
     "output_type": "stream",
     "text": [
      "STATE                 WI\n",
      "SIZE                65.5\n",
      "BIRD      American Robin\n",
      "PEOPLE               5.7\n",
      "Name: 2, dtype: object\n"
     ]
    }
   ],
   "source": [
    "print(states.iloc[2,:])      #Take the third row, all columns"
   ]
  },
  {
   "cell_type": "markdown",
   "metadata": {},
   "source": [
    "...but this is still subject to problems with reordering rows. It is also less likely that we want to take a row in a specific position. It is more likely we want a row corresponding to a conditional. "
   ]
  },
  {
   "cell_type": "code",
   "execution_count": 193,
   "metadata": {},
   "outputs": [
    {
     "data": {
      "text/html": [
       "<div>\n",
       "<style scoped>\n",
       "    .dataframe tbody tr th:only-of-type {\n",
       "        vertical-align: middle;\n",
       "    }\n",
       "\n",
       "    .dataframe tbody tr th {\n",
       "        vertical-align: top;\n",
       "    }\n",
       "\n",
       "    .dataframe thead th {\n",
       "        text-align: right;\n",
       "    }\n",
       "</style>\n",
       "<table border=\"1\" class=\"dataframe\">\n",
       "  <thead>\n",
       "    <tr style=\"text-align: right;\">\n",
       "      <th></th>\n",
       "      <th>STATE</th>\n",
       "      <th>SIZE</th>\n",
       "      <th>BIRD</th>\n",
       "      <th>PEOPLE</th>\n",
       "    </tr>\n",
       "  </thead>\n",
       "  <tbody>\n",
       "    <tr>\n",
       "      <th>2</th>\n",
       "      <td>WI</td>\n",
       "      <td>65.5</td>\n",
       "      <td>American Robin</td>\n",
       "      <td>5.7</td>\n",
       "    </tr>\n",
       "  </tbody>\n",
       "</table>\n",
       "</div>"
      ],
      "text/plain": [
       "  STATE  SIZE            BIRD PEOPLE\n",
       "2    WI  65.5  American Robin    5.7"
      ]
     },
     "execution_count": 193,
     "metadata": {},
     "output_type": "execute_result"
    }
   ],
   "source": [
    "states[states['STATE']=='WI']   # take the row corresponding to Wisconsin"
   ]
  },
  {
   "cell_type": "markdown",
   "metadata": {},
   "source": [
    "Let's break that down. First, we ask which rows have STATE equal to WI. "
   ]
  },
  {
   "cell_type": "code",
   "execution_count": 194,
   "metadata": {},
   "outputs": [
    {
     "name": "stdout",
     "output_type": "stream",
     "text": [
      "0    False\n",
      "1    False\n",
      "2     True\n",
      "3    False\n",
      "Name: STATE, dtype: bool\n",
      "<class 'pandas.core.series.Series'>\n"
     ]
    }
   ],
   "source": [
    "print(states['STATE']=='WI' )\n",
    "print(type(states['STATE']=='WI'))"
   ]
  },
  {
   "cell_type": "markdown",
   "metadata": {},
   "source": [
    "That is returning a Series of bools. When we give the Series to the DataFrame, it only grabs the rows that are true. "
   ]
  },
  {
   "cell_type": "markdown",
   "metadata": {},
   "source": [
    "### Changing the row index\n",
    "We can simplify our lives and get rid of an index that doesn't tell us anything useful about the data by changing the index.  The unit of observation in `states` is a state. That seems like a good index. "
   ]
  },
  {
   "cell_type": "code",
   "execution_count": 195,
   "metadata": {},
   "outputs": [
    {
     "name": "stdout",
     "output_type": "stream",
     "text": [
      "        SIZE             BIRD PEOPLE\n",
      "STATE                               \n",
      "CA     163.7            Quail     37\n",
      "MI      96.7  Redbreast Robin    9.8\n",
      "WI      65.5   American Robin    5.7\n",
      "MN      86.9             Loon    5.3\n",
      "\n",
      "\n",
      "  STATE   SIZE             BIRD PEOPLE\n",
      "0    CA  163.7            Quail     37\n",
      "1    MI   96.7  Redbreast Robin    9.8\n",
      "2    WI   65.5   American Robin    5.7\n",
      "3    MN   86.9             Loon    5.3\n"
     ]
    }
   ],
   "source": [
    "states_new_index = states.set_index('STATE')   # make the column 'STATE' the new index\n",
    "                                                 # assign the newly indexed DF to a new variable\n",
    "print(states_new_index)\n",
    "print('\\n')\n",
    "print(states)"
   ]
  },
  {
   "cell_type": "markdown",
   "metadata": {},
   "source": [
    "The index is now the state abreviations and not the squence of integers. What does this buy us? A simpler way to reference a column using the `loc` method. This is **loc**, not iloc!\n",
    "\n",
    "\\[Again, notice that `set_index` did not operate in place. It created a copy that I assigned to the new variable. `set_index` also takes the `inplace` argument.\\]"
   ]
  },
  {
   "cell_type": "code",
   "execution_count": 196,
   "metadata": {},
   "outputs": [
    {
     "name": "stdout",
     "output_type": "stream",
     "text": [
      "SIZE                65.5\n",
      "BIRD      American Robin\n",
      "PEOPLE               5.7\n",
      "Name: WI, dtype: object\n"
     ]
    }
   ],
   "source": [
    "print(states_new_index.loc['WI'])   # ask for the row corresponding to WI"
   ]
  },
  {
   "cell_type": "markdown",
   "metadata": {},
   "source": [
    "Very nice. Suppose you regret your choice of index. Are you ruined? Nope. "
   ]
  },
  {
   "cell_type": "code",
   "execution_count": 197,
   "metadata": {},
   "outputs": [
    {
     "data": {
      "text/html": [
       "<div>\n",
       "<style scoped>\n",
       "    .dataframe tbody tr th:only-of-type {\n",
       "        vertical-align: middle;\n",
       "    }\n",
       "\n",
       "    .dataframe tbody tr th {\n",
       "        vertical-align: top;\n",
       "    }\n",
       "\n",
       "    .dataframe thead th {\n",
       "        text-align: right;\n",
       "    }\n",
       "</style>\n",
       "<table border=\"1\" class=\"dataframe\">\n",
       "  <thead>\n",
       "    <tr style=\"text-align: right;\">\n",
       "      <th></th>\n",
       "      <th>STATE</th>\n",
       "      <th>SIZE</th>\n",
       "      <th>BIRD</th>\n",
       "      <th>PEOPLE</th>\n",
       "    </tr>\n",
       "  </thead>\n",
       "  <tbody>\n",
       "    <tr>\n",
       "      <th>0</th>\n",
       "      <td>CA</td>\n",
       "      <td>163.7</td>\n",
       "      <td>Quail</td>\n",
       "      <td>37</td>\n",
       "    </tr>\n",
       "    <tr>\n",
       "      <th>1</th>\n",
       "      <td>MI</td>\n",
       "      <td>96.7</td>\n",
       "      <td>Redbreast Robin</td>\n",
       "      <td>9.8</td>\n",
       "    </tr>\n",
       "    <tr>\n",
       "      <th>2</th>\n",
       "      <td>WI</td>\n",
       "      <td>65.5</td>\n",
       "      <td>American Robin</td>\n",
       "      <td>5.7</td>\n",
       "    </tr>\n",
       "    <tr>\n",
       "      <th>3</th>\n",
       "      <td>MN</td>\n",
       "      <td>86.9</td>\n",
       "      <td>Loon</td>\n",
       "      <td>5.3</td>\n",
       "    </tr>\n",
       "  </tbody>\n",
       "</table>\n",
       "</div>"
      ],
      "text/plain": [
       "  STATE   SIZE             BIRD PEOPLE\n",
       "0    CA  163.7            Quail     37\n",
       "1    MI   96.7  Redbreast Robin    9.8\n",
       "2    WI   65.5   American Robin    5.7\n",
       "3    MN   86.9             Loon    5.3"
      ]
     },
     "execution_count": 197,
     "metadata": {},
     "output_type": "execute_result"
    }
   ],
   "source": [
    "states_undo = states_new_index.reset_index()    # reset the index to integers and return state to a column\n",
    "states_undo"
   ]
  },
  {
   "cell_type": "markdown",
   "metadata": {},
   "source": [
    "### Deleting rows and columns\n",
    "To remove a row or column, we use the `drop()` method. The drop method is our first introdution to the **axis** argument. DataFrames have two axes. We have been calling them rows and columns, but pandas thinks of them as rows = 0 and columns = 1. \n",
    "\n",
    "In the following we want to remove the column 'SIZE', but there could be a row index 'SIZE', too, so we need to tell drop where to look for 'SIZE'. Again, we use inplace if we don't want to create a copy."
   ]
  },
  {
   "cell_type": "code",
   "execution_count": 198,
   "metadata": {},
   "outputs": [
    {
     "data": {
      "text/html": [
       "<div>\n",
       "<style scoped>\n",
       "    .dataframe tbody tr th:only-of-type {\n",
       "        vertical-align: middle;\n",
       "    }\n",
       "\n",
       "    .dataframe tbody tr th {\n",
       "        vertical-align: top;\n",
       "    }\n",
       "\n",
       "    .dataframe thead th {\n",
       "        text-align: right;\n",
       "    }\n",
       "</style>\n",
       "<table border=\"1\" class=\"dataframe\">\n",
       "  <thead>\n",
       "    <tr style=\"text-align: right;\">\n",
       "      <th></th>\n",
       "      <th>STATE</th>\n",
       "      <th>BIRD</th>\n",
       "      <th>PEOPLE</th>\n",
       "    </tr>\n",
       "  </thead>\n",
       "  <tbody>\n",
       "    <tr>\n",
       "      <th>0</th>\n",
       "      <td>CA</td>\n",
       "      <td>Quail</td>\n",
       "      <td>37</td>\n",
       "    </tr>\n",
       "    <tr>\n",
       "      <th>1</th>\n",
       "      <td>MI</td>\n",
       "      <td>Redbreast Robin</td>\n",
       "      <td>9.8</td>\n",
       "    </tr>\n",
       "    <tr>\n",
       "      <th>2</th>\n",
       "      <td>WI</td>\n",
       "      <td>American Robin</td>\n",
       "      <td>5.7</td>\n",
       "    </tr>\n",
       "    <tr>\n",
       "      <th>3</th>\n",
       "      <td>MN</td>\n",
       "      <td>Loon</td>\n",
       "      <td>5.3</td>\n",
       "    </tr>\n",
       "  </tbody>\n",
       "</table>\n",
       "</div>"
      ],
      "text/plain": [
       "  STATE             BIRD PEOPLE\n",
       "0    CA            Quail     37\n",
       "1    MI  Redbreast Robin    9.8\n",
       "2    WI   American Robin    5.7\n",
       "3    MN             Loon    5.3"
      ]
     },
     "execution_count": 198,
     "metadata": {},
     "output_type": "execute_result"
    }
   ],
   "source": [
    "states_subset = states.drop('SIZE', axis = 1)\n",
    "states_subset"
   ]
  },
  {
   "cell_type": "markdown",
   "metadata": {},
   "source": [
    "Deleting a row works just as you would expect..."
   ]
  },
  {
   "cell_type": "code",
   "execution_count": 199,
   "metadata": {},
   "outputs": [
    {
     "data": {
      "text/html": [
       "<div>\n",
       "<style scoped>\n",
       "    .dataframe tbody tr th:only-of-type {\n",
       "        vertical-align: middle;\n",
       "    }\n",
       "\n",
       "    .dataframe tbody tr th {\n",
       "        vertical-align: top;\n",
       "    }\n",
       "\n",
       "    .dataframe thead th {\n",
       "        text-align: right;\n",
       "    }\n",
       "</style>\n",
       "<table border=\"1\" class=\"dataframe\">\n",
       "  <thead>\n",
       "    <tr style=\"text-align: right;\">\n",
       "      <th></th>\n",
       "      <th>STATE</th>\n",
       "      <th>SIZE</th>\n",
       "      <th>BIRD</th>\n",
       "      <th>PEOPLE</th>\n",
       "    </tr>\n",
       "  </thead>\n",
       "  <tbody>\n",
       "    <tr>\n",
       "      <th>0</th>\n",
       "      <td>CA</td>\n",
       "      <td>163.7</td>\n",
       "      <td>Quail</td>\n",
       "      <td>37</td>\n",
       "    </tr>\n",
       "    <tr>\n",
       "      <th>1</th>\n",
       "      <td>MI</td>\n",
       "      <td>96.7</td>\n",
       "      <td>Redbreast Robin</td>\n",
       "      <td>9.8</td>\n",
       "    </tr>\n",
       "    <tr>\n",
       "      <th>2</th>\n",
       "      <td>WI</td>\n",
       "      <td>65.5</td>\n",
       "      <td>American Robin</td>\n",
       "      <td>5.7</td>\n",
       "    </tr>\n",
       "  </tbody>\n",
       "</table>\n",
       "</div>"
      ],
      "text/plain": [
       "  STATE   SIZE             BIRD PEOPLE\n",
       "0    CA  163.7            Quail     37\n",
       "1    MI   96.7  Redbreast Robin    9.8\n",
       "2    WI   65.5   American Robin    5.7"
      ]
     },
     "execution_count": 199,
     "metadata": {},
     "output_type": "execute_result"
    }
   ],
   "source": [
    "states_no_mn = states.drop(3, axis = 0)   # Why is this code not very robust?\n",
    "states_no_mn"
   ]
  },
  {
   "cell_type": "markdown",
   "metadata": {},
   "source": [
    "### Practice: DataFrames\n",
    "Take a few minutes and try the following. Feel free to chat with those around you if you get stuck. The TA and I are here, too. \n",
    "\n",
    "1. Explain why `states = states[['state', 'size', 'bird', 'pop']]` reordered the DataFrame `states`.\n",
    "2. Create a new DataFrame from the dict `data_dict` we used earlier. Name it data.\n"
   ]
  },
  {
   "cell_type": "code",
   "execution_count": 200,
   "metadata": {},
   "outputs": [
    {
     "name": "stdout",
     "output_type": "stream",
     "text": [
      "   year   gdp  cons\n",
      "0  1990   5.9   3.8\n",
      "1  1995   7.6   4.9\n",
      "2  2000  10.2   6.8\n",
      "3  2005  13.0   8.7\n"
     ]
    }
   ],
   "source": [
    "# 1. A = ['state', 'size', 'bird', 'pop'] is of type list, giving the names of the order of columns\n",
    "# 2. states[A] gets the states DataFrame in the order specified in the list A\n",
    "# 3. The reordered states DataFrame was put back into states variable, the column reorder is complete\n",
    "\n",
    "data = pd.DataFrame(data_dict)\n",
    "print(data)"
   ]
  },
  {
   "cell_type": "markdown",
   "metadata": {},
   "source": [
    "3. Change the index to be the year variable and print the DataFrame"
   ]
  },
  {
   "cell_type": "code",
   "execution_count": 201,
   "metadata": {},
   "outputs": [
    {
     "name": "stdout",
     "output_type": "stream",
     "text": [
      "       gdp  cons\n",
      "year            \n",
      "1990   5.9   3.8\n",
      "1995   7.6   4.9\n",
      "2000  10.2   6.8\n",
      "2005  13.0   8.7\n"
     ]
    }
   ],
   "source": [
    "data.set_index(\"year\", inplace = True)\n",
    "print(data)"
   ]
  },
  {
   "cell_type": "markdown",
   "metadata": {},
   "source": [
    "4. Change the remaining column names to 'consumption' and 'gross domestic product'"
   ]
  },
  {
   "cell_type": "code",
   "execution_count": 202,
   "metadata": {},
   "outputs": [
    {
     "name": "stdout",
     "output_type": "stream",
     "text": [
      "      gross domestic product  consumption\n",
      "year                                     \n",
      "1990                     5.9          3.8\n",
      "1995                     7.6          4.9\n",
      "2000                    10.2          6.8\n",
      "2005                    13.0          8.7\n"
     ]
    }
   ],
   "source": [
    "data.rename(columns={\"cons\":\"consumption\", \"gdp\":\"gross domestic product\"}, inplace=True)\n",
    "print(data)"
   ]
  },
  {
   "cell_type": "markdown",
   "metadata": {},
   "source": [
    "5. Change column names to title case. Try the string method `title()`"
   ]
  },
  {
   "cell_type": "code",
   "execution_count": 203,
   "metadata": {},
   "outputs": [
    {
     "name": "stdout",
     "output_type": "stream",
     "text": [
      "      Gross Domestic Product  Consumption\n",
      "year                                     \n",
      "1990                     5.9          3.8\n",
      "1995                     7.6          4.9\n",
      "2000                    10.2          6.8\n",
      "2005                    13.0          8.7\n"
     ]
    }
   ],
   "source": [
    "data.columns = [var.title() for var in data.columns]\n",
    "print(data)"
   ]
  },
  {
   "cell_type": "markdown",
   "metadata": {},
   "source": [
    "6. Extract the rows corresponding to 1990 and 2000 and assign them to a DataFrame named `data_dec`. Hint: When we wanted to take to columns, we passed a list of the column names..."
   ]
  },
  {
   "cell_type": "code",
   "execution_count": 204,
   "metadata": {},
   "outputs": [
    {
     "data": {
      "text/html": [
       "<div>\n",
       "<style scoped>\n",
       "    .dataframe tbody tr th:only-of-type {\n",
       "        vertical-align: middle;\n",
       "    }\n",
       "\n",
       "    .dataframe tbody tr th {\n",
       "        vertical-align: top;\n",
       "    }\n",
       "\n",
       "    .dataframe thead th {\n",
       "        text-align: right;\n",
       "    }\n",
       "</style>\n",
       "<table border=\"1\" class=\"dataframe\">\n",
       "  <thead>\n",
       "    <tr style=\"text-align: right;\">\n",
       "      <th></th>\n",
       "      <th>Gross Domestic Product</th>\n",
       "      <th>Consumption</th>\n",
       "    </tr>\n",
       "    <tr>\n",
       "      <th>year</th>\n",
       "      <th></th>\n",
       "      <th></th>\n",
       "    </tr>\n",
       "  </thead>\n",
       "  <tbody>\n",
       "    <tr>\n",
       "      <th>1990</th>\n",
       "      <td>5.9</td>\n",
       "      <td>3.8</td>\n",
       "    </tr>\n",
       "    <tr>\n",
       "      <th>1995</th>\n",
       "      <td>7.6</td>\n",
       "      <td>4.9</td>\n",
       "    </tr>\n",
       "    <tr>\n",
       "      <th>2000</th>\n",
       "      <td>10.2</td>\n",
       "      <td>6.8</td>\n",
       "    </tr>\n",
       "  </tbody>\n",
       "</table>\n",
       "</div>"
      ],
      "text/plain": [
       "      Gross Domestic Product  Consumption\n",
       "year                                     \n",
       "1990                     5.9          3.8\n",
       "1995                     7.6          4.9\n",
       "2000                    10.2          6.8"
      ]
     },
     "execution_count": 204,
     "metadata": {},
     "output_type": "execute_result"
    }
   ],
   "source": [
    "# Precisely obtaining the rows has index 1990 and 2000\n",
    "# data_dec = data.loc[[1990, 2000]]\n",
    "# data_dec\n",
    "\n",
    "data_dec = data.iloc[0:3, :]\n",
    "data_dec"
   ]
  },
  {
   "cell_type": "markdown",
   "metadata": {},
   "source": [
    "7. Create `data_dec_2` from data by deleting the unneeded rows. "
   ]
  },
  {
   "cell_type": "code",
   "execution_count": 205,
   "metadata": {},
   "outputs": [
    {
     "data": {
      "text/html": [
       "<div>\n",
       "<style scoped>\n",
       "    .dataframe tbody tr th:only-of-type {\n",
       "        vertical-align: middle;\n",
       "    }\n",
       "\n",
       "    .dataframe tbody tr th {\n",
       "        vertical-align: top;\n",
       "    }\n",
       "\n",
       "    .dataframe thead th {\n",
       "        text-align: right;\n",
       "    }\n",
       "</style>\n",
       "<table border=\"1\" class=\"dataframe\">\n",
       "  <thead>\n",
       "    <tr style=\"text-align: right;\">\n",
       "      <th></th>\n",
       "      <th>Gross Domestic Product</th>\n",
       "      <th>Consumption</th>\n",
       "    </tr>\n",
       "    <tr>\n",
       "      <th>year</th>\n",
       "      <th></th>\n",
       "      <th></th>\n",
       "    </tr>\n",
       "  </thead>\n",
       "  <tbody>\n",
       "    <tr>\n",
       "      <th>1990</th>\n",
       "      <td>5.9</td>\n",
       "      <td>3.8</td>\n",
       "    </tr>\n",
       "    <tr>\n",
       "      <th>2000</th>\n",
       "      <td>10.2</td>\n",
       "      <td>6.8</td>\n",
       "    </tr>\n",
       "  </tbody>\n",
       "</table>\n",
       "</div>"
      ],
      "text/plain": [
       "      Gross Domestic Product  Consumption\n",
       "year                                     \n",
       "1990                     5.9          3.8\n",
       "2000                    10.2          6.8"
      ]
     },
     "execution_count": 205,
     "metadata": {},
     "output_type": "execute_result"
    }
   ],
   "source": [
    "data_dec_2 = data_dec.drop(index=1995, axis=0)\n",
    "data_dec_2"
   ]
  },
  {
   "cell_type": "markdown",
   "metadata": {},
   "source": [
    "### Calculations on DataFrames\n",
    "\n",
    "A DataFrame naturally understand how to perform operatons element-wise. For example, let's compute the share of consumption in GDP. "
   ]
  },
  {
   "cell_type": "code",
   "execution_count": 206,
   "metadata": {},
   "outputs": [
    {
     "data": {
      "text/html": [
       "<div>\n",
       "<style scoped>\n",
       "    .dataframe tbody tr th:only-of-type {\n",
       "        vertical-align: middle;\n",
       "    }\n",
       "\n",
       "    .dataframe tbody tr th {\n",
       "        vertical-align: top;\n",
       "    }\n",
       "\n",
       "    .dataframe thead th {\n",
       "        text-align: right;\n",
       "    }\n",
       "</style>\n",
       "<table border=\"1\" class=\"dataframe\">\n",
       "  <thead>\n",
       "    <tr style=\"text-align: right;\">\n",
       "      <th></th>\n",
       "      <th>year</th>\n",
       "      <th>gdp</th>\n",
       "      <th>cons</th>\n",
       "      <th>cons_share</th>\n",
       "    </tr>\n",
       "  </thead>\n",
       "  <tbody>\n",
       "    <tr>\n",
       "      <th>0</th>\n",
       "      <td>1990</td>\n",
       "      <td>5.9</td>\n",
       "      <td>3.8</td>\n",
       "      <td>0.644068</td>\n",
       "    </tr>\n",
       "    <tr>\n",
       "      <th>1</th>\n",
       "      <td>1995</td>\n",
       "      <td>7.6</td>\n",
       "      <td>4.9</td>\n",
       "      <td>0.644737</td>\n",
       "    </tr>\n",
       "    <tr>\n",
       "      <th>2</th>\n",
       "      <td>2000</td>\n",
       "      <td>10.2</td>\n",
       "      <td>6.8</td>\n",
       "      <td>0.666667</td>\n",
       "    </tr>\n",
       "    <tr>\n",
       "      <th>3</th>\n",
       "      <td>2005</td>\n",
       "      <td>13.0</td>\n",
       "      <td>8.7</td>\n",
       "      <td>0.669231</td>\n",
       "    </tr>\n",
       "  </tbody>\n",
       "</table>\n",
       "</div>"
      ],
      "text/plain": [
       "   year   gdp  cons  cons_share\n",
       "0  1990   5.9   3.8    0.644068\n",
       "1  1995   7.6   4.9    0.644737\n",
       "2  2000  10.2   6.8    0.666667\n",
       "3  2005  13.0   8.7    0.669231"
      ]
     },
     "execution_count": 206,
     "metadata": {},
     "output_type": "execute_result"
    }
   ],
   "source": [
    "data = pd.DataFrame(data_dict)    # reset data\n",
    "\n",
    "data['cons_share'] = data['cons'] / data['gdp'] # this will divide cons by gdp for each row\n",
    "\n",
    "data"
   ]
  },
  {
   "cell_type": "markdown",
   "metadata": {},
   "source": [
    "Notice the left-hand side of the assignment. I am creating a new variable (column) in the DataFrame and assigning it the consumption share. "
   ]
  },
  {
   "cell_type": "code",
   "execution_count": 207,
   "metadata": {},
   "outputs": [
    {
     "name": "stdout",
     "output_type": "stream",
     "text": [
      "   year   gdp  cons  cons_share\n",
      "0  1990   5.9   3.8   64.406780\n",
      "1  1995   7.6   4.9   64.473684\n",
      "2  2000  10.2   6.8   66.666667\n",
      "3  2005  13.0   8.7   66.923077\n",
      "   year   gdp  cons  Consumption percentage share of gdp\n",
      "0  1990   5.9   3.8                            64.406780\n",
      "1  1995   7.6   4.9                            64.473684\n",
      "2  2000  10.2   6.8                            66.666667\n",
      "3  2005  13.0   8.7                            66.923077\n"
     ]
    }
   ],
   "source": [
    "# Oops, I wanted it in percentage\n",
    "\n",
    "data['cons_share'] = data['cons_share']*100\n",
    "print(data)\n",
    "\n",
    "data.rename(columns={\"cons_share\":\"Consumption percentage share of gdp\"}, inplace=True)\n",
    "print(data)"
   ]
  },
  {
   "cell_type": "markdown",
   "metadata": {},
   "source": [
    "The +,-,/,* operators all work element wise. As we have seen, multiplying and dividing by scaler works fine, too."
   ]
  },
  {
   "cell_type": "markdown",
   "metadata": {},
   "source": [
    "### DataFrame methods for simple operations\n",
    "DataFrame has many methods for computing various statistics on the data. Note that some of them take an axis argument: you could compute `sum()` across a row or a column."
   ]
  },
  {
   "cell_type": "code",
   "execution_count": 208,
   "metadata": {},
   "outputs": [
    {
     "name": "stdout",
     "output_type": "stream",
     "text": [
      "Sum across columns\n",
      "0    2064.106780\n",
      "1    2071.973684\n",
      "2    2083.666667\n",
      "3    2093.623077\n",
      "dtype: float64\n",
      "\n",
      "Sum across rows\n",
      "year                                   7990.000000\n",
      "gdp                                      36.700000\n",
      "cons                                     24.200000\n",
      "Consumption percentage share of gdp     262.470207\n",
      "dtype: float64\n",
      "\n",
      "Sum up gdp\n",
      "36.7\n",
      "\n",
      "Mean of each column\n",
      "year                                   1997.500000\n",
      "gdp                                       9.175000\n",
      "cons                                      6.050000\n",
      "Consumption percentage share of gdp      65.617552\n",
      "dtype: float64\n",
      "\n",
      "Mean gdp and cons\n",
      "gdp     9.175\n",
      "cons    6.050\n",
      "dtype: float64\n"
     ]
    }
   ],
   "source": [
    "# Sums \n",
    "print('Sum across columns')\n",
    "print(data.sum(axis=1)) # summing across columns. Not terribly useful here.\n",
    "\n",
    "print('\\nSum across rows')\n",
    "print(data.sum(axis=0)) # summing across columns. Cumulative GDP, consumption\n",
    "\n",
    "print('\\nSum up gdp')\n",
    "print(data['gdp'].sum(axis=0)) # Sum a single column.\n",
    "\n",
    "# Means\n",
    "print('\\nMean of each column')\n",
    "print(data.mean(axis=0)) \n",
    "\n",
    "print('\\nMean gdp and cons')\n",
    "print(data[['gdp', 'cons']].mean(axis=0))\n"
   ]
  },
  {
   "cell_type": "markdown",
   "metadata": {},
   "source": [
    "Try TAB completion to see the mthods available or the [documentation](https://pandas.pydata.org/pandas-docs/stable/generated/pandas.DataFrame.html).\n",
    "\n",
    "Here are a few: sum, mean, var, std, skew, rank, quantile, mode, min, max, kurtosis, cumsum, cumprod...\n",
    "\n",
    "These will be even more powerful once we learn how to group data within a DataFrame and compute statistics by group.\n",
    "\n",
    "One very useful one..."
   ]
  },
  {
   "cell_type": "code",
   "execution_count": 209,
   "metadata": {},
   "outputs": [
    {
     "name": "stdout",
     "output_type": "stream",
     "text": [
      "              year       gdp      cons  Consumption percentage share of gdp\n",
      "count     4.000000   4.00000  4.000000                             4.000000\n",
      "mean   1997.500000   9.17500  6.050000                            65.617552\n",
      "std       6.454972   3.10309  2.157931                             1.363750\n",
      "min    1990.000000   5.90000  3.800000                            64.406780\n",
      "25%    1993.750000   7.17500  4.625000                            64.456958\n",
      "50%    1997.500000   8.90000  5.850000                            65.570175\n",
      "75%    2001.250000  10.90000  7.275000                            66.730769\n",
      "max    2005.000000  13.00000  8.700000                            66.923077\n"
     ]
    },
    {
     "data": {
      "text/html": [
       "<div>\n",
       "<style scoped>\n",
       "    .dataframe tbody tr th:only-of-type {\n",
       "        vertical-align: middle;\n",
       "    }\n",
       "\n",
       "    .dataframe tbody tr th {\n",
       "        vertical-align: top;\n",
       "    }\n",
       "\n",
       "    .dataframe thead th {\n",
       "        text-align: right;\n",
       "    }\n",
       "</style>\n",
       "<table border=\"1\" class=\"dataframe\">\n",
       "  <thead>\n",
       "    <tr style=\"text-align: right;\">\n",
       "      <th></th>\n",
       "      <th>year</th>\n",
       "      <th>gdp</th>\n",
       "      <th>cons</th>\n",
       "      <th>Consumption percentage share of gdp</th>\n",
       "    </tr>\n",
       "  </thead>\n",
       "  <tbody>\n",
       "    <tr>\n",
       "      <th>0</th>\n",
       "      <td>1990</td>\n",
       "      <td>5.9</td>\n",
       "      <td>3.8</td>\n",
       "      <td>64.406780</td>\n",
       "    </tr>\n",
       "    <tr>\n",
       "      <th>1</th>\n",
       "      <td>1995</td>\n",
       "      <td>7.6</td>\n",
       "      <td>4.9</td>\n",
       "      <td>64.473684</td>\n",
       "    </tr>\n",
       "    <tr>\n",
       "      <th>2</th>\n",
       "      <td>2000</td>\n",
       "      <td>10.2</td>\n",
       "      <td>6.8</td>\n",
       "      <td>66.666667</td>\n",
       "    </tr>\n",
       "    <tr>\n",
       "      <th>3</th>\n",
       "      <td>2005</td>\n",
       "      <td>13.0</td>\n",
       "      <td>8.7</td>\n",
       "      <td>66.923077</td>\n",
       "    </tr>\n",
       "  </tbody>\n",
       "</table>\n",
       "</div>"
      ],
      "text/plain": [
       "   year   gdp  cons  Consumption percentage share of gdp\n",
       "0  1990   5.9   3.8                            64.406780\n",
       "1  1995   7.6   4.9                            64.473684\n",
       "2  2000  10.2   6.8                            66.666667\n",
       "3  2005  13.0   8.7                            66.923077"
      ]
     },
     "execution_count": 209,
     "metadata": {},
     "output_type": "execute_result"
    }
   ],
   "source": [
    "print(data.describe())   # a good place to start with a new data set\n",
    "data\n"
   ]
  },
  {
   "cell_type": "markdown",
   "metadata": {},
   "source": [
    "### Practice: DataFrames\n",
    "Take a few minutes and try the following. Feel free to chat with those around you if you get stuck. The TA and I are here, too. \n",
    "\n",
    "1. Compute the mean of the consumption share for 1990 and 1995. You might try using `loc[]` with two arguments `loc[rows, cols]`"
   ]
  },
  {
   "cell_type": "code",
   "execution_count": 210,
   "metadata": {},
   "outputs": [
    {
     "data": {
      "text/plain": [
       "64.44023193577164"
      ]
     },
     "execution_count": 210,
     "metadata": {},
     "output_type": "execute_result"
    }
   ],
   "source": [
    "data2 = data.loc[[1990, 1995], \"Consumption percentage share of gdp\"]\n",
    "data2.mean(axis=0)"
   ]
  },
  {
   "cell_type": "markdown",
   "metadata": {},
   "source": [
    "2. Try `desc = data.describe()` What is the return type?"
   ]
  },
  {
   "cell_type": "code",
   "execution_count": 211,
   "metadata": {},
   "outputs": [
    {
     "name": "stdout",
     "output_type": "stream",
     "text": [
      "<class 'pandas.core.frame.DataFrame'>\n"
     ]
    }
   ],
   "source": [
    "desc = data.describe()\n",
    "print(type(desc))"
   ]
  },
  {
   "cell_type": "markdown",
   "metadata": {},
   "source": [
    "3. Looking ahead, try out the following code. What does it do? Can you find the file? What is inside of it?"
   ]
  },
  {
   "cell_type": "code",
   "execution_count": 212,
   "metadata": {},
   "outputs": [],
   "source": [
    "import openpyxl\n",
    "\n",
    "desc.to_csv('desc.csv')\n",
    "desc.to_excel('desc.xlsx')"
   ]
  },
  {
   "cell_type": "code",
   "execution_count": null,
   "metadata": {},
   "outputs": [],
   "source": []
  }
 ],
 "metadata": {
  "celltoolbar": "Attachments",
  "kernelspec": {
   "display_name": "Python 3",
   "language": "python",
   "name": "python3"
  },
  "language_info": {
   "codemirror_mode": {
    "name": "ipython",
    "version": 3
   },
   "file_extension": ".py",
   "mimetype": "text/x-python",
   "name": "python",
   "nbconvert_exporter": "python",
   "pygments_lexer": "ipython3",
   "version": "3.7.0"
  }
 },
 "nbformat": 4,
 "nbformat_minor": 2
}
