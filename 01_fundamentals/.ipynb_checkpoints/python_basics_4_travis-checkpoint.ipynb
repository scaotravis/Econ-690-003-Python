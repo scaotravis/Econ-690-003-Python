{
 "cells": [
  {
   "cell_type": "markdown",
   "metadata": {},
   "source": [
    "## Python basics: Part 4\n",
    "Before we can start working with data, we need to work out some of the basics of Python. The goal is to learn enough so that we can do some interesting data work --- we do not need to be Python Jedi. \n",
    "\n",
    "We now know about the basic data structures in python, how types work, and how to do some basic computation and string manipulation. We can use flow control statements to steer our program to different blocks of code depending on conditional statements and we have sorted out loops and list comprehensions. \n",
    "\n",
    "Up next is a few more important topics before we get started with pandas. We will cover\n",
    "1. Slicing\n",
    "2. User defined functions\n",
    "3. Objects and TAB completion\n",
    "\n"
   ]
  },
  {
   "cell_type": "markdown",
   "metadata": {},
   "source": [
    "## Slicing\n",
    "Slicing is an important part of python life. We slice a list (or a tuple or a string) when we take a subset of it. As you can probably imagine, slicing will be a common thing we do with data in pandas. We often want to grab slices of the data set and analyze them. \n",
    "\n",
    "The slice syntax uses square brackets --- even if we are slicing a string or a tuple. The basic command is \n",
    "\n",
    "```python\n",
    "some_list[start:stop:stride]\n",
    "```\n",
    "* `start` is the first element to include in the slice\n",
    "* `stop` is the first element we do NOT include\n",
    "* `stride` is the step size\n",
    "\n",
    "Notice that the start is inclusive and the stop is exclusive. Think of a slice as an half open interval in mathematics: \\[start, stop) we include start in the interval but exclude stop. \n",
    "\n",
    "The default stride is 1, meaning take every element from [start, stop).\n"
   ]
  },
  {
   "cell_type": "code",
   "execution_count": 1,
   "metadata": {},
   "outputs": [
    {
     "name": "stdout",
     "output_type": "stream",
     "text": [
      "[5, 6]\n",
      "[5, 6]\n",
      "[5, 7, 9]\n"
     ]
    }
   ],
   "source": [
    "some_list = [5, 6, 7, 8, 9]\n",
    "\n",
    "print(some_list[0:2])   # indexes start with zero; stride defualts to 1\n",
    "print(some_list[0:2:1]) # this should be the same\n",
    "print(some_list[0:5:2]) # take every other element"
   ]
  },
  {
   "cell_type": "code",
   "execution_count": 2,
   "metadata": {},
   "outputs": [
    {
     "name": "stdout",
     "output_type": "stream",
     "text": [
      "[6, 7]\n"
     ]
    }
   ],
   "source": [
    "# take a slice out of the middle\n",
    "print(some_list[1:3])     #take the second element and the third element"
   ]
  },
  {
   "cell_type": "markdown",
   "metadata": {},
   "source": [
    "If we want to take a start and then 'everything to the end' we just leave the second argument blank. A similar sytax for taking everything from the beginning to a stop."
   ]
  },
  {
   "cell_type": "code",
   "execution_count": 3,
   "metadata": {},
   "outputs": [
    {
     "name": "stdout",
     "output_type": "stream",
     "text": [
      "[7, 8, 9]\n",
      "[5, 6, 7, 8]\n"
     ]
    }
   ],
   "source": [
    "print(some_list[2:])     # the third element to the end of the list\n",
    "print(some_list[:4])     # everything up to but not including the fifth element"
   ]
  },
  {
   "cell_type": "markdown",
   "metadata": {},
   "source": [
    "One nice thing about this half open interval syntax is that we can divide up a list very neatly:"
   ]
  },
  {
   "cell_type": "code",
   "execution_count": 4,
   "metadata": {},
   "outputs": [
    {
     "name": "stdout",
     "output_type": "stream",
     "text": [
      "[5, 6, 7] [8, 9] [5, 6, 7, 8, 9]\n"
     ]
    }
   ],
   "source": [
    "first_part = some_list[:3]\n",
    "second_part = some_list[3:]\n",
    "print(first_part, second_part, some_list)"
   ]
  },
  {
   "cell_type": "markdown",
   "metadata": {},
   "source": [
    "Slice arguements can be negative. When we use a negative number for start or stop, we are telling python to count from the end of the list. "
   ]
  },
  {
   "cell_type": "code",
   "execution_count": 5,
   "metadata": {},
   "outputs": [
    {
     "name": "stdout",
     "output_type": "stream",
     "text": [
      "[5, 6, 7, 8]\n",
      "[5, 6, 7]\n",
      "[6, 7]\n"
     ]
    }
   ],
   "source": [
    "print(some_list[:-1])    # all but the last one\n",
    "print(some_list[:-2])    # all but the last two\n",
    "print(some_list[-4:-2])    # ugh \n"
   ]
  },
  {
   "cell_type": "markdown",
   "metadata": {},
   "source": [
    "If we use a negative number for the stride arguement, we iterate backwards. "
   ]
  },
  {
   "cell_type": "code",
   "execution_count": 6,
   "metadata": {},
   "outputs": [
    {
     "name": "stdout",
     "output_type": "stream",
     "text": [
      "[9, 8, 7, 6, 5]\n",
      "[9, 8, 7]\n"
     ]
    }
   ],
   "source": [
    "print(some_list[::-1])   # print the list out backwards\n",
    "print(some_list[4:1:-1]) # we are counting backwards, so be careful about start and stop\n"
   ]
  },
  {
   "cell_type": "code",
   "execution_count": 8,
   "metadata": {},
   "outputs": [
    {
     "name": "stdout",
     "output_type": "stream",
     "text": [
      "on\n",
      "drawno\n"
     ]
    }
   ],
   "source": [
    "# don't forget, we can do this with strings, too\n",
    "slogan = 'onward'\n",
    "print(slogan[:2])       # just print 'on'\n",
    "print(slogan[::-1])     # backwards"
   ]
  },
  {
   "cell_type": "markdown",
   "metadata": {},
   "source": [
    "### Practice: Slices\n",
    "Take a few minutes and try the following. Feel free to chat with those around you if you get stuck. The TA and I are here, too\n",
    "\n",
    "1. Create the variable `boss = 'Ananath Seshadri'`\n",
    "2. Slice `boss` to create the variables `first_name` and `second_name`\n",
    "3. Redo question two to create `first_name_neg` and `last_name_neg` by slicing `boss` using the negative number notation that counts from the end of the list."
   ]
  },
  {
   "cell_type": "code",
   "execution_count": 16,
   "metadata": {},
   "outputs": [
    {
     "name": "stdout",
     "output_type": "stream",
     "text": [
      "Ananath Seshadri\n",
      "Ananath Seshadri\n"
     ]
    }
   ],
   "source": [
    "boss = 'Ananath Seshadri'\n",
    "first_name = boss[0:7]\n",
    "second_name = boss[8:]\n",
    "print(first_name, second_name)\n",
    "\n",
    "first_name_neg = boss[:-9]\n",
    "second_name_neg = boss[-8:]\n",
    "print(first_name_neg, second_name_neg)"
   ]
  },
  {
   "cell_type": "markdown",
   "metadata": {},
   "source": [
    "Consider this list of sorted data. \n",
    "\n",
    "`x_sorted = [10, 40, 100, 1000, 50000]`\n",
    "\n",
    "1. Print out the 3 largest elements\n",
    "2. Print out the two smallest elements"
   ]
  },
  {
   "cell_type": "code",
   "execution_count": 18,
   "metadata": {},
   "outputs": [
    {
     "name": "stdout",
     "output_type": "stream",
     "text": [
      "[100, 1000, 50000]\n",
      "[10, 40]\n"
     ]
    }
   ],
   "source": [
    "x_sorted = [10, 40, 100, 1000, 50000]\n",
    "print(x_sorted[2:])\n",
    "print(x_sorted[:2])"
   ]
  },
  {
   "cell_type": "markdown",
   "metadata": {},
   "source": [
    "## User defined functions\n",
    "We have seen some of python's built-in functions: `print()`, `type`, and `len()`. Like many other langauges, python allows users to create their own functions. \n",
    "\n",
    "Using functions lets us (or someone else) write and debug the code once --- then we can reuse it. Very powerful stuff. Here is a simple example:"
   ]
  },
  {
   "cell_type": "code",
   "execution_count": 19,
   "metadata": {},
   "outputs": [],
   "source": [
    "def lb_to_kg(pounds):\n",
    "    \"\"\"\n",
    "    Input a weight in pounds. Return the weight in kilograms.\n",
    "    \"\"\"\n",
    "    \n",
    "    kilos = pounds * 0.453592                  # 1 pound = 0.453592 kilos...\n",
    "    \n",
    "    return kilos                               # this is the value the function returns\n",
    "    \n",
    "    "
   ]
  },
  {
   "cell_type": "markdown",
   "metadata": {},
   "source": [
    "When you run the cell above, it looks like nothing happened, but python read the code and created the function. We can use the `whos` statement (a jupyter notebook 'magic' command) to learn about what objects are in the namespace. \\[A namespace is a list of all the objects we have created and the names we have assigned them.\\]"
   ]
  },
  {
   "cell_type": "code",
   "execution_count": 20,
   "metadata": {},
   "outputs": [
    {
     "name": "stdout",
     "output_type": "stream",
     "text": [
      "Variable          Type        Data/Info\n",
      "---------------------------------------\n",
      "boss              str         Ananath Seshadri\n",
      "first_name        str         Ananath\n",
      "first_name_neg    str         Ananath\n",
      "first_part        list        n=3\n",
      "lb_to_kg          function    <function lb_to_kg at 0x1097212f0>\n",
      "second_name       str         Seshadri\n",
      "second_name_neg   str         Seshadri\n",
      "second_part       list        n=2\n",
      "slogan            str         onward\n",
      "some_list         list        n=5\n",
      "x_sorted          list        n=5\n"
     ]
    }
   ],
   "source": [
    "whos"
   ]
  },
  {
   "cell_type": "markdown",
   "metadata": {},
   "source": [
    "We can see the variables we have created earlier as well as the function `lb_to_kg`. Notice functions are of type `function`. Just like any other variable, `lb_to_kg` is loaded into the namespace. \n",
    "\n",
    "Now that our function is defined, we are ready to use it. "
   ]
  },
  {
   "cell_type": "code",
   "execution_count": 21,
   "metadata": {},
   "outputs": [
    {
     "name": "stdout",
     "output_type": "stream",
     "text": [
      "The car weighs 2267.96 kilos.\n"
     ]
    }
   ],
   "source": [
    "car_weight_pounds = 5000\n",
    "car_weight_kilos = lb_to_kg(car_weight_pounds)\n",
    "print('The car weighs', car_weight_kilos, 'kilos.')"
   ]
  },
  {
   "cell_type": "markdown",
   "metadata": {},
   "source": [
    "Since it is our function, we have handle potentially bad inputs, or python will throw an error. "
   ]
  },
  {
   "cell_type": "code",
   "execution_count": 22,
   "metadata": {},
   "outputs": [
    {
     "ename": "TypeError",
     "evalue": "can't multiply sequence by non-int of type 'float'",
     "output_type": "error",
     "traceback": [
      "\u001b[0;31m---------------------------------------------------------------------------\u001b[0m",
      "\u001b[0;31mTypeError\u001b[0m                                 Traceback (most recent call last)",
      "\u001b[0;32m<ipython-input-22-9c89ca36b345>\u001b[0m in \u001b[0;36m<module>\u001b[0;34m()\u001b[0m\n\u001b[1;32m      1\u001b[0m \u001b[0mtruck_weight_pounds\u001b[0m \u001b[0;34m=\u001b[0m \u001b[0;34m'5000'\u001b[0m       \u001b[0;31m#A classic problem with real data\u001b[0m\u001b[0;34m\u001b[0m\u001b[0m\n\u001b[0;32m----> 2\u001b[0;31m \u001b[0mtruck_weight_kilos\u001b[0m \u001b[0;34m=\u001b[0m \u001b[0mlb_to_kg\u001b[0m\u001b[0;34m(\u001b[0m\u001b[0mtruck_weight_pounds\u001b[0m\u001b[0;34m)\u001b[0m\u001b[0;34m\u001b[0m\u001b[0m\n\u001b[0m\u001b[1;32m      3\u001b[0m \u001b[0mprint\u001b[0m\u001b[0;34m(\u001b[0m\u001b[0;34m'The truck weighs'\u001b[0m\u001b[0;34m,\u001b[0m \u001b[0mtruck_weight_kilos\u001b[0m\u001b[0;34m,\u001b[0m \u001b[0;34m'kilos.'\u001b[0m\u001b[0;34m)\u001b[0m\u001b[0;34m\u001b[0m\u001b[0m\n",
      "\u001b[0;32m<ipython-input-19-e046052c2859>\u001b[0m in \u001b[0;36mlb_to_kg\u001b[0;34m(pounds)\u001b[0m\n\u001b[1;32m      4\u001b[0m     \"\"\"\n\u001b[1;32m      5\u001b[0m \u001b[0;34m\u001b[0m\u001b[0m\n\u001b[0;32m----> 6\u001b[0;31m     \u001b[0mkilos\u001b[0m \u001b[0;34m=\u001b[0m \u001b[0mpounds\u001b[0m \u001b[0;34m*\u001b[0m \u001b[0;36m0.453592\u001b[0m                  \u001b[0;31m# 1 pound = 0.453592 kilos...\u001b[0m\u001b[0;34m\u001b[0m\u001b[0m\n\u001b[0m\u001b[1;32m      7\u001b[0m \u001b[0;34m\u001b[0m\u001b[0m\n\u001b[1;32m      8\u001b[0m     \u001b[0;32mreturn\u001b[0m \u001b[0mkilos\u001b[0m                               \u001b[0;31m# this is the value the function returns\u001b[0m\u001b[0;34m\u001b[0m\u001b[0m\n",
      "\u001b[0;31mTypeError\u001b[0m: can't multiply sequence by non-int of type 'float'"
     ]
    }
   ],
   "source": [
    "truck_weight_pounds = '5000'       #A classic problem with real data\n",
    "truck_weight_kilos = lb_to_kg(truck_weight_pounds)\n",
    "print('The truck weighs', truck_weight_kilos, 'kilos.')"
   ]
  },
  {
   "cell_type": "code",
   "execution_count": 23,
   "metadata": {},
   "outputs": [],
   "source": [
    "def lb_to_kg_v2(pounds):\n",
    "    \"\"\"\n",
    "    Input a weight in pounds. Return the weight in kilograms.\n",
    "    \"\"\"\n",
    "    \n",
    "    if type(pounds)=='float' or type(pounds)=='int':   #check that pounds is an allowable type\n",
    "        kilos = pounds * 0.453592                  # 1 pound = 0.453592 kilos...\n",
    "        return kilos                               # this is the value the function returns\n",
    "    else:\n",
    "        print('error: lb_to_kg_v2 only takes integers or floats.')\n",
    "        return -99"
   ]
  },
  {
   "cell_type": "code",
   "execution_count": 24,
   "metadata": {},
   "outputs": [
    {
     "name": "stdout",
     "output_type": "stream",
     "text": [
      "error: lb_to_kg_v2 only takes integers or floats.\n",
      "The truck weighs -99 kilos.\n"
     ]
    }
   ],
   "source": [
    "truck_weight_pounds = '5000'       #A classic problem with real data\n",
    "truck_weight_kilos = lb_to_kg_v2(truck_weight_pounds)\n",
    "print('The truck weighs', truck_weight_kilos, 'kilos.')"
   ]
  },
  {
   "cell_type": "markdown",
   "metadata": {},
   "source": [
    "How much time you spend writing code that is safe from errors is a tradeoff between your time and how robust your code needs to be. Life is all about tradeoffs. \n",
    "\n",
    "We can have functions with several input variables:"
   ]
  },
  {
   "cell_type": "code",
   "execution_count": 25,
   "metadata": {},
   "outputs": [],
   "source": [
    "def name_fixer(first, middle, last):\n",
    "    \"\"\"\n",
    "    Fix any capitalization problems and create a single variable with the complete name.\n",
    "    \"\"\"\n",
    "    return first.title() + ' ' + middle.title() + ' ' + last.title()           # the sting method title() makes the fist letter capital"
   ]
  },
  {
   "cell_type": "code",
   "execution_count": 26,
   "metadata": {},
   "outputs": [
    {
     "name": "stdout",
     "output_type": "stream",
     "text": [
      "Buckingham U Badger\n"
     ]
    }
   ],
   "source": [
    "mascot_first = 'bucKingham'\n",
    "mascot_middle = 'u'\n",
    "mascot_last = 'badger'\n",
    "\n",
    "full_name = name_fixer(mascot_first, mascot_middle, mascot_last)\n",
    "print(full_name)"
   ]
  },
  {
   "cell_type": "markdown",
   "metadata": {},
   "source": [
    "**Important:** We can also asign several return variables. This is called multiple assignment. First, let's look at multiple assingment outside of a function, then we use it in a function.  "
   ]
  },
  {
   "cell_type": "code",
   "execution_count": 27,
   "metadata": {},
   "outputs": [
    {
     "name": "stdout",
     "output_type": "stream",
     "text": [
      "foo 10\n"
     ]
    }
   ],
   "source": [
    "# this is an example of multiple assignment. \n",
    "a, b = 'foo', 10            #assign 'foo' to a and 10 to b...all in one statement\n",
    "print(a, b)"
   ]
  },
  {
   "cell_type": "markdown",
   "metadata": {},
   "source": [
    "Back on day one, we worked on the problem of\n",
    "4. In a code cell, set `m=2` and `n=3`. Write some code that swaps the values of `m` and `n`.\n",
    "\n",
    "Back then, we created a temp variable to help us make the swap. Now that we have some python under our belts we can just do this:"
   ]
  },
  {
   "cell_type": "code",
   "execution_count": 28,
   "metadata": {},
   "outputs": [
    {
     "name": "stdout",
     "output_type": "stream",
     "text": [
      "m= 2 n= 3\n",
      "m= 3 n= 2\n"
     ]
    }
   ],
   "source": [
    "m = 2\n",
    "n = 3  #I could have used multiple assignment here, too, but didn't\n",
    "print('m=', m, 'n=', n)\n",
    "\n",
    "m, n = n, m                  # make the swap\n",
    "print('m=', m, 'n=', n)"
   ]
  },
  {
   "cell_type": "markdown",
   "metadata": {},
   "source": [
    "Multiple assignment let's us return several objects from a function. "
   ]
  },
  {
   "cell_type": "code",
   "execution_count": 29,
   "metadata": {},
   "outputs": [
    {
     "name": "stdout",
     "output_type": "stream",
     "text": [
      "65 degrees fahrenheit is 18.333333333333332 degrees celsius and 291.48333333333335 degrees kelvin.\n"
     ]
    }
   ],
   "source": [
    "def temp_converter(temp_in_fahrenheit):\n",
    "    \"\"\"\n",
    "    Takes a temperature in fahrenheit and returns it in celsius and in kelvin.\n",
    "    \"\"\"\n",
    "    temp_in_celsius = (temp_in_fahrenheit - 32) * 5/9\n",
    "    temp_in_kelvin = (temp_in_fahrenheit + 459.67) *5/9\n",
    "    return temp_in_celsius, temp_in_kelvin\n",
    "\n",
    "\n",
    "# Note that I am defining the function and using it in the same code cell. \n",
    "# The code below is NOT part of the function definition. We can see that because it is not indented. \n",
    "\n",
    "t_f = 65        #temp in \n",
    "t_c, t_k = temp_converter(t_f)\n",
    "print(t_f, 'degrees fahrenheit', 'is', t_c, 'degrees celsius and', t_k, 'degrees kelvin.')\n",
    "    "
   ]
  },
  {
   "cell_type": "markdown",
   "metadata": {},
   "source": [
    "We need to work on our string formatting at some point..."
   ]
  },
  {
   "cell_type": "markdown",
   "metadata": {},
   "source": [
    "### Practice: Functions\n",
    "Take a few minutes and try the following. Feel free to chat with those around you if you get stuck. The TA and I are here, too.\n",
    "\n",
    "1. Write a change counting function. Pass the function the number of pennies, nickels, dimes, and quarters, and return the value of the coins. Test it with 5 pennies, 4 dimes, 2 quarters. \n",
    "2. Modify the `name_fixer()` function to return both the fixed-up full name and the length of the full name. Use multiple assignment. \n",
    "3. The `split(delim)` string method breaks up a string into sub-strings. The arguement `delim` defines the delimiting character. For example \n",
    "\n",
    "\n"
   ]
  },
  {
   "cell_type": "code",
   "execution_count": 38,
   "metadata": {},
   "outputs": [
    {
     "name": "stdout",
     "output_type": "stream",
     "text": [
      "The value of 5 pennies, 4 dimes, 2 quarters is 0.95\n",
      "mascot name is Buckingham U Badger \n",
      "mascot name length is 19\n"
     ]
    }
   ],
   "source": [
    "# Question 1\n",
    "def change_counting(pennies = 0, nickels = 0, dimes = 0, quarters = 0): \n",
    "    \"\"\"\n",
    "    Read the number of pennies, nickels, dimes, and quarters, and return the value of the coins. \n",
    "    \"\"\"\n",
    "    value = pennies * .01 + nickels * .05 + dimes * .1 + quarters * .25\n",
    "    return value\n",
    "\n",
    "print(\"The value of 5 pennies, 4 dimes, 2 quarters is\", change_counting(pennies = 5, dimes = 4, quarters = 2))\n",
    "\n",
    "# Question 2\n",
    "def name_fixer_v2(first, middle, last): \n",
    "    fixed_name = name_fixer(first, middle, last)\n",
    "    return fixed_name, len(fixed_name)\n",
    "\n",
    "mascot_name, mascot_name_length = name_fixer_v2(mascot_first, mascot_middle, mascot_last)\n",
    "print(\"mascot name is\", mascot_name, \"\\nmascot name length is\", mascot_name_length)"
   ]
  },
  {
   "cell_type": "code",
   "execution_count": 39,
   "metadata": {},
   "outputs": [
    {
     "name": "stdout",
     "output_type": "stream",
     "text": [
      "<class 'list'>\n",
      "['There', 'is', 'a', 'place', 'where', 'the', 'sidewalk', 'ends']\n"
     ]
    }
   ],
   "source": [
    "test_string = 'There is a place where the sidewalk ends'\n",
    "test_spring_chunks = test_string.split(' ')        #use the space as the delimiter\n",
    "print(type(test_spring_chunks))\n",
    "print(test_spring_chunks)"
   ]
  },
  {
   "cell_type": "markdown",
   "metadata": {},
   "source": [
    "Write a function that takes names of the form 'last,first,middle' and returns three strings: first, middle, and last. Test your function with  'Silverstein,Sheldon,Allan'. "
   ]
  },
  {
   "cell_type": "code",
   "execution_count": 41,
   "metadata": {},
   "outputs": [
    {
     "name": "stdout",
     "output_type": "stream",
     "text": [
      "First name is Silverstein \n",
      "Middle name is Sheldon \n",
      "Last name is Allan\n"
     ]
    }
   ],
   "source": [
    "def name_to_string(name): \n",
    "    \"\"\"\n",
    "    Take names of the form 'last,first,middle' and returns three strings: first, middle, and last\n",
    "    \"\"\"\n",
    "    name_list = name.split(\",\")\n",
    "    return name_list[0], name_list[1], name_list[2]\n",
    "\n",
    "first, middle, last = name_to_string('Silverstein,Sheldon,Allan')\n",
    "print(\"First name is\", first, \"\\nMiddle name is\", middle, \"\\nLast name is\", last)"
   ]
  },
  {
   "cell_type": "markdown",
   "metadata": {},
   "source": [
    "## Objects and TAB completion\n",
    "Like c++ or javascript, python is an object-oriented language. This is a topic that a computer science course could devote weeks to, but our goal is understand objects enough to use them well.\n",
    "\n",
    "Everything in python is an object. The variables we have been creating are objects. The functions we have written are objects. Objects are useful because they have *attributes* and *methods* associated with them. What attributes and methods an object has depends on the object's type. Let's take lists for example. \n",
    "\n",
    "```python\n",
    "list_1 = ['a', 'b', 'c']\n",
    "list_2 = [4, 5, 6, 7, 8]\n",
    "```\n",
    "\n",
    "Both lists are objects and both have type `list`, but their attributes are different. For example list length is an attribute: list_1 is of length 3, while list_2 is of length 5. \n",
    "\n",
    "**Methods** are like functions that are attached to an object. Different types of objects have different methods available. Methods implement operations that we often use with a particular data type. We access methods with the 'dot' notation. \n",
    "```python\n",
    "list_1.method()\n",
    "```\n",
    "where `method()` is a method associated with the list type. We have been using the `lower()`, `upper()`, and `title()` methods of the string class already. "
   ]
  },
  {
   "cell_type": "code",
   "execution_count": 42,
   "metadata": {},
   "outputs": [
    {
     "name": "stdout",
     "output_type": "stream",
     "text": [
      "['a', 'c', 'b']\n"
     ]
    }
   ],
   "source": [
    "list_1 = ['a', 'c', 'b']\n",
    "print(list_1)"
   ]
  },
  {
   "cell_type": "code",
   "execution_count": 43,
   "metadata": {},
   "outputs": [
    {
     "name": "stdout",
     "output_type": "stream",
     "text": [
      "['a', 'b', 'c']\n"
     ]
    }
   ],
   "source": [
    "list_1.sort()        # the sort() method form the 'list' type\n",
    "\n",
    "print(list_1)\n"
   ]
  },
  {
   "cell_type": "markdown",
   "metadata": {},
   "source": [
    "How do we find out what methods are available for an object? Google is always a good way. \n",
    "\n",
    "**Important:** We can also use *TAB completion* in jupyter. Type `list_1.` in the cell below and hit the TAB key."
   ]
  },
  {
   "cell_type": "code",
   "execution_count": null,
   "metadata": {},
   "outputs": [],
   "source": [
    "list_1.\n"
   ]
  },
  {
   "cell_type": "markdown",
   "metadata": {},
   "source": [
    "The TAB gives us a list of possible methods. We have already seen `append()`. `reverse()` looks interesting. Let's give it a try."
   ]
  },
  {
   "cell_type": "code",
   "execution_count": 44,
   "metadata": {},
   "outputs": [
    {
     "name": "stdout",
     "output_type": "stream",
     "text": [
      "['c', 'b', 'a']\n"
     ]
    }
   ],
   "source": [
    "list_1.reverse()\n",
    "print(list_1)\n"
   ]
  },
  {
   "cell_type": "markdown",
   "metadata": {},
   "source": [
    "TAB completion is also there to make it easier to reference variables in the namespace. Start typing `lis` and hit tab. It should bring up a list of variables in the namespace that start with 'lis'. This is handy: it saves typing and avoids errors from typos.  "
   ]
  },
  {
   "cell_type": "markdown",
   "metadata": {},
   "source": [
    "### Practice: Objects and TAB completion\n",
    "Take a few minutes and try the following. Feel free to chat with those around you if you get stuck. The TA and I are here, too.\n",
    "\n",
    "1. Suppose you have data `gdp = '18,570.50'`. Convert the variable to a float. Use TAB completion (and Google, if needed) to find a method that removes the comma. \n",
    "\n"
   ]
  },
  {
   "cell_type": "code",
   "execution_count": 53,
   "metadata": {},
   "outputs": [
    {
     "name": "stdout",
     "output_type": "stream",
     "text": [
      "18570.5 \n",
      " <class 'float'>\n"
     ]
    }
   ],
   "source": [
    "gdp = '18,570.50'\n",
    "gdp_float = float(gdp.replace(\",\", \"\"))\n",
    "print(gdp_float, \"\\n\", type(gdp_float))"
   ]
  },
  {
   "cell_type": "markdown",
   "metadata": {},
   "source": [
    "2. Sort the list below. \n",
    "3. Using TAB completion and the object inspector, insert `new_score` into the list in the correct position so that the list stays sorted.\n"
   ]
  },
  {
   "cell_type": "code",
   "execution_count": 60,
   "metadata": {},
   "outputs": [
    {
     "name": "stdout",
     "output_type": "stream",
     "text": [
      "[32, 39, 50, 75, 78, 99]\n",
      "[32, 39, 50, 75, 78, 85, 99]\n"
     ]
    }
   ],
   "source": [
    "scores = [50, 32, 78, 99, 39, 75]\n",
    "new_score = 85\n",
    "\n",
    "scores.sort()\n",
    "print(scores)\n",
    "scores.insert(5, new_score)\n",
    "scores.sort()\n",
    "print(scores)\n"
   ]
  },
  {
   "cell_type": "code",
   "execution_count": null,
   "metadata": {},
   "outputs": [],
   "source": []
  }
 ],
 "metadata": {
  "kernelspec": {
   "display_name": "Python 3",
   "language": "python",
   "name": "python3"
  },
  "language_info": {
   "codemirror_mode": {
    "name": "ipython",
    "version": 3
   },
   "file_extension": ".py",
   "mimetype": "text/x-python",
   "name": "python",
   "nbconvert_exporter": "python",
   "pygments_lexer": "ipython3",
   "version": "3.7.0"
  }
 },
 "nbformat": 4,
 "nbformat_minor": 2
}
