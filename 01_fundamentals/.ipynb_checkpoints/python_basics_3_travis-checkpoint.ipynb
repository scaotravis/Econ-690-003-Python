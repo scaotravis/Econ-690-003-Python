{
 "cells": [
  {
   "cell_type": "markdown",
   "metadata": {},
   "source": [
    "## Python basics: Part 3\n",
    "Before we can start working with data, we need to work out some of the basics of Python. The goal is to learn enough so that we can do some interesting data work --- we do not need to be Python Jedi. \n",
    "\n",
    "We now know about the basic data structures in python, how types work, and how to do some basic computation and string manipulation. What need next is *flow control*. \n",
    "\n",
    "A python program is a list of statements. The python interpretor reads thos statement from top to bottom and executes them. Dependin on what is happening in our program, we may want to skip some statements, or repeat some other statements. Flow control statements manage this process. \n",
    "\n",
    "In this notebook we will cover (the terms ordered and mutable will make sense by the time we are done here)\n",
    "1. [The bool type](#bool)\n",
    "2. [The if/else statement](#cond)\n",
    "3. [The for loop](#forloop)\n",
    "4. [List comprehensions](#listcomp)\n",
    "\n",
    "Remember: Ask questions as we go.\n",
    "\n",
    "<a id=\"bool\"></a>\n",
    "## Bool\n",
    "Flow control often requires asking whether a statement is true or false and then taking an action conditonal on the answer. For example: Is this data a string? If yes, convert to a float. If not, do nothing. \n",
    "\n",
    "The python type `bool` can take on two values: `True` or `False`. Let's see it in action."
   ]
  },
  {
   "cell_type": "code",
   "execution_count": 1,
   "metadata": {},
   "outputs": [
    {
     "name": "stdout",
     "output_type": "stream",
     "text": [
      "False\n",
      "<class 'bool'>\n"
     ]
    }
   ],
   "source": [
    "my_age = 40                # I am still old...\n",
    "is_a_minor = my_age < 18   # here compare age to see if it is less than 18\n",
    "print(is_a_minor)\n",
    "print(type(is_a_minor))"
   ]
  },
  {
   "cell_type": "markdown",
   "metadata": {},
   "source": [
    "The comparison operators we will often use are \n",
    "* `<` (less than)\n",
    "* `>` (greater than)\n",
    "* `<=` (less than or equal to)\n",
    "* `>=` (greater than or equal to)\n",
    "* `==` (equal)\n",
    "* `!=` (not equal)\n",
    "\n",
    "**Important:** We use a double equal sign `==` to check for equality and a single equal sign for assignment. "
   ]
  },
  {
   "cell_type": "code",
   "execution_count": 2,
   "metadata": {},
   "outputs": [
    {
     "name": "stdout",
     "output_type": "stream",
     "text": [
      "True\n"
     ]
    }
   ],
   "source": [
    "# a bit of code to see if the variable year is equal to the current year\n",
    "year = 2018\n",
    "is_current_year = (2018 == year)  # the parenthesis are not needed, but I like them for clarity\n",
    "print(is_current_year)"
   ]
  },
  {
   "cell_type": "markdown",
   "metadata": {},
   "source": [
    "Go back and change the third line to `is_current_year = (2018 = year) `. What happened? \n",
    "\n",
    "### More complicated comparisons\n",
    "We can build more complicated expressions using `and` and `or`.  For `and` all the sub-comparisons need to evaluate to `True` for the whole comparison to be `True`. For `or` only one of the sub-comparisons needs to be true for the whole comparison to be true.  "
   ]
  },
  {
   "cell_type": "code",
   "execution_count": 3,
   "metadata": {},
   "outputs": [
    {
     "name": "stdout",
     "output_type": "stream",
     "text": [
      "Is 2<3 and 1>0? True\n",
      "Is 2<3 and 1<0? False\n",
      "Is 2<3 or 1<0? True\n"
     ]
    }
   ],
   "source": [
    "x = (2 < 3) and (1 > 0)      # Both sub-comparions are true\n",
    "print('Is 2<3 and 1>0?', x)\n",
    "\n",
    "y = (2 < 3) and (1 < 0)      # Only one sub-comparison is true\n",
    "print('Is 2<3 and 1<0?', y)\n",
    "\n",
    "z = (2 < 3) or (1 < 0)       #only one sub-comparison is true\n",
    "print('Is 2<3 or 1<0?', z)\n"
   ]
  },
  {
   "cell_type": "markdown",
   "metadata": {},
   "source": [
    "### Comparing strings\n",
    "\n",
    "Given the nature of data, we might need to compare strings. Remember, progaming languages are picky..."
   ]
  },
  {
   "cell_type": "code",
   "execution_count": 4,
   "metadata": {},
   "outputs": [
    {
     "name": "stdout",
     "output_type": "stream",
     "text": [
      "False\n"
     ]
    }
   ],
   "source": [
    "gender = 'Male'\n",
    "\n",
    "is_male = ('male' == gender)\n",
    "print(is_male)"
   ]
  },
  {
   "cell_type": "markdown",
   "metadata": {},
   "source": [
    "Case matters. Luckily, python has lots of features to manipulate strings. We will learn some of these as we go along. In this case we use the `lower()` *method* of the string class to make the string all lower case. \n",
    "\n",
    "\n",
    "We are using the 'dot' notation again without really explaining it yet, but that explanation is comming. "
   ]
  },
  {
   "cell_type": "code",
   "execution_count": 5,
   "metadata": {},
   "outputs": [
    {
     "name": "stdout",
     "output_type": "stream",
     "text": [
      "gender, after being lowered: male\n",
      "male True\n",
      "male True\n"
     ]
    }
   ],
   "source": [
    "gender_lowcase = gender.lower()  # we are applying the lower() method to the variable gender\n",
    "print('gender, after being lowered:', gender_lowcase)\n",
    "\n",
    "is_male = 'male' == gender_lowcase  \n",
    "print(gender_lowcase, is_male)\n",
    "\n",
    "is_male = 'male' == gender.lower()  # you don't have to store the lowered string separately\n",
    "print(gender.lower(), is_male)"
   ]
  },
  {
   "cell_type": "markdown",
   "metadata": {},
   "source": [
    "## Conditional statements <a id=\"cond\"></a>\n",
    "Conditonal statements check a *condition statement*. If the statement is true it evaluates one set of code. If the statement is false it evaluates another set of code.\n",
    "\n",
    "**Important:** Earlier, I mentioned that white space doesn't matter around operators like `+` or `*` and that we can insert blank lines wherever we want. Here comes a caveat: When we form a conditional, we need **exactly four spaces** in the lines following the condition statement. The indents define the lines of code that are executed in each branch of the `if` statement."
   ]
  },
  {
   "cell_type": "code",
   "execution_count": 10,
   "metadata": {},
   "outputs": [
    {
     "name": "stdout",
     "output_type": "stream",
     "text": [
      "This print statement occured because the statement is false.\n",
      "The quantity is not positive.\n",
      "\n",
      "This un-indented code runs no matter what.\n"
     ]
    }
   ],
   "source": [
    "quantity = 0\n",
    "\n",
    "if quantity > 0: \n",
    "    print('This print statement occured because the statement is true.')  # this indented code is the 'if branch'\n",
    "    print('The quantity is positive.')\n",
    "    temp = quantity + 5\n",
    "    print('When I add 5 to the quantity it is:', temp, '\\n')\n",
    "else:\n",
    "    print('This print statement occured because the statement is false.')  # this indented code is the 'else branch'\n",
    "    print('The quantity is not positive.\\n')\n",
    "    \n",
    "\n",
    "print('This un-indented code runs no matter what.')"
   ]
  },
  {
   "cell_type": "markdown",
   "metadata": {},
   "source": [
    "1. Now go back to the code and change quantity to 0, or -10 and run the cell. What happens?  \n",
    "\n",
    "2. Now go back to the code and change the indentation of the first print statement after `if quantity > 0:` to be two spaces. Run the cell. What happened? "
   ]
  },
  {
   "cell_type": "code",
   "execution_count": 12,
   "metadata": {},
   "outputs": [
    {
     "name": "stdout",
     "output_type": "stream",
     "text": [
      "This un-indented code runs no matter what.\n"
     ]
    }
   ],
   "source": [
    "# the else is optional. \n",
    "\n",
    "size = 'xxl'\n",
    "if (size == 'sm') or (size == 'md') or (size == 'lg'):\n",
    "    print('A standard size was requested.\\n')\n",
    "    \n",
    "print('This un-indented code runs no matter what.')"
   ]
  },
  {
   "cell_type": "markdown",
   "metadata": {},
   "source": [
    "Change size to `'xxl'`. Run the cell. "
   ]
  },
  {
   "cell_type": "markdown",
   "metadata": {},
   "source": [
    "### Practice: Conditionals\n",
    "Take a few minutes and try the following. Feel free to chat with those around you if you get stuck. The TA and I are here, too.\n",
    "\n",
    "1. Edit this markdown cell and write True, False, or error next to each statement\n",
    "\n",
    "\n",
    "* `1 > 2` False\n",
    "* `'bill' = 'Bill'` Error\n",
    "* `(1 > 2) or (2*10 < 100)` True\n",
    "* `'Dennis' == 'Dennis'` True\n",
    "* \n",
    "```python\n",
    "x = 2\n",
    "0 < x < 5\n",
    "```\n",
    "True\n",
    "\n",
    "* \n",
    "```python\n",
    "x = 0.10\n",
    "y = 1/10\n",
    "x == y\n",
    "```\n",
    "True\n",
    "\n",
    "\n",
    "2. Before you run the code cell below: do you think it will be true or false?\n",
    "3. Run the code cell. \n"
   ]
  },
  {
   "cell_type": "code",
   "execution_count": 19,
   "metadata": {},
   "outputs": [
    {
     "name": "stdout",
     "output_type": "stream",
     "text": [
      "False\n",
      "True\n",
      "True\n",
      "True\n",
      "True\n"
     ]
    }
   ],
   "source": [
    "print(1 > 2)\n",
    "\n",
    "# print('bill' = \"Bill\")\n",
    "\n",
    "print((1 > 2) or (2*10 < 100))\n",
    "\n",
    "print('Dennis' == 'Dennis')\n",
    "\n",
    "x = 2\n",
    "print(0 < x < 5)\n",
    "\n",
    "x = 0.10\n",
    "y = 1/10\n",
    "print(x == y)"
   ]
  },
  {
   "cell_type": "code",
   "execution_count": 30,
   "metadata": {},
   "outputs": [
    {
     "name": "stdout",
     "output_type": "stream",
     "text": [
      "False\n",
      "True\n"
     ]
    }
   ],
   "source": [
    "x = 1/3\n",
    "y = 0.333333333333333       # This is an approximation of 1/3\n",
    "print(x == y)\n",
    "\n",
    "y = 0.3333333333333333\n",
    "print(x == y)"
   ]
  },
  {
   "cell_type": "markdown",
   "metadata": {},
   "source": [
    "In the previous cell, add a few more 3s to the end of the definition of `y` so you get a better approximation of `x`. Can you get `x==y` to be true? \n",
    "\n",
    "Representing a floating point number that does not have a base-2 fractional representation is a problem in all programing languages. It is a limitation of the computer hardware itself. The python documentation has a nice discussion. [https://docs.python.org/3.7/tutorial/floatingpoint.html](https://docs.python.org/3.7/tutorial/floatingpoint.html)\n",
    "\n",
    "This will not likely be an issue for us (although it could crop up) but it is a big deal in numeric computing.  "
   ]
  },
  {
   "cell_type": "markdown",
   "metadata": {},
   "source": [
    "4. Let's introduce a new function that is built into python: the `len()` function. This computes the length of an object. In the code cell below try `print(len('hello world'))`"
   ]
  },
  {
   "cell_type": "code",
   "execution_count": 31,
   "metadata": {},
   "outputs": [
    {
     "name": "stdout",
     "output_type": "stream",
     "text": [
      "11\n"
     ]
    }
   ],
   "source": [
    "print(len('hello world'))"
   ]
  },
  {
   "cell_type": "markdown",
   "metadata": {},
   "source": [
    "5. In the cell below, write some code (use an if statement) that prints out the longer string in all lower case letters and  prints out the shorter string in all upper case letters. \\[Hint: the companion to lower() is upper()\\]."
   ]
  },
  {
   "cell_type": "code",
   "execution_count": 36,
   "metadata": {},
   "outputs": [
    {
     "name": "stdout",
     "output_type": "stream",
     "text": [
      "memorial\n",
      "UNION\n"
     ]
    }
   ],
   "source": [
    "string1 = 'MemoriaL'\n",
    "string2 = 'unIon'\n",
    "\n",
    "if len(string1) > len(string2): \n",
    "    print(string1.lower())\n",
    "    print(string2.upper())\n",
    "else:\n",
    "    print(string2.lower())\n",
    "    print(string1.upper())"
   ]
  },
  {
   "cell_type": "markdown",
   "metadata": {},
   "source": [
    "<a id=\"forloop\"></a>\n",
    "## The for loop\n",
    "The conditional statement allows us to selectively run parts of our program. Loops allow us to re-run parts of our code several times, perhaps making some changes each time the code is run. There are several types of loops. The `for` loop runs a block of code 'for' a fixed number of times. \n",
    "\n",
    "Here is a basic example."
   ]
  },
  {
   "cell_type": "code",
   "execution_count": 35,
   "metadata": {
    "scrolled": true
   },
   "outputs": [
    {
     "name": "stdout",
     "output_type": "stream",
     "text": [
      "i = 0\n",
      "i = 1\n",
      "i = 2\n"
     ]
    }
   ],
   "source": [
    "# loop three times and print out the value of 'i'\n",
    "for i in range(3):       # The counter variable 'i' can be named anything. \n",
    "    print('i =', i )"
   ]
  },
  {
   "cell_type": "markdown",
   "metadata": {},
   "source": [
    "**Important:** Notice the 4-space indent again. In general, the colon tells us that the indented lines below 'belong' to the line of code with the colon."
   ]
  },
  {
   "cell_type": "markdown",
   "metadata": {},
   "source": [
    "### Ranges\n",
    "The function `range()` creates a sequence of whole numbers. With a single arguement, it starts at zero, but it can do more. Examples:\n",
    "* `range(3)` returns 0, 1, 2\n",
    "* `range(2,7)` returns 2, 3, 4, 5, 6\n",
    "* `range(0, 10, 2)`  returns 0, 2, 4, 6, 8 \\[the third argument is the 'step' size\\]\n",
    "\n",
    "Change the code above to try out these ranges. "
   ]
  },
  {
   "cell_type": "code",
   "execution_count": 37,
   "metadata": {},
   "outputs": [
    {
     "name": "stdout",
     "output_type": "stream",
     "text": [
      "<class 'range'>\n",
      "range(0, 5)\n"
     ]
    }
   ],
   "source": [
    "# a range is python type, like a float or a str\n",
    "my_range = range(5)\n",
    "print(type(my_range))\n",
    "\n",
    "# what happens if I print the range?\n",
    "print(my_range)"
   ]
  },
  {
   "cell_type": "markdown",
   "metadata": {},
   "source": [
    "That last print out might not be what you expected. If you want to see the sequence, convert it to a list first."
   ]
  },
  {
   "cell_type": "code",
   "execution_count": 38,
   "metadata": {},
   "outputs": [
    {
     "name": "stdout",
     "output_type": "stream",
     "text": [
      "[0, 1, 2, 3, 4]\n"
     ]
    }
   ],
   "source": [
    "print(list(my_range))     #Remember what list() does?"
   ]
  },
  {
   "cell_type": "markdown",
   "metadata": {},
   "source": [
    "### Looping over lists and strings\n",
    "Looping over a range is the only kind of for loop you can use in languages like C or MATLAB. Python gives us a very easy way to loop over many kinds of things. Here, we loop over a list.  "
   ]
  },
  {
   "cell_type": "code",
   "execution_count": 41,
   "metadata": {},
   "outputs": [
    {
     "name": "stdout",
     "output_type": "stream",
     "text": [
      "The old-school way:\n",
      "GDP\n",
      "POP\n",
      "INVEST\n",
      "EXPORTS\n",
      "\n",
      "The python way:\n",
      "GDP\n",
      "POP\n",
      "INVEST\n",
      "EXPORTS\n"
     ]
    }
   ],
   "source": [
    "var_names = ['GDP', 'POP', 'INVEST', 'EXPORTS']\n",
    "\n",
    "# Here is a clunky, C-style way to do this\n",
    "print('The old-school way:')\n",
    "for i in range(4):       # i = 0, 1, 2, 3\n",
    "    print(var_names[i])\n",
    "\n",
    "\n",
    "# The python way\n",
    "print('\\nThe python way:')\n",
    "for var in var_names:     # again, 'var' can be named anything\n",
    "    print(var)"
   ]
  },
  {
   "cell_type": "markdown",
   "metadata": {},
   "source": [
    "We can do the same kind of thing for a string. "
   ]
  },
  {
   "cell_type": "code",
   "execution_count": 42,
   "metadata": {},
   "outputs": [
    {
     "name": "stdout",
     "output_type": "stream",
     "text": [
      "o\n",
      "b\n",
      "s\n",
      "e\n",
      "r\n",
      "v\n",
      "a\n",
      "t\n",
      "o\n",
      "r\n",
      "y\n",
      " \n",
      "d\n",
      "r\n",
      "i\n",
      "v\n",
      "e\n"
     ]
    }
   ],
   "source": [
    "lake = 'observatory drive'\n",
    "\n",
    "for letter in lake:\n",
    "    print(letter)"
   ]
  },
  {
   "cell_type": "markdown",
   "metadata": {},
   "source": [
    "Wow. \n",
    "\n",
    "Ranges, lists, and strings are all 'iterable objects'. An iterable object (a type) is an object that knows how to return the 'next' element within it. When we iterate over a list variable, each time the for loop 'asks' for the next element in the list, the variable knows how to answer with the next element.   \n",
    "\n",
    "* Ranges iterate over whole numbers\n",
    "* Lists iterate over the elements of the list\n",
    "* Strings iterate over the characters\n",
    "* Dicts iterate over the keys\n",
    "* and more...\n",
    "\n",
    "Iterators are used in places besides loops, too. We will see other uses as we go on. Powerful stuff."
   ]
  },
  {
   "cell_type": "markdown",
   "metadata": {},
   "source": [
    "### Practice: Loops\n",
    "Take a few minutes and try the following. Feel free to chat with those around you if you get stuck. The TA and I are here, too.\n",
    "\n",
    "Remember this example from earlier?\n",
    "1. We have 5 integer observations in our dataset: 1, 3, 8, 3, 9. Unfortunately, the data file ran all the observations together and we are left with the variable `raw_data` in the cell below.\n",
    "2. What type is raw_data?\n",
    "3. Turn raw_data into a list. \n"
   ]
  },
  {
   "cell_type": "code",
   "execution_count": 43,
   "metadata": {},
   "outputs": [
    {
     "name": "stdout",
     "output_type": "stream",
     "text": [
      "raw_data type is <class 'str'>\n",
      "['1', '3', '8', '3', '9']\n"
     ]
    }
   ],
   "source": [
    "raw_data = '13839'\n",
    "print('raw_data type is', type(raw_data))\n",
    "print(list(raw_data))"
   ]
  },
  {
   "cell_type": "markdown",
   "metadata": {},
   "source": [
    "Is your data ready to be analyzed? Why not?\n",
    "\n",
    "4. In the cell below, covert your list to a list of integers. ~~You might try repeating statements like `list_data[0]=int(list_data[0])`~~ Put a loop to work!"
   ]
  },
  {
   "cell_type": "code",
   "execution_count": 45,
   "metadata": {},
   "outputs": [
    {
     "name": "stdout",
     "output_type": "stream",
     "text": [
      "[1, 3, 8, 3, 9]\n"
     ]
    }
   ],
   "source": [
    "raw_list = list()\n",
    "\n",
    "for var in list(raw_data):\n",
    "    raw_list = raw_list + [int(var)]\n",
    "    \n",
    "print(raw_list)"
   ]
  },
  {
   "cell_type": "markdown",
   "metadata": {},
   "source": [
    "5. Loop through the following list: `commands = ['go', 'go', 'go', 'stop', 'go', 'go']` If the command is 'go' print out the word 'Green'. If the command is 'stop' print out the word 'Red'."
   ]
  },
  {
   "cell_type": "code",
   "execution_count": 47,
   "metadata": {},
   "outputs": [
    {
     "name": "stdout",
     "output_type": "stream",
     "text": [
      "Green\n",
      "Green\n",
      "Green\n",
      "Red\n",
      "Green\n",
      "Green\n"
     ]
    }
   ],
   "source": [
    "commands = ['go', 'go', 'go', 'stop', 'go', 'go']\n",
    "\n",
    "lights = {\"go\": \"Green\", \"stop\": \"Red\"}\n",
    "\n",
    "for var in commands: \n",
    "    print(lights[var])"
   ]
  },
  {
   "cell_type": "markdown",
   "metadata": {},
   "source": [
    "<a id=\"listcomp\"></a>\n",
    "## List comprehensions\n",
    "List comprehensions provide a very compact syntax to do loops over lists (or other iterable objects). Anything you can do with a list comprehension you can do with a for loop. In this sense, we don't really need to know this, but python programmers love list comprehensions, so you will see them in other people's code. Plus, it's a cool skill to have. \n",
    "\n",
    "Here is a common problem with data in the 'wild.' We would like to be able to check for certain string values, but we have to be careful about cases. To faciliate comparison, let's make all the strings lower case. \n",
    "\n",
    "First, the loop way\n"
   ]
  },
  {
   "cell_type": "code",
   "execution_count": 48,
   "metadata": {},
   "outputs": [
    {
     "name": "stdout",
     "output_type": "stream",
     "text": [
      "['senior', 'senior', 'freshman', 'sophomore', 'senior', 'junior']\n"
     ]
    }
   ],
   "source": [
    "# Some data\n",
    "class_rank = ['Senior', 'senior', 'Freshman', 'sophomore', 'senior', 'Junior']\n",
    "\n",
    "# Create a new list with all lower case entries\n",
    "class_rank_cleaned = []                             # creates an empty list\n",
    "for datum in class_rank:\n",
    "    class_rank_cleaned.append(datum.lower())        # append() adds an element to the end of a list\n",
    "    \n",
    "print(class_rank_cleaned)"
   ]
  },
  {
   "cell_type": "markdown",
   "metadata": {},
   "source": [
    "Not bad. We now have cleaned up data and can do comparisons without worrying about case. \n",
    "\n",
    "Now, let's roll out a list comprehension."
   ]
  },
  {
   "cell_type": "code",
   "execution_count": 49,
   "metadata": {},
   "outputs": [
    {
     "name": "stdout",
     "output_type": "stream",
     "text": [
      "['senior', 'senior', 'freshman', 'sophomore', 'senior', 'junior']\n"
     ]
    }
   ],
   "source": [
    "# Some data\n",
    "class_rank = ['Senior', 'senior', 'Freshman', 'sophomore', 'senior', 'Junior']\n",
    "\n",
    "class_rank_cleaned_lc = [elem.lower() for elem in class_rank]     # elem could be anything. It is a counter variable.\n",
    "\n",
    "print(class_rank_cleaned_lc)"
   ]
  },
  {
   "cell_type": "markdown",
   "metadata": {},
   "source": [
    "Very clean. Very easy. Let's break down the list comprehension. \n",
    "\n",
    "`class_rank_cleaned_lc = [elem.lower() for elem in class_rank]`\n",
    "\n",
    "1. The square brackets [] are creating a new list, just like we have done in the past\n",
    "2. The code on the left-hand side of `for` is the operation we want performed on each element of the list\n",
    "3. The `for elem in class_rank` is the for loop syntax, like we have used before.\n",
    "\n",
    "Let's try another. Before you run the cell, what do you think this code does?"
   ]
  },
  {
   "cell_type": "code",
   "execution_count": 50,
   "metadata": {},
   "outputs": [
    {
     "name": "stdout",
     "output_type": "stream",
     "text": [
      "[0, 1, 4]\n"
     ]
    }
   ],
   "source": [
    "# What does this code do?\n",
    "sq = [item**2 for item in range(3)]\n",
    "print(sq)"
   ]
  },
  {
   "cell_type": "code",
   "execution_count": 51,
   "metadata": {},
   "outputs": [
    {
     "name": "stdout",
     "output_type": "stream",
     "text": [
      "[6, 6, 8, 9, 6, 6]\n"
     ]
    }
   ],
   "source": [
    "# What about this code? What does it do?\n",
    "class_rank_len = [len(elem) for elem in class_rank]\n",
    "print(class_rank_len)"
   ]
  },
  {
   "cell_type": "markdown",
   "metadata": {},
   "source": [
    "We can apply a conditional statement so that we only perform an operation on certain elements. "
   ]
  },
  {
   "cell_type": "code",
   "execution_count": 52,
   "metadata": {},
   "outputs": [
    {
     "name": "stdout",
     "output_type": "stream",
     "text": [
      "['SENIOR', 'SENIOR', 'SENIOR']\n"
     ]
    }
   ],
   "source": [
    "# Seniors rule!\n",
    "class_rank_caps = [i.upper() for i in class_rank_cleaned if i=='senior']\n",
    "print(class_rank_caps)"
   ]
  },
  {
   "cell_type": "markdown",
   "metadata": {},
   "source": [
    "### Practice: List comprehensions\n",
    "Take a few minutes and try the following. Feel free to chat with those around you if you get stuck. The TA and I are here, too.\n",
    "\n",
    "1. Here is a list of interest rates: `r = [0.01, 0.01, 0.015, 0.02, 0.022]` Multiply each of them by 100 to make them percentage interest rates. \n",
    "2. Here we go again! Turn `raw_data = '13839'` into a list of integers. Use a list comprehension. \n",
    "3. A bit harder: create two lists derived from the following list: `data_list = [1, 2, 3, 4, 5, 6, 7, 8,]` One list should have only the odd numbers and rest should have only the even numbers. You might use the modulo operator `%` which 'yields the remainder from the division of the first argument by the second.'  For example 3%2 = 1. "
   ]
  },
  {
   "cell_type": "code",
   "execution_count": 56,
   "metadata": {},
   "outputs": [
    {
     "name": "stdout",
     "output_type": "stream",
     "text": [
      "[1.0, 1.0, 1.5, 2.0, 2.1999999999999997]\n"
     ]
    }
   ],
   "source": [
    "# Question 1\n",
    "r = [0.01, 0.01, 0.015, 0.02, 0.022]\n",
    "r_percentage = [elem*100 for elem in r]\n",
    "print(r_percentage)"
   ]
  },
  {
   "cell_type": "code",
   "execution_count": 57,
   "metadata": {},
   "outputs": [
    {
     "name": "stdout",
     "output_type": "stream",
     "text": [
      "[1, 3, 8, 3, 9]\n"
     ]
    }
   ],
   "source": [
    "# Question 2\n",
    "raw_data = '13839'\n",
    "raw_int = [int(elem) for elem in raw_data]\n",
    "print(raw_int)"
   ]
  },
  {
   "cell_type": "code",
   "execution_count": 60,
   "metadata": {},
   "outputs": [
    {
     "name": "stdout",
     "output_type": "stream",
     "text": [
      "List of odd numbers: [1, 3, 5, 7]\n",
      "List of even numbers: [2, 4, 6, 8]\n"
     ]
    }
   ],
   "source": [
    "# Question 3\n",
    "data_list = [1, 2, 3, 4, 5, 6, 7, 8, ]\n",
    "data_odd = [elem for elem in data_list if elem%2 == 1]\n",
    "data_even = [elem for elem in data_list if elem%2 == 0]\n",
    "print(\"List of odd numbers:\", data_odd)\n",
    "print(\"List of even numbers:\", data_even)"
   ]
  },
  {
   "cell_type": "code",
   "execution_count": null,
   "metadata": {},
   "outputs": [],
   "source": []
  }
 ],
 "metadata": {
  "celltoolbar": "Attachments",
  "kernelspec": {
   "display_name": "Python 3",
   "language": "python",
   "name": "python3"
  },
  "language_info": {
   "codemirror_mode": {
    "name": "ipython",
    "version": 3
   },
   "file_extension": ".py",
   "mimetype": "text/x-python",
   "name": "python",
   "nbconvert_exporter": "python",
   "pygments_lexer": "ipython3",
   "version": "3.7.0"
  }
 },
 "nbformat": 4,
 "nbformat_minor": 2
}
