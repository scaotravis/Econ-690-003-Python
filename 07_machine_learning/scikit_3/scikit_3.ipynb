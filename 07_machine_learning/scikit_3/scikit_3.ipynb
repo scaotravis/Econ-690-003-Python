{
 "cells": [
  {
   "cell_type": "markdown",
   "metadata": {},
   "source": [
    "# Machine learning III\n",
    "\n",
    "files needed = ('Hitters.csv')\n",
    "\n",
    "This book continues our foray into machine learning. Our goals here are modest. We would like to\n",
    "1. learn a bit about how machine learning is similar to, and different from, econometrics.  \n",
    "2. introduce the scikit-learn package which is chock full of 'machine learning' tools. \n",
    "3. work on some *validation* methods, which are an important part of the machine learning toolkit. \n",
    "4. explore the ridge and lasso regression models\n",
    "\n",
    "In this notebook, we study the ridge and lasso regressions. These are methods that put discipline on the importance of the independent variables of the regression.\n",
    "\n",
    "This notebook is loosely based on Chapter 6 from *An Introduction to Statistical Learning* by James, Witten, Hastie, and Tibshirani. This is an easy to follow introduction that is light on the mathematics behind the methods."
   ]
  },
  {
   "cell_type": "markdown",
   "metadata": {},
   "source": [
    "## Econometrics v. Statistical learning\n",
    "This is overly broad and general, but hopefully helpful. Consider the model\n",
    "\n",
    "$$ y = f(X) + \\epsilon.$$\n",
    "\n",
    "### Econometrics\n",
    "Econometrics is mainly concerned with *inference*. By this, we mean that the goal is to understand the structure of $f(\\;)$. Econometricians are concerned about the 'true' value of the components of $f(\\;)$. We worry a lot about endogeneity, omitted variables, and whether the properties of $f(\\;)$ are consistent with the theory.  Practically, \n",
    "\n",
    "1. The $X$ variables included in the model are guided by theory.\n",
    "2. The focus is on in-sample fit. How well does the model fit the data?\n",
    "\n",
    "### Statistical (machine) learning\n",
    "Statistical learning is mainly concerned with *prediction*. By this, we mean the ability of the model to predict the values of $y$, given $X$, for data that are not used to estimate (or, in machine learning-ese, train) the model of $f(\\;)$. The guiding principle here is the *bias-variance tradeoff*. \\[more on this in a minute\\]. Practically, \n",
    "\n",
    "1. The $X$ variables included in the model are guided by the mean-variance tradeoff. \n",
    "2. The focus is on out-of-sample fit. How well does the model predict data not used to estimate the model?\n",
    "\n",
    "\\[The bias-variance tradeoff exist in econometrics, too. Theory typically disciplines our definition of $X$.\n",
    "\n"
   ]
  },
  {
   "cell_type": "markdown",
   "metadata": {},
   "source": [
    "### Evaluating model predictions\n",
    "\n",
    "The fundamental constraint in machine learning is the *bias-variance tradeoff*. Roughly speaking, there is no free lunch. \n",
    "\n",
    "Let's start with an example. Suppose we wanted to predict the number of people on the union terrace on a Friday. For 5 Fridays, we send out a team to count the number of people on the terrace (the $y$ variable). We also record the temperature, the price of beer, if it is a home football weekend, the value of the stock market, the number of sailboats on Mendota, and the euro-dollar exchange rate (the $X$ variables).  \n",
    "\n",
    "We use the data to estimate our model $y=f(X)+\\epsilon$ and use the $X$ data for a 6th Friday to predict the number of people on the terrace, $\\hat{y}$. We then evaluate our estimate by comparing our prediction to the actual number of people on the terrace on the 6th Friday, $(y - \\hat{y})^2$. This is a measure of how well our model works at predicting **out of sample**. \n",
    "\n",
    "Now, suppose we repeat this experiment $M$ times. We collect $M$ data sets, estimate the model $M$ times, predict the 6th Friday $M$ times. We can form the expected test mse as\n",
    "\n",
    "$$\\frac{1}{M}\\sum_{m=1}^M(y_m-\\hat{y}_m)^2$$\n",
    "\n",
    "It is straightforward to show that this expression can be decomposed into \n",
    "\n",
    "$$\\begin{align*}\n",
    "\\frac{1}{M}\\sum_{m=1}^M(y_m-\\hat{y}_m)^2 & = \\left(E\\left[\\,\\hat{f}(X)\\right]-f(X) \\right)^2 + E\\,\\left(\\,\\hat{f}(X)-E\\left[\\,\\hat{f}(X)\\right]\\right)^2 + \\text{var}(\\epsilon)\\\\\n",
    "                                         &= \\text{bias}^2 + \\text{variance} + \\text{var}(\\epsilon).\\\\\n",
    "\\end{align*}$$\n",
    "\n",
    "Note that all three terms are positive. We can't do anything about the third term, it is the *irreducible* error. The other two terms we would like to make as small as possible. Unfortunately, shrinking one of the two terms tends to increase the other term. "
   ]
  },
  {
   "cell_type": "markdown",
   "metadata": {},
   "source": [
    "### Bias and variance\n",
    "The **bias term** tells us, on average, how close we get to the true model. Are we systematically over- or under-predicting $y$?\n",
    "\n",
    "The **variance term** tells us how much our estimates vary as we use different training datasets to estimate the model.\n",
    "\n",
    "Quick check: Think about shooting arrows at a target. What does a low-variance high-bias attempt look like? A low-bias low-variance look like?"
   ]
  },
  {
   "cell_type": "markdown",
   "metadata": {},
   "source": [
    "### The bias-variance tradeoff\n",
    "\n",
    "We would like to minimize the bias and the variance of the test mse. How can we do so? \n",
    "\n",
    "In the linear models we are considering, complexity increases as we add more variables to $X$. This includes adding polynomials of our independent variables, interactions, etc. How does complexity influence the testing error?  \n",
    "\n",
    "* As we **increase the complexity** of our model $f(\\;)$ the **squared bias tends to decrease**. \n",
    "\n",
    "* As we **increase the complexity** of our model $f(\\;)$ the **variance tends to increase**.\n",
    "\n",
    "This is the tradeoff. As we add features to the model, the bias decreases, but the variance increases. This gives rise to a u-shaped mse. This [figure](http://www-bcf.usc.edu/~gareth/ISL/Chapter2/2.12.pdf) from James et al. is a good illustration. "
   ]
  },
  {
   "cell_type": "markdown",
   "metadata": {},
   "source": [
    "### Overfitting\n",
    "\n",
    "Behind the bias-variance tradoff is the idea of overfitting. The more complex the model, the more it will capture variation in $y$ due to the random error ($\\epsilon$). \n",
    "\n",
    "* This makes the model fit the data better (lower bias). We are capturing $y$ behavior from both $f(\\;)$ and $\\epsilon$.\n",
    "* This makes the model more variable. A new set of training data will have different $\\epsilon$'s. The estimate will change to match these new values of $\\epsilon$. Since $\\epsilon$ is not related to $f(\\;)$, we are making the estimate noisier."
   ]
  },
  {
   "cell_type": "markdown",
   "metadata": {},
   "source": [
    "## Shrinkage methods\n",
    "The bias-variance tradeoff says that we want to constrain our model's complexity. There are many, many, many ways to go about this. For linear models, two common and easy to grasp methods are the ridge and the lasso regression. \n",
    "\n",
    "Let's see how they work. "
   ]
  },
  {
   "cell_type": "code",
   "execution_count": 1,
   "metadata": {},
   "outputs": [],
   "source": [
    "import pandas as pd                 # data handling\n",
    "import numpy as np                  # numerical methods\n",
    "import matplotlib.pyplot as plt     # plots"
   ]
  },
  {
   "cell_type": "markdown",
   "metadata": {},
   "source": [
    "Load data on baseball players. Each row is a player. The variable we would like to predict is salary."
   ]
  },
  {
   "cell_type": "code",
   "execution_count": 2,
   "metadata": {},
   "outputs": [
    {
     "name": "stdout",
     "output_type": "stream",
     "text": [
      "<class 'pandas.core.frame.DataFrame'>\n",
      "RangeIndex: 322 entries, 0 to 321\n",
      "Data columns (total 21 columns):\n",
      "Unnamed: 0    322 non-null object\n",
      "AtBat         322 non-null int64\n",
      "Hits          322 non-null int64\n",
      "HmRun         322 non-null int64\n",
      "Runs          322 non-null int64\n",
      "RBI           322 non-null int64\n",
      "Walks         322 non-null int64\n",
      "Years         322 non-null int64\n",
      "CAtBat        322 non-null int64\n",
      "CHits         322 non-null int64\n",
      "CHmRun        322 non-null int64\n",
      "CRuns         322 non-null int64\n",
      "CRBI          322 non-null int64\n",
      "CWalks        322 non-null int64\n",
      "League        322 non-null object\n",
      "Division      322 non-null object\n",
      "PutOuts       322 non-null int64\n",
      "Assists       322 non-null int64\n",
      "Errors        322 non-null int64\n",
      "Salary        263 non-null float64\n",
      "NewLeague     322 non-null object\n",
      "dtypes: float64(1), int64(16), object(4)\n",
      "memory usage: 52.9+ KB\n",
      "None\n"
     ]
    }
   ],
   "source": [
    "base = pd.read_csv('Hitters.csv')\n",
    "print(base.info())"
   ]
  },
  {
   "cell_type": "code",
   "execution_count": 3,
   "metadata": {},
   "outputs": [
    {
     "data": {
      "text/html": [
       "<div>\n",
       "<style scoped>\n",
       "    .dataframe tbody tr th:only-of-type {\n",
       "        vertical-align: middle;\n",
       "    }\n",
       "\n",
       "    .dataframe tbody tr th {\n",
       "        vertical-align: top;\n",
       "    }\n",
       "\n",
       "    .dataframe thead th {\n",
       "        text-align: right;\n",
       "    }\n",
       "</style>\n",
       "<table border=\"1\" class=\"dataframe\">\n",
       "  <thead>\n",
       "    <tr style=\"text-align: right;\">\n",
       "      <th></th>\n",
       "      <th>Unnamed: 0</th>\n",
       "      <th>AtBat</th>\n",
       "      <th>Hits</th>\n",
       "      <th>HmRun</th>\n",
       "      <th>Runs</th>\n",
       "      <th>RBI</th>\n",
       "      <th>Walks</th>\n",
       "      <th>Years</th>\n",
       "      <th>CAtBat</th>\n",
       "      <th>CHits</th>\n",
       "      <th>...</th>\n",
       "      <th>CRuns</th>\n",
       "      <th>CRBI</th>\n",
       "      <th>CWalks</th>\n",
       "      <th>League</th>\n",
       "      <th>Division</th>\n",
       "      <th>PutOuts</th>\n",
       "      <th>Assists</th>\n",
       "      <th>Errors</th>\n",
       "      <th>Salary</th>\n",
       "      <th>NewLeague</th>\n",
       "    </tr>\n",
       "  </thead>\n",
       "  <tbody>\n",
       "    <tr>\n",
       "      <th>0</th>\n",
       "      <td>-Andy Allanson</td>\n",
       "      <td>293</td>\n",
       "      <td>66</td>\n",
       "      <td>1</td>\n",
       "      <td>30</td>\n",
       "      <td>29</td>\n",
       "      <td>14</td>\n",
       "      <td>1</td>\n",
       "      <td>293</td>\n",
       "      <td>66</td>\n",
       "      <td>...</td>\n",
       "      <td>30</td>\n",
       "      <td>29</td>\n",
       "      <td>14</td>\n",
       "      <td>A</td>\n",
       "      <td>E</td>\n",
       "      <td>446</td>\n",
       "      <td>33</td>\n",
       "      <td>20</td>\n",
       "      <td>NaN</td>\n",
       "      <td>A</td>\n",
       "    </tr>\n",
       "    <tr>\n",
       "      <th>1</th>\n",
       "      <td>-Alan Ashby</td>\n",
       "      <td>315</td>\n",
       "      <td>81</td>\n",
       "      <td>7</td>\n",
       "      <td>24</td>\n",
       "      <td>38</td>\n",
       "      <td>39</td>\n",
       "      <td>14</td>\n",
       "      <td>3449</td>\n",
       "      <td>835</td>\n",
       "      <td>...</td>\n",
       "      <td>321</td>\n",
       "      <td>414</td>\n",
       "      <td>375</td>\n",
       "      <td>N</td>\n",
       "      <td>W</td>\n",
       "      <td>632</td>\n",
       "      <td>43</td>\n",
       "      <td>10</td>\n",
       "      <td>475.0</td>\n",
       "      <td>N</td>\n",
       "    </tr>\n",
       "  </tbody>\n",
       "</table>\n",
       "<p>2 rows × 21 columns</p>\n",
       "</div>"
      ],
      "text/plain": [
       "       Unnamed: 0  AtBat  Hits  HmRun  Runs  RBI  Walks  Years  CAtBat  CHits  \\\n",
       "0  -Andy Allanson    293    66      1    30   29     14      1     293     66   \n",
       "1     -Alan Ashby    315    81      7    24   38     39     14    3449    835   \n",
       "\n",
       "     ...      CRuns  CRBI  CWalks  League Division PutOuts  Assists  Errors  \\\n",
       "0    ...         30    29      14       A        E     446       33      20   \n",
       "1    ...        321   414     375       N        W     632       43      10   \n",
       "\n",
       "   Salary  NewLeague  \n",
       "0     NaN          A  \n",
       "1   475.0          N  \n",
       "\n",
       "[2 rows x 21 columns]"
      ]
     },
     "execution_count": 3,
     "metadata": {},
     "output_type": "execute_result"
    }
   ],
   "source": [
    "base.head(2)"
   ]
  },
  {
   "cell_type": "markdown",
   "metadata": {},
   "source": [
    "The data look okay, but we only have salary for 263 observations. Let's drop them. "
   ]
  },
  {
   "cell_type": "code",
   "execution_count": 4,
   "metadata": {},
   "outputs": [
    {
     "name": "stdout",
     "output_type": "stream",
     "text": [
      "<class 'pandas.core.frame.DataFrame'>\n",
      "Int64Index: 263 entries, 1 to 321\n",
      "Data columns (total 21 columns):\n",
      "Unnamed: 0    263 non-null object\n",
      "AtBat         263 non-null int64\n",
      "Hits          263 non-null int64\n",
      "HmRun         263 non-null int64\n",
      "Runs          263 non-null int64\n",
      "RBI           263 non-null int64\n",
      "Walks         263 non-null int64\n",
      "Years         263 non-null int64\n",
      "CAtBat        263 non-null int64\n",
      "CHits         263 non-null int64\n",
      "CHmRun        263 non-null int64\n",
      "CRuns         263 non-null int64\n",
      "CRBI          263 non-null int64\n",
      "CWalks        263 non-null int64\n",
      "League        263 non-null object\n",
      "Division      263 non-null object\n",
      "PutOuts       263 non-null int64\n",
      "Assists       263 non-null int64\n",
      "Errors        263 non-null int64\n",
      "Salary        263 non-null float64\n",
      "NewLeague     263 non-null object\n",
      "dtypes: float64(1), int64(16), object(4)\n",
      "memory usage: 45.2+ KB\n"
     ]
    }
   ],
   "source": [
    "base = base.dropna()\n",
    "base.info()"
   ]
  },
  {
   "cell_type": "markdown",
   "metadata": {},
   "source": [
    "### OLS\n",
    "\n",
    "Let's start with ols to get a feel for things. Start by loading some packages."
   ]
  },
  {
   "cell_type": "code",
   "execution_count": 5,
   "metadata": {},
   "outputs": [],
   "source": [
    "from sklearn import linear_model                          # ols, ridge, lasso, \n",
    "from sklearn.preprocessing import StandardScaler          # normalize variables to have mu=0, std=1"
   ]
  },
  {
   "cell_type": "markdown",
   "metadata": {},
   "source": [
    "Let's choose some variables that are potentially useful for predicting salary. We are purposely making this set large. The goal is determine how to constrain our choices. \n",
    "\n",
    "The ridge regression works best if the $X$ variables are on the same scale. The `StandardScaler()` normalizes the variables."
   ]
  },
  {
   "cell_type": "code",
   "execution_count": 6,
   "metadata": {},
   "outputs": [
    {
     "name": "stderr",
     "output_type": "stream",
     "text": [
      "/Users/travis/anaconda3/lib/python3.6/site-packages/sklearn/preprocessing/data.py:617: DataConversionWarning: Data with input dtype int64 were all converted to float64 by StandardScaler.\n",
      "  return self.partial_fit(X, y)\n",
      "/Users/travis/anaconda3/lib/python3.6/site-packages/sklearn/base.py:462: DataConversionWarning: Data with input dtype int64 were all converted to float64 by StandardScaler.\n",
      "  return self.fit(X, **fit_params).transform(X)\n"
     ]
    }
   ],
   "source": [
    "var_list = ['Hits', 'RBI', 'HmRun', 'Walks', 'Errors', 'Years', 'Assists', 'AtBat', 'Runs', 'CAtBat', 'CHits', 'CRuns', 'CWalks']\n",
    "\n",
    "# Standardize the X vars so they have mean = 0 and std = 1\n",
    "X = StandardScaler().fit_transform(base[var_list])"
   ]
  },
  {
   "cell_type": "markdown",
   "metadata": {},
   "source": [
    "Estimate the OLS regression. Don't worry about the l2 norm stuff yet. "
   ]
  },
  {
   "cell_type": "code",
   "execution_count": 8,
   "metadata": {},
   "outputs": [
    {
     "name": "stdout",
     "output_type": "stream",
     "text": [
      "[ 342.86853172   56.76095882   31.72386749  150.31756567  -10.80513874\n",
      "  -28.76438817   25.9039893  -299.7189859   -95.89253928 -346.33866351\n",
      "  257.07761972  448.22175687 -157.44988341]\n",
      "The l2 norm of the ols coefficients is 810.4.\n"
     ]
    }
   ],
   "source": [
    "res_ols = linear_model.LinearRegression().fit(X, base['Salary'])\n",
    "coef_norm_ols = np.linalg.norm(res_ols.coef_, ord=2)\n",
    "\n",
    "print(res_ols.coef_)\n",
    "print('The l2 norm of the ols coefficients is {0:5.1f}.'.format(coef_norm_ols))"
   ]
  },
  {
   "cell_type": "markdown",
   "metadata": {},
   "source": [
    "## The ridge regression\n",
    "\n",
    "The ridge regression chooses $\\beta$ to minimize the residual sum of squares plus a penalty function \n",
    "\n",
    "$$\n",
    "\\begin{align*}\n",
    "=& \\text{RSS}+ \\alpha \\left(\\sum_{j=1}^p \\beta_j^2\\right)^{0.5}\\\\\n",
    "=&\\sum_{i=1}^n(y_i-\\hat{y}_i)^2 + \\alpha \\left(\\sum_{j=1}^p \\beta_j^2\\right)^{0.5}\n",
    "\\end{align*}\n",
    "$$\n",
    "\n",
    "OLS minimizes RSS, so if $\\alpha=0$ ridge collapses to OLS. We call $\\alpha$ the tuning parameter. When $\\alpha>0$, models are penalized for how large their coefficients are. The term multiplying $\\alpha$ is the l2 norm of the coefficient vector.  \n",
    "\n",
    "The `Ridge()` function is part of `linear_models` in scikit-learn [(docs)](https://scikit-learn.org/stable/modules/generated/sklearn.linear_model.Ridge.html). "
   ]
  },
  {
   "cell_type": "markdown",
   "metadata": {},
   "source": [
    "First, let's estimate the model with $\\alpha=0$. This should return the ols estimate. "
   ]
  },
  {
   "cell_type": "code",
   "execution_count": 9,
   "metadata": {},
   "outputs": [
    {
     "name": "stdout",
     "output_type": "stream",
     "text": [
      "[ 342.86853172   56.76095882   31.72386749  150.31756567  -10.80513874\n",
      "  -28.76438817   25.9039893  -299.7189859   -95.89253928 -346.33866351\n",
      "  257.07761972  448.22175687 -157.44988341]\n",
      "The l2 norm of the ridge(a=0) coefficients is 810.4.\n"
     ]
    }
   ],
   "source": [
    "res_ridge_0 = linear_model.Ridge(alpha = 0.0).fit(X, base['Salary'])\n",
    "coef_norm_r0 = np.linalg.norm(res_ridge_0.coef_, ord=2)\n",
    "\n",
    "print(res_ridge_0.coef_)\n",
    "print('The l2 norm of the ridge(a=0) coefficients is {0:5.1f}.'.format(coef_norm_r0))"
   ]
  },
  {
   "cell_type": "markdown",
   "metadata": {},
   "source": [
    "Now estimate the ridge model with $\\alpha=100$. This adds a penalty to each coefficient that is not zero. "
   ]
  },
  {
   "cell_type": "code",
   "execution_count": 10,
   "metadata": {},
   "outputs": [
    {
     "name": "stdout",
     "output_type": "stream",
     "text": [
      "[ 52.15138012  38.4847365    8.50483461  50.13721432 -11.04140017\n",
      "   5.05574661  -2.28073256   2.33576236  26.24338138  38.80799151\n",
      "  59.32436779  59.90473347  20.04176666]\n",
      "The l2 norm of the ridge(a=100) coefficients is 129.0.\n"
     ]
    }
   ],
   "source": [
    "res_ridge_100 = linear_model.Ridge(alpha = 100.0).fit(X, base['Salary'])\n",
    "coef_norm_r100 = np.linalg.norm(res_ridge_100.coef_, ord=2)\n",
    "\n",
    "print(res_ridge_100.coef_)\n",
    "print('The l2 norm of the ridge(a=100) coefficients is {0:5.1f}.'.format(coef_norm_r100))"
   ]
  },
  {
   "cell_type": "markdown",
   "metadata": {},
   "source": [
    "That decreased the norm of the coefficients quite a bit. We can keep going... "
   ]
  },
  {
   "cell_type": "code",
   "execution_count": 11,
   "metadata": {},
   "outputs": [
    {
     "name": "stdout",
     "output_type": "stream",
     "text": [
      "[24.26292247 22.88938261 14.84319012 25.27605131 -2.84991212 17.94244586\n",
      " -0.10430381 17.54807161 21.14484914 27.12005935 30.11332925 30.81759733\n",
      " 23.94825642]\n",
      "The l2 norm of the ridge(a=800) coefficients is  78.9.\n"
     ]
    }
   ],
   "source": [
    "res_ridge_800 = linear_model.Ridge(alpha = 800.0).fit(X, base['Salary'])\n",
    "coef_norm_r800 = np.linalg.norm(res_ridge_800.coef_, ord=2)\n",
    "\n",
    "print(res_ridge_800.coef_)\n",
    "print('The l2 norm of the ridge(a=800) coefficients is {0:5.1f}.'.format(coef_norm_r800))\n"
   ]
  },
  {
   "cell_type": "code",
   "execution_count": 14,
   "metadata": {},
   "outputs": [
    {
     "data": {
      "text/html": [
       "<div>\n",
       "<style scoped>\n",
       "    .dataframe tbody tr th:only-of-type {\n",
       "        vertical-align: middle;\n",
       "    }\n",
       "\n",
       "    .dataframe tbody tr th {\n",
       "        vertical-align: top;\n",
       "    }\n",
       "\n",
       "    .dataframe thead th {\n",
       "        text-align: right;\n",
       "    }\n",
       "</style>\n",
       "<table border=\"1\" class=\"dataframe\">\n",
       "  <thead>\n",
       "    <tr style=\"text-align: right;\">\n",
       "      <th></th>\n",
       "      <th>var</th>\n",
       "      <th>ols</th>\n",
       "      <th>ridge 100</th>\n",
       "      <th>ridge 800</th>\n",
       "    </tr>\n",
       "  </thead>\n",
       "  <tbody>\n",
       "    <tr>\n",
       "      <th>0</th>\n",
       "      <td>Hits</td>\n",
       "      <td>342.868532</td>\n",
       "      <td>52.151380</td>\n",
       "      <td>24.262922</td>\n",
       "    </tr>\n",
       "    <tr>\n",
       "      <th>1</th>\n",
       "      <td>RBI</td>\n",
       "      <td>56.760959</td>\n",
       "      <td>38.484737</td>\n",
       "      <td>22.889383</td>\n",
       "    </tr>\n",
       "    <tr>\n",
       "      <th>2</th>\n",
       "      <td>HmRun</td>\n",
       "      <td>31.723867</td>\n",
       "      <td>8.504835</td>\n",
       "      <td>14.843190</td>\n",
       "    </tr>\n",
       "    <tr>\n",
       "      <th>3</th>\n",
       "      <td>Walks</td>\n",
       "      <td>150.317566</td>\n",
       "      <td>50.137214</td>\n",
       "      <td>25.276051</td>\n",
       "    </tr>\n",
       "    <tr>\n",
       "      <th>4</th>\n",
       "      <td>Errors</td>\n",
       "      <td>-10.805139</td>\n",
       "      <td>-11.041400</td>\n",
       "      <td>-2.849912</td>\n",
       "    </tr>\n",
       "    <tr>\n",
       "      <th>5</th>\n",
       "      <td>Years</td>\n",
       "      <td>-28.764388</td>\n",
       "      <td>5.055747</td>\n",
       "      <td>17.942446</td>\n",
       "    </tr>\n",
       "    <tr>\n",
       "      <th>6</th>\n",
       "      <td>Assists</td>\n",
       "      <td>25.903989</td>\n",
       "      <td>-2.280733</td>\n",
       "      <td>-0.104304</td>\n",
       "    </tr>\n",
       "    <tr>\n",
       "      <th>7</th>\n",
       "      <td>AtBat</td>\n",
       "      <td>-299.718986</td>\n",
       "      <td>2.335762</td>\n",
       "      <td>17.548072</td>\n",
       "    </tr>\n",
       "    <tr>\n",
       "      <th>8</th>\n",
       "      <td>Runs</td>\n",
       "      <td>-95.892539</td>\n",
       "      <td>26.243381</td>\n",
       "      <td>21.144849</td>\n",
       "    </tr>\n",
       "    <tr>\n",
       "      <th>9</th>\n",
       "      <td>CAtBat</td>\n",
       "      <td>-346.338664</td>\n",
       "      <td>38.807992</td>\n",
       "      <td>27.120059</td>\n",
       "    </tr>\n",
       "    <tr>\n",
       "      <th>10</th>\n",
       "      <td>CHits</td>\n",
       "      <td>257.077620</td>\n",
       "      <td>59.324368</td>\n",
       "      <td>30.113329</td>\n",
       "    </tr>\n",
       "    <tr>\n",
       "      <th>11</th>\n",
       "      <td>CRuns</td>\n",
       "      <td>448.221757</td>\n",
       "      <td>59.904733</td>\n",
       "      <td>30.817597</td>\n",
       "    </tr>\n",
       "    <tr>\n",
       "      <th>12</th>\n",
       "      <td>CWalks</td>\n",
       "      <td>-157.449883</td>\n",
       "      <td>20.041767</td>\n",
       "      <td>23.948256</td>\n",
       "    </tr>\n",
       "  </tbody>\n",
       "</table>\n",
       "</div>"
      ],
      "text/plain": [
       "        var         ols  ridge 100  ridge 800\n",
       "0      Hits  342.868532  52.151380  24.262922\n",
       "1       RBI   56.760959  38.484737  22.889383\n",
       "2     HmRun   31.723867   8.504835  14.843190\n",
       "3     Walks  150.317566  50.137214  25.276051\n",
       "4    Errors  -10.805139 -11.041400  -2.849912\n",
       "5     Years  -28.764388   5.055747  17.942446\n",
       "6   Assists   25.903989  -2.280733  -0.104304\n",
       "7     AtBat -299.718986   2.335762  17.548072\n",
       "8      Runs  -95.892539  26.243381  21.144849\n",
       "9    CAtBat -346.338664  38.807992  27.120059\n",
       "10    CHits  257.077620  59.324368  30.113329\n",
       "11    CRuns  448.221757  59.904733  30.817597\n",
       "12   CWalks -157.449883  20.041767  23.948256"
      ]
     },
     "execution_count": 14,
     "metadata": {},
     "output_type": "execute_result"
    }
   ],
   "source": [
    "pd.DataFrame({'var': var_list, \n",
    "              'ols': res_ols.coef_ , 'ridge 100':res_ridge_100.coef_, 'ridge 800':res_ridge_800.coef_ })"
   ]
  },
  {
   "cell_type": "markdown",
   "metadata": {},
   "source": [
    "### What size penalty? \n",
    "\n",
    "We see that increasing $\\alpha$ decreases the norm of the coefficients. How big should $\\alpha$ be? We want the $\\alpha$ that gives us the best test mse. As we discussed last week, cross-validation methods allow us to evaluate test mses.\n",
    "\n",
    "The scikit package has a method that combines the ridge estimation with cross validation. It is called `RidgeCV()` [(docs)](https://scikit-learn.org/stable/modules/generated/sklearn.linear_model.RidgeCV.html)."
   ]
  },
  {
   "cell_type": "markdown",
   "metadata": {},
   "source": [
    "We pass to `RidgeCV()` a list of the alpha values to try. "
   ]
  },
  {
   "cell_type": "code",
   "execution_count": 15,
   "metadata": {},
   "outputs": [],
   "source": [
    "alpha_grid = [1e-3, 1e-2, 1e-1, 1, 1e2, 1e3, 1e4]\n",
    "\n",
    "# Setting 'store_cv_values' to true will hang on to all the test mses from the CV. Otherwise, it only keep the best one.\n",
    "model = linear_model.RidgeCV(alphas=alpha_grid, store_cv_values = True).fit(X,base['Salary'])"
   ]
  },
  {
   "cell_type": "markdown",
   "metadata": {},
   "source": [
    "The function returns an object with useful attributes and methods. Let's look at a few."
   ]
  },
  {
   "cell_type": "code",
   "execution_count": 16,
   "metadata": {},
   "outputs": [
    {
     "name": "stdout",
     "output_type": "stream",
     "text": [
      "The best alpha from the candidate alphas is 1.0.\n"
     ]
    }
   ],
   "source": [
    "# The .alpha_ holds the best alpha\n",
    "print('The best alpha from the candidate alphas is {0}.'.format(model.alpha_))"
   ]
  },
  {
   "cell_type": "code",
   "execution_count": 17,
   "metadata": {},
   "outputs": [
    {
     "name": "stdout",
     "output_type": "stream",
     "text": [
      "        var        coef\n",
      "0      Hits  309.382723\n",
      "1       RBI   61.508414\n",
      "2     HmRun   21.763078\n",
      "3     Walks  140.610067\n",
      "4    Errors  -12.050349\n",
      "5     Years  -47.933631\n",
      "6   Assists   19.984472\n",
      "7     AtBat -277.165125\n",
      "8      Runs  -70.493630\n",
      "9    CAtBat -173.607372\n",
      "10    CHits  177.955937\n",
      "11    CRuns  355.839427\n",
      "12   CWalks -139.569671\n"
     ]
    }
   ],
   "source": [
    "best_coef_ridge = pd.DataFrame({'var':var_list, 'coef': model.coef_}) \n",
    "print(best_coef_ridge)"
   ]
  },
  {
   "cell_type": "code",
   "execution_count": 18,
   "metadata": {},
   "outputs": [
    {
     "name": "stdout",
     "output_type": "stream",
     "text": [
      "[[3.02843609e+04 3.01781068e+04 2.91875911e+04 ... 2.44419200e+00\n",
      "  1.35781601e+03 3.14392936e+03]\n",
      " [4.90961822e+04 4.90869411e+04 4.89995087e+04 ... 1.81722250e+04\n",
      "  9.46378842e+03 4.23064769e+03]\n",
      " [3.58334242e+05 3.58009759e+05 3.54643288e+05 ... 1.34723883e+05\n",
      "  5.49162558e+04 6.19574577e+03]\n",
      " ...\n",
      " [3.57189181e+03 3.58819796e+03 3.73565465e+03 ... 1.18305515e+04\n",
      "  1.32823134e+04 2.04707709e+04]\n",
      " [8.11076387e+04 8.10128280e+04 8.01251664e+04 ... 4.62882943e+04\n",
      "  8.80650163e+04 1.58284001e+05]\n",
      " [2.87812484e+04 2.89069399e+04 3.01449649e+04 ... 4.67532198e+04\n",
      "  9.66306892e+04 1.87097272e+05]]\n",
      "(263, 7)\n"
     ]
    }
   ],
   "source": [
    "# Since I set 'store_cv_values' to true, I have the matrix of all the test mse. Columns correspond to alpha values, \n",
    "# and there is one row for each observation, since the function uses loocv\n",
    "\n",
    "print(model.cv_values_)\n",
    "print(model.cv_values_.shape)"
   ]
  },
  {
   "cell_type": "code",
   "execution_count": 19,
   "metadata": {},
   "outputs": [
    {
     "data": {
      "text/plain": [
       "array([124401.99686713, 124327.02083352, 123702.9384668 , 121624.58267113,\n",
       "       125267.96774173, 136848.44181746, 184530.51723419])"
      ]
     },
     "execution_count": 19,
     "metadata": {},
     "output_type": "execute_result"
    }
   ],
   "source": [
    "# The mean test mse for each value of alpha\n",
    "model.cv_values_.mean(axis=0)"
   ]
  },
  {
   "cell_type": "markdown",
   "metadata": {},
   "source": [
    "## The lasso regression\n",
    "The lasso regression works like the ridge, but with a different penalty function. \n",
    "\n",
    "$$\n",
    "\\begin{align*}\n",
    "=& \\text{RSS}+ \\alpha \\sum_{j=1}^p | \\beta_j|\\\\\n",
    "=&\\sum_{i=1}^n(y_i-\\hat{y}_i)^2 + \\alpha \\sum_{j=1}^p | \\beta_j|\n",
    "\\end{align*}\n",
    "$$\n",
    "\n",
    "The penalty function here is the l1 norm, or the sum of the absolute values of the absolute values of the coefficient. The major difference between the ridge and the lasso is that the lasso can generate coefficients that are zero, dropping them from the model and making it simpler.\n",
    "\n",
    "The `Lasso` regression is part of `linear_models` in scikit-learn [(docs)](https://scikit-learn.org/stable/modules/generated/sklearn.linear_model.Lasso.html).   "
   ]
  },
  {
   "cell_type": "code",
   "execution_count": 20,
   "metadata": {},
   "outputs": [
    {
     "name": "stdout",
     "output_type": "stream",
     "text": [
      "[ 342.89783759   56.76284806   31.72132886  150.32357815  -10.80369482\n",
      "  -28.78042787   25.90056085 -299.74466361  -95.90077659 -346.15890107\n",
      "  256.90508626  448.24973975 -157.47305179]\n",
      "The l2 norm of the lasso(a=0) coefficients is 2251.6.\n"
     ]
    },
    {
     "name": "stderr",
     "output_type": "stream",
     "text": [
      "/Users/travis/anaconda3/lib/python3.6/site-packages/ipykernel_launcher.py:1: UserWarning: With alpha=0, this algorithm does not converge well. You are advised to use the LinearRegression estimator\n",
      "  \"\"\"Entry point for launching an IPython kernel.\n",
      "/Users/travis/anaconda3/lib/python3.6/site-packages/sklearn/linear_model/coordinate_descent.py:477: UserWarning: Coordinate descent with no regularization may lead to unexpected results and is discouraged.\n",
      "  positive)\n",
      "/Users/travis/anaconda3/lib/python3.6/site-packages/sklearn/linear_model/coordinate_descent.py:491: ConvergenceWarning: Objective did not converge. You might want to increase the number of iterations. Fitting data with very small alpha may cause precision problems.\n",
      "  ConvergenceWarning)\n"
     ]
    }
   ],
   "source": [
    "res_lasso_0 = linear_model.Lasso(alpha = 0.0).fit(X, base['Salary'])\n",
    "coef_norm_l0 = np.linalg.norm(res_lasso_0.coef_, ord=1)\n",
    "\n",
    "print(res_lasso_0.coef_)\n",
    "print('The l2 norm of the lasso(a=0) coefficients is {0:5.1f}.'.format(coef_norm_l0))"
   ]
  },
  {
   "cell_type": "code",
   "execution_count": 21,
   "metadata": {},
   "outputs": [
    {
     "name": "stdout",
     "output_type": "stream",
     "text": [
      "        var     lasso 2\n",
      "0      Hits  289.542400\n",
      "1       RBI   68.101418\n",
      "2     HmRun    2.138459\n",
      "3     Walks  123.811873\n",
      "4    Errors   -3.454889\n",
      "5     Years  -47.045848\n",
      "6   Assists    4.797088\n",
      "7     AtBat -260.218269\n",
      "8      Runs  -41.705288\n",
      "9    CAtBat   -0.000000\n",
      "10    CHits   10.262085\n",
      "11    CRuns  336.280067\n",
      "12   CWalks -123.029009\n",
      "\n",
      "The l1 norm of the lasso(a=2) coefficients is 1310.4.\n"
     ]
    }
   ],
   "source": [
    "res_lasso_2 = linear_model.Lasso(alpha = 2.0).fit(X, base['Salary'])\n",
    "coef_norm_2 = np.linalg.norm(res_lasso_2.coef_, ord=1)\n",
    "\n",
    "lassos = pd.DataFrame({'var':var_list, 'lasso 2': res_lasso_2.coef_}) \n",
    "print(lassos)\n",
    "print('\\nThe l1 norm of the lasso(a=2) coefficients is {0:5.1f}.'.format(coef_norm_2))"
   ]
  },
  {
   "cell_type": "markdown",
   "metadata": {},
   "source": [
    "## Practice\n",
    "Take a few minutes and try the following. Feel free to chat with those around if you get stuck. The TA and I are here, too."
   ]
  },
  {
   "cell_type": "markdown",
   "metadata": {},
   "source": [
    "1. Try estimating a lasso regression when $\\alpha = 5$. Compare the coefficient vector to the lasso with $\\alpha=2$ from above."
   ]
  },
  {
   "cell_type": "code",
   "execution_count": 23,
   "metadata": {},
   "outputs": [
    {
     "data": {
      "text/html": [
       "<div>\n",
       "<style scoped>\n",
       "    .dataframe tbody tr th:only-of-type {\n",
       "        vertical-align: middle;\n",
       "    }\n",
       "\n",
       "    .dataframe tbody tr th {\n",
       "        vertical-align: top;\n",
       "    }\n",
       "\n",
       "    .dataframe thead th {\n",
       "        text-align: right;\n",
       "    }\n",
       "</style>\n",
       "<table border=\"1\" class=\"dataframe\">\n",
       "  <thead>\n",
       "    <tr style=\"text-align: right;\">\n",
       "      <th></th>\n",
       "      <th>var</th>\n",
       "      <th>lasso 2</th>\n",
       "      <th>lasso 5</th>\n",
       "    </tr>\n",
       "  </thead>\n",
       "  <tbody>\n",
       "    <tr>\n",
       "      <th>0</th>\n",
       "      <td>Hits</td>\n",
       "      <td>289.542400</td>\n",
       "      <td>187.192908</td>\n",
       "    </tr>\n",
       "    <tr>\n",
       "      <th>1</th>\n",
       "      <td>RBI</td>\n",
       "      <td>68.101418</td>\n",
       "      <td>53.895913</td>\n",
       "    </tr>\n",
       "    <tr>\n",
       "      <th>2</th>\n",
       "      <td>HmRun</td>\n",
       "      <td>2.138459</td>\n",
       "      <td>0.000000</td>\n",
       "    </tr>\n",
       "    <tr>\n",
       "      <th>3</th>\n",
       "      <td>Walks</td>\n",
       "      <td>123.811873</td>\n",
       "      <td>84.479341</td>\n",
       "    </tr>\n",
       "    <tr>\n",
       "      <th>4</th>\n",
       "      <td>Errors</td>\n",
       "      <td>-3.454889</td>\n",
       "      <td>-4.387499</td>\n",
       "    </tr>\n",
       "    <tr>\n",
       "      <th>5</th>\n",
       "      <td>Years</td>\n",
       "      <td>-47.045848</td>\n",
       "      <td>-25.720740</td>\n",
       "    </tr>\n",
       "    <tr>\n",
       "      <th>6</th>\n",
       "      <td>Assists</td>\n",
       "      <td>4.797088</td>\n",
       "      <td>-0.000000</td>\n",
       "    </tr>\n",
       "    <tr>\n",
       "      <th>7</th>\n",
       "      <td>AtBat</td>\n",
       "      <td>-260.218269</td>\n",
       "      <td>-144.987736</td>\n",
       "    </tr>\n",
       "    <tr>\n",
       "      <th>8</th>\n",
       "      <td>Runs</td>\n",
       "      <td>-41.705288</td>\n",
       "      <td>-0.000000</td>\n",
       "    </tr>\n",
       "    <tr>\n",
       "      <th>9</th>\n",
       "      <td>CAtBat</td>\n",
       "      <td>-0.000000</td>\n",
       "      <td>-0.000000</td>\n",
       "    </tr>\n",
       "    <tr>\n",
       "      <th>10</th>\n",
       "      <td>CHits</td>\n",
       "      <td>10.262085</td>\n",
       "      <td>66.157744</td>\n",
       "    </tr>\n",
       "    <tr>\n",
       "      <th>11</th>\n",
       "      <td>CRuns</td>\n",
       "      <td>336.280067</td>\n",
       "      <td>180.220618</td>\n",
       "    </tr>\n",
       "    <tr>\n",
       "      <th>12</th>\n",
       "      <td>CWalks</td>\n",
       "      <td>-123.029009</td>\n",
       "      <td>-32.203122</td>\n",
       "    </tr>\n",
       "  </tbody>\n",
       "</table>\n",
       "</div>"
      ],
      "text/plain": [
       "        var     lasso 2     lasso 5\n",
       "0      Hits  289.542400  187.192908\n",
       "1       RBI   68.101418   53.895913\n",
       "2     HmRun    2.138459    0.000000\n",
       "3     Walks  123.811873   84.479341\n",
       "4    Errors   -3.454889   -4.387499\n",
       "5     Years  -47.045848  -25.720740\n",
       "6   Assists    4.797088   -0.000000\n",
       "7     AtBat -260.218269 -144.987736\n",
       "8      Runs  -41.705288   -0.000000\n",
       "9    CAtBat   -0.000000   -0.000000\n",
       "10    CHits   10.262085   66.157744\n",
       "11    CRuns  336.280067  180.220618\n",
       "12   CWalks -123.029009  -32.203122"
      ]
     },
     "execution_count": 23,
     "metadata": {},
     "output_type": "execute_result"
    }
   ],
   "source": [
    "res_lasso_5 = linear_model.Lasso(alpha = 5.0).fit(X, base['Salary'])\n",
    "coef_norm_5 = np.linalg.norm(res_lasso_5.coef_, ord=1)\n",
    "\n",
    "lassos = pd.DataFrame({'var':var_list, 'lasso 2':res_lasso_2.coef_, \"lasso 5\":res_lasso_5.coef_})\n",
    "lassos"
   ]
  },
  {
   "cell_type": "markdown",
   "metadata": {},
   "source": [
    "2. Estimate lasso regressions with $\\alpha$ equal to 10 and 200. What is happening to the coefficients? What is happening to the norm of the coefficients? Does this make sense? "
   ]
  },
  {
   "cell_type": "code",
   "execution_count": 26,
   "metadata": {},
   "outputs": [
    {
     "name": "stdout",
     "output_type": "stream",
     "text": [
      "        var     lasso 2     lasso 5    lasso 10  lasso 200\n",
      "0      Hits  289.542400  187.192908   75.623355   0.000000\n",
      "1       RBI   68.101418   53.895913   39.965107   0.000000\n",
      "2     HmRun    2.138459    0.000000    0.000000   0.000000\n",
      "3     Walks  123.811873   84.479341   62.899989   0.000000\n",
      "4    Errors   -3.454889   -4.387499   -8.154722   0.000000\n",
      "5     Years  -47.045848  -25.720740   -0.000000   0.000000\n",
      "6   Assists    4.797088   -0.000000   -0.000000   0.000000\n",
      "7     AtBat -260.218269 -144.987736   -0.000000   0.000000\n",
      "8      Runs  -41.705288   -0.000000    0.000000   0.000000\n",
      "9    CAtBat   -0.000000   -0.000000    0.000000   0.000000\n",
      "10    CHits   10.262085   66.157744   56.927126   0.000000\n",
      "11    CRuns  336.280067  180.220618  135.248380  53.351392\n",
      "12   CWalks -123.029009  -32.203122   -0.000000   0.000000\n",
      "\n",
      "The norm of the lasso(a=2) coefficients is 1310.4\n",
      "\n",
      "The norm of the lasso(a=5) coefficients is 779.2\n",
      "\n",
      "The norm of the lasso(a=10) coefficients is 378.8\n",
      "\n",
      "The norm of the lasso(a=200) coefficients is 53.4\n"
     ]
    }
   ],
   "source": [
    "res_lasso_10 = linear_model.Lasso(alpha = 10.0).fit(X, base['Salary'])\n",
    "coef_norm_10 = np.linalg.norm(res_lasso_10.coef_, ord=1)\n",
    "\n",
    "res_lasso_200 = linear_model.Lasso(alpha = 200.0).fit(X, base['Salary'])\n",
    "coef_norm_200 = np.linalg.norm(res_lasso_200.coef_, ord=1)\n",
    "\n",
    "lassos = pd.DataFrame({'var':var_list, 'lasso 2':res_lasso_2.coef_, \"lasso 5\":res_lasso_5.coef_, \n",
    "                       \"lasso 10\":res_lasso_10.coef_, \"lasso 200\":res_lasso_200.coef_})\n",
    "print(lassos)\n",
    "a = [2, 5, 10, 200]\n",
    "coef_norm = [coef_norm_2, coef_norm_5, coef_norm_10, coef_norm_200]\n",
    "i = 0\n",
    "for var in a: \n",
    "    print(\"\\nThe norm of the lasso(a={})\".format(var), \"coefficients is {0:4.1f}\".format(coef_norm[i]))\n",
    "    i = i + 1"
   ]
  },
  {
   "cell_type": "markdown",
   "metadata": {},
   "source": [
    "3. Use the `LassoCV()` function [(docs)](https://scikit-learn.org/stable/modules/generated/sklearn.linear_model.LassoCV.html#sklearn.linear_model.LassoCV) to estimate lasso regressions for the following grid of alphas:\n",
    "```python\n",
    "alpha_grid = [1, 1.5, 2, 3, 4, 5, 6, 8, 10]\n",
    "```\n",
    "Set the `cv` parameter to 10. This means the method will use k-fold cross validation with k=10."
   ]
  },
  {
   "cell_type": "code",
   "execution_count": 27,
   "metadata": {},
   "outputs": [],
   "source": [
    "alpha_grid = [1, 1.5, 2, 3, 4, 5, 6, 8, 10]\n",
    "\n",
    "LassoModel = linear_model.LassoCV(alphas=alpha_grid, cv=10).fit(X, base.Salary)"
   ]
  },
  {
   "cell_type": "markdown",
   "metadata": {},
   "source": [
    "4. Which $\\alpha$ worked best? \n",
    "5. Use the `.mse_path_` attribute of the object returned by `LassoCV()` to return a (9,10) sized array. The 9 corresponds to the number of alphas and the 10 corresponds to the test mses from the 10-fold cross validation the function is using. "
   ]
  },
  {
   "cell_type": "code",
   "execution_count": 30,
   "metadata": {},
   "outputs": [
    {
     "name": "stdout",
     "output_type": "stream",
     "text": [
      "The best alpha from the candidate alphas for Lasso regression is 2.0.\n",
      "[[ 59715.45367525  40325.34629318 248441.91775733 102133.40225221\n",
      "  135626.58114878  91300.43734036 290687.83887259 114133.23332923\n",
      "   75302.6025012  111842.68754428]\n",
      " [ 62267.10326526  40614.58420742 246838.92085146 100362.85290138\n",
      "  133602.83519904  90579.28724818 292537.70413761 118046.56171965\n",
      "   76584.49546511 111928.76197747]\n",
      " [ 67553.82290672  41537.28766873 240442.49097707  96252.73211127\n",
      "  131157.54015128  90802.56340968 289330.92141273 122781.23550956\n",
      "   81206.42903536 106662.7529034 ]\n",
      " [ 70495.39299391  41858.73905725 236679.13919188  92603.36939772\n",
      "  128543.52970488  91294.18805385 285868.64189977 125913.78872457\n",
      "   83177.63932055 101999.64271963]\n",
      " [ 73848.52629952  41151.75163075 230450.94620454  90531.23594616\n",
      "  126024.39306217  92180.97774063 282279.51051266 130457.8941669\n",
      "   84956.6190894   97712.14570727]\n",
      " [ 77864.94959285  40572.59262406 223585.51442406  89141.05713518\n",
      "  124045.91149555  93633.53989815 278629.4203275  135509.24181038\n",
      "   87496.85904708  93943.05276899]\n",
      " [ 82363.27852277  39040.88874203 217331.17261732  88294.3611948\n",
      "  122635.73230375  95001.97024334 275226.8483902  140981.00992522\n",
      "   90909.62133671  89747.2339065 ]\n",
      " [ 83772.81109736  38417.21709388 214169.56781793  88564.61175082\n",
      "  122544.92611894  95752.61354281 275805.36199734 144346.59793266\n",
      "   93796.8815303   87845.34945082]\n",
      " [ 84574.78642874  37773.42708953 210061.95397108  89489.47193079\n",
      "  123220.24273919  96538.0128406  276895.96901921 150193.34993902\n",
      "   97030.56304451  85911.12658242]]\n",
      "(9, 10)\n"
     ]
    }
   ],
   "source": [
    "print('The best alpha from the candidate alphas for Lasso regression is {0}.'.format(LassoModel.alpha_))\n",
    "\n",
    "print(LassoModel.mse_path_)\n",
    "\n",
    "print(LassoModel.mse_path_.shape)"
   ]
  },
  {
   "cell_type": "markdown",
   "metadata": {},
   "source": [
    "6. Create a plot with $\\alpha$ on the x-axis and the average test mse on the y-axis. To make sure the mse correspond to the correct alpha, use the `.alphas_` attribute of the results object for the x values. "
   ]
  },
  {
   "cell_type": "code",
   "execution_count": 44,
   "metadata": {},
   "outputs": [
    {
     "data": {
      "image/png": "[encoded data removed]",
      "text/plain": [
       "<Figure size 432x288 with 1 Axes>"
      ]
     },
     "metadata": {
      "needs_background": "light"
     },
     "output_type": "display_data"
    }
   ],
   "source": [
    "fig, ax = plt.subplots()\n",
    "\n",
    "ax.plot(LassoModel.alphas_, LassoModel.mse_path_.mean(axis=1), marker=\"o\")\n",
    "ax.spines[\"top\"].set_visible(False)\n",
    "ax.spines[\"right\"].set_visible(False)\n",
    "ax.set_title(\"Average Test MSE for Different alphas\")\n",
    "ax.set_xlabel(\"alpha\")\n",
    "ax.set_ylabel(\"Average Test MSE\")\n",
    "\n",
    "plt.show()"
   ]
  },
  {
   "cell_type": "markdown",
   "metadata": {},
   "source": [
    "7. Now let the computer sort out the best tuning parameter. Call `LassoCV()` as before, but do not use the 'alphas' argument. The algorithm will search for the best $\\alpha$.  \n",
    "\n",
    "What is the optimal $\\alpha$? \n",
    "\n",
    "What $\\alpha$'s did the algorithm try? \\[Use the `.alphas_` attribute.\\]"
   ]
  },
  {
   "cell_type": "code",
   "execution_count": 39,
   "metadata": {},
   "outputs": [
    {
     "name": "stdout",
     "output_type": "stream",
     "text": [
      "The best alpha from the candidate alphas for Lasso regression is 2.0550112515416843.\n",
      "The algorithm tried the following alphas:\n",
      " [2.53351392e+02 2.36276356e+02 2.20352121e+02 2.05501125e+02\n",
      " 1.91651037e+02 1.78734399e+02 1.66688298e+02 1.55454065e+02\n",
      " 1.44976981e+02 1.35206018e+02 1.26093585e+02 1.17595299e+02\n",
      " 1.09669770e+02 1.02278394e+02 9.53851728e+01 8.89565314e+01\n",
      " 8.29611589e+01 7.73698544e+01 7.21553852e+01 6.72923537e+01\n",
      " 6.27570743e+01 5.85274575e+01 5.45829028e+01 5.09041978e+01\n",
      " 4.74734253e+01 4.42738753e+01 4.12899643e+01 3.85071589e+01\n",
      " 3.59119052e+01 3.34915630e+01 3.12343438e+01 2.91292535e+01\n",
      " 2.71660393e+01 2.53351392e+01 2.36276356e+01 2.20352121e+01\n",
      " 2.05501125e+01 1.91651037e+01 1.78734399e+01 1.66688298e+01\n",
      " 1.55454065e+01 1.44976981e+01 1.35206018e+01 1.26093585e+01\n",
      " 1.17595299e+01 1.09669770e+01 1.02278394e+01 9.53851728e+00\n",
      " 8.89565314e+00 8.29611589e+00 7.73698544e+00 7.21553852e+00\n",
      " 6.72923537e+00 6.27570743e+00 5.85274575e+00 5.45829028e+00\n",
      " 5.09041978e+00 4.74734253e+00 4.42738753e+00 4.12899643e+00\n",
      " 3.85071589e+00 3.59119052e+00 3.34915630e+00 3.12343438e+00\n",
      " 2.91292535e+00 2.71660393e+00 2.53351392e+00 2.36276356e+00\n",
      " 2.20352121e+00 2.05501125e+00 1.91651037e+00 1.78734399e+00\n",
      " 1.66688298e+00 1.55454065e+00 1.44976981e+00 1.35206018e+00\n",
      " 1.26093585e+00 1.17595299e+00 1.09669770e+00 1.02278394e+00\n",
      " 9.53851728e-01 8.89565314e-01 8.29611589e-01 7.73698544e-01\n",
      " 7.21553852e-01 6.72923537e-01 6.27570743e-01 5.85274575e-01\n",
      " 5.45829028e-01 5.09041978e-01 4.74734253e-01 4.42738753e-01\n",
      " 4.12899643e-01 3.85071589e-01 3.59119052e-01 3.34915630e-01\n",
      " 3.12343438e-01 2.91292535e-01 2.71660393e-01 2.53351392e-01]\n"
     ]
    }
   ],
   "source": [
    "LassoModel_comp = linear_model.LassoCV(cv=10).fit(X, base.Salary)\n",
    "\n",
    "print('The best alpha from the candidate alphas for Lasso regression is {0}.'.format(LassoModel_comp.alpha_))\n",
    "\n",
    "print(\"The algorithm tried the following alphas:\\n\", LassoModel_comp.alphas_)"
   ]
  },
  {
   "cell_type": "markdown",
   "metadata": {},
   "source": [
    "8. Using the `mse_path_` and `alphas_` attributes, create a plot with $\\alpha$ on the x-axis and the average test mse on the y-axis."
   ]
  },
  {
   "cell_type": "code",
   "execution_count": 46,
   "metadata": {},
   "outputs": [
    {
     "data": {
      "image/png": "[encoded data removed]",
      "text/plain": [
       "<Figure size 432x288 with 1 Axes>"
      ]
     },
     "metadata": {
      "needs_background": "light"
     },
     "output_type": "display_data"
    }
   ],
   "source": [
    "fig, ax = plt.subplots()\n",
    "\n",
    "ax.plot(LassoModel_comp.alphas_, LassoModel_comp.mse_path_.mean(axis=1))\n",
    "ax.spines[\"top\"].set_visible(False)\n",
    "ax.spines[\"right\"].set_visible(False)\n",
    "ax.set_title(\"Average Test MSE for Different alphas, Searched by the Computer\")\n",
    "ax.set_xlabel(\"alpha\")\n",
    "ax.set_ylabel(\"Average Test MSE\")\n",
    "\n",
    "plt.show()"
   ]
  },
  {
   "cell_type": "markdown",
   "metadata": {},
   "source": [
    "9. Display the optimal coefficient vector. Did the lasso eliminate any variables? "
   ]
  },
  {
   "cell_type": "code",
   "execution_count": 43,
   "metadata": {},
   "outputs": [
    {
     "name": "stdout",
     "output_type": "stream",
     "text": [
      "        var  lasso_coef\n",
      "0      Hits  286.786874\n",
      "1       RBI   68.325339\n",
      "2     HmRun    1.474243\n",
      "3     Walks  122.818539\n",
      "4    Errors   -3.312956\n",
      "5     Years  -46.653438\n",
      "6   Assists    4.403061\n",
      "7     AtBat -257.913655\n",
      "8      Runs  -39.978953\n",
      "9    CAtBat   -0.000000\n",
      "10    CHits   11.966717\n",
      "11    CRuns  332.473667\n",
      "12   CWalks -121.022429\n",
      "The Lasso regression eliminated variable 'CAtBat'\n"
     ]
    }
   ],
   "source": [
    "lasso_comp = pd.DataFrame({\"var\":var_list, \"lasso_coef\":LassoModel_comp.coef_})\n",
    "print(lasso_comp)\n",
    "\n",
    "print(\"The Lasso regression eliminated variable 'CAtBat'\")"
   ]
  },
  {
   "cell_type": "code",
   "execution_count": null,
   "metadata": {},
   "outputs": [],
   "source": []
  }
 ],
 "metadata": {
  "celltoolbar": "Attachments",
  "kernelspec": {
   "display_name": "Python 3",
   "language": "python",
   "name": "python3"
  },
  "language_info": {
   "codemirror_mode": {
    "name": "ipython",
    "version": 3
   },
   "file_extension": ".py",
   "mimetype": "text/x-python",
   "name": "python",
   "nbconvert_exporter": "python",
   "pygments_lexer": "ipython3",
   "version": "3.6.6"
  }
 },
 "nbformat": 4,
 "nbformat_minor": 2
}
