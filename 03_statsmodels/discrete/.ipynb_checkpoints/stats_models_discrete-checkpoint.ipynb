{
 "cells": [
  {
   "cell_type": "markdown",
   "metadata": {},
   "source": [
    "# Regression with discrete dependent variables\n",
    "\n",
    "files needed = ('pntsprd.dta', 'apple.dta')\n",
    "\n",
    "We continue to learn about the statsmodels package [(docs)](https://devdocs.io/statsmodels/), which provides functions for formulating and estimating statistical models. Econometrics is a prerequisite for this course, so this notebook will not address the models, per se, but will focus on how to take what you learned in econometrics class and use it in python. \n",
    "\n",
    "In this notebook we take on models in which the dependent variable is discrete. In the examples below, the dependent variable is binary (which makes it easier to visualize), but many of the techniques we demo here can be extended to dependent variables with a discrete number of values.  \n",
    "\n",
    "[Here](http://www.statsmodels.org/0.6.1/examples/notebooks/generated/discrete_choice_overview.html) is a nice overview of the discrete choice models in statsmodels. "
   ]
  },
  {
   "cell_type": "code",
   "execution_count": 15,
   "metadata": {},
   "outputs": [],
   "source": [
    "import pandas as pd                    # for data handling\n",
    "import numpy as np                     # for numerical methods and data structures\n",
    "import matplotlib.pyplot as plt        # for plotting\n",
    "import seaborn as sea                  # advanced plotting\n",
    "\n",
    "import statsmodels.formula.api as smf  # provides a way to directly spec models from formulas"
   ]
  },
  {
   "cell_type": "markdown",
   "metadata": {},
   "source": [
    "### Reading Stata data files\n",
    "\n",
    "Let's continue to work on problems from Wooldridge's textbook in econometrics. We read the (mercifully) cleaned data files using the pandas method `.read_stata( )` that [reads stata files](http://pandas.pydata.org/pandas-docs/stable/generated/pandas.read_stata.html). \n",
    "\n",
    "The file 'pntsprd.dta' contains data about vegas betting. The complete variable list is [here](http://fmwww.bc.edu/ec-p/data/wooldridge/pntsprd.des). We will use `favwin` which is equal to 1 if the favored team won and zero otherwise and `spread` which holds the betting spread. In this context, a spread is the number of points that the favored team must beat the unfavored team by in order to be counted as a win by the favored team.    "
   ]
  },
  {
   "cell_type": "code",
   "execution_count": 16,
   "metadata": {},
   "outputs": [
    {
     "data": {
      "text/html": [
       "<div>\n",
       "<style scoped>\n",
       "    .dataframe tbody tr th:only-of-type {\n",
       "        vertical-align: middle;\n",
       "    }\n",
       "\n",
       "    .dataframe tbody tr th {\n",
       "        vertical-align: top;\n",
       "    }\n",
       "\n",
       "    .dataframe thead th {\n",
       "        text-align: right;\n",
       "    }\n",
       "</style>\n",
       "<table border=\"1\" class=\"dataframe\">\n",
       "  <thead>\n",
       "    <tr style=\"text-align: right;\">\n",
       "      <th></th>\n",
       "      <th>favscr</th>\n",
       "      <th>undscr</th>\n",
       "      <th>spread</th>\n",
       "      <th>favhome</th>\n",
       "      <th>neutral</th>\n",
       "      <th>fav25</th>\n",
       "      <th>und25</th>\n",
       "      <th>fregion</th>\n",
       "      <th>uregion</th>\n",
       "      <th>scrdiff</th>\n",
       "      <th>sprdcvr</th>\n",
       "      <th>favwin</th>\n",
       "    </tr>\n",
       "  </thead>\n",
       "  <tbody>\n",
       "    <tr>\n",
       "      <th>0</th>\n",
       "      <td>72.0</td>\n",
       "      <td>61.0</td>\n",
       "      <td>7.0</td>\n",
       "      <td>0.0</td>\n",
       "      <td>0.0</td>\n",
       "      <td>1.0</td>\n",
       "      <td>0.0</td>\n",
       "      <td>3.0</td>\n",
       "      <td>4.0</td>\n",
       "      <td>11.0</td>\n",
       "      <td>1.0</td>\n",
       "      <td>1.0</td>\n",
       "    </tr>\n",
       "    <tr>\n",
       "      <th>1</th>\n",
       "      <td>82.0</td>\n",
       "      <td>74.0</td>\n",
       "      <td>7.0</td>\n",
       "      <td>1.0</td>\n",
       "      <td>0.0</td>\n",
       "      <td>0.0</td>\n",
       "      <td>0.0</td>\n",
       "      <td>3.0</td>\n",
       "      <td>1.0</td>\n",
       "      <td>8.0</td>\n",
       "      <td>1.0</td>\n",
       "      <td>1.0</td>\n",
       "    </tr>\n",
       "    <tr>\n",
       "      <th>2</th>\n",
       "      <td>87.0</td>\n",
       "      <td>57.0</td>\n",
       "      <td>17.0</td>\n",
       "      <td>1.0</td>\n",
       "      <td>0.0</td>\n",
       "      <td>0.0</td>\n",
       "      <td>0.0</td>\n",
       "      <td>3.0</td>\n",
       "      <td>3.0</td>\n",
       "      <td>30.0</td>\n",
       "      <td>1.0</td>\n",
       "      <td>1.0</td>\n",
       "    </tr>\n",
       "    <tr>\n",
       "      <th>3</th>\n",
       "      <td>69.0</td>\n",
       "      <td>70.0</td>\n",
       "      <td>9.0</td>\n",
       "      <td>1.0</td>\n",
       "      <td>0.0</td>\n",
       "      <td>0.0</td>\n",
       "      <td>0.0</td>\n",
       "      <td>3.0</td>\n",
       "      <td>3.0</td>\n",
       "      <td>-1.0</td>\n",
       "      <td>0.0</td>\n",
       "      <td>0.0</td>\n",
       "    </tr>\n",
       "    <tr>\n",
       "      <th>4</th>\n",
       "      <td>77.0</td>\n",
       "      <td>79.0</td>\n",
       "      <td>2.5</td>\n",
       "      <td>0.0</td>\n",
       "      <td>0.0</td>\n",
       "      <td>0.0</td>\n",
       "      <td>0.0</td>\n",
       "      <td>2.0</td>\n",
       "      <td>3.0</td>\n",
       "      <td>-2.0</td>\n",
       "      <td>0.0</td>\n",
       "      <td>0.0</td>\n",
       "    </tr>\n",
       "  </tbody>\n",
       "</table>\n",
       "</div>"
      ],
      "text/plain": [
       "   favscr  undscr  spread  favhome  neutral  fav25  und25  fregion  uregion  \\\n",
       "0    72.0    61.0     7.0      0.0      0.0    1.0    0.0      3.0      4.0   \n",
       "1    82.0    74.0     7.0      1.0      0.0    0.0    0.0      3.0      1.0   \n",
       "2    87.0    57.0    17.0      1.0      0.0    0.0    0.0      3.0      3.0   \n",
       "3    69.0    70.0     9.0      1.0      0.0    0.0    0.0      3.0      3.0   \n",
       "4    77.0    79.0     2.5      0.0      0.0    0.0    0.0      2.0      3.0   \n",
       "\n",
       "   scrdiff  sprdcvr  favwin  \n",
       "0     11.0      1.0     1.0  \n",
       "1      8.0      1.0     1.0  \n",
       "2     30.0      1.0     1.0  \n",
       "3     -1.0      0.0     0.0  \n",
       "4     -2.0      0.0     0.0  "
      ]
     },
     "execution_count": 16,
     "metadata": {},
     "output_type": "execute_result"
    }
   ],
   "source": [
    "# Use pandas read_stata method to get the stata formatted data file into a DataFrame.\n",
    "vegas = pd.read_stata('pntsprd.dta')\n",
    "\n",
    "# Take a look...so clean!\n",
    "vegas.head()"
   ]
  },
  {
   "cell_type": "code",
   "execution_count": 17,
   "metadata": {},
   "outputs": [
    {
     "name": "stdout",
     "output_type": "stream",
     "text": [
      "<class 'pandas.core.frame.DataFrame'>\n",
      "Int64Index: 553 entries, 0 to 552\n",
      "Data columns (total 12 columns):\n",
      "favscr     553 non-null float32\n",
      "undscr     553 non-null float32\n",
      "spread     553 non-null float32\n",
      "favhome    553 non-null float32\n",
      "neutral    553 non-null float32\n",
      "fav25      553 non-null float32\n",
      "und25      553 non-null float32\n",
      "fregion    553 non-null float32\n",
      "uregion    553 non-null float32\n",
      "scrdiff    553 non-null float32\n",
      "sprdcvr    553 non-null float32\n",
      "favwin     553 non-null float32\n",
      "dtypes: float32(12)\n",
      "memory usage: 30.2 KB\n"
     ]
    }
   ],
   "source": [
    "vegas.info()"
   ]
  },
  {
   "cell_type": "code",
   "execution_count": 18,
   "metadata": {},
   "outputs": [
    {
     "data": {
      "image/png": "[encoded data removed]",
      "text/plain": [
       "<Figure size 1080x432 with 1 Axes>"
      ]
     },
     "metadata": {
      "needs_background": "light"
     },
     "output_type": "display_data"
    }
   ],
   "source": [
    "fig, ax = plt.subplots(figsize=(15,6))\n",
    "\n",
    "ax.scatter( vegas['spread'], vegas['favwin'], facecolors='none', edgecolors='red')\n",
    "\n",
    "ax.set_ylabel('favored team outcome (win = 1, loss = 0)')\n",
    "ax.set_xlabel('point spread')\n",
    "ax.set_title('The data from the point spread dataset')\n",
    "\n",
    "sea.despine(ax=ax)"
   ]
  },
  {
   "cell_type": "markdown",
   "metadata": {},
   "source": [
    "### OLS\n",
    "\n",
    "We begin with the linear probability model. The model is \n",
    "\n",
    "$$\\text{Pr}(favwin=1 \\mid spread) = \\beta_0 + \\beta_1 spread + \\epsilon .$$\n",
    "\n",
    "There is nothing new here technique-wise. We are estimating this with ols. "
   ]
  },
  {
   "cell_type": "code",
   "execution_count": 19,
   "metadata": {},
   "outputs": [
    {
     "name": "stdout",
     "output_type": "stream",
     "text": [
      "                            OLS Regression Results                            \n",
      "==============================================================================\n",
      "Dep. Variable:                 favwin   R-squared:                       0.111\n",
      "Model:                            OLS   Adj. R-squared:                  0.109\n",
      "Method:                 Least Squares   F-statistic:                     68.57\n",
      "Date:                Mon, 19 Nov 2018   Prob (F-statistic):           9.32e-16\n",
      "Time:                        16:55:19   Log-Likelihood:                -279.29\n",
      "No. Observations:                 553   AIC:                             562.6\n",
      "Df Residuals:                     551   BIC:                             571.2\n",
      "Df Model:                           1                                         \n",
      "Covariance Type:            nonrobust                                         \n",
      "==============================================================================\n",
      "                 coef    std err          t      P>|t|      [0.025      0.975]\n",
      "------------------------------------------------------------------------------\n",
      "Intercept      0.5769      0.028     20.434      0.000       0.521       0.632\n",
      "spread         0.0194      0.002      8.281      0.000       0.015       0.024\n",
      "==============================================================================\n",
      "Omnibus:                       86.055   Durbin-Watson:                   2.112\n",
      "Prob(Omnibus):                  0.000   Jarque-Bera (JB):               94.402\n",
      "Skew:                          -0.956   Prob(JB):                     3.17e-21\n",
      "Kurtosis:                       2.336   Cond. No.                         20.0\n",
      "==============================================================================\n",
      "\n",
      "Warnings:\n",
      "[1] Standard Errors assume that the covariance matrix of the errors is correctly specified.\n"
     ]
    }
   ],
   "source": [
    "# statsmodels adds a constant for us...\n",
    "res_ols = smf.ols('favwin ~ spread', data=vegas).fit()\n",
    "\n",
    "print(res_ols.summary())"
   ]
  },
  {
   "cell_type": "markdown",
   "metadata": {},
   "source": [
    "### Hypothesis testing with t-test\n",
    "If bookies were all-knowing, the spread would **exactly** account for the predictable winning probability and all we would be left with is the noise --- the intercept should be one-half. Is it true in the data? We can use the `t_test( )` method of the results object to perform t-tests. \n",
    "\n",
    "The null hypothesis is $H_0: \\beta_0 = 0.5$ and the alternative hypothesis is $H_1: \\beta_0 \\neq 0.5$."
   ]
  },
  {
   "cell_type": "code",
   "execution_count": 20,
   "metadata": {},
   "outputs": [
    {
     "name": "stdout",
     "output_type": "stream",
     "text": [
      "                             Test for Constraints                             \n",
      "==============================================================================\n",
      "                 coef    std err          t      P>|t|      [0.025      0.975]\n",
      "------------------------------------------------------------------------------\n",
      "c0             0.5769      0.028      2.725      0.007       0.521       0.632\n",
      "==============================================================================\n"
     ]
    }
   ],
   "source": [
    "t_test = res_ols.t_test('Intercept = 0.5')\n",
    "print(t_test)"
   ]
  },
  {
   "cell_type": "markdown",
   "metadata": {},
   "source": [
    "Linear probability models have some problems. Perhaps the biggest one is that there is no guarantee that the predicted probability lies between zero and one! \n",
    "\n",
    "We can use the `predictedvalues` attribute of the results object to recover the fitted values of the y variables. Let's plot them and take a look. "
   ]
  },
  {
   "cell_type": "code",
   "execution_count": 21,
   "metadata": {
    "scrolled": false
   },
   "outputs": [
    {
     "data": {
      "image/png": "[encoded data removed]",
      "text/plain": [
       "<Figure size 1080x432 with 1 Axes>"
      ]
     },
     "metadata": {
      "needs_background": "light"
     },
     "output_type": "display_data"
    }
   ],
   "source": [
    "fig, ax = plt.subplots(figsize=(15,6))\n",
    "\n",
    "ax.scatter(vegas['spread'], res_ols.fittedvalues,  facecolors='none', edgecolors='red')\n",
    "ax.axhline(y=1.0, color='grey', linestyle='--')\n",
    "\n",
    "ax.set_ylabel('pedict probability of winning')\n",
    "ax.set_xlabel('point spread')\n",
    "ax.set_title('Predicted winning probabilities from an OLS model')\n",
    "\n",
    "sea.despine(ax=ax, trim=True)"
   ]
  },
  {
   "cell_type": "markdown",
   "metadata": {},
   "source": [
    "### Logistic regression (logit)\n",
    "The logistic regression passes the linear model through a non-linear function that constrains the output to lie between zero and one. (These functions are cumulative distribution functions.) In the logistic case, the function looks like\n",
    "\n",
    "$$\\text{prob} = \\frac{\\exp \\left({\\beta_0+\\beta_1 spread}\\right)}{1+\\exp \\left({\\beta_0+\\beta_1 spread}\\right)},$$\n",
    "\n",
    "and we predict a team wins when ever $\\text{prob} \\ge 0.5$.\n",
    "\n",
    "We estimate the logit model with `logit( )` method from `smf` in a way similar to ols. "
   ]
  },
  {
   "cell_type": "code",
   "execution_count": 22,
   "metadata": {},
   "outputs": [
    {
     "name": "stdout",
     "output_type": "stream",
     "text": [
      "Optimization terminated successfully.\n",
      "         Current function value: 0.477218\n",
      "         Iterations 7\n",
      "                           Logit Regression Results                           \n",
      "==============================================================================\n",
      "Dep. Variable:                 favwin   No. Observations:                  553\n",
      "Model:                          Logit   Df Residuals:                      551\n",
      "Method:                           MLE   Df Model:                            1\n",
      "Date:                Mon, 19 Nov 2018   Pseudo R-squ.:                  0.1283\n",
      "Time:                        16:55:20   Log-Likelihood:                -263.90\n",
      "converged:                       True   LL-Null:                       -302.75\n",
      "                                        LLR p-value:                 1.201e-18\n",
      "==============================================================================\n",
      "                 coef    std err          z      P>|z|      [0.025      0.975]\n",
      "------------------------------------------------------------------------------\n",
      "Intercept     -0.0712      0.173     -0.411      0.681      -0.411       0.268\n",
      "spread         0.1632      0.023      7.236      0.000       0.119       0.207\n",
      "==============================================================================\n"
     ]
    }
   ],
   "source": [
    "res_log = smf.logit('favwin ~ spread', data=vegas).fit()\n",
    "print(res_log.summary())"
   ]
  },
  {
   "cell_type": "markdown",
   "metadata": {},
   "source": [
    "Interpreting logit coefficients is bit more complicated. The probability that a team wins is given by the expression\n",
    "\n",
    "$$\\text{prob} = \\frac{\\exp \\left({\\beta_0+\\beta_1 spread}\\right)}{1+\\exp \\left({\\beta_0+\\beta_1 spread}\\right)}$$\n",
    "\n",
    "The `res_log.fittedvalues` seems to hold the fitted value of $\\beta_0+\\beta_1 spread$ and not the estimated probability. Let's compute it using the exp method of numpy. \n"
   ]
  },
  {
   "cell_type": "code",
   "execution_count": 23,
   "metadata": {},
   "outputs": [
    {
     "data": {
      "text/plain": [
       "count    553.000000\n",
       "mean       0.763110\n",
       "std        0.151419\n",
       "min        0.523001\n",
       "25%        0.622491\n",
       "50%        0.774632\n",
       "75%        0.901500\n",
       "max        0.998157\n",
       "dtype: float64"
      ]
     },
     "execution_count": 23,
     "metadata": {},
     "output_type": "execute_result"
    }
   ],
   "source": [
    "pred_probs = np.exp(res_log.fittedvalues) /( 1+np.exp(res_log.fittedvalues) )\n",
    "pred_probs.describe()"
   ]
  },
  {
   "cell_type": "markdown",
   "metadata": {},
   "source": [
    "Plot the estimated probabilty of the favored team winning and the actual data. "
   ]
  },
  {
   "cell_type": "code",
   "execution_count": 24,
   "metadata": {},
   "outputs": [
    {
     "data": {
      "image/png": "[encoded data removed]",
      "text/plain": [
       "<Figure size 1080x432 with 1 Axes>"
      ]
     },
     "metadata": {
      "needs_background": "light"
     },
     "output_type": "display_data"
    }
   ],
   "source": [
    "fig, ax = plt.subplots(figsize=(15,6))\n",
    "\n",
    "ax.scatter(vegas['spread'], pred_probs,  facecolors='none', edgecolors='red', label='predicted')\n",
    "ax.scatter(vegas['spread'], vegas['favwin'],  facecolors='none', edgecolors='blue', label = 'data')\n",
    "ax.axhline(y=1.0, color='grey', linestyle='--')\n",
    "\n",
    "ax.set_ylabel('pedict probability of winning')\n",
    "ax.set_xlabel('point spread')\n",
    "ax.set_title('Predicted winning probabilities from a logit model')\n",
    "\n",
    "ax.legend(frameon=False)\n",
    "sea.despine(ax=ax, trim=True)"
   ]
  },
  {
   "cell_type": "markdown",
   "metadata": {},
   "source": [
    "## Practice\n",
    "\n",
    "Take a few minutes and try the following. Feel free to chat with those around you if you get stuck. The TA and I are here, too.\n",
    "\n",
    "1. Load the data 'apple.dta'. The data dictionary can be found [here](http://fmwww.bc.edu/ec-p/data/wooldridge/apple.des). The variable `ecolbs` is purchases of eco-friendly apples (whatever that means).  "
   ]
  },
  {
   "cell_type": "code",
   "execution_count": 27,
   "metadata": {},
   "outputs": [
    {
     "data": {
      "text/html": [
       "<div>\n",
       "<style scoped>\n",
       "    .dataframe tbody tr th:only-of-type {\n",
       "        vertical-align: middle;\n",
       "    }\n",
       "\n",
       "    .dataframe tbody tr th {\n",
       "        vertical-align: top;\n",
       "    }\n",
       "\n",
       "    .dataframe thead th {\n",
       "        text-align: right;\n",
       "    }\n",
       "</style>\n",
       "<table border=\"1\" class=\"dataframe\">\n",
       "  <thead>\n",
       "    <tr style=\"text-align: right;\">\n",
       "      <th></th>\n",
       "      <th>id</th>\n",
       "      <th>educ</th>\n",
       "      <th>date</th>\n",
       "      <th>state</th>\n",
       "      <th>regprc</th>\n",
       "      <th>ecoprc</th>\n",
       "      <th>inseason</th>\n",
       "      <th>hhsize</th>\n",
       "      <th>male</th>\n",
       "      <th>faminc</th>\n",
       "      <th>age</th>\n",
       "      <th>reglbs</th>\n",
       "      <th>ecolbs</th>\n",
       "      <th>numlt5</th>\n",
       "      <th>num5_17</th>\n",
       "      <th>num18_64</th>\n",
       "      <th>numgt64</th>\n",
       "    </tr>\n",
       "  </thead>\n",
       "  <tbody>\n",
       "    <tr>\n",
       "      <th>0</th>\n",
       "      <td>10002</td>\n",
       "      <td>16</td>\n",
       "      <td>111597</td>\n",
       "      <td>SD</td>\n",
       "      <td>1.19</td>\n",
       "      <td>1.19</td>\n",
       "      <td>1</td>\n",
       "      <td>4</td>\n",
       "      <td>0</td>\n",
       "      <td>45</td>\n",
       "      <td>43</td>\n",
       "      <td>2.0</td>\n",
       "      <td>2.000000</td>\n",
       "      <td>0</td>\n",
       "      <td>1</td>\n",
       "      <td>3</td>\n",
       "      <td>0</td>\n",
       "    </tr>\n",
       "    <tr>\n",
       "      <th>1</th>\n",
       "      <td>10004</td>\n",
       "      <td>16</td>\n",
       "      <td>121897</td>\n",
       "      <td>KS</td>\n",
       "      <td>0.59</td>\n",
       "      <td>0.79</td>\n",
       "      <td>0</td>\n",
       "      <td>1</td>\n",
       "      <td>0</td>\n",
       "      <td>65</td>\n",
       "      <td>37</td>\n",
       "      <td>0.0</td>\n",
       "      <td>2.000000</td>\n",
       "      <td>0</td>\n",
       "      <td>0</td>\n",
       "      <td>1</td>\n",
       "      <td>0</td>\n",
       "    </tr>\n",
       "    <tr>\n",
       "      <th>2</th>\n",
       "      <td>10034</td>\n",
       "      <td>18</td>\n",
       "      <td>111097</td>\n",
       "      <td>MI</td>\n",
       "      <td>0.59</td>\n",
       "      <td>0.99</td>\n",
       "      <td>1</td>\n",
       "      <td>3</td>\n",
       "      <td>0</td>\n",
       "      <td>65</td>\n",
       "      <td>44</td>\n",
       "      <td>0.0</td>\n",
       "      <td>2.666667</td>\n",
       "      <td>0</td>\n",
       "      <td>2</td>\n",
       "      <td>1</td>\n",
       "      <td>0</td>\n",
       "    </tr>\n",
       "    <tr>\n",
       "      <th>3</th>\n",
       "      <td>10035</td>\n",
       "      <td>12</td>\n",
       "      <td>111597</td>\n",
       "      <td>TN</td>\n",
       "      <td>0.89</td>\n",
       "      <td>1.09</td>\n",
       "      <td>1</td>\n",
       "      <td>2</td>\n",
       "      <td>1</td>\n",
       "      <td>55</td>\n",
       "      <td>55</td>\n",
       "      <td>3.0</td>\n",
       "      <td>0.000000</td>\n",
       "      <td>0</td>\n",
       "      <td>0</td>\n",
       "      <td>2</td>\n",
       "      <td>0</td>\n",
       "    </tr>\n",
       "    <tr>\n",
       "      <th>4</th>\n",
       "      <td>10039</td>\n",
       "      <td>15</td>\n",
       "      <td>122997</td>\n",
       "      <td>NY</td>\n",
       "      <td>0.89</td>\n",
       "      <td>1.09</td>\n",
       "      <td>0</td>\n",
       "      <td>1</td>\n",
       "      <td>1</td>\n",
       "      <td>25</td>\n",
       "      <td>22</td>\n",
       "      <td>0.0</td>\n",
       "      <td>3.000000</td>\n",
       "      <td>0</td>\n",
       "      <td>0</td>\n",
       "      <td>1</td>\n",
       "      <td>0</td>\n",
       "    </tr>\n",
       "  </tbody>\n",
       "</table>\n",
       "</div>"
      ],
      "text/plain": [
       "      id  educ    date state  regprc  ecoprc  inseason  hhsize  male  faminc  \\\n",
       "0  10002    16  111597    SD    1.19    1.19         1       4     0      45   \n",
       "1  10004    16  121897    KS    0.59    0.79         0       1     0      65   \n",
       "2  10034    18  111097    MI    0.59    0.99         1       3     0      65   \n",
       "3  10035    12  111597    TN    0.89    1.09         1       2     1      55   \n",
       "4  10039    15  122997    NY    0.89    1.09         0       1     1      25   \n",
       "\n",
       "   age  reglbs    ecolbs  numlt5  num5_17  num18_64  numgt64  \n",
       "0   43     2.0  2.000000       0        1         3        0  \n",
       "1   37     0.0  2.000000       0        0         1        0  \n",
       "2   44     0.0  2.666667       0        2         1        0  \n",
       "3   55     3.0  0.000000       0        0         2        0  \n",
       "4   22     0.0  3.000000       0        0         1        0  "
      ]
     },
     "execution_count": 27,
     "metadata": {},
     "output_type": "execute_result"
    }
   ],
   "source": [
    "apple = pd.read_stata(\"apple.dta\")\n",
    "apple.head()"
   ]
  },
  {
   "cell_type": "markdown",
   "metadata": {},
   "source": [
    "2. Create a variable named `ecobuy` that is equal to 1 if the observation has a positive purchase of eco-apples (i.e., ecolbs>0)."
   ]
  },
  {
   "cell_type": "code",
   "execution_count": 28,
   "metadata": {},
   "outputs": [
    {
     "data": {
      "text/html": [
       "<div>\n",
       "<style scoped>\n",
       "    .dataframe tbody tr th:only-of-type {\n",
       "        vertical-align: middle;\n",
       "    }\n",
       "\n",
       "    .dataframe tbody tr th {\n",
       "        vertical-align: top;\n",
       "    }\n",
       "\n",
       "    .dataframe thead th {\n",
       "        text-align: right;\n",
       "    }\n",
       "</style>\n",
       "<table border=\"1\" class=\"dataframe\">\n",
       "  <thead>\n",
       "    <tr style=\"text-align: right;\">\n",
       "      <th></th>\n",
       "      <th>id</th>\n",
       "      <th>educ</th>\n",
       "      <th>date</th>\n",
       "      <th>state</th>\n",
       "      <th>regprc</th>\n",
       "      <th>ecoprc</th>\n",
       "      <th>inseason</th>\n",
       "      <th>hhsize</th>\n",
       "      <th>male</th>\n",
       "      <th>faminc</th>\n",
       "      <th>age</th>\n",
       "      <th>reglbs</th>\n",
       "      <th>ecolbs</th>\n",
       "      <th>numlt5</th>\n",
       "      <th>num5_17</th>\n",
       "      <th>num18_64</th>\n",
       "      <th>numgt64</th>\n",
       "      <th>ecobuy</th>\n",
       "    </tr>\n",
       "  </thead>\n",
       "  <tbody>\n",
       "    <tr>\n",
       "      <th>0</th>\n",
       "      <td>10002</td>\n",
       "      <td>16</td>\n",
       "      <td>111597</td>\n",
       "      <td>SD</td>\n",
       "      <td>1.19</td>\n",
       "      <td>1.19</td>\n",
       "      <td>1</td>\n",
       "      <td>4</td>\n",
       "      <td>0</td>\n",
       "      <td>45</td>\n",
       "      <td>43</td>\n",
       "      <td>2.0</td>\n",
       "      <td>2.000000</td>\n",
       "      <td>0</td>\n",
       "      <td>1</td>\n",
       "      <td>3</td>\n",
       "      <td>0</td>\n",
       "      <td>1.0</td>\n",
       "    </tr>\n",
       "    <tr>\n",
       "      <th>1</th>\n",
       "      <td>10004</td>\n",
       "      <td>16</td>\n",
       "      <td>121897</td>\n",
       "      <td>KS</td>\n",
       "      <td>0.59</td>\n",
       "      <td>0.79</td>\n",
       "      <td>0</td>\n",
       "      <td>1</td>\n",
       "      <td>0</td>\n",
       "      <td>65</td>\n",
       "      <td>37</td>\n",
       "      <td>0.0</td>\n",
       "      <td>2.000000</td>\n",
       "      <td>0</td>\n",
       "      <td>0</td>\n",
       "      <td>1</td>\n",
       "      <td>0</td>\n",
       "      <td>1.0</td>\n",
       "    </tr>\n",
       "    <tr>\n",
       "      <th>2</th>\n",
       "      <td>10034</td>\n",
       "      <td>18</td>\n",
       "      <td>111097</td>\n",
       "      <td>MI</td>\n",
       "      <td>0.59</td>\n",
       "      <td>0.99</td>\n",
       "      <td>1</td>\n",
       "      <td>3</td>\n",
       "      <td>0</td>\n",
       "      <td>65</td>\n",
       "      <td>44</td>\n",
       "      <td>0.0</td>\n",
       "      <td>2.666667</td>\n",
       "      <td>0</td>\n",
       "      <td>2</td>\n",
       "      <td>1</td>\n",
       "      <td>0</td>\n",
       "      <td>1.0</td>\n",
       "    </tr>\n",
       "    <tr>\n",
       "      <th>3</th>\n",
       "      <td>10035</td>\n",
       "      <td>12</td>\n",
       "      <td>111597</td>\n",
       "      <td>TN</td>\n",
       "      <td>0.89</td>\n",
       "      <td>1.09</td>\n",
       "      <td>1</td>\n",
       "      <td>2</td>\n",
       "      <td>1</td>\n",
       "      <td>55</td>\n",
       "      <td>55</td>\n",
       "      <td>3.0</td>\n",
       "      <td>0.000000</td>\n",
       "      <td>0</td>\n",
       "      <td>0</td>\n",
       "      <td>2</td>\n",
       "      <td>0</td>\n",
       "      <td>0.0</td>\n",
       "    </tr>\n",
       "    <tr>\n",
       "      <th>4</th>\n",
       "      <td>10039</td>\n",
       "      <td>15</td>\n",
       "      <td>122997</td>\n",
       "      <td>NY</td>\n",
       "      <td>0.89</td>\n",
       "      <td>1.09</td>\n",
       "      <td>0</td>\n",
       "      <td>1</td>\n",
       "      <td>1</td>\n",
       "      <td>25</td>\n",
       "      <td>22</td>\n",
       "      <td>0.0</td>\n",
       "      <td>3.000000</td>\n",
       "      <td>0</td>\n",
       "      <td>0</td>\n",
       "      <td>1</td>\n",
       "      <td>0</td>\n",
       "      <td>1.0</td>\n",
       "    </tr>\n",
       "  </tbody>\n",
       "</table>\n",
       "</div>"
      ],
      "text/plain": [
       "      id  educ    date state  regprc  ecoprc  inseason  hhsize  male  faminc  \\\n",
       "0  10002    16  111597    SD    1.19    1.19         1       4     0      45   \n",
       "1  10004    16  121897    KS    0.59    0.79         0       1     0      65   \n",
       "2  10034    18  111097    MI    0.59    0.99         1       3     0      65   \n",
       "3  10035    12  111597    TN    0.89    1.09         1       2     1      55   \n",
       "4  10039    15  122997    NY    0.89    1.09         0       1     1      25   \n",
       "\n",
       "   age  reglbs    ecolbs  numlt5  num5_17  num18_64  numgt64  ecobuy  \n",
       "0   43     2.0  2.000000       0        1         3        0     1.0  \n",
       "1   37     0.0  2.000000       0        0         1        0     1.0  \n",
       "2   44     0.0  2.666667       0        2         1        0     1.0  \n",
       "3   55     3.0  0.000000       0        0         2        0     0.0  \n",
       "4   22     0.0  3.000000       0        0         1        0     1.0  "
      ]
     },
     "execution_count": 28,
     "metadata": {},
     "output_type": "execute_result"
    }
   ],
   "source": [
    "apple.loc[apple.ecolbs > 0, \"ecobuy\"] = 1\n",
    "apple.loc[apple.ecolbs <= 0, \"ecobuy\"] = 0\n",
    "apple.head()"
   ]
  },
  {
   "cell_type": "markdown",
   "metadata": {},
   "source": [
    "3. Estimate a linear probability model relating the probability of purchasing eco-apples to household characteristics. \n",
    "\n",
    "$$\\text{ecobuy} = \\beta_0 + \\beta_1 \\text{ecoprc} + \\beta_2 \\text{regprc} + \\beta_3 \\text{faminc} + \\beta_4 \\text{hhsize} + \\beta_5 \\text{educ} + \\beta_6 \\text{age} +  \\epsilon$$"
   ]
  },
  {
   "cell_type": "code",
   "execution_count": 29,
   "metadata": {},
   "outputs": [
    {
     "name": "stdout",
     "output_type": "stream",
     "text": [
      "                            OLS Regression Results                            \n",
      "==============================================================================\n",
      "Dep. Variable:                 ecobuy   R-squared:                       0.110\n",
      "Model:                            OLS   Adj. R-squared:                  0.102\n",
      "Method:                 Least Squares   F-statistic:                     14.75\n",
      "Date:                Mon, 19 Nov 2018   Prob (F-statistic):           7.63e-16\n",
      "Time:                        16:56:30   Log-Likelihood:                -419.60\n",
      "No. Observations:                 660   AIC:                             853.2\n",
      "Df Residuals:                     653   BIC:                             884.6\n",
      "Df Model:                           6                                         \n",
      "Covariance Type:                  HC3                                         \n",
      "==============================================================================\n",
      "                 coef    std err          z      P>|z|      [0.025      0.975]\n",
      "------------------------------------------------------------------------------\n",
      "Intercept      0.4237      0.169      2.506      0.012       0.092       0.755\n",
      "ecoprc        -0.8026      0.106     -7.551      0.000      -1.011      -0.594\n",
      "regprc         0.7193      0.131      5.492      0.000       0.463       0.976\n",
      "faminc         0.0006      0.001      1.033      0.302      -0.000       0.002\n",
      "hhsize         0.0238      0.013      1.891      0.059      -0.001       0.049\n",
      "educ           0.0248      0.009      2.907      0.004       0.008       0.041\n",
      "age           -0.0005      0.001     -0.393      0.694      -0.003       0.002\n",
      "==============================================================================\n",
      "Omnibus:                     4015.360   Durbin-Watson:                   2.084\n",
      "Prob(Omnibus):                  0.000   Jarque-Bera (JB):               69.344\n",
      "Skew:                          -0.411   Prob(JB):                     8.75e-16\n",
      "Kurtosis:                       1.641   Cond. No.                         724.\n",
      "==============================================================================\n",
      "\n",
      "Warnings:\n",
      "[1] Standard Errors are heteroscedasticity robust (HC3)\n"
     ]
    }
   ],
   "source": [
    "a_ols = smf.ols(\"ecobuy ~ ecoprc + regprc + faminc + hhsize + educ + age\", data=apple).fit(cov_type = 'HC3')\n",
    "print(a_ols.summary())"
   ]
  },
  {
   "cell_type": "markdown",
   "metadata": {},
   "source": [
    "4. How many estimated probabilities are negative? Are greater than zero?"
   ]
  },
  {
   "cell_type": "code",
   "execution_count": 44,
   "metadata": {},
   "outputs": [
    {
     "name": "stdout",
     "output_type": "stream",
     "text": [
      "There are 0 estimated probabilities that are negative.\n",
      "There are 660 estimated probabilities that are greater than 0.\n",
      "There are 2 estimated probabilities that are greater than 1.\n"
     ]
    }
   ],
   "source": [
    "print(\"There are\", len(a_ols.fittedvalues[a_ols.fittedvalues < 0]), \"estimated probabilities that are negative.\")\n",
    "print(\"There are\", len(a_ols.fittedvalues[a_ols.fittedvalues > 0]), \"estimated probabilities that are greater than 0.\")\n",
    "print(\"There are\", len(a_ols.fittedvalues[a_ols.fittedvalues > 1]), \"estimated probabilities that are greater than 1.\")"
   ]
  },
  {
   "cell_type": "markdown",
   "metadata": {},
   "source": [
    "5. Now estimate the model as a probit. A probit is similar to a logit in that we are passing the linear model through a nonlinear function. In this case, the nonlinear function is the cumulative density function of the normal distribution. \n",
    "\n",
    "$$\\text{Pr}(\\text{ecobuy}=1 \\mid X) = \\Phi \\left(\\beta_0 + \\beta_1 \\text{ecoprc} + \\beta_2 \\text{regprc} + \\beta_3 \\text{faminc} + \\beta_4 \\text{hhsize} + \\beta_5 \\text{educ} + \\beta_6 \\text{age} \\right),$$\n",
    "\n",
    "where $\\Phi( )$ is the CDF of the normal distribution. Try `sfm.probit( )`."
   ]
  },
  {
   "cell_type": "code",
   "execution_count": 45,
   "metadata": {},
   "outputs": [
    {
     "name": "stdout",
     "output_type": "stream",
     "text": [
      "Optimization terminated successfully.\n",
      "         Current function value: 0.604599\n",
      "         Iterations 5\n",
      "                          Probit Regression Results                           \n",
      "==============================================================================\n",
      "Dep. Variable:                 ecobuy   No. Observations:                  660\n",
      "Model:                         Probit   Df Residuals:                      653\n",
      "Method:                           MLE   Df Model:                            6\n",
      "Date:                Mon, 19 Nov 2018   Pseudo R-squ.:                 0.08664\n",
      "Time:                        17:02:26   Log-Likelihood:                -399.04\n",
      "converged:                       True   LL-Null:                       -436.89\n",
      "                                        LLR p-value:                 2.751e-14\n",
      "==============================================================================\n",
      "                 coef    std err          z      P>|z|      [0.025      0.975]\n",
      "------------------------------------------------------------------------------\n",
      "Intercept     -0.2438      0.480     -0.508      0.612      -1.185       0.697\n",
      "ecoprc        -2.2669      0.313     -7.252      0.000      -2.880      -1.654\n",
      "regprc         2.0302      0.375      5.416      0.000       1.295       2.765\n",
      "faminc         0.0014      0.002      0.912      0.362      -0.002       0.005\n",
      "hhsize         0.0691      0.037      1.872      0.061      -0.003       0.142\n",
      "educ           0.0714      0.025      2.887      0.004       0.023       0.120\n",
      "age           -0.0012      0.004     -0.342      0.733      -0.008       0.006\n",
      "==============================================================================\n"
     ]
    }
   ],
   "source": [
    "a_probit = smf.probit(\"ecobuy ~ ecoprc + regprc + faminc + hhsize + educ + age\", data=apple).fit(cov_type = 'HC3')\n",
    "print(a_probit.summary())"
   ]
  },
  {
   "cell_type": "markdown",
   "metadata": {},
   "source": [
    "6. Compute the **marginal effects** of the coefficients at **the means** and print them out using `summary()`. You can get the marginal effects from the results object using `.get_margeff()`  [(docs)](https://www.statsmodels.org/dev/generated/statsmodels.discrete.discrete_model.ProbitResults.get_margeff.html#statsmodels.discrete.discrete_model.ProbitResults.get_margeff). \n",
    "\n",
    "The marginal effect tells us the marginal change in predicted probability as the independent variables change."
   ]
  },
  {
   "cell_type": "code",
   "execution_count": 46,
   "metadata": {},
   "outputs": [
    {
     "name": "stdout",
     "output_type": "stream",
     "text": [
      "       Probit Marginal Effects       \n",
      "=====================================\n",
      "Dep. Variable:                 ecobuy\n",
      "Method:                          dydx\n",
      "At:                           overall\n",
      "==============================================================================\n",
      "                dy/dx    std err          z      P>|z|      [0.025      0.975]\n",
      "------------------------------------------------------------------------------\n",
      "ecoprc        -0.7801      0.095     -8.185      0.000      -0.967      -0.593\n",
      "regprc         0.6986      0.121      5.760      0.000       0.461       0.936\n",
      "faminc         0.0005      0.001      0.915      0.360      -0.001       0.002\n",
      "hhsize         0.0238      0.013      1.887      0.059      -0.001       0.049\n",
      "educ           0.0246      0.008      2.944      0.003       0.008       0.041\n",
      "age           -0.0004      0.001     -0.342      0.732      -0.003       0.002\n",
      "==============================================================================\n"
     ]
    }
   ],
   "source": [
    "a_probit_me = a_probit.get_margeff()\n",
    "print(a_probit_me.summary())"
   ]
  },
  {
   "cell_type": "markdown",
   "metadata": {},
   "source": [
    "7. Re-estimate the model as a logit model. "
   ]
  },
  {
   "cell_type": "code",
   "execution_count": 48,
   "metadata": {},
   "outputs": [
    {
     "name": "stdout",
     "output_type": "stream",
     "text": [
      "Optimization terminated successfully.\n",
      "         Current function value: 0.604746\n",
      "         Iterations 5\n",
      "                           Logit Regression Results                           \n",
      "==============================================================================\n",
      "Dep. Variable:                 ecobuy   No. Observations:                  660\n",
      "Model:                          Logit   Df Residuals:                      653\n",
      "Method:                           MLE   Df Model:                            6\n",
      "Date:                Mon, 19 Nov 2018   Pseudo R-squ.:                 0.08642\n",
      "Time:                        17:03:47   Log-Likelihood:                -399.13\n",
      "converged:                       True   LL-Null:                       -436.89\n",
      "                                        LLR p-value:                 3.017e-14\n",
      "==============================================================================\n",
      "                 coef    std err          z      P>|z|      [0.025      0.975]\n",
      "------------------------------------------------------------------------------\n",
      "Intercept     -0.4278      0.800     -0.534      0.593      -1.997       1.141\n",
      "ecoprc        -3.6773      0.514     -7.149      0.000      -4.685      -2.669\n",
      "regprc         3.2742      0.617      5.311      0.000       2.066       4.483\n",
      "faminc         0.0026      0.003      0.989      0.323      -0.003       0.008\n",
      "hhsize         0.1145      0.062      1.846      0.065      -0.007       0.236\n",
      "educ           0.1186      0.042      2.853      0.004       0.037       0.200\n",
      "age           -0.0022      0.006     -0.373      0.709      -0.014       0.009\n",
      "==============================================================================\n"
     ]
    }
   ],
   "source": [
    "a_logit = smf.logit(\"ecobuy ~ ecoprc + regprc + faminc + hhsize + educ + age\", data=apple).fit(cov_type = 'HC3')\n",
    "print(a_logit.summary())"
   ]
  },
  {
   "cell_type": "markdown",
   "metadata": {},
   "source": [
    "8. Compute the marginal effects of the logit coefficients. "
   ]
  },
  {
   "cell_type": "code",
   "execution_count": 49,
   "metadata": {},
   "outputs": [
    {
     "name": "stdout",
     "output_type": "stream",
     "text": [
      "        Logit Marginal Effects       \n",
      "=====================================\n",
      "Dep. Variable:                 ecobuy\n",
      "Method:                          dydx\n",
      "At:                           overall\n",
      "==============================================================================\n",
      "                dy/dx    std err          z      P>|z|      [0.025      0.975]\n",
      "------------------------------------------------------------------------------\n",
      "ecoprc        -0.7669      0.093     -8.235      0.000      -0.949      -0.584\n",
      "regprc         0.6828      0.120      5.692      0.000       0.448       0.918\n",
      "faminc         0.0006      0.001      0.994      0.320      -0.001       0.002\n",
      "hhsize         0.0239      0.013      1.863      0.062      -0.001       0.049\n",
      "educ           0.0247      0.008      2.921      0.003       0.008       0.041\n",
      "age           -0.0005      0.001     -0.374      0.709      -0.003       0.002\n",
      "==============================================================================\n"
     ]
    }
   ],
   "source": [
    "a_logit_me = a_logit.get_margeff()\n",
    "print(a_logit_me.summary())"
   ]
  },
  {
   "cell_type": "markdown",
   "metadata": {},
   "source": [
    "We haven't done much data wrangling lately. I'm feeling a bit sad; I miss shaping data. \n",
    "\n",
    "9. Create a pandas DataFrame with the row index  'ecoprc', 'regprc', 'faminc', 'hhsize', 'educ', and 'age'. The columns should be labeled 'logit', 'probit', and 'ols'. The columns should contain the marginal effects for the logit and probit models and the coefficients from the ols model."
   ]
  },
  {
   "cell_type": "code",
   "execution_count": 71,
   "metadata": {},
   "outputs": [
    {
     "data": {
      "text/html": [
       "<div>\n",
       "<style scoped>\n",
       "    .dataframe tbody tr th:only-of-type {\n",
       "        vertical-align: middle;\n",
       "    }\n",
       "\n",
       "    .dataframe tbody tr th {\n",
       "        vertical-align: top;\n",
       "    }\n",
       "\n",
       "    .dataframe thead th {\n",
       "        text-align: right;\n",
       "    }\n",
       "</style>\n",
       "<table border=\"1\" class=\"dataframe\">\n",
       "  <thead>\n",
       "    <tr style=\"text-align: right;\">\n",
       "      <th></th>\n",
       "      <th>logit</th>\n",
       "      <th>probit</th>\n",
       "      <th>ols</th>\n",
       "    </tr>\n",
       "  </thead>\n",
       "  <tbody>\n",
       "    <tr>\n",
       "      <th>ecoprc</th>\n",
       "      <td>-0.766863</td>\n",
       "      <td>-0.780056</td>\n",
       "      <td>-0.802622</td>\n",
       "    </tr>\n",
       "    <tr>\n",
       "      <th>regprc</th>\n",
       "      <td>0.682799</td>\n",
       "      <td>0.698579</td>\n",
       "      <td>0.719268</td>\n",
       "    </tr>\n",
       "    <tr>\n",
       "      <th>faminc</th>\n",
       "      <td>0.000552</td>\n",
       "      <td>0.000498</td>\n",
       "      <td>0.000552</td>\n",
       "    </tr>\n",
       "    <tr>\n",
       "      <th>hhsize</th>\n",
       "      <td>0.023888</td>\n",
       "      <td>0.023791</td>\n",
       "      <td>0.023823</td>\n",
       "    </tr>\n",
       "    <tr>\n",
       "      <th>educ</th>\n",
       "      <td>0.024731</td>\n",
       "      <td>0.024558</td>\n",
       "      <td>0.024785</td>\n",
       "    </tr>\n",
       "    <tr>\n",
       "      <th>age</th>\n",
       "      <td>-0.000455</td>\n",
       "      <td>-0.000417</td>\n",
       "      <td>-0.000501</td>\n",
       "    </tr>\n",
       "  </tbody>\n",
       "</table>\n",
       "</div>"
      ],
      "text/plain": [
       "           logit    probit       ols\n",
       "ecoprc -0.766863 -0.780056 -0.802622\n",
       "regprc  0.682799  0.698579  0.719268\n",
       "faminc  0.000552  0.000498  0.000552\n",
       "hhsize  0.023888  0.023791  0.023823\n",
       "educ    0.024731  0.024558  0.024785\n",
       "age    -0.000455 -0.000417 -0.000501"
      ]
     },
     "execution_count": 71,
     "metadata": {},
     "output_type": "execute_result"
    }
   ],
   "source": [
    "comparison = {\"logit\":a_logit_me.margeff, \n",
    "              \"probit\":a_probit_me.margeff, \n",
    "              \"ols\":a_ols.params[1:7]}\n",
    "comparison = pd.DataFrame(comparison, index=['ecoprc', 'regprc', 'faminc', 'hhsize', 'educ', 'age'])\n",
    "comparison"
   ]
  },
  {
   "cell_type": "code",
   "execution_count": null,
   "metadata": {},
   "outputs": [],
   "source": []
  }
 ],
 "metadata": {
  "celltoolbar": "Attachments",
  "kernelspec": {
   "display_name": "Python 3",
   "language": "python",
   "name": "python3"
  },
  "language_info": {
   "codemirror_mode": {
    "name": "ipython",
    "version": 3
   },
   "file_extension": ".py",
   "mimetype": "text/x-python",
   "name": "python",
   "nbconvert_exporter": "python",
   "pygments_lexer": "ipython3",
   "version": "3.6.6"
  }
 },
 "nbformat": 4,
 "nbformat_minor": 2
}
