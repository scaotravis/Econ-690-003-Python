{
 "cells": [
  {
   "cell_type": "markdown",
   "metadata": {},
   "source": [
    "## Working with Python in Jupyter notebooks\n",
    "\n",
    "Our goal for this notebook is to learn about, and how to use, Jupyter notebooks:\n",
    "1. What is a Jupyter notebook?\n",
    "2. How do I open, save, and edit?\n",
    "3. What are markdown cells vs code cells?\n",
    "4. What is markdown? "
   ]
  },
  {
   "cell_type": "markdown",
   "metadata": {},
   "source": [
    "## What is a Jupyter notebook?\n",
    "There are many ways to write and run Python code. A very simple way is to write your code in a text file, save it, and run the file through an interpretor. This method separates the code from the output.\n",
    "\n",
    "We will take advantage of Jupyter notebooks. A notebook combines input (code) with output (results). It also allows us to mix in text, which will let us provide lots of documentation about our code is doing. The text is added in *markdown* which gives us even more options. We will discuss markdown a bit later. \n",
    "\n",
    "A notebook runs a command window (look at your taskbar) that we do not need to bother with and a document displayed in a web browser. You are looking at the notebook right now! \n",
    "\n",
    "The cell you are reading is a *markdown cell*. It is text. \n",
    "\n",
    "The cell below this cell is a *code cell*. Notice that the cell has 'In \\[  \\]:' in front of it. That means it is a cell for code input. Place your cursor in the cell and type ```3*2``` and hit control+enter to run the cell. What happened?\n",
    "\n"
   ]
  },
  {
   "cell_type": "code",
   "execution_count": 1,
   "metadata": {
    "scrolled": true
   },
   "outputs": [
    {
     "data": {
      "text/plain": [
       "6"
      ]
     },
     "execution_count": 1,
     "metadata": {},
     "output_type": "execute_result"
    }
   ],
   "source": [
    "3*2"
   ]
  },
  {
   "cell_type": "markdown",
   "metadata": {},
   "source": [
    "You just computed! Notebooks are interactive. We can work on block of code and execute them using 'ctrl+enter'. This will be very convienent. In between blocks of code, we can add blocks of text to describe what we are doing. Use the 'insert' menu to insert a block below this one. What kind of cell is it?"
   ]
  },
  {
   "cell_type": "markdown",
   "metadata": {},
   "source": [
    "Now this is a markdown cell\n",
    "\n",
    "*yay*"
   ]
  },
  {
   "cell_type": "markdown",
   "metadata": {},
   "source": [
    "Go back to the cell you inserted and change it to a markdown cell.  "
   ]
  },
  {
   "cell_type": "markdown",
   "metadata": {},
   "source": [
    "## Working with notebooks\n",
    "You already have this workbook up and running, so we are on the right track. Let's review:\n",
    "\n",
    "### Starting Jupyter notebook\n",
    "1. Log into Winstat. See [sscc winstat](https://www.ssc.wisc.edu/sscc/pubs/winstat.htm) if you need a refresher\n",
    "2. From the search menu in the left of the task bar, start typing 'jupyter notebook'. As you type, search results will appear. Click on the 'Jupyter Notebook' entry.\n",
    "3. This will open a console window (which we don't need to use) and a web browser. The web browser will show the contents of your user drive (U:\\) drive. \n",
    "\n",
    "### Opening a notebook\n",
    "1. Within the browser window, navigate to the folder that contains the workbook you would like to open. Reminder: notebooks end in 'ipynb' (short for IPython Notebook). \n",
    "2. Click on the notebook to open.\n",
    "\n",
    "### Creating a new notebook\n",
    "Within the browser window, look in the upper right corner for 'new' button. Choose 'Python 3' as the new notebook type.\n",
    "\n",
    "### Renaming a notebook\n",
    "You can name and rename a notebook by changing the file name at the top of the notebook. This overwrites the notebook name in the file system.\n",
    "\n",
    "### Saving a notebook\n",
    "Save from the 'file' menu, the disk icon, or 'ctrl+s'. \n",
    "\n",
    "### Closing a notebook\n",
    "Close the tab in which the notebook is open. Note: close the tab, not the whole browser!"
   ]
  },
  {
   "cell_type": "markdown",
   "metadata": {},
   "source": [
    "### Practice: notebooks\n",
    "Take a few minutes and try the following. Feel free to chat with those around if you get stuck. The TA and I are here, too.\n",
    "1. Create a new notebook and name it 'week_0_practice'\n",
    "2. Make the first cell of your notebook a markdown cell. Type your name in the cell and run the cell.\n",
    "3. Save the notebook and close it. \n",
    "\n",
    "Now go back to the Jupyter notebook tab that shows your files. Can you see your notebook?\n",
    "1. Open your 'week_0_practice' notebook\n",
    "2. From the 'file' menu, make a copy of the notebook and rename it 'week_0_practice_v2'\n",
    "3. In `week_0_practice_v2` in the first cell (below your name) type out the names of three classes you are taking this semester.\n",
    "4. Save your notebook and close it.\n",
    "\n",
    "Go back to the Jupyter notebook tab in your browser. Do you see both files?"
   ]
  },
  {
   "cell_type": "markdown",
   "metadata": {},
   "source": [
    "\n",
    "## Markdown \n",
    "\n",
    "Markdown is a simple \"markup\" language. The point of markdown is to provide a very simple set of commands to format text. Nothing too fancy, but enough stuff like headers, lists, links, italics, bold, etc. to make our **documentation** easy to read. \n",
    "\n",
    "Read the markdown cheatsheet available [here](https://github.com/adam-p/markdown-here/wiki/Markdown-Cheatsheet) for a list of commands. (Look at the source code for this cell to see the syntax for a link!) \n",
    "\n",
    "Let's try some markdown. For each item below, insert a markdown cell and try it out. Remember to hit shift-enter to run the cell and see the result."
   ]
  },
  {
   "cell_type": "markdown",
   "metadata": {},
   "source": [
    "In the cell below, make three layers of headings. ```# Heading 1``` will generate the first-level heading. How do we get the second-level and third-level headings? "
   ]
  },
  {
   "cell_type": "markdown",
   "metadata": {},
   "source": [
    "# Heading 1\n",
    "## Heading 2\n",
    "### Heading 3"
   ]
  },
  {
   "cell_type": "markdown",
   "metadata": {},
   "source": [
    "In the cell below, try some ```**bold**``` and ```*italics*```. I like ```~~strikethrough~~``` because I make a lot of mistakes. What happens in the cell as you type?\n",
    "___"
   ]
  },
  {
   "cell_type": "markdown",
   "metadata": {},
   "source": [
    "**bold words**\n",
    "\n",
    "*italics words*\n",
    "\n",
    "~~strikethrough words~~"
   ]
  },
  {
   "cell_type": "markdown",
   "metadata": {},
   "source": [
    "### Lists\n",
    "An unordered list uses asterisks. Try \n",
    "```\n",
    "* Bacon\n",
    "* Lettuce \n",
    "* Tomato\n",
    "```\n",
    "and run the cell (shift-enter).\n",
    "___"
   ]
  },
  {
   "cell_type": "markdown",
   "metadata": {},
   "source": [
    "* Bacon\n",
    "* ~~Lettuce~~\n",
    "* Tomato\n",
    "* Lettuce\n",
    "* chicken breast"
   ]
  },
  {
   "cell_type": "markdown",
   "metadata": {},
   "source": [
    "Then try an ordered list\n",
    "```\n",
    "1. Wisconsin\n",
    "2. Minnesota\n",
    "```\n",
    "and run the cell (shift-enter). "
   ]
  },
  {
   "cell_type": "markdown",
   "metadata": {},
   "source": [
    "1. Winsconsin\n",
    "  1. Madison\n",
    "  2. Milwaukee\n",
    "2. Minnesota\n",
    "  1. Minneapolis\n",
    "  2. Ely"
   ]
  },
  {
   "cell_type": "markdown",
   "metadata": {},
   "source": [
    "Now go back and add sub-items to the entries. It should look like\n",
    "```\n",
    "1. Wisconsin\n",
    "  1. Madison\n",
    "  2. Milwaukee\n",
    "2. Minnesota\n",
    "  1. Minneapolis\n",
    "  2. Ely\n",
    "```\n",
    "\n",
    "What happens when you run the cell? How do you add a third level to the list?"
   ]
  },
  {
   "cell_type": "markdown",
   "metadata": {},
   "source": [
    "1. Wisconsin\n",
    "  1. Madison\n",
    "    1. Madison something, UW maybe\n",
    "  2. Milwaukee\n",
    "    1. Milwaukee something\n",
    "  1. Green Bay\n",
    "2. Minnesota\n",
    "  1. Minneapolis\n",
    "  2. Ely"
   ]
  },
  {
   "cell_type": "markdown",
   "metadata": {},
   "source": [
    "### Code\n",
    "It is often useful to write bits of code in your markdown. Use backticks (next to the 1 key on your keyboard) to format as code. In the  cell below, try `` `x=2` `` . What happened?"
   ]
  },
  {
   "cell_type": "markdown",
   "metadata": {},
   "source": [
    "`x=2`\n",
    "\n",
    "or `x=3`?"
   ]
  },
  {
   "cell_type": "markdown",
   "metadata": {},
   "source": [
    "Now try a block of code. Use a 'fence' of three backticks at the beginning and end of the code, like this:\n",
    "\n",
    "\\`\\`\\`python\n",
    "\n",
    "s = 10\n",
    "\n",
    "print(s)\n",
    "\n",
    "\\`\\`\\`\n",
    "\n",
    "Try it in the block below. Try removing the word 'python' from the block of code. What changes?"
   ]
  },
  {
   "cell_type": "markdown",
   "metadata": {},
   "source": [
    "This code has been indented. \n",
    "\n",
    "```python\n",
    "s = 10\n",
    "print(s)\n",
    "```\n",
    "\n",
    "See?"
   ]
  },
  {
   "cell_type": "markdown",
   "metadata": {},
   "source": [
    "### Practice: Markdown\n",
    "Take a few minutes and try the following. Feel free to chat with those around if you get stuck. The TA and I are here, too.\n",
    "\n",
    "Open your 'week_0_practice_v2' notebook and \n",
    "1. Format your name as a level-1 header\n",
    "3. Format your list of classes into an unordered list\n",
    "4. Make the class you are most excited about in bold font\n",
    "5. Make the class you are least excited about in strikethrough\n",
    "\n",
    "then...\n",
    "\n",
    "6. Insert a code cell below the block you just edited. Within the cell type \n",
    "\n",
    "```python\n",
    "s = 'a string'\n",
    "print(s)\n",
    "``` \n",
    "\n",
    "and run the cell. Then...\n",
    "\n",
    "7. Insert a markdown cell below the code cell. Use the 'backtick fences' method to write a block of code with the two statements `s='a string'` and `print(s)'` within it.\n",
    "\n"
   ]
  }
 ],
 "metadata": {
  "celltoolbar": "Attachments",
  "kernelspec": {
   "display_name": "Python 3",
   "language": "python",
   "name": "python3"
  },
  "language_info": {
   "codemirror_mode": {
    "name": "ipython",
    "version": 3
   },
   "file_extension": ".py",
   "mimetype": "text/x-python",
   "name": "python",
   "nbconvert_exporter": "python",
   "pygments_lexer": "ipython3",
   "version": "3.6.5"
  }
 },
 "nbformat": 4,
 "nbformat_minor": 2
}
