{
 "cells": [
  {
   "cell_type": "markdown",
   "metadata": {},
   "source": [
    "# Plotting 1\n",
    "\n",
    "We have a handle on python now: we understand the data structures and enough about working with them to move on to stuff more directly relevant to data analysis. We know how to get data into Pandas from files, how to manipulate DataFrames and how to do basic statistics. \n",
    "\n",
    "Let's get started on making figures, arguably the best way to convey information about our data."
   ]
  },
  {
   "cell_type": "markdown",
   "metadata": {},
   "source": [
    "### The packages"
   ]
  },
  {
   "cell_type": "code",
   "execution_count": 1,
   "metadata": {},
   "outputs": [],
   "source": [
    "import pandas as pd     #load the pandas package and call it pd\n",
    "import matplotlib.pyplot as plt   # load the pyplot set of tools from the package matplotlib. Name it plt for short.\n",
    "\n",
    "# This following is a jupyter magic command. It tells jupyter to insert the plots into the notebook\n",
    "# rather than a new window.\n",
    "%matplotlib inline      "
   ]
  },
  {
   "cell_type": "markdown",
   "metadata": {},
   "source": [
    "matplotlib is a very popular package that bundles tools for creating visualizations. The documentation is [here](https://matplotlib.org/contents.html). We will look at some specific plot types in class, but you can learn about many different types [thumbnail gallery](https://matplotlib.org/gallery/index.html). \\[Warning: not all the figures in the thumbnail gallery are good figures.\\]\n",
    "\n",
    "Copy the `gdp_components_simple.csv` file into your cwd (or load it using a file path to its location) and load it into pandas."
   ]
  },
  {
   "cell_type": "code",
   "execution_count": 2,
   "metadata": {},
   "outputs": [
    {
     "name": "stdout",
     "output_type": "stream",
     "text": [
      "         GDPA   GPDIA    GCEA  EXPGSA  IMPGSA\n",
      "DATE                                         \n",
      "1929  104.556  17.170   9.622   5.939   5.556\n",
      "1930   92.160  11.428  10.273   4.444   4.121\n",
      "\n",
      "            GDPA     GPDIA      GCEA    EXPGSA    IMPGSA\n",
      "DATE                                                   \n",
      "2016  18707.189  3169.887  3290.979  2217.576  2738.146\n",
      "2017  19485.394  3367.965  3374.444  2350.175  2928.596\n"
     ]
    }
   ],
   "source": [
    "gdp = pd.read_csv('gdp_components_simple.csv', index_col=0)  # load data from file, make date the index\n",
    "\n",
    "print(gdp.head(2))                                    # print the first and last few rows to make sure all is well\n",
    "print('\\n', gdp.tail(2))\n"
   ]
  },
  {
   "cell_type": "markdown",
   "metadata": {},
   "source": [
    "I don't like these variable names. "
   ]
  },
  {
   "cell_type": "code",
   "execution_count": 3,
   "metadata": {},
   "outputs": [
    {
     "data": {
      "text/html": [
       "<div>\n",
       "<style scoped>\n",
       "    .dataframe tbody tr th:only-of-type {\n",
       "        vertical-align: middle;\n",
       "    }\n",
       "\n",
       "    .dataframe tbody tr th {\n",
       "        vertical-align: top;\n",
       "    }\n",
       "\n",
       "    .dataframe thead th {\n",
       "        text-align: right;\n",
       "    }\n",
       "</style>\n",
       "<table border=\"1\" class=\"dataframe\">\n",
       "  <thead>\n",
       "    <tr style=\"text-align: right;\">\n",
       "      <th></th>\n",
       "      <th>gdp</th>\n",
       "      <th>inv</th>\n",
       "      <th>gov</th>\n",
       "      <th>ex</th>\n",
       "      <th>im</th>\n",
       "    </tr>\n",
       "    <tr>\n",
       "      <th>DATE</th>\n",
       "      <th></th>\n",
       "      <th></th>\n",
       "      <th></th>\n",
       "      <th></th>\n",
       "      <th></th>\n",
       "    </tr>\n",
       "  </thead>\n",
       "  <tbody>\n",
       "    <tr>\n",
       "      <th>1929</th>\n",
       "      <td>104.556</td>\n",
       "      <td>17.170</td>\n",
       "      <td>9.622</td>\n",
       "      <td>5.939</td>\n",
       "      <td>5.556</td>\n",
       "    </tr>\n",
       "    <tr>\n",
       "      <th>1930</th>\n",
       "      <td>92.160</td>\n",
       "      <td>11.428</td>\n",
       "      <td>10.273</td>\n",
       "      <td>4.444</td>\n",
       "      <td>4.121</td>\n",
       "    </tr>\n",
       "    <tr>\n",
       "      <th>1931</th>\n",
       "      <td>77.391</td>\n",
       "      <td>6.549</td>\n",
       "      <td>10.169</td>\n",
       "      <td>2.906</td>\n",
       "      <td>2.905</td>\n",
       "    </tr>\n",
       "    <tr>\n",
       "      <th>1932</th>\n",
       "      <td>59.522</td>\n",
       "      <td>1.819</td>\n",
       "      <td>8.946</td>\n",
       "      <td>1.975</td>\n",
       "      <td>1.932</td>\n",
       "    </tr>\n",
       "    <tr>\n",
       "      <th>1933</th>\n",
       "      <td>57.154</td>\n",
       "      <td>2.276</td>\n",
       "      <td>8.875</td>\n",
       "      <td>1.987</td>\n",
       "      <td>1.929</td>\n",
       "    </tr>\n",
       "    <tr>\n",
       "      <th>1934</th>\n",
       "      <td>66.800</td>\n",
       "      <td>4.296</td>\n",
       "      <td>10.721</td>\n",
       "      <td>2.561</td>\n",
       "      <td>2.239</td>\n",
       "    </tr>\n",
       "    <tr>\n",
       "      <th>1935</th>\n",
       "      <td>74.241</td>\n",
       "      <td>7.370</td>\n",
       "      <td>11.151</td>\n",
       "      <td>2.769</td>\n",
       "      <td>2.982</td>\n",
       "    </tr>\n",
       "    <tr>\n",
       "      <th>1936</th>\n",
       "      <td>84.830</td>\n",
       "      <td>9.391</td>\n",
       "      <td>13.398</td>\n",
       "      <td>3.007</td>\n",
       "      <td>3.154</td>\n",
       "    </tr>\n",
       "    <tr>\n",
       "      <th>1937</th>\n",
       "      <td>93.003</td>\n",
       "      <td>12.967</td>\n",
       "      <td>13.119</td>\n",
       "      <td>4.039</td>\n",
       "      <td>3.961</td>\n",
       "    </tr>\n",
       "    <tr>\n",
       "      <th>1938</th>\n",
       "      <td>87.352</td>\n",
       "      <td>7.944</td>\n",
       "      <td>14.170</td>\n",
       "      <td>3.811</td>\n",
       "      <td>2.845</td>\n",
       "    </tr>\n",
       "    <tr>\n",
       "      <th>1939</th>\n",
       "      <td>93.437</td>\n",
       "      <td>10.229</td>\n",
       "      <td>15.165</td>\n",
       "      <td>3.969</td>\n",
       "      <td>3.136</td>\n",
       "    </tr>\n",
       "    <tr>\n",
       "      <th>1940</th>\n",
       "      <td>102.899</td>\n",
       "      <td>14.579</td>\n",
       "      <td>15.562</td>\n",
       "      <td>4.897</td>\n",
       "      <td>3.426</td>\n",
       "    </tr>\n",
       "    <tr>\n",
       "      <th>1941</th>\n",
       "      <td>129.309</td>\n",
       "      <td>19.369</td>\n",
       "      <td>27.836</td>\n",
       "      <td>5.482</td>\n",
       "      <td>4.449</td>\n",
       "    </tr>\n",
       "    <tr>\n",
       "      <th>1942</th>\n",
       "      <td>165.952</td>\n",
       "      <td>11.762</td>\n",
       "      <td>65.440</td>\n",
       "      <td>4.375</td>\n",
       "      <td>4.627</td>\n",
       "    </tr>\n",
       "    <tr>\n",
       "      <th>1943</th>\n",
       "      <td>203.084</td>\n",
       "      <td>7.405</td>\n",
       "      <td>98.023</td>\n",
       "      <td>4.034</td>\n",
       "      <td>6.280</td>\n",
       "    </tr>\n",
       "    <tr>\n",
       "      <th>1944</th>\n",
       "      <td>224.447</td>\n",
       "      <td>9.180</td>\n",
       "      <td>108.643</td>\n",
       "      <td>4.880</td>\n",
       "      <td>6.904</td>\n",
       "    </tr>\n",
       "    <tr>\n",
       "      <th>1945</th>\n",
       "      <td>228.007</td>\n",
       "      <td>12.400</td>\n",
       "      <td>96.396</td>\n",
       "      <td>6.781</td>\n",
       "      <td>7.547</td>\n",
       "    </tr>\n",
       "    <tr>\n",
       "      <th>1946</th>\n",
       "      <td>227.535</td>\n",
       "      <td>33.128</td>\n",
       "      <td>43.027</td>\n",
       "      <td>14.156</td>\n",
       "      <td>6.974</td>\n",
       "    </tr>\n",
       "    <tr>\n",
       "      <th>1947</th>\n",
       "      <td>249.616</td>\n",
       "      <td>37.131</td>\n",
       "      <td>39.827</td>\n",
       "      <td>18.740</td>\n",
       "      <td>7.933</td>\n",
       "    </tr>\n",
       "    <tr>\n",
       "      <th>1948</th>\n",
       "      <td>274.468</td>\n",
       "      <td>50.347</td>\n",
       "      <td>43.755</td>\n",
       "      <td>15.547</td>\n",
       "      <td>10.060</td>\n",
       "    </tr>\n",
       "    <tr>\n",
       "      <th>1949</th>\n",
       "      <td>272.475</td>\n",
       "      <td>39.099</td>\n",
       "      <td>49.808</td>\n",
       "      <td>14.484</td>\n",
       "      <td>9.249</td>\n",
       "    </tr>\n",
       "    <tr>\n",
       "      <th>1950</th>\n",
       "      <td>299.827</td>\n",
       "      <td>56.530</td>\n",
       "      <td>50.515</td>\n",
       "      <td>12.350</td>\n",
       "      <td>11.612</td>\n",
       "    </tr>\n",
       "    <tr>\n",
       "      <th>1951</th>\n",
       "      <td>346.914</td>\n",
       "      <td>62.759</td>\n",
       "      <td>73.304</td>\n",
       "      <td>17.099</td>\n",
       "      <td>14.586</td>\n",
       "    </tr>\n",
       "    <tr>\n",
       "      <th>1952</th>\n",
       "      <td>367.341</td>\n",
       "      <td>57.274</td>\n",
       "      <td>89.583</td>\n",
       "      <td>16.459</td>\n",
       "      <td>15.295</td>\n",
       "    </tr>\n",
       "    <tr>\n",
       "      <th>1953</th>\n",
       "      <td>389.218</td>\n",
       "      <td>60.414</td>\n",
       "      <td>96.765</td>\n",
       "      <td>15.313</td>\n",
       "      <td>16.014</td>\n",
       "    </tr>\n",
       "    <tr>\n",
       "      <th>1954</th>\n",
       "      <td>390.549</td>\n",
       "      <td>58.070</td>\n",
       "      <td>92.467</td>\n",
       "      <td>15.836</td>\n",
       "      <td>15.432</td>\n",
       "    </tr>\n",
       "    <tr>\n",
       "      <th>1955</th>\n",
       "      <td>425.478</td>\n",
       "      <td>73.754</td>\n",
       "      <td>92.958</td>\n",
       "      <td>17.677</td>\n",
       "      <td>17.199</td>\n",
       "    </tr>\n",
       "    <tr>\n",
       "      <th>1956</th>\n",
       "      <td>449.353</td>\n",
       "      <td>77.685</td>\n",
       "      <td>98.180</td>\n",
       "      <td>21.284</td>\n",
       "      <td>18.923</td>\n",
       "    </tr>\n",
       "    <tr>\n",
       "      <th>1957</th>\n",
       "      <td>474.039</td>\n",
       "      <td>76.505</td>\n",
       "      <td>107.163</td>\n",
       "      <td>24.017</td>\n",
       "      <td>19.942</td>\n",
       "    </tr>\n",
       "    <tr>\n",
       "      <th>1958</th>\n",
       "      <td>481.229</td>\n",
       "      <td>70.947</td>\n",
       "      <td>114.138</td>\n",
       "      <td>20.560</td>\n",
       "      <td>20.022</td>\n",
       "    </tr>\n",
       "    <tr>\n",
       "      <th>...</th>\n",
       "      <td>...</td>\n",
       "      <td>...</td>\n",
       "      <td>...</td>\n",
       "      <td>...</td>\n",
       "      <td>...</td>\n",
       "    </tr>\n",
       "    <tr>\n",
       "      <th>1988</th>\n",
       "      <td>5236.438</td>\n",
       "      <td>936.963</td>\n",
       "      <td>1078.855</td>\n",
       "      <td>444.601</td>\n",
       "      <td>553.993</td>\n",
       "    </tr>\n",
       "    <tr>\n",
       "      <th>1989</th>\n",
       "      <td>5641.580</td>\n",
       "      <td>999.701</td>\n",
       "      <td>1151.862</td>\n",
       "      <td>504.289</td>\n",
       "      <td>591.031</td>\n",
       "    </tr>\n",
       "    <tr>\n",
       "      <th>1990</th>\n",
       "      <td>5963.144</td>\n",
       "      <td>993.448</td>\n",
       "      <td>1238.556</td>\n",
       "      <td>551.873</td>\n",
       "      <td>629.727</td>\n",
       "    </tr>\n",
       "    <tr>\n",
       "      <th>1991</th>\n",
       "      <td>6158.129</td>\n",
       "      <td>944.344</td>\n",
       "      <td>1298.951</td>\n",
       "      <td>594.931</td>\n",
       "      <td>623.544</td>\n",
       "    </tr>\n",
       "    <tr>\n",
       "      <th>1992</th>\n",
       "      <td>6520.327</td>\n",
       "      <td>1013.006</td>\n",
       "      <td>1344.500</td>\n",
       "      <td>633.053</td>\n",
       "      <td>667.791</td>\n",
       "    </tr>\n",
       "    <tr>\n",
       "      <th>1993</th>\n",
       "      <td>6858.559</td>\n",
       "      <td>1106.826</td>\n",
       "      <td>1364.922</td>\n",
       "      <td>654.799</td>\n",
       "      <td>719.973</td>\n",
       "    </tr>\n",
       "    <tr>\n",
       "      <th>1994</th>\n",
       "      <td>7287.236</td>\n",
       "      <td>1256.484</td>\n",
       "      <td>1402.274</td>\n",
       "      <td>720.937</td>\n",
       "      <td>813.424</td>\n",
       "    </tr>\n",
       "    <tr>\n",
       "      <th>1995</th>\n",
       "      <td>7639.749</td>\n",
       "      <td>1317.489</td>\n",
       "      <td>1449.431</td>\n",
       "      <td>812.810</td>\n",
       "      <td>902.572</td>\n",
       "    </tr>\n",
       "    <tr>\n",
       "      <th>1996</th>\n",
       "      <td>8073.122</td>\n",
       "      <td>1432.055</td>\n",
       "      <td>1492.848</td>\n",
       "      <td>867.589</td>\n",
       "      <td>963.966</td>\n",
       "    </tr>\n",
       "    <tr>\n",
       "      <th>1997</th>\n",
       "      <td>8577.552</td>\n",
       "      <td>1595.600</td>\n",
       "      <td>1547.133</td>\n",
       "      <td>953.803</td>\n",
       "      <td>1055.774</td>\n",
       "    </tr>\n",
       "    <tr>\n",
       "      <th>1998</th>\n",
       "      <td>9062.817</td>\n",
       "      <td>1736.671</td>\n",
       "      <td>1611.609</td>\n",
       "      <td>952.979</td>\n",
       "      <td>1115.690</td>\n",
       "    </tr>\n",
       "    <tr>\n",
       "      <th>1999</th>\n",
       "      <td>9630.663</td>\n",
       "      <td>1887.059</td>\n",
       "      <td>1720.360</td>\n",
       "      <td>992.778</td>\n",
       "      <td>1248.612</td>\n",
       "    </tr>\n",
       "    <tr>\n",
       "      <th>2000</th>\n",
       "      <td>10252.347</td>\n",
       "      <td>2038.408</td>\n",
       "      <td>1826.845</td>\n",
       "      <td>1096.255</td>\n",
       "      <td>1471.305</td>\n",
       "    </tr>\n",
       "    <tr>\n",
       "      <th>2001</th>\n",
       "      <td>10581.822</td>\n",
       "      <td>1934.842</td>\n",
       "      <td>1949.275</td>\n",
       "      <td>1024.636</td>\n",
       "      <td>1392.565</td>\n",
       "    </tr>\n",
       "    <tr>\n",
       "      <th>2002</th>\n",
       "      <td>10936.418</td>\n",
       "      <td>1930.417</td>\n",
       "      <td>2088.717</td>\n",
       "      <td>998.741</td>\n",
       "      <td>1424.143</td>\n",
       "    </tr>\n",
       "    <tr>\n",
       "      <th>2003</th>\n",
       "      <td>11458.246</td>\n",
       "      <td>2027.056</td>\n",
       "      <td>2211.208</td>\n",
       "      <td>1036.177</td>\n",
       "      <td>1539.304</td>\n",
       "    </tr>\n",
       "    <tr>\n",
       "      <th>2004</th>\n",
       "      <td>12213.730</td>\n",
       "      <td>2281.253</td>\n",
       "      <td>2338.889</td>\n",
       "      <td>1177.631</td>\n",
       "      <td>1796.706</td>\n",
       "    </tr>\n",
       "    <tr>\n",
       "      <th>2005</th>\n",
       "      <td>13036.637</td>\n",
       "      <td>2534.720</td>\n",
       "      <td>2475.992</td>\n",
       "      <td>1305.225</td>\n",
       "      <td>2026.418</td>\n",
       "    </tr>\n",
       "    <tr>\n",
       "      <th>2006</th>\n",
       "      <td>13814.609</td>\n",
       "      <td>2700.954</td>\n",
       "      <td>2624.234</td>\n",
       "      <td>1472.613</td>\n",
       "      <td>2243.538</td>\n",
       "    </tr>\n",
       "    <tr>\n",
       "      <th>2007</th>\n",
       "      <td>14451.860</td>\n",
       "      <td>2673.011</td>\n",
       "      <td>2790.844</td>\n",
       "      <td>1660.853</td>\n",
       "      <td>2379.280</td>\n",
       "    </tr>\n",
       "    <tr>\n",
       "      <th>2008</th>\n",
       "      <td>14712.845</td>\n",
       "      <td>2477.613</td>\n",
       "      <td>2981.990</td>\n",
       "      <td>1837.055</td>\n",
       "      <td>2560.143</td>\n",
       "    </tr>\n",
       "    <tr>\n",
       "      <th>2009</th>\n",
       "      <td>14448.932</td>\n",
       "      <td>1929.664</td>\n",
       "      <td>3073.512</td>\n",
       "      <td>1581.996</td>\n",
       "      <td>1978.447</td>\n",
       "    </tr>\n",
       "    <tr>\n",
       "      <th>2010</th>\n",
       "      <td>14992.052</td>\n",
       "      <td>2165.473</td>\n",
       "      <td>3154.647</td>\n",
       "      <td>1846.280</td>\n",
       "      <td>2360.183</td>\n",
       "    </tr>\n",
       "    <tr>\n",
       "      <th>2011</th>\n",
       "      <td>15542.582</td>\n",
       "      <td>2332.562</td>\n",
       "      <td>3148.372</td>\n",
       "      <td>2102.995</td>\n",
       "      <td>2682.456</td>\n",
       "    </tr>\n",
       "    <tr>\n",
       "      <th>2012</th>\n",
       "      <td>16197.007</td>\n",
       "      <td>2621.754</td>\n",
       "      <td>3137.010</td>\n",
       "      <td>2191.280</td>\n",
       "      <td>2759.851</td>\n",
       "    </tr>\n",
       "    <tr>\n",
       "      <th>2013</th>\n",
       "      <td>16784.851</td>\n",
       "      <td>2826.013</td>\n",
       "      <td>3132.409</td>\n",
       "      <td>2273.428</td>\n",
       "      <td>2764.210</td>\n",
       "    </tr>\n",
       "    <tr>\n",
       "      <th>2014</th>\n",
       "      <td>17521.747</td>\n",
       "      <td>3038.931</td>\n",
       "      <td>3167.041</td>\n",
       "      <td>2371.027</td>\n",
       "      <td>2879.284</td>\n",
       "    </tr>\n",
       "    <tr>\n",
       "      <th>2015</th>\n",
       "      <td>18219.297</td>\n",
       "      <td>3211.971</td>\n",
       "      <td>3234.210</td>\n",
       "      <td>2265.047</td>\n",
       "      <td>2786.461</td>\n",
       "    </tr>\n",
       "    <tr>\n",
       "      <th>2016</th>\n",
       "      <td>18707.189</td>\n",
       "      <td>3169.887</td>\n",
       "      <td>3290.979</td>\n",
       "      <td>2217.576</td>\n",
       "      <td>2738.146</td>\n",
       "    </tr>\n",
       "    <tr>\n",
       "      <th>2017</th>\n",
       "      <td>19485.394</td>\n",
       "      <td>3367.965</td>\n",
       "      <td>3374.444</td>\n",
       "      <td>2350.175</td>\n",
       "      <td>2928.596</td>\n",
       "    </tr>\n",
       "  </tbody>\n",
       "</table>\n",
       "<p>89 rows × 5 columns</p>\n",
       "</div>"
      ],
      "text/plain": [
       "            gdp       inv       gov        ex        im\n",
       "DATE                                                   \n",
       "1929    104.556    17.170     9.622     5.939     5.556\n",
       "1930     92.160    11.428    10.273     4.444     4.121\n",
       "1931     77.391     6.549    10.169     2.906     2.905\n",
       "1932     59.522     1.819     8.946     1.975     1.932\n",
       "1933     57.154     2.276     8.875     1.987     1.929\n",
       "1934     66.800     4.296    10.721     2.561     2.239\n",
       "1935     74.241     7.370    11.151     2.769     2.982\n",
       "1936     84.830     9.391    13.398     3.007     3.154\n",
       "1937     93.003    12.967    13.119     4.039     3.961\n",
       "1938     87.352     7.944    14.170     3.811     2.845\n",
       "1939     93.437    10.229    15.165     3.969     3.136\n",
       "1940    102.899    14.579    15.562     4.897     3.426\n",
       "1941    129.309    19.369    27.836     5.482     4.449\n",
       "1942    165.952    11.762    65.440     4.375     4.627\n",
       "1943    203.084     7.405    98.023     4.034     6.280\n",
       "1944    224.447     9.180   108.643     4.880     6.904\n",
       "1945    228.007    12.400    96.396     6.781     7.547\n",
       "1946    227.535    33.128    43.027    14.156     6.974\n",
       "1947    249.616    37.131    39.827    18.740     7.933\n",
       "1948    274.468    50.347    43.755    15.547    10.060\n",
       "1949    272.475    39.099    49.808    14.484     9.249\n",
       "1950    299.827    56.530    50.515    12.350    11.612\n",
       "1951    346.914    62.759    73.304    17.099    14.586\n",
       "1952    367.341    57.274    89.583    16.459    15.295\n",
       "1953    389.218    60.414    96.765    15.313    16.014\n",
       "1954    390.549    58.070    92.467    15.836    15.432\n",
       "1955    425.478    73.754    92.958    17.677    17.199\n",
       "1956    449.353    77.685    98.180    21.284    18.923\n",
       "1957    474.039    76.505   107.163    24.017    19.942\n",
       "1958    481.229    70.947   114.138    20.560    20.022\n",
       "...         ...       ...       ...       ...       ...\n",
       "1988   5236.438   936.963  1078.855   444.601   553.993\n",
       "1989   5641.580   999.701  1151.862   504.289   591.031\n",
       "1990   5963.144   993.448  1238.556   551.873   629.727\n",
       "1991   6158.129   944.344  1298.951   594.931   623.544\n",
       "1992   6520.327  1013.006  1344.500   633.053   667.791\n",
       "1993   6858.559  1106.826  1364.922   654.799   719.973\n",
       "1994   7287.236  1256.484  1402.274   720.937   813.424\n",
       "1995   7639.749  1317.489  1449.431   812.810   902.572\n",
       "1996   8073.122  1432.055  1492.848   867.589   963.966\n",
       "1997   8577.552  1595.600  1547.133   953.803  1055.774\n",
       "1998   9062.817  1736.671  1611.609   952.979  1115.690\n",
       "1999   9630.663  1887.059  1720.360   992.778  1248.612\n",
       "2000  10252.347  2038.408  1826.845  1096.255  1471.305\n",
       "2001  10581.822  1934.842  1949.275  1024.636  1392.565\n",
       "2002  10936.418  1930.417  2088.717   998.741  1424.143\n",
       "2003  11458.246  2027.056  2211.208  1036.177  1539.304\n",
       "2004  12213.730  2281.253  2338.889  1177.631  1796.706\n",
       "2005  13036.637  2534.720  2475.992  1305.225  2026.418\n",
       "2006  13814.609  2700.954  2624.234  1472.613  2243.538\n",
       "2007  14451.860  2673.011  2790.844  1660.853  2379.280\n",
       "2008  14712.845  2477.613  2981.990  1837.055  2560.143\n",
       "2009  14448.932  1929.664  3073.512  1581.996  1978.447\n",
       "2010  14992.052  2165.473  3154.647  1846.280  2360.183\n",
       "2011  15542.582  2332.562  3148.372  2102.995  2682.456\n",
       "2012  16197.007  2621.754  3137.010  2191.280  2759.851\n",
       "2013  16784.851  2826.013  3132.409  2273.428  2764.210\n",
       "2014  17521.747  3038.931  3167.041  2371.027  2879.284\n",
       "2015  18219.297  3211.971  3234.210  2265.047  2786.461\n",
       "2016  18707.189  3169.887  3290.979  2217.576  2738.146\n",
       "2017  19485.394  3367.965  3374.444  2350.175  2928.596\n",
       "\n",
       "[89 rows x 5 columns]"
      ]
     },
     "execution_count": 3,
     "metadata": {},
     "output_type": "execute_result"
    }
   ],
   "source": [
    "gdp.rename(columns = {'GDPA':'gdp', 'GPDIA':'inv', 'GCEA':'gov', 'EXPGSA':'ex', 'IMPGSA':'im' }, inplace=True)\n",
    "gdp"
   ]
  },
  {
   "cell_type": "markdown",
   "metadata": {},
   "source": [
    "Let's get plotting. matplotlib graphics are based around two new object types. \n",
    "1. The figure object: think of this as the canvas we will draw figures onto\n",
    "2. The axes object: think of this as the figure itself and all the components\n",
    "\n",
    "To create a new figure, we call the `subplots()` method of `plt`. Notice the use of multiple assignment."
   ]
  },
  {
   "cell_type": "code",
   "execution_count": 4,
   "metadata": {},
   "outputs": [
    {
     "data": {
      "image/png": "[encoded data removed]",
      "text/plain": [
       "<Figure size 432x288 with 1 Axes>"
      ]
     },
     "metadata": {
      "needs_background": "light"
     },
     "output_type": "display_data"
    }
   ],
   "source": [
    "fig, ax = plt.subplots()    # passing no arguments gets us one fig object and one axes object"
   ]
  },
  {
   "cell_type": "code",
   "execution_count": 5,
   "metadata": {},
   "outputs": [
    {
     "name": "stdout",
     "output_type": "stream",
     "text": [
      "<class 'matplotlib.figure.Figure'>\n",
      "<class 'matplotlib.axes._subplots.AxesSubplot'>\n"
     ]
    }
   ],
   "source": [
    "print(type(fig))\n",
    "\n",
    "print(type(ax))"
   ]
  },
  {
   "cell_type": "markdown",
   "metadata": {},
   "source": [
    "We apply methods to the axes to actually plot the data. Here is a scatter plot. \\[Try `ax.` and hit TAB...\\] "
   ]
  },
  {
   "cell_type": "code",
   "execution_count": 6,
   "metadata": {},
   "outputs": [
    {
     "data": {
      "text/plain": [
       "[<matplotlib.lines.Line2D at 0x116c6dda0>]"
      ]
     },
     "execution_count": 6,
     "metadata": {},
     "output_type": "execute_result"
    },
    {
     "data": {
      "image/png": "[encoded data removed]",
      "text/plain": [
       "<Figure size 432x288 with 1 Axes>"
      ]
     },
     "metadata": {
      "needs_background": "light"
     },
     "output_type": "display_data"
    }
   ],
   "source": [
    "fig, ax = plt.subplots() \n",
    "ax.plot(gdp.index, gdp['gdp'])                  # scatter plot of gdp vs. time"
   ]
  },
  {
   "cell_type": "markdown",
   "metadata": {},
   "source": [
    "First, note that the plot is a Line2D object. This is absolutely not important for us, but when you see jupyter print out `<matplotlib.lines.Line2D at ...>` that is what it is telling us. Everything in python is an object. \n",
    "\n",
    "Second, a scatter plot needs two columns of data, one for the x-coordinate and one for the y-coordinate. I am using `gdp` for the y-coordinate and the years for the x-coordinate. I set years as the index variable, so to retrieve it I used the `.index` attribute. \n",
    "\n",
    "Third, this plot needs some work. I do not like this line color. More importantly, I am missing labels and a title. These are **extremely important.** "
   ]
  },
  {
   "cell_type": "code",
   "execution_count": 7,
   "metadata": {},
   "outputs": [
    {
     "data": {
      "text/plain": [
       "Text(0.5,1,'U.S. Gross Domestic Product')"
      ]
     },
     "execution_count": 7,
     "metadata": {},
     "output_type": "execute_result"
    },
    {
     "data": {
      "image/png": "[encoded data removed]",
      "text/plain": [
       "<Figure size 432x288 with 1 Axes>"
      ]
     },
     "metadata": {
      "needs_background": "light"
     },
     "output_type": "display_data"
    }
   ],
   "source": [
    "fig, ax = plt.subplots() \n",
    "ax.plot(gdp.index, gdp['gdp'],        # line plot of gdp vs. time\n",
    "        color='red'                   # set the line color to red\n",
    "       )                  \n",
    "\n",
    "ax.set_ylabel('billions of dollars')  # add the y-axis label\n",
    "ax.set_xlabel('year')                 # add the x-axis label\n",
    "ax.set_title('U.S. Gross Domestic Product')"
   ]
  },
  {
   "cell_type": "markdown",
   "metadata": {},
   "source": [
    "This is looking pretty good. While I am a fanatic when it comes to labeling things, I probably wouldn't label the x-axis. You have to have some faith in the reader. \n",
    "\n",
    "I also do not like 'boxing' my plots. There is a philosophy about visualizations that says: Every mark on your figure should convey information. If it does not, then it is clutter and should be removed. I am not sure who developed this philosophy [(Marie Kondo?)](https://en.wikipedia.org/wiki/Marie_Kondo) but I think it is a useful benchmark."
   ]
  },
  {
   "cell_type": "code",
   "execution_count": 8,
   "metadata": {},
   "outputs": [
    {
     "data": {
      "image/png": "[encoded data removed]",
      "text/plain": [
       "<Figure size 432x288 with 1 Axes>"
      ]
     },
     "metadata": {
      "needs_background": "light"
     },
     "output_type": "display_data"
    }
   ],
   "source": [
    "fig, ax = plt.subplots() \n",
    "ax.plot(gdp.index, gdp['gdp'],        # line plot of gdp vs. time\n",
    "        color='red'                   # set the line color to red\n",
    "       )  \n",
    "\n",
    "ax.set_ylabel('billions of dollars')  # add the y-axis label\n",
    "# ax.set_xlabel('year')                 # add the x-axis label\n",
    "ax.set_title('U.S. Gross Domestic Product')\n",
    "\n",
    "ax.spines['right'].set_visible(False) # get ride of the line on the right\n",
    "ax.spines['top'].set_visible(False)   # get rid of the line on top"
   ]
  },
  {
   "cell_type": "markdown",
   "metadata": {},
   "source": [
    "### Practice: Plots\n",
    "Take a few minutes and try the following. Feel free to chat with those around if you get stuck. The TA and I are here, too.\n",
    "\n",
    "1. Copy the code from the last plot and add a second line that plots 'gov'. To do this, just add a new line of code to the existing code. `ax.plot(gdp.index, gdp['gov]])`"
   ]
  },
  {
   "cell_type": "code",
   "execution_count": 9,
   "metadata": {},
   "outputs": [
    {
     "data": {
      "image/png": "[encoded data removed]",
      "text/plain": [
       "<Figure size 432x288 with 1 Axes>"
      ]
     },
     "metadata": {
      "needs_background": "light"
     },
     "output_type": "display_data"
    }
   ],
   "source": [
    "fig, ax = plt.subplots() \n",
    "ax.plot(gdp.index, gdp['gdp'],        # line plot of gdp vs. time\n",
    "        color='red'                   # set the line color to red\n",
    "       )  \n",
    "\n",
    "ax.plot(gdp.index, gdp[\"gov\"], \n",
    "       color = \"blue\", \n",
    "       alpha = .5, \n",
    "       linestyle = \"--\")\n",
    "\n",
    "ax.set_ylabel('billions of dollars')  # add the y-axis label\n",
    "# ax.set_xlabel('year')                 # add the x-axis label\n",
    "ax.set_title('U.S. Gross Domestic Product and Government Spendings')\n",
    "\n",
    "ax.spines['right'].set_visible(False) # get ride of the line on the right\n",
    "ax.spines['top'].set_visible(False)   # get rid of the line on top"
   ]
  },
  {
   "cell_type": "markdown",
   "metadata": {},
   "source": [
    "2. Modify your code to give the figure a better title\n",
    "3. Modify your code to make government consumption blue\n",
    "4. Modify your code to add the argument `alpha=0.5` to the plot method for gov. What does it change? If you want to learn more try 'alpha composite' in Google.\n",
    "5. Modify your code to make the gov line dashed. Try the argument `linestyle='--'`.  What is linestyle '-.' or ':' ?"
   ]
  },
  {
   "cell_type": "markdown",
   "metadata": {},
   "source": [
    "### A few more options to get us started\n",
    "We have two lines on our figure. Which one is which? Not labeling our line is malpractice. Two approaches\n",
    "\n",
    "1. Add a legend\n",
    "2. Add text to the figure\n",
    "\n",
    "Both are good options. I prefer the second for simple plots."
   ]
  },
  {
   "cell_type": "code",
   "execution_count": 10,
   "metadata": {},
   "outputs": [
    {
     "data": {
      "text/plain": [
       "<matplotlib.legend.Legend at 0x117048898>"
      ]
     },
     "execution_count": 10,
     "metadata": {},
     "output_type": "execute_result"
    },
    {
     "data": {
      "image/png": "[encoded data removed]",
      "text/plain": [
       "<Figure size 432x288 with 1 Axes>"
      ]
     },
     "metadata": {
      "needs_background": "light"
     },
     "output_type": "display_data"
    }
   ],
   "source": [
    "# The first option. Add labels to your plot commands, then call ax.legend.\n",
    "\n",
    "fig, ax = plt.subplots() \n",
    "ax.plot(gdp.index, gdp['gdp'],        # line plot of gdp vs. time\n",
    "        color='red',                   # set the line color to red\n",
    "       label = 'GDP'\n",
    "       )  \n",
    "\n",
    "ax.plot(gdp.index, gdp['gov'],        # line plot of gdp vs. time\n",
    "        color='blue',                   # set the line color to blue\n",
    "        alpha = 0.5,\n",
    "        linestyle = ':',\n",
    "        label = 'Gov. Spending'\n",
    "       )  \n",
    "ax.set_ylabel('billions of dollars')  # add the y-axis label\n",
    "# ax.set_xlabel('year')                 # add the x-axis label\n",
    "ax.set_title('U.S. Gross Domestic Product and Government Spending')\n",
    "\n",
    "ax.spines['right'].set_visible(False) # get ride of the line on the right\n",
    "ax.spines['top'].set_visible(False)   # get rid of the line on top\n",
    "\n",
    "ax.legend(frameon=False)                           # Show the legend. frameon=False kills the box around the legend"
   ]
  },
  {
   "cell_type": "markdown",
   "metadata": {},
   "source": [
    "Ah, I feel much better now that I know which line is which. Here is the second approach."
   ]
  },
  {
   "cell_type": "code",
   "execution_count": 11,
   "metadata": {},
   "outputs": [
    {
     "data": {
      "text/plain": [
       "Text(1999,4500,'Gov. Spending')"
      ]
     },
     "execution_count": 11,
     "metadata": {},
     "output_type": "execute_result"
    },
    {
     "data": {
      "image/png": "[encoded data removed]",
      "text/plain": [
       "<Figure size 432x288 with 1 Axes>"
      ]
     },
     "metadata": {
      "needs_background": "light"
     },
     "output_type": "display_data"
    }
   ],
   "source": [
    "# The second option. Add text using the annotate method. Note that I can leave the labels in the plot commands.\n",
    "\n",
    "fig, ax = plt.subplots() \n",
    "ax.plot(gdp.index, gdp['gdp'],        # line plot of gdp vs. time\n",
    "        color='red',                   # set the line color to red\n",
    "       label = 'GDP'\n",
    "       )  \n",
    "\n",
    "ax.plot(gdp.index, gdp['gov'],        # line plot of gdp vs. time\n",
    "        color='blue',                   # set the line color to blue\n",
    "        alpha = 0.5,\n",
    "        linestyle = ':',\n",
    "        label = 'Gov. Spending'\n",
    "       )  \n",
    "ax.set_ylabel('billions of dollars')  # add the y-axis label\n",
    "# ax.set_xlabel('year')                 # add the x-axis label\n",
    "ax.set_title('U.S. Gross Domestic Product and Government Spending')\n",
    "\n",
    "ax.spines['right'].set_visible(False) # get ride of the line on the right\n",
    "ax.spines['top'].set_visible(False)   # get rid of the line on top\n",
    "\n",
    "ax.text(1989, 8500, 'GDP')            # text(x, y, string)\n",
    "ax.text(1999, 4500, 'Gov. Spending')            # text(x, y, string)"
   ]
  },
  {
   "cell_type": "markdown",
   "metadata": {},
   "source": [
    "### About graphical excellence\n",
    "[Edward Tufte's](https://www.edwardtufte.com/tufte/books_vdqi) *The Visual Display of Quantitative Information* is a masterpiece of 'thinking hard about visualizations.' The book is worth a read (or a look through). His Principles of Graphic Excellence are great to keep in mind. Two of my favorites:\n",
    "* Graphical excellence consists of complex ideas communicated with clarity, precision, and efficiency\n",
    "* Graphical excellence is that which gives the viewer the greatest number of ideas in the shortest time with the least ink in the smallest space. \n",
    "\n",
    "Let us all strive for graphical excellence.\n",
    "\n",
    "This listicle *Ten Simple Rules for Better Figures* ([Rougier, Droettboom, and Bourne, 2014](https://journals.plos.org/ploscompbiol/article?id=10.1371/journal.pcbi.1003833#s10)) has some good advice, too. My favorite is **Do not trust the defaults.**\n",
    "\n",
    "[Not long, ago, this was Excel's default chart formatting](http://media.juiceanalytics.com/images/blog/excel_line_graph.png)"
   ]
  },
  {
   "cell_type": "markdown",
   "metadata": {},
   "source": [
    "### Getting plots out of your notebook\n",
    "While I love jupyter notebooks, my research output is usually an article distributed as a pdf. "
   ]
  },
  {
   "cell_type": "code",
   "execution_count": 12,
   "metadata": {},
   "outputs": [
    {
     "data": {
      "image/png": "[encoded data removed]",
      "text/plain": [
       "<Figure size 432x288 with 1 Axes>"
      ]
     },
     "metadata": {
      "needs_background": "light"
     },
     "output_type": "display_data"
    }
   ],
   "source": [
    "fig, ax = plt.subplots() \n",
    "ax.plot(gdp.index, gdp['gdp'],        # line plot of gdp vs. time\n",
    "        color='red',                   # set the line color to red\n",
    "       label = 'GDP'\n",
    "       )  \n",
    "\n",
    "ax.plot(gdp.index, gdp['gov'],        # line plot of gdp vs. time\n",
    "        color='blue',                   # set the line color to blue\n",
    "        alpha = 0.5,\n",
    "        linestyle = ':',\n",
    "        label = 'Gov. Spending'\n",
    "       )  \n",
    "ax.set_ylabel('billions of dollars')  # add the y-axis label\n",
    "# ax.set_xlabel('year')                 # add the x-axis label\n",
    "ax.set_title('U.S. Gross Domestic Product and Government Spending')\n",
    "\n",
    "ax.spines['right'].set_visible(False) # get ride of the line on the right\n",
    "ax.spines['top'].set_visible(False)   # get rid of the line on top\n",
    "\n",
    "ax.text(1989, 8500, 'GDP')            # text(x, y, string)\n",
    "ax.text(1999, 4500, 'Gov. Spending')            # text(x, y, string)\n",
    "\n",
    "plt.savefig('gdp.pdf', bbox_inches='tight')          # Create a pdf and save to cwd \n",
    "plt.savefig('../gdp.png')          # Create a png and save to the folder that contains the cwd"
   ]
  },
  {
   "cell_type": "markdown",
   "metadata": {},
   "source": [
    "When saving a pdf, I use the `bbox_inches='tight'` argument to kill extra whitespace around the figure. You can also set things like orientation, dpi, and metadata. Check the documentation if you need to tweak your output. "
   ]
  },
  {
   "cell_type": "markdown",
   "metadata": {},
   "source": [
    "### More plot types\n",
    "The line plot is the tip of the iceberg. matplotlib support many plot types. Let's take a look at histograms. \n",
    "\n",
    "How variable is US gdp growth?"
   ]
  },
  {
   "cell_type": "code",
   "execution_count": 13,
   "metadata": {},
   "outputs": [
    {
     "data": {
      "text/html": [
       "<div>\n",
       "<style scoped>\n",
       "    .dataframe tbody tr th:only-of-type {\n",
       "        vertical-align: middle;\n",
       "    }\n",
       "\n",
       "    .dataframe tbody tr th {\n",
       "        vertical-align: top;\n",
       "    }\n",
       "\n",
       "    .dataframe thead th {\n",
       "        text-align: right;\n",
       "    }\n",
       "</style>\n",
       "<table border=\"1\" class=\"dataframe\">\n",
       "  <thead>\n",
       "    <tr style=\"text-align: right;\">\n",
       "      <th></th>\n",
       "      <th>gdp</th>\n",
       "      <th>inv</th>\n",
       "      <th>gov</th>\n",
       "      <th>ex</th>\n",
       "      <th>im</th>\n",
       "      <th>gdp_growth</th>\n",
       "    </tr>\n",
       "    <tr>\n",
       "      <th>DATE</th>\n",
       "      <th></th>\n",
       "      <th></th>\n",
       "      <th></th>\n",
       "      <th></th>\n",
       "      <th></th>\n",
       "      <th></th>\n",
       "    </tr>\n",
       "  </thead>\n",
       "  <tbody>\n",
       "    <tr>\n",
       "      <th>1929</th>\n",
       "      <td>104.556</td>\n",
       "      <td>17.170</td>\n",
       "      <td>9.622</td>\n",
       "      <td>5.939</td>\n",
       "      <td>5.556</td>\n",
       "      <td>NaN</td>\n",
       "    </tr>\n",
       "    <tr>\n",
       "      <th>1930</th>\n",
       "      <td>92.160</td>\n",
       "      <td>11.428</td>\n",
       "      <td>10.273</td>\n",
       "      <td>4.444</td>\n",
       "      <td>4.121</td>\n",
       "      <td>-11.855848</td>\n",
       "    </tr>\n",
       "    <tr>\n",
       "      <th>1931</th>\n",
       "      <td>77.391</td>\n",
       "      <td>6.549</td>\n",
       "      <td>10.169</td>\n",
       "      <td>2.906</td>\n",
       "      <td>2.905</td>\n",
       "      <td>-16.025391</td>\n",
       "    </tr>\n",
       "    <tr>\n",
       "      <th>1932</th>\n",
       "      <td>59.522</td>\n",
       "      <td>1.819</td>\n",
       "      <td>8.946</td>\n",
       "      <td>1.975</td>\n",
       "      <td>1.932</td>\n",
       "      <td>-23.089248</td>\n",
       "    </tr>\n",
       "    <tr>\n",
       "      <th>1933</th>\n",
       "      <td>57.154</td>\n",
       "      <td>2.276</td>\n",
       "      <td>8.875</td>\n",
       "      <td>1.987</td>\n",
       "      <td>1.929</td>\n",
       "      <td>-3.978361</td>\n",
       "    </tr>\n",
       "  </tbody>\n",
       "</table>\n",
       "</div>"
      ],
      "text/plain": [
       "          gdp     inv     gov     ex     im  gdp_growth\n",
       "DATE                                                   \n",
       "1929  104.556  17.170   9.622  5.939  5.556         NaN\n",
       "1930   92.160  11.428  10.273  4.444  4.121  -11.855848\n",
       "1931   77.391   6.549  10.169  2.906  2.905  -16.025391\n",
       "1932   59.522   1.819   8.946  1.975  1.932  -23.089248\n",
       "1933   57.154   2.276   8.875  1.987  1.929   -3.978361"
      ]
     },
     "execution_count": 13,
     "metadata": {},
     "output_type": "execute_result"
    }
   ],
   "source": [
    "# Create a histogram of gdp growth rates.\n",
    "\n",
    "gdp['gdp_growth'] = gdp['gdp'].pct_change()*100 # pct_change() creates growth rates NOT percent change. Not a self-documenting name.\n",
    "gdp.head()"
   ]
  },
  {
   "cell_type": "markdown",
   "metadata": {},
   "source": [
    "We could have used the `diff()` or the `shift()` methods to do something similar, but wow, pct_change is so luxe. A quick plot to take a look."
   ]
  },
  {
   "cell_type": "code",
   "execution_count": 14,
   "metadata": {},
   "outputs": [
    {
     "data": {
      "text/plain": [
       "<matplotlib.lines.Line2D at 0x116c6de10>"
      ]
     },
     "execution_count": 14,
     "metadata": {},
     "output_type": "execute_result"
    },
    {
     "data": {
      "image/png": "[encoded data removed]",
      "text/plain": [
       "<Figure size 432x288 with 1 Axes>"
      ]
     },
     "metadata": {
      "needs_background": "light"
     },
     "output_type": "display_data"
    }
   ],
   "source": [
    "fig, ax = plt.subplots() \n",
    "ax.plot(gdp.index, gdp['gdp_growth'],        # line plot of gdp vs. time\n",
    "        color='red',                   # set the line color to red\n",
    "       label = 'GDP Growth'\n",
    "       )  \n",
    "\n",
    "ax.set_ylabel('percent growth')  # add the y-axis label\n",
    "ax.set_title('U.S. Gross Domestic Product Growth Rates')\n",
    "\n",
    "ax.spines['right'].set_visible(False) # get ride of the line on the right\n",
    "ax.spines['top'].set_visible(False)   # get rid of the line on top\n",
    "\n",
    "ax.axhline(y=0, color='black', linewidth=0.75)  # Add a horizontal line at y=0"
   ]
  },
  {
   "cell_type": "markdown",
   "metadata": {},
   "source": [
    "The great depression and the WWII buildup really stick out. \n",
    "\n",
    "Notice that I added a line at zero. My thinking is that this line adds information: the reader can easily see that growth rates are mostly positive and that the great depression was really bad. \n",
    "\n",
    "It is also obvous that the volitility of gdp has fallen over time, but let's approach a bit differently. "
   ]
  },
  {
   "cell_type": "code",
   "execution_count": 15,
   "metadata": {},
   "outputs": [
    {
     "data": {
      "image/png": "[encoded data removed]",
      "text/plain": [
       "<Figure size 432x288 with 1 Axes>"
      ]
     },
     "metadata": {
      "needs_background": "light"
     },
     "output_type": "display_data"
    }
   ],
   "source": [
    "fig, ax = plt.subplots() \n",
    "\n",
    "# hist does not like NaN. (I'm a bit surprised.) I use the dropna() method to kill off the missing value\n",
    "ax.hist(gdp['gdp_growth'].dropna(), bins=20, color='red', alpha=0.75)        # histogram of GDP growth rates\n",
    "      \n",
    "\n",
    "ax.set_ylabel('Frequency')  # add the y-axis label\n",
    "ax.set_xlabel('Annual growth rate (%)')\n",
    "ax.set_title('Frequency of US GDP growth rates (1929-2017)')\n",
    "\n",
    "ax.spines['right'].set_visible(False) # get ride of the line on the right\n",
    "ax.spines['top'].set_visible(False)   # get rid of the line on top\n",
    "\n",
    "#ax.axhline(y=0, color='black', linewidth=0.75)  # Add a horizontal line at y=0\n",
    "\n",
    "plt.show()"
   ]
  },
  {
   "cell_type": "markdown",
   "metadata": {},
   "source": [
    "### Practice: Histograms\n",
    "Take a few minutes and try the following. Feel free to chat with those around if you get stuck. The TA and I are here, too.\n",
    "\n",
    "1. Break the data up into two periods: 1929-1985 and 1985-2017\n",
    "2. Compute the mean and the standard deviation for the gdp growth rate in each sample.\n",
    "3. Create a separate histogram for each sample. Make the early period historgram blue and the late historgram black. Make any changes to them that you deem appropriate.\n",
    "4. Use text() to add the mean and std to a blank area of the histograms. \n",
    "3. Save the two histograms as pdfs. Give them reasonable names. \n",
    "\n",
    "\n",
    "*Challenging*. Can you find a way to store the value of the mean and std to a variable and print the variable out on the histogram? Redo part 4. "
   ]
  },
  {
   "cell_type": "code",
   "execution_count": 51,
   "metadata": {},
   "outputs": [
    {
     "data": {
      "image/png": "[encoded data removed]",
      "text/plain": [
       "<Figure size 432x288 with 1 Axes>"
      ]
     },
     "metadata": {
      "needs_background": "light"
     },
     "output_type": "display_data"
    },
    {
     "data": {
      "image/png": "[encoded data removed]",
      "text/plain": [
       "<Figure size 432x288 with 1 Axes>"
      ]
     },
     "metadata": {
      "needs_background": "light"
     },
     "output_type": "display_data"
    }
   ],
   "source": [
    "gdp_one = gdp.loc[1929:1985, ]\n",
    "gdp_two = gdp.loc[1985:2017, ]\n",
    "gdp_one_mean = gdp_one[\"gdp_growth\"].mean()\n",
    "gdp_two_mean = gdp_two[\"gdp_growth\"].mean()\n",
    "gdp_one_std = pd.to_numeric(gdp_one[\"gdp_growth\"].std())\n",
    "gdp_two_std = pd.to_numeric(gdp_two[\"gdp_growth\"].std())\n",
    "\n",
    "fig, ax = plt.subplots()\n",
    "ax.hist(gdp_one[\"gdp_growth\"].dropna(), color = \"blue\")\n",
    "ax.set_title(\"U.S. GDP Growth Histogram, 1929-1985\")\n",
    "ax.set_xlabel(\"GDP Growth, in Percentage\")\n",
    "ax.set_ylabel(\"Frequency\")\n",
    "plt.savefig(\"gdp_grwoth_hist_1929-1985.pdf\", bbox_inches = \"tight\")\n",
    "\n",
    "fig2, ax2 = plt.subplots()\n",
    "ax2.hist(gdp_two[\"gdp_growth\"].dropna(), color = \"black\")\n",
    "ax2.set_title(\"U.S. GDP Growth Histogram, 1985-2017\")\n",
    "ax2.set_xlabel(\"GDP Growth, in Percentage\")\n",
    "ax2.set_ylabel(\"Frequency\")\n",
    "ax2.text(x = gdp_two_mean - .5, y = 7, s = \"mean\", color = \"red\")\n",
    "ax2.axvline(gdp_two_mean, color = \"red\")\n",
    "ax2.text(x = gdp_two_std - 1, y = 4, s = \"standard dev.\", color = \"orange\")\n",
    "ax2.axvline(gdp_two_std, color = \"orange\")\n",
    "plt.savefig(\"gdp_growth_hist_1985-1917.pdf\")"
   ]
  },
  {
   "cell_type": "markdown",
   "metadata": {},
   "source": [
    "### Subplots\n",
    "We can generate several axes in one figure using the subplot() method. \\[This method is not misnamed!\\]\n"
   ]
  },
  {
   "cell_type": "code",
   "execution_count": 57,
   "metadata": {},
   "outputs": [
    {
     "data": {
      "image/png": "[encoded data removed]",
      "text/plain": [
       "<Figure size 432x288 with 2 Axes>"
      ]
     },
     "metadata": {
      "needs_background": "light"
     },
     "output_type": "display_data"
    }
   ],
   "source": [
    "fig, ax = plt.subplots(1, 2)  # one row, two columns of axes"
   ]
  },
  {
   "cell_type": "code",
   "execution_count": 58,
   "metadata": {},
   "outputs": [
    {
     "name": "stdout",
     "output_type": "stream",
     "text": [
      "<class 'numpy.ndarray'>\n"
     ]
    }
   ],
   "source": [
    "print(type(ax))"
   ]
  },
  {
   "cell_type": "markdown",
   "metadata": {},
   "source": [
    "So `ax` is now an array that holds the axes for each plot. Each axes works just like before. Now we just have to tell python **which** axes to act on."
   ]
  },
  {
   "cell_type": "code",
   "execution_count": 62,
   "metadata": {},
   "outputs": [
    {
     "data": {
      "image/png": "[encoded data removed]",
      "text/plain": [
       "<Figure size 720x288 with 2 Axes>"
      ]
     },
     "metadata": {
      "needs_background": "light"
     },
     "output_type": "display_data"
    }
   ],
   "source": [
    "# Set a variable for plot color so I can change it everywhere easily\n",
    "my_plot_color = 'black'\n",
    "\n",
    "# I am using the figsize parameter here. It takes (width, height) in inches. \n",
    "fig, ax = plt.subplots(1, 2, figsize=(10,4))  # one row, two columns of axes\n",
    "\n",
    "# The fist plot\n",
    "ax[0].plot(gdp.index, gdp['gdp_growth'], color=my_plot_color, label = 'GDP Growth')     # a line plot of GDP growth rates\n",
    "ax[0].axhline(y=0, color='black', linewidth=0.75)  # Add a horizontal line at y=0\n",
    "ax[0].set_xlabel('year')\n",
    "ax[0].set_title('GDP growth rates')\n",
    "ax[0].spines['right'].set_visible(False) # get ride of the line on the right\n",
    "ax[0].spines['top'].set_visible(False)   # get rid of the line on top\n",
    "\n",
    "# The second plot\n",
    "ax[1].hist(gdp['gdp_growth'].dropna(), bins=20, color=my_plot_color, alpha=0.25)        # histogram of GDP growth rates\n",
    "ax[1].set_xlabel('annual growth rate')\n",
    "ax[1].set_title('Histogram of GDP growth rates')\n",
    "ax[1].spines['right'].set_visible(False) # get ride of the line on the right\n",
    "ax[1].spines['top'].set_visible(False)   # get rid of the line on top\n",
    "\n",
    "plt.savefig('double.pdf')\n",
    "plt.show()"
   ]
  },
  {
   "cell_type": "markdown",
   "metadata": {},
   "source": [
    "You can imagine how useful this can be. We can loop over sets of axes and automate making plots if we have several variables. \n",
    "\n",
    "I changed a couple other things here, too. \n",
    "1. I used the `figsize` parameter to subplot. This is a tuple of figure width and height in inches. (Inches! Take that rest of the world!) The height and width are of the **printed** figure. You will notice that jupyter notebook scaled it down for display. This is useful when you are preparing graphics for a publication and you need to meet an exact figure size. \n",
    "2. I made the line color a variable, so it is easy to change all the line colors at one. For example, I like red figures when I am giving presentations, but black figures when I am creating pdfs that will be printed out on a black and white printer."
   ]
  }
 ],
 "metadata": {
  "celltoolbar": "Attachments",
  "kernelspec": {
   "display_name": "Python 3",
   "language": "python",
   "name": "python3"
  },
  "language_info": {
   "codemirror_mode": {
    "name": "ipython",
    "version": 3
   },
   "file_extension": ".py",
   "mimetype": "text/x-python",
   "name": "python",
   "nbconvert_exporter": "python",
   "pygments_lexer": "ipython3",
   "version": "3.7.0"
  }
 },
 "nbformat": 4,
 "nbformat_minor": 2
}
